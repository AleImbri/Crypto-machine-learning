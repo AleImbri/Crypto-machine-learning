{
 "cells": [
  {
   "cell_type": "markdown",
   "metadata": {},
   "source": [
    "# Importare le Librerie Necessarie"
   ]
  },
  {
   "cell_type": "code",
   "execution_count": 14,
   "metadata": {},
   "outputs": [],
   "source": [
    "import numpy as np\n",
    "import pandas as pd\n",
    "import gymnasium as gym\n",
    "from gymnasium import spaces\n",
    "from stable_baselines3 import PPO\n",
    "import matplotlib.pyplot as plt\n",
    "import random\n",
    "from sklearn.model_selection import train_test_split\n",
    "import plotly.graph_objects as go\n",
    "import os\n",
    "import torch\n",
    "from stable_baselines3.common.utils import set_random_seed"
   ]
  },
  {
   "cell_type": "code",
   "execution_count": 15,
   "metadata": {},
   "outputs": [],
   "source": [
    "# Imposta il seme per la riproducibilità\n",
    "seed_value = 8\n",
    "\n",
    "random.seed(seed_value)\n",
    "np.random.seed(seed_value)\n",
    "torch.manual_seed(seed_value)\n",
    "set_random_seed(seed_value)"
   ]
  },
  {
   "cell_type": "markdown",
   "metadata": {},
   "source": [
    "# Lettura dati"
   ]
  },
  {
   "cell_type": "code",
   "execution_count": 16,
   "metadata": {},
   "outputs": [
    {
     "data": {
      "text/html": [
       "<div>\n",
       "<style scoped>\n",
       "    .dataframe tbody tr th:only-of-type {\n",
       "        vertical-align: middle;\n",
       "    }\n",
       "\n",
       "    .dataframe tbody tr th {\n",
       "        vertical-align: top;\n",
       "    }\n",
       "\n",
       "    .dataframe thead th {\n",
       "        text-align: right;\n",
       "    }\n",
       "</style>\n",
       "<table border=\"1\" class=\"dataframe\">\n",
       "  <thead>\n",
       "    <tr style=\"text-align: right;\">\n",
       "      <th></th>\n",
       "      <th>Unnamed: 0</th>\n",
       "      <th>Date</th>\n",
       "      <th>Open</th>\n",
       "      <th>High</th>\n",
       "      <th>Low</th>\n",
       "      <th>Close</th>\n",
       "      <th>Volume</th>\n",
       "      <th>Dividends</th>\n",
       "      <th>Stock Splits</th>\n",
       "    </tr>\n",
       "  </thead>\n",
       "  <tbody>\n",
       "    <tr>\n",
       "      <th>0</th>\n",
       "      <td>0</td>\n",
       "      <td>2014-09-17 00:00:00+00:00</td>\n",
       "      <td>359.546204</td>\n",
       "      <td>361.468506</td>\n",
       "      <td>351.586884</td>\n",
       "      <td>355.957367</td>\n",
       "      <td>16389166</td>\n",
       "      <td>0.0</td>\n",
       "      <td>0.0</td>\n",
       "    </tr>\n",
       "    <tr>\n",
       "      <th>1</th>\n",
       "      <td>1</td>\n",
       "      <td>2014-09-18 00:00:00+00:00</td>\n",
       "      <td>355.588409</td>\n",
       "      <td>355.505402</td>\n",
       "      <td>319.789459</td>\n",
       "      <td>328.539368</td>\n",
       "      <td>26691849</td>\n",
       "      <td>0.0</td>\n",
       "      <td>0.0</td>\n",
       "    </tr>\n",
       "    <tr>\n",
       "      <th>2</th>\n",
       "      <td>2</td>\n",
       "      <td>2014-09-19 00:00:00+00:00</td>\n",
       "      <td>328.278503</td>\n",
       "      <td>330.936707</td>\n",
       "      <td>298.921021</td>\n",
       "      <td>307.761139</td>\n",
       "      <td>29560103</td>\n",
       "      <td>0.0</td>\n",
       "      <td>0.0</td>\n",
       "    </tr>\n",
       "    <tr>\n",
       "      <th>3</th>\n",
       "      <td>3</td>\n",
       "      <td>2014-09-20 00:00:00+00:00</td>\n",
       "      <td>307.665253</td>\n",
       "      <td>329.978180</td>\n",
       "      <td>303.931244</td>\n",
       "      <td>318.758972</td>\n",
       "      <td>28736826</td>\n",
       "      <td>0.0</td>\n",
       "      <td>0.0</td>\n",
       "    </tr>\n",
       "    <tr>\n",
       "      <th>4</th>\n",
       "      <td>4</td>\n",
       "      <td>2014-09-21 00:00:00+00:00</td>\n",
       "      <td>318.120514</td>\n",
       "      <td>321.504517</td>\n",
       "      <td>306.502197</td>\n",
       "      <td>310.632446</td>\n",
       "      <td>20702625</td>\n",
       "      <td>0.0</td>\n",
       "      <td>0.0</td>\n",
       "    </tr>\n",
       "    <tr>\n",
       "      <th>...</th>\n",
       "      <td>...</td>\n",
       "      <td>...</td>\n",
       "      <td>...</td>\n",
       "      <td>...</td>\n",
       "      <td>...</td>\n",
       "      <td>...</td>\n",
       "      <td>...</td>\n",
       "      <td>...</td>\n",
       "      <td>...</td>\n",
       "    </tr>\n",
       "    <tr>\n",
       "      <th>3503</th>\n",
       "      <td>3503</td>\n",
       "      <td>2024-04-20 00:00:00+00:00</td>\n",
       "      <td>59675.082031</td>\n",
       "      <td>61440.464844</td>\n",
       "      <td>56170.074219</td>\n",
       "      <td>59876.710938</td>\n",
       "      <td>46818669689</td>\n",
       "      <td>0.0</td>\n",
       "      <td>0.0</td>\n",
       "    </tr>\n",
       "    <tr>\n",
       "      <th>3504</th>\n",
       "      <td>3504</td>\n",
       "      <td>2024-04-21 00:00:00+00:00</td>\n",
       "      <td>59883.777344</td>\n",
       "      <td>61376.257812</td>\n",
       "      <td>59247.250000</td>\n",
       "      <td>60956.074219</td>\n",
       "      <td>21662346331</td>\n",
       "      <td>0.0</td>\n",
       "      <td>0.0</td>\n",
       "    </tr>\n",
       "    <tr>\n",
       "      <th>3505</th>\n",
       "      <td>3505</td>\n",
       "      <td>2024-04-22 00:00:00+00:00</td>\n",
       "      <td>60954.554688</td>\n",
       "      <td>61639.593750</td>\n",
       "      <td>60245.773438</td>\n",
       "      <td>60919.242188</td>\n",
       "      <td>19240933719</td>\n",
       "      <td>0.0</td>\n",
       "      <td>0.0</td>\n",
       "    </tr>\n",
       "    <tr>\n",
       "      <th>3506</th>\n",
       "      <td>3506</td>\n",
       "      <td>2024-04-23 00:00:00+00:00</td>\n",
       "      <td>60927.675781</td>\n",
       "      <td>63113.457031</td>\n",
       "      <td>60496.617188</td>\n",
       "      <td>62729.296875</td>\n",
       "      <td>26544206489</td>\n",
       "      <td>0.0</td>\n",
       "      <td>0.0</td>\n",
       "    </tr>\n",
       "    <tr>\n",
       "      <th>3507</th>\n",
       "      <td>3507</td>\n",
       "      <td>2024-04-24 00:00:00+00:00</td>\n",
       "      <td>62731.378906</td>\n",
       "      <td>63032.957031</td>\n",
       "      <td>61737.578125</td>\n",
       "      <td>62048.164062</td>\n",
       "      <td>22715154524</td>\n",
       "      <td>0.0</td>\n",
       "      <td>0.0</td>\n",
       "    </tr>\n",
       "  </tbody>\n",
       "</table>\n",
       "<p>3508 rows × 9 columns</p>\n",
       "</div>"
      ],
      "text/plain": [
       "      Unnamed: 0                       Date          Open          High  \\\n",
       "0              0  2014-09-17 00:00:00+00:00    359.546204    361.468506   \n",
       "1              1  2014-09-18 00:00:00+00:00    355.588409    355.505402   \n",
       "2              2  2014-09-19 00:00:00+00:00    328.278503    330.936707   \n",
       "3              3  2014-09-20 00:00:00+00:00    307.665253    329.978180   \n",
       "4              4  2014-09-21 00:00:00+00:00    318.120514    321.504517   \n",
       "...          ...                        ...           ...           ...   \n",
       "3503        3503  2024-04-20 00:00:00+00:00  59675.082031  61440.464844   \n",
       "3504        3504  2024-04-21 00:00:00+00:00  59883.777344  61376.257812   \n",
       "3505        3505  2024-04-22 00:00:00+00:00  60954.554688  61639.593750   \n",
       "3506        3506  2024-04-23 00:00:00+00:00  60927.675781  63113.457031   \n",
       "3507        3507  2024-04-24 00:00:00+00:00  62731.378906  63032.957031   \n",
       "\n",
       "               Low         Close       Volume  Dividends  Stock Splits  \n",
       "0       351.586884    355.957367     16389166        0.0           0.0  \n",
       "1       319.789459    328.539368     26691849        0.0           0.0  \n",
       "2       298.921021    307.761139     29560103        0.0           0.0  \n",
       "3       303.931244    318.758972     28736826        0.0           0.0  \n",
       "4       306.502197    310.632446     20702625        0.0           0.0  \n",
       "...            ...           ...          ...        ...           ...  \n",
       "3503  56170.074219  59876.710938  46818669689        0.0           0.0  \n",
       "3504  59247.250000  60956.074219  21662346331        0.0           0.0  \n",
       "3505  60245.773438  60919.242188  19240933719        0.0           0.0  \n",
       "3506  60496.617188  62729.296875  26544206489        0.0           0.0  \n",
       "3507  61737.578125  62048.164062  22715154524        0.0           0.0  \n",
       "\n",
       "[3508 rows x 9 columns]"
      ]
     },
     "execution_count": 16,
     "metadata": {},
     "output_type": "execute_result"
    }
   ],
   "source": [
    "pd.read_csv('Bitcoin (€) da yfinance dal 17-09-2014 al 24-04-2024.csv')"
   ]
  },
  {
   "cell_type": "code",
   "execution_count": 17,
   "metadata": {},
   "outputs": [
    {
     "data": {
      "text/html": [
       "<div>\n",
       "<style scoped>\n",
       "    .dataframe tbody tr th:only-of-type {\n",
       "        vertical-align: middle;\n",
       "    }\n",
       "\n",
       "    .dataframe tbody tr th {\n",
       "        vertical-align: top;\n",
       "    }\n",
       "\n",
       "    .dataframe thead th {\n",
       "        text-align: right;\n",
       "    }\n",
       "</style>\n",
       "<table border=\"1\" class=\"dataframe\">\n",
       "  <thead>\n",
       "    <tr style=\"text-align: right;\">\n",
       "      <th></th>\n",
       "      <th>Timestamp</th>\n",
       "      <th>Price</th>\n",
       "      <th>Open</th>\n",
       "      <th>High</th>\n",
       "      <th>Low</th>\n",
       "      <th>Volume</th>\n",
       "    </tr>\n",
       "  </thead>\n",
       "  <tbody>\n",
       "    <tr>\n",
       "      <th>0</th>\n",
       "      <td>2014-09-17</td>\n",
       "      <td>355.957367</td>\n",
       "      <td>359.546204</td>\n",
       "      <td>361.468506</td>\n",
       "      <td>351.586884</td>\n",
       "      <td>16389166</td>\n",
       "    </tr>\n",
       "    <tr>\n",
       "      <th>1</th>\n",
       "      <td>2014-09-18</td>\n",
       "      <td>328.539368</td>\n",
       "      <td>355.588409</td>\n",
       "      <td>355.505402</td>\n",
       "      <td>319.789459</td>\n",
       "      <td>26691849</td>\n",
       "    </tr>\n",
       "    <tr>\n",
       "      <th>2</th>\n",
       "      <td>2014-09-19</td>\n",
       "      <td>307.761139</td>\n",
       "      <td>328.278503</td>\n",
       "      <td>330.936707</td>\n",
       "      <td>298.921021</td>\n",
       "      <td>29560103</td>\n",
       "    </tr>\n",
       "    <tr>\n",
       "      <th>3</th>\n",
       "      <td>2014-09-20</td>\n",
       "      <td>318.758972</td>\n",
       "      <td>307.665253</td>\n",
       "      <td>329.978180</td>\n",
       "      <td>303.931244</td>\n",
       "      <td>28736826</td>\n",
       "    </tr>\n",
       "    <tr>\n",
       "      <th>4</th>\n",
       "      <td>2014-09-21</td>\n",
       "      <td>310.632446</td>\n",
       "      <td>318.120514</td>\n",
       "      <td>321.504517</td>\n",
       "      <td>306.502197</td>\n",
       "      <td>20702625</td>\n",
       "    </tr>\n",
       "    <tr>\n",
       "      <th>...</th>\n",
       "      <td>...</td>\n",
       "      <td>...</td>\n",
       "      <td>...</td>\n",
       "      <td>...</td>\n",
       "      <td>...</td>\n",
       "      <td>...</td>\n",
       "    </tr>\n",
       "    <tr>\n",
       "      <th>3503</th>\n",
       "      <td>2024-04-20</td>\n",
       "      <td>59876.710938</td>\n",
       "      <td>59675.082031</td>\n",
       "      <td>61440.464844</td>\n",
       "      <td>56170.074219</td>\n",
       "      <td>46818669689</td>\n",
       "    </tr>\n",
       "    <tr>\n",
       "      <th>3504</th>\n",
       "      <td>2024-04-21</td>\n",
       "      <td>60956.074219</td>\n",
       "      <td>59883.777344</td>\n",
       "      <td>61376.257812</td>\n",
       "      <td>59247.250000</td>\n",
       "      <td>21662346331</td>\n",
       "    </tr>\n",
       "    <tr>\n",
       "      <th>3505</th>\n",
       "      <td>2024-04-22</td>\n",
       "      <td>60919.242188</td>\n",
       "      <td>60954.554688</td>\n",
       "      <td>61639.593750</td>\n",
       "      <td>60245.773438</td>\n",
       "      <td>19240933719</td>\n",
       "    </tr>\n",
       "    <tr>\n",
       "      <th>3506</th>\n",
       "      <td>2024-04-23</td>\n",
       "      <td>62729.296875</td>\n",
       "      <td>60927.675781</td>\n",
       "      <td>63113.457031</td>\n",
       "      <td>60496.617188</td>\n",
       "      <td>26544206489</td>\n",
       "    </tr>\n",
       "    <tr>\n",
       "      <th>3507</th>\n",
       "      <td>2024-04-24</td>\n",
       "      <td>62048.164062</td>\n",
       "      <td>62731.378906</td>\n",
       "      <td>63032.957031</td>\n",
       "      <td>61737.578125</td>\n",
       "      <td>22715154524</td>\n",
       "    </tr>\n",
       "  </tbody>\n",
       "</table>\n",
       "<p>3508 rows × 6 columns</p>\n",
       "</div>"
      ],
      "text/plain": [
       "      Timestamp         Price          Open          High           Low  \\\n",
       "0    2014-09-17    355.957367    359.546204    361.468506    351.586884   \n",
       "1    2014-09-18    328.539368    355.588409    355.505402    319.789459   \n",
       "2    2014-09-19    307.761139    328.278503    330.936707    298.921021   \n",
       "3    2014-09-20    318.758972    307.665253    329.978180    303.931244   \n",
       "4    2014-09-21    310.632446    318.120514    321.504517    306.502197   \n",
       "...         ...           ...           ...           ...           ...   \n",
       "3503 2024-04-20  59876.710938  59675.082031  61440.464844  56170.074219   \n",
       "3504 2024-04-21  60956.074219  59883.777344  61376.257812  59247.250000   \n",
       "3505 2024-04-22  60919.242188  60954.554688  61639.593750  60245.773438   \n",
       "3506 2024-04-23  62729.296875  60927.675781  63113.457031  60496.617188   \n",
       "3507 2024-04-24  62048.164062  62731.378906  63032.957031  61737.578125   \n",
       "\n",
       "           Volume  \n",
       "0        16389166  \n",
       "1        26691849  \n",
       "2        29560103  \n",
       "3        28736826  \n",
       "4        20702625  \n",
       "...           ...  \n",
       "3503  46818669689  \n",
       "3504  21662346331  \n",
       "3505  19240933719  \n",
       "3506  26544206489  \n",
       "3507  22715154524  \n",
       "\n",
       "[3508 rows x 6 columns]"
      ]
     },
     "execution_count": 17,
     "metadata": {},
     "output_type": "execute_result"
    }
   ],
   "source": [
    "dati_originali = pd.read_csv('Bitcoin (€) da yfinance dal 17-09-2014 al 24-04-2024.csv')\n",
    "dati_originali = dati_originali[['Date', 'Close', 'Open', 'High', 'Low', 'Volume']]\n",
    "dati_originali = dati_originali.rename(columns = {'Date':'Timestamp', 'Close': 'Price'})\n",
    "dati_originali['Timestamp'] = pd.to_datetime(dati_originali['Timestamp'])\n",
    "dati_originali['Timestamp'] = dati_originali['Timestamp'].dt.strftime('%Y-%m-%d')\n",
    "dati_originali['Timestamp'] = pd.to_datetime(dati_originali['Timestamp'], format='%Y-%m-%d')\n",
    "dati_originali"
   ]
  },
  {
   "cell_type": "code",
   "execution_count": 18,
   "metadata": {},
   "outputs": [
    {
     "data": {
      "text/html": [
       "<div>\n",
       "<style scoped>\n",
       "    .dataframe tbody tr th:only-of-type {\n",
       "        vertical-align: middle;\n",
       "    }\n",
       "\n",
       "    .dataframe tbody tr th {\n",
       "        vertical-align: top;\n",
       "    }\n",
       "\n",
       "    .dataframe thead th {\n",
       "        text-align: right;\n",
       "    }\n",
       "</style>\n",
       "<table border=\"1\" class=\"dataframe\">\n",
       "  <thead>\n",
       "    <tr style=\"text-align: right;\">\n",
       "      <th></th>\n",
       "      <th>Timestamp</th>\n",
       "      <th>Price</th>\n",
       "      <th>Open</th>\n",
       "      <th>High</th>\n",
       "      <th>Low</th>\n",
       "      <th>Volume</th>\n",
       "    </tr>\n",
       "  </thead>\n",
       "  <tbody>\n",
       "    <tr>\n",
       "      <th>0</th>\n",
       "      <td>2014-09-17</td>\n",
       "      <td>355.957367</td>\n",
       "      <td>359.546204</td>\n",
       "      <td>361.468506</td>\n",
       "      <td>351.586884</td>\n",
       "      <td>16389166</td>\n",
       "    </tr>\n",
       "    <tr>\n",
       "      <th>1</th>\n",
       "      <td>2014-09-18</td>\n",
       "      <td>328.539368</td>\n",
       "      <td>355.588409</td>\n",
       "      <td>355.505402</td>\n",
       "      <td>319.789459</td>\n",
       "      <td>26691849</td>\n",
       "    </tr>\n",
       "    <tr>\n",
       "      <th>2</th>\n",
       "      <td>2014-09-19</td>\n",
       "      <td>307.761139</td>\n",
       "      <td>328.278503</td>\n",
       "      <td>330.936707</td>\n",
       "      <td>298.921021</td>\n",
       "      <td>29560103</td>\n",
       "    </tr>\n",
       "    <tr>\n",
       "      <th>3</th>\n",
       "      <td>2014-09-20</td>\n",
       "      <td>318.758972</td>\n",
       "      <td>307.665253</td>\n",
       "      <td>329.978180</td>\n",
       "      <td>303.931244</td>\n",
       "      <td>28736826</td>\n",
       "    </tr>\n",
       "    <tr>\n",
       "      <th>4</th>\n",
       "      <td>2014-09-21</td>\n",
       "      <td>310.632446</td>\n",
       "      <td>318.120514</td>\n",
       "      <td>321.504517</td>\n",
       "      <td>306.502197</td>\n",
       "      <td>20702625</td>\n",
       "    </tr>\n",
       "    <tr>\n",
       "      <th>...</th>\n",
       "      <td>...</td>\n",
       "      <td>...</td>\n",
       "      <td>...</td>\n",
       "      <td>...</td>\n",
       "      <td>...</td>\n",
       "      <td>...</td>\n",
       "    </tr>\n",
       "    <tr>\n",
       "      <th>3388</th>\n",
       "      <td>2023-12-27</td>\n",
       "      <td>38504.562500</td>\n",
       "      <td>39568.429688</td>\n",
       "      <td>39571.453125</td>\n",
       "      <td>37778.320312</td>\n",
       "      <td>27190965041</td>\n",
       "    </tr>\n",
       "    <tr>\n",
       "      <th>3389</th>\n",
       "      <td>2023-12-28</td>\n",
       "      <td>39108.300781</td>\n",
       "      <td>38502.812500</td>\n",
       "      <td>39345.335938</td>\n",
       "      <td>38217.789062</td>\n",
       "      <td>22740505379</td>\n",
       "    </tr>\n",
       "    <tr>\n",
       "      <th>3390</th>\n",
       "      <td>2023-12-29</td>\n",
       "      <td>38515.289062</td>\n",
       "      <td>39131.113281</td>\n",
       "      <td>39415.761719</td>\n",
       "      <td>38211.789062</td>\n",
       "      <td>20773907848</td>\n",
       "    </tr>\n",
       "    <tr>\n",
       "      <th>3391</th>\n",
       "      <td>2023-12-30</td>\n",
       "      <td>38080.046875</td>\n",
       "      <td>38503.351562</td>\n",
       "      <td>38997.976562</td>\n",
       "      <td>37469.179688</td>\n",
       "      <td>23517721045</td>\n",
       "    </tr>\n",
       "    <tr>\n",
       "      <th>3392</th>\n",
       "      <td>2023-12-31</td>\n",
       "      <td>38132.054688</td>\n",
       "      <td>38073.125000</td>\n",
       "      <td>38518.488281</td>\n",
       "      <td>37588.726562</td>\n",
       "      <td>14485028393</td>\n",
       "    </tr>\n",
       "  </tbody>\n",
       "</table>\n",
       "<p>3393 rows × 6 columns</p>\n",
       "</div>"
      ],
      "text/plain": [
       "      Timestamp         Price          Open          High           Low  \\\n",
       "0    2014-09-17    355.957367    359.546204    361.468506    351.586884   \n",
       "1    2014-09-18    328.539368    355.588409    355.505402    319.789459   \n",
       "2    2014-09-19    307.761139    328.278503    330.936707    298.921021   \n",
       "3    2014-09-20    318.758972    307.665253    329.978180    303.931244   \n",
       "4    2014-09-21    310.632446    318.120514    321.504517    306.502197   \n",
       "...         ...           ...           ...           ...           ...   \n",
       "3388 2023-12-27  38504.562500  39568.429688  39571.453125  37778.320312   \n",
       "3389 2023-12-28  39108.300781  38502.812500  39345.335938  38217.789062   \n",
       "3390 2023-12-29  38515.289062  39131.113281  39415.761719  38211.789062   \n",
       "3391 2023-12-30  38080.046875  38503.351562  38997.976562  37469.179688   \n",
       "3392 2023-12-31  38132.054688  38073.125000  38518.488281  37588.726562   \n",
       "\n",
       "           Volume  \n",
       "0        16389166  \n",
       "1        26691849  \n",
       "2        29560103  \n",
       "3        28736826  \n",
       "4        20702625  \n",
       "...           ...  \n",
       "3388  27190965041  \n",
       "3389  22740505379  \n",
       "3390  20773907848  \n",
       "3391  23517721045  \n",
       "3392  14485028393  \n",
       "\n",
       "[3393 rows x 6 columns]"
      ]
     },
     "execution_count": 18,
     "metadata": {},
     "output_type": "execute_result"
    }
   ],
   "source": [
    "data_inizio = '2014-09-17'\n",
    "data_fine = '2023-12-31'\n",
    "indice_inizio = dati_originali[dati_originali['Timestamp'] == data_inizio].index[0]\n",
    "indice_fine = dati_originali[dati_originali['Timestamp'] == data_fine].index[0]\n",
    "dati = dati_originali[indice_inizio:indice_fine + 1].reset_index(drop=True)\n",
    "dati"
   ]
  },
  {
   "cell_type": "code",
   "execution_count": 19,
   "metadata": {},
   "outputs": [
    {
     "data": {
      "text/plain": [
       "[<matplotlib.lines.Line2D at 0x2cc64351f00>]"
      ]
     },
     "execution_count": 19,
     "metadata": {},
     "output_type": "execute_result"
    },
    {
     "data": {
      "image/png": "[encoded data removed]",
      "text/plain": [
       "<Figure size 640x480 with 1 Axes>"
      ]
     },
     "metadata": {},
     "output_type": "display_data"
    }
   ],
   "source": [
    "plt.grid()\n",
    "plt.plot(dati['Timestamp'].iloc[-120:], dati['Price'].iloc[-120:])"
   ]
  },
  {
   "cell_type": "markdown",
   "metadata": {},
   "source": [
    "# Function per il calcolo del rendimento ideale"
   ]
  },
  {
   "cell_type": "code",
   "execution_count": 20,
   "metadata": {},
   "outputs": [],
   "source": [
    "def calcola_rendimento_portafoglio_ideale(capitale_iniziale, bitcoin_iniziali, lista_prezzi, min_acquisto, min_vendita, perc_commissione_acquisto, perc_commissione_vendita):\n",
    "    capitale = capitale_iniziale\n",
    "    bitcoin = bitcoin_iniziali\n",
    "    comprato = False\n",
    "\n",
    "    for i in range(len(lista_prezzi) - 1):\n",
    "        # Compra al minimo\n",
    "        if lista_prezzi[i] < lista_prezzi[i + 1] and not comprato and capitale >= min_acquisto:\n",
    "            bitcoin_acquistati = (capitale * (1 - perc_commissione_acquisto)) / lista_prezzi[i]\n",
    "            bitcoin += bitcoin_acquistati\n",
    "            capitale = 0\n",
    "            comprato = True\n",
    "            # print(f'Bitcoin posseduti: {bitcoin}')\n",
    "        # Vende al massimo\n",
    "        elif lista_prezzi[i] > lista_prezzi[i + 1] and comprato and bitcoin * lista_prezzi[i] >= min_vendita:\n",
    "            capitale_vendita = bitcoin * lista_prezzi[i] * (1 - perc_commissione_vendita)\n",
    "            capitale += capitale_vendita\n",
    "            bitcoin = 0\n",
    "            comprato = False\n",
    "            # print(f'Capitale posseduto: {capitale}')\n",
    "\n",
    "    # Vende i bitcoin rimasti all'ultimo prezzo\n",
    "    if comprato and bitcoin * lista_prezzi.iloc[-1] >= min_vendita:\n",
    "        capitale += bitcoin * lista_prezzi.iloc[-1] * (1 - perc_commissione_vendita)\n",
    "        bitcoin = 0\n",
    "        # print(f'Capitale posseduto: {capitale}')\n",
    "        # print(f'Bitcoin posseduti: {bitcoin}')\n",
    "\n",
    "    valore_iniziale = capitale_iniziale + bitcoin_iniziali * lista_prezzi[0]\n",
    "    valore_finale = capitale + bitcoin * lista_prezzi.iloc[-1]\n",
    "\n",
    "    rendimento = valore_finale / valore_iniziale\n",
    "\n",
    "    return [rendimento, valore_finale]"
   ]
  },
  {
   "cell_type": "markdown",
   "metadata": {},
   "source": [
    "# Preparazione dei Periodi di 30 Giorni e train_test_split"
   ]
  },
  {
   "cell_type": "code",
   "execution_count": 21,
   "metadata": {},
   "outputs": [
    {
     "name": "stdout",
     "output_type": "stream",
     "text": [
      "Train periods: 2354, Validation periods: 505, Test periods: 505\n"
     ]
    }
   ],
   "source": [
    "# Estrarre periodi di lunghezza 30 giorni dai dati\n",
    "L = 30\n",
    "periods = [dati.iloc[i:i + L] for i in range(len(dati) - L + 1)]\n",
    "\n",
    "# Suddivisione dei periodi in train (70%) e validation/test (30%)\n",
    "train_periods, validation_periods = train_test_split(periods, test_size=0.3, random_state=42)\n",
    "validation_periods, test_periods = train_test_split(validation_periods, test_size=0.5, random_state=42)\n",
    "\n",
    "# Visualizzare il numero di periodi in ciascun insieme\n",
    "print(f\"Train periods: {len(train_periods)}, Validation periods: {len(validation_periods)}, Test periods: {len(test_periods)}\")"
   ]
  },
  {
   "cell_type": "markdown",
   "metadata": {},
   "source": [
    "## Calcolo per curiosità i \"punteggi di sufficienza\" di ognuno dei 3 set"
   ]
  },
  {
   "cell_type": "code",
   "execution_count": 22,
   "metadata": {},
   "outputs": [],
   "source": [
    "# Parametri per calcola_rendimento_portafoglio_ideale\n",
    "initial_cash = 1000\n",
    "initial_btc = 0\n",
    "min_acquisto = 0\n",
    "min_vendita = 0\n",
    "perc_commissione_acquisto = 0\n",
    "perc_commissione_vendita = 0\n",
    "\n",
    "# Funzione per calcolare il punteggio di sufficienza medio per un insieme di periodi\n",
    "def calcola_punteggio_sufficienza_medio(periods):\n",
    "    punteggi_sufficienza = []\n",
    "    \n",
    "    for period in periods:\n",
    "        # Estrai la lista dei prezzi dal periodo\n",
    "        lista_prezzi = period['Price'].reset_index(drop=True)\n",
    "        \n",
    "        # Calcola il rendimento ideale\n",
    "        rendimento_ideale, _ = calcola_rendimento_portafoglio_ideale(\n",
    "            capitale_iniziale=initial_cash,\n",
    "            bitcoin_iniziali=initial_btc,\n",
    "            lista_prezzi=pd.Series(lista_prezzi),\n",
    "            min_acquisto=min_acquisto,\n",
    "            min_vendita=min_vendita,\n",
    "            perc_commissione_acquisto=perc_commissione_acquisto,\n",
    "            perc_commissione_vendita=perc_commissione_vendita\n",
    "        )\n",
    "        \n",
    "        # Calcola il punteggio di sufficienza per questo periodo\n",
    "        punteggio_sufficienza = 1 / rendimento_ideale\n",
    "        punteggi_sufficienza.append(punteggio_sufficienza)\n",
    "\n",
    "    # Calcola e restituisce il punteggio di sufficienza medio\n",
    "    punteggio_medio = np.mean(punteggi_sufficienza)\n",
    "    return punteggio_medio"
   ]
  },
  {
   "cell_type": "code",
   "execution_count": 23,
   "metadata": {},
   "outputs": [
    {
     "name": "stdout",
     "output_type": "stream",
     "text": [
      "Punteggio di sufficienza medio - Train: 0.7003\n",
      "Punteggio di sufficienza medio - Validation: 0.7011\n",
      "Punteggio di sufficienza medio - Test: 0.7095\n"
     ]
    }
   ],
   "source": [
    "# Calcola il punteggio di sufficienza medio per ciascun insieme\n",
    "punteggio_sufficienza_medio_train = calcola_punteggio_sufficienza_medio(train_periods)\n",
    "punteggio_sufficienza_medio_validation = calcola_punteggio_sufficienza_medio(validation_periods)\n",
    "punteggio_sufficienza_medio_test = calcola_punteggio_sufficienza_medio(test_periods)\n",
    "\n",
    "# Stampa i risultati\n",
    "print(f\"Punteggio di sufficienza medio - Train: {punteggio_sufficienza_medio_train:.4f}\")\n",
    "print(f\"Punteggio di sufficienza medio - Validation: {punteggio_sufficienza_medio_validation:.4f}\")\n",
    "print(f\"Punteggio di sufficienza medio - Test: {punteggio_sufficienza_medio_test:.4f}\")"
   ]
  },
  {
   "cell_type": "markdown",
   "metadata": {},
   "source": [
    "# Definizione dell'Ambiente Personalizzato TradingEnv per Train e Validation"
   ]
  },
  {
   "cell_type": "code",
   "execution_count": 24,
   "metadata": {},
   "outputs": [],
   "source": [
    "class TradingEnv(gym.Env):\n",
    "    def __init__(self, periods, initial_cash, initial_btc, L, info_columns, portfolio_metrics,\n",
    "                 min_acquisto=0, min_vendita=0, perc_commissione_acquisto=0, perc_commissione_vendita=0):\n",
    "        super(TradingEnv, self).__init__()\n",
    "\n",
    "        self.rng = np.random.default_rng(seed_value)  # Generatore per scegliere i periodi in modo riproducibile\n",
    "        \n",
    "        # Inizializzazione delle variabili di input\n",
    "        self.periods = periods\n",
    "        self.initial_cash = initial_cash\n",
    "        self.initial_btc = initial_btc\n",
    "        self.current_step = 0\n",
    "        self.current_period = None\n",
    "        self.initial_price = None\n",
    "        self.L = L  # Numero di giorni di osservazione\n",
    "        self.period_index = 0\n",
    "\n",
    "        # Parametri della funzione ideale\n",
    "        self.min_acquisto = min_acquisto\n",
    "        self.min_vendita = min_vendita\n",
    "        self.perc_commissione_acquisto = perc_commissione_acquisto\n",
    "        self.perc_commissione_vendita = perc_commissione_vendita\n",
    "\n",
    "        # Definisce le colonne di informazione e le metriche del portafoglio\n",
    "        self.info_columns = info_columns\n",
    "        self.portfolio_metrics = portfolio_metrics\n",
    "\n",
    "        # Calcola la dimensione dello spazio di osservazione\n",
    "        self.num_info_columns = len(self.info_columns)\n",
    "        self.observation_size = self.L * self.num_info_columns + len(self.portfolio_metrics)\n",
    "        \n",
    "        # Spazio di azione e di osservazione\n",
    "        self.action_space = spaces.Box(low=-1, high=1, shape=(1,), dtype=np.float32)\n",
    "        self.observation_space = spaces.Box(low=0, high=np.inf, shape=(self.observation_size,), dtype=np.float32)\n",
    "\n",
    "    # def reset(self):\n",
    "    #     # Procede al prossimo periodo in sequenza\n",
    "    #     self.current_period = self.periods[self.period_index].reset_index(drop=True)\n",
    "        \n",
    "    #     # Aggiorna l'indice per il periodo successivo\n",
    "    #     self.period_index = (self.period_index + 1) % len(self.periods)\n",
    "\n",
    "    #     # Reset delle variabili del portafoglio\n",
    "    #     self.current_step = 0\n",
    "    #     self.cash = self.initial_cash\n",
    "    #     self.btc = self.initial_btc\n",
    "    #     self.initial_price = self.current_period['Price'].iloc[self.current_step]\n",
    "        \n",
    "    #     # Valore iniziale del portafoglio e variabile per tracciare il valore del giorno precedente\n",
    "    #     self.valore_iniziale = self.cash + self.btc * self.initial_price\n",
    "    #     self.previous_total_value = self.valore_iniziale\n",
    "        \n",
    "    #     # Costruzione dell'osservazione iniziale\n",
    "    #     obs = self.get_observation()\n",
    "    #     return obs\n",
    "\n",
    "    def reset(self, **kwargs):  # Accetta **kwargs per gestire seed e altri argomenti extra\n",
    "        # Usa il generatore rng per scegliere un periodo in modo riproducibile\n",
    "        self.current_period = self.periods[self.rng.integers(0, len(self.periods))].reset_index(drop=True)\n",
    "        \n",
    "        # Inizializza variabili di portafoglio e osservazione\n",
    "        self.current_step = 0\n",
    "        self.cash = self.initial_cash\n",
    "        self.btc = self.initial_btc\n",
    "        self.initial_price = self.current_period['Price'].iloc[self.current_step]\n",
    "        self.valore_iniziale = self.cash + self.btc * self.initial_price\n",
    "        self.previous_total_value = self.valore_iniziale\n",
    "        \n",
    "        obs = self.get_observation()\n",
    "        return obs, {}\n",
    "\n",
    "\n",
    "    def step(self, action):\n",
    "        percentage = action[0]\n",
    "        price = self.current_period['Price'].iloc[self.current_step]\n",
    "\n",
    "        # Gestione dell'azione (acquisto, vendita o nessuna azione)\n",
    "        if percentage < 0:  # Vendita\n",
    "            btc_to_sell = -percentage * self.btc\n",
    "            self.btc -= btc_to_sell\n",
    "            self.cash += btc_to_sell * price\n",
    "        elif percentage > 0:  # Acquisto\n",
    "            cash_to_spend = percentage * self.cash\n",
    "            btc_bought = cash_to_spend / price\n",
    "            self.btc += btc_bought\n",
    "            self.cash -= cash_to_spend\n",
    "\n",
    "        # Avanza al prossimo passo temporale\n",
    "        self.current_step += 1\n",
    "        done = self.current_step >= len(self.current_period) - 1\n",
    "        truncated = False  # Indica che l'episodio non è stato troncato manualmente\n",
    "\n",
    "        # Calcola il valore totale del portafoglio\n",
    "        total_value = self.cash + self.btc * price\n",
    "\n",
    "        # Calcola la variazione del portafoglio come reward\n",
    "        reward = total_value - self.previous_total_value\n",
    "        self.previous_total_value = total_value  # Aggiorna il valore del giorno precedente\n",
    "\n",
    "        # Costruisce l'osservazione aggiornata\n",
    "        obs = self.get_observation()\n",
    "        \n",
    "        return obs, reward, done, truncated, {}\n",
    "\n",
    "    def get_observation(self):\n",
    "        # Crea l'osservazione in base a L giorni di info_columns e alle metriche del portafoglio\n",
    "        obs = self.current_period[self.info_columns].values[:self.current_step + 1].flatten()\n",
    "        obs = np.pad(obs, (0, self.L * self.num_info_columns - len(obs)), mode='constant')\n",
    "        \n",
    "        # Costruisce l'osservazione delle metriche del portafoglio\n",
    "        total_value = self.cash + self.btc * self.current_period['Price'].iloc[self.current_step]\n",
    "        portfolio_obs = []\n",
    "        if 'cash' in self.portfolio_metrics:\n",
    "            portfolio_obs.append(self.cash)\n",
    "        if 'btc' in self.portfolio_metrics:\n",
    "            portfolio_obs.append(self.btc)\n",
    "        if 'total_value' in self.portfolio_metrics:\n",
    "            portfolio_obs.append(total_value)\n",
    "        \n",
    "        # Aggiunge l'osservazione del portafoglio all'osservazione finale\n",
    "        obs = np.append(obs, portfolio_obs)\n",
    "        return obs\n",
    "\n",
    "    def render(self):\n",
    "        total_value = self.cash + self.btc * self.current_period['Price'].iloc[self.current_step]\n",
    "        print(f'Step: {self.current_step}, Cash: {self.cash}, BTC: {self.btc}, Total Value: {total_value}')"
   ]
  },
  {
   "cell_type": "markdown",
   "metadata": {},
   "source": [
    "# Creare gli ambienti di addestramento e di validazione"
   ]
  },
  {
   "cell_type": "code",
   "execution_count": 25,
   "metadata": {},
   "outputs": [],
   "source": [
    "liquidità_iniziale = 1000\n",
    "bitcoin_iniziali = 0\n",
    "L = 30\n",
    "info_columns = ['Price', 'Volume'] #['Price', 'Volume'] # Scegliere tra le colonne presenti nel dataset iniziale\n",
    "portfolio_metrics = ['cash'] #['cash', 'btc', 'total_value'] # Scegliere tra 'cash', 'btc' e 'total_value' (o una combinazione di questi)\n",
    "train_env = TradingEnv(periods=train_periods, initial_cash=liquidità_iniziale, initial_btc=bitcoin_iniziali, L=L, info_columns=info_columns, portfolio_metrics=portfolio_metrics)\n",
    "validation_env = TradingEnv(periods=validation_periods, initial_cash=liquidità_iniziale, initial_btc=bitcoin_iniziali, L=L, info_columns=info_columns, portfolio_metrics=portfolio_metrics)\n",
    "\n",
    "load_previous_model = True\n",
    "previous_model = \"Best models RL/best_model_RL_BTC_1000_10_200000_['Price', 'Volume']_['cash']_RS_8.zip\""
   ]
  },
  {
   "cell_type": "markdown",
   "metadata": {},
   "source": [
    "# Addestrare l'agente con monitoraggio su validation"
   ]
  },
  {
   "cell_type": "code",
   "execution_count": null,
   "metadata": {},
   "outputs": [
    {
     "name": "stdout",
     "output_type": "stream",
     "text": [
      "Wrapping the env with a `Monitor` wrapper\n",
      "Wrapping the env in a DummyVecEnv.\n",
      "\n",
      "--- Epoch 1/1000 ---\n",
      "---------------------------------\n",
      "| rollout/           |          |\n",
      "|    ep_len_mean     | 29       |\n",
      "|    ep_rew_mean     | 81.3     |\n",
      "| time/              |          |\n",
      "|    fps             | 297      |\n",
      "|    iterations      | 1        |\n",
      "|    time_elapsed    | 6        |\n",
      "|    total_timesteps | 2410496  |\n",
      "---------------------------------\n",
      "-----------------------------------------\n",
      "| rollout/                |             |\n",
      "|    ep_len_mean          | 29          |\n",
      "|    ep_rew_mean          | 71.4        |\n",
      "| time/                   |             |\n",
      "|    fps                  | 246         |\n",
      "|    iterations           | 2           |\n",
      "|    time_elapsed         | 16          |\n",
      "|    total_timesteps      | 2412544     |\n",
      "| train/                  |             |\n",
      "|    approx_kl            | 0.075395465 |\n",
      "|    clip_fraction        | 0.353       |\n",
      "|    clip_range           | 0.2         |\n",
      "|    entropy_loss         | 1.98        |\n",
      "|    explained_variance   | 0.057008922 |\n",
      "|    learning_rate        | 0.0003      |\n",
      "|    loss                 | 5.59e+03    |\n",
      "|    n_updates            | 11770       |\n",
      "|    policy_gradient_loss | -0.00348    |\n",
      "|    std                  | 0.0333      |\n",
      "|    value_loss           | 1.5e+04     |\n",
      "-----------------------------------------\n",
      "-----------------------------------------\n",
      "| rollout/                |             |\n",
      "|    ep_len_mean          | 29          |\n",
      "|    ep_rew_mean          | 90          |\n",
      "| time/                   |             |\n",
      "|    fps                  | 234         |\n",
      "|    iterations           | 3           |\n",
      "|    time_elapsed         | 26          |\n",
      "|    total_timesteps      | 2414592     |\n",
      "| train/                  |             |\n",
      "|    approx_kl            | 0.058557607 |\n",
      "|    clip_fraction        | 0.329       |\n",
      "|    clip_range           | 0.2         |\n",
      "|    entropy_loss         | 1.98        |\n",
      "|    explained_variance   | 0.07402998  |\n",
      "|    learning_rate        | 0.0003      |\n",
      "|    loss                 | 5.85e+03    |\n",
      "|    n_updates            | 11780       |\n",
      "|    policy_gradient_loss | -0.0042     |\n",
      "|    std                  | 0.0337      |\n",
      "|    value_loss           | 9.53e+03    |\n",
      "-----------------------------------------\n",
      "-----------------------------------------\n",
      "| rollout/                |             |\n",
      "|    ep_len_mean          | 29          |\n",
      "|    ep_rew_mean          | 88.1        |\n",
      "| time/                   |             |\n",
      "|    fps                  | 216         |\n",
      "|    iterations           | 4           |\n",
      "|    time_elapsed         | 37          |\n",
      "|    total_timesteps      | 2416640     |\n",
      "| train/                  |             |\n",
      "|    approx_kl            | 0.054592315 |\n",
      "|    clip_fraction        | 0.331       |\n",
      "|    clip_range           | 0.2         |\n",
      "|    entropy_loss         | 1.97        |\n",
      "|    explained_variance   | 0.079090536 |\n",
      "|    learning_rate        | 0.0003      |\n",
      "|    loss                 | 4.76e+03    |\n",
      "|    n_updates            | 11790       |\n",
      "|    policy_gradient_loss | -0.00509    |\n",
      "|    std                  | 0.0335      |\n",
      "|    value_loss           | 1.13e+04    |\n",
      "-----------------------------------------\n",
      "-----------------------------------------\n",
      "| rollout/                |             |\n",
      "|    ep_len_mean          | 29          |\n",
      "|    ep_rew_mean          | 69.3        |\n",
      "| time/                   |             |\n",
      "|    fps                  | 212         |\n",
      "|    iterations           | 5           |\n",
      "|    time_elapsed         | 48          |\n",
      "|    total_timesteps      | 2418688     |\n",
      "| train/                  |             |\n",
      "|    approx_kl            | 0.049581356 |\n",
      "|    clip_fraction        | 0.32        |\n",
      "|    clip_range           | 0.2         |\n",
      "|    entropy_loss         | 1.99        |\n",
      "|    explained_variance   | 0.084305584 |\n",
      "|    learning_rate        | 0.0003      |\n",
      "|    loss                 | 6.16e+03    |\n",
      "|    n_updates            | 11800       |\n",
      "|    policy_gradient_loss | -0.00979    |\n",
      "|    std                  | 0.0328      |\n",
      "|    value_loss           | 1.14e+04    |\n",
      "-----------------------------------------\n",
      "----------------------------------------\n",
      "| rollout/                |            |\n",
      "|    ep_len_mean          | 29         |\n",
      "|    ep_rew_mean          | 61.5       |\n",
      "| time/                   |            |\n",
      "|    fps                  | 220        |\n",
      "|    iterations           | 6          |\n",
      "|    time_elapsed         | 55         |\n",
      "|    total_timesteps      | 2420736    |\n",
      "| train/                  |            |\n",
      "|    approx_kl            | 0.07531653 |\n",
      "|    clip_fraction        | 0.335      |\n",
      "|    clip_range           | 0.2        |\n",
      "|    entropy_loss         | 2          |\n",
      "|    explained_variance   | 0.06501901 |\n",
      "|    learning_rate        | 0.0003     |\n",
      "|    loss                 | 3.71e+03   |\n",
      "|    n_updates            | 11810      |\n",
      "|    policy_gradient_loss | -0.00711   |\n",
      "|    std                  | 0.0328     |\n",
      "|    value_loss           | 2.08e+04   |\n",
      "----------------------------------------\n",
      "-----------------------------------------\n",
      "| rollout/                |             |\n",
      "|    ep_len_mean          | 29          |\n",
      "|    ep_rew_mean          | 33.9        |\n",
      "| time/                   |             |\n",
      "|    fps                  | 214         |\n",
      "|    iterations           | 7           |\n",
      "|    time_elapsed         | 66          |\n",
      "|    total_timesteps      | 2422784     |\n",
      "| train/                  |             |\n",
      "|    approx_kl            | 0.112539634 |\n",
      "|    clip_fraction        | 0.431       |\n",
      "|    clip_range           | 0.2         |\n",
      "|    entropy_loss         | 2           |\n",
      "|    explained_variance   | 0.06805754  |\n",
      "|    learning_rate        | 0.0003      |\n",
      "|    loss                 | 2.67e+03    |\n",
      "|    n_updates            | 11820       |\n",
      "|    policy_gradient_loss | 0.00748     |\n",
      "|    std                  | 0.0328      |\n",
      "|    value_loss           | 5.57e+03    |\n",
      "-----------------------------------------\n",
      "----------------------------------------\n",
      "| rollout/                |            |\n",
      "|    ep_len_mean          | 29         |\n",
      "|    ep_rew_mean          | 73.4       |\n",
      "| time/                   |            |\n",
      "|    fps                  | 216        |\n",
      "|    iterations           | 8          |\n",
      "|    time_elapsed         | 75         |\n",
      "|    total_timesteps      | 2424832    |\n",
      "| train/                  |            |\n",
      "|    approx_kl            | 0.04524901 |\n",
      "|    clip_fraction        | 0.346      |\n",
      "|    clip_range           | 0.2        |\n",
      "|    entropy_loss         | 2          |\n",
      "|    explained_variance   | 0.0439806  |\n",
      "|    learning_rate        | 0.0003     |\n",
      "|    loss                 | 4.74e+03   |\n",
      "|    n_updates            | 11830      |\n",
      "|    policy_gradient_loss | -0.0018    |\n",
      "|    std                  | 0.0326     |\n",
      "|    value_loss           | 8.2e+03    |\n",
      "----------------------------------------\n",
      "-----------------------------------------\n",
      "| rollout/                |             |\n",
      "|    ep_len_mean          | 29          |\n",
      "|    ep_rew_mean          | 105         |\n",
      "| time/                   |             |\n",
      "|    fps                  | 217         |\n",
      "|    iterations           | 9           |\n",
      "|    time_elapsed         | 84          |\n",
      "|    total_timesteps      | 2426880     |\n",
      "| train/                  |             |\n",
      "|    approx_kl            | 0.061674863 |\n",
      "|    clip_fraction        | 0.347       |\n",
      "|    clip_range           | 0.2         |\n",
      "|    entropy_loss         | 2.01        |\n",
      "|    explained_variance   | 0.10307062  |\n",
      "|    learning_rate        | 0.0003      |\n",
      "|    loss                 | 3.77e+03    |\n",
      "|    n_updates            | 11840       |\n",
      "|    policy_gradient_loss | -0.00789    |\n",
      "|    std                  | 0.0325      |\n",
      "|    value_loss           | 1.34e+04    |\n",
      "-----------------------------------------\n",
      "----------------------------------------\n",
      "| rollout/                |            |\n",
      "|    ep_len_mean          | 29         |\n",
      "|    ep_rew_mean          | 63.9       |\n",
      "| time/                   |            |\n",
      "|    fps                  | 215        |\n",
      "|    iterations           | 10         |\n",
      "|    time_elapsed         | 94         |\n",
      "|    total_timesteps      | 2428928    |\n",
      "| train/                  |            |\n",
      "|    approx_kl            | 0.0507301  |\n",
      "|    clip_fraction        | 0.348      |\n",
      "|    clip_range           | 0.2        |\n",
      "|    entropy_loss         | 2          |\n",
      "|    explained_variance   | 0.09831488 |\n",
      "|    learning_rate        | 0.0003     |\n",
      "|    loss                 | 4.72e+03   |\n",
      "|    n_updates            | 11850      |\n",
      "|    policy_gradient_loss | -0.00799   |\n",
      "|    std                  | 0.0325     |\n",
      "|    value_loss           | 1.13e+04   |\n",
      "----------------------------------------\n",
      "-----------------------------------------\n",
      "| rollout/                |             |\n",
      "|    ep_len_mean          | 29          |\n",
      "|    ep_rew_mean          | 53.9        |\n",
      "| time/                   |             |\n",
      "|    fps                  | 207         |\n",
      "|    iterations           | 11          |\n",
      "|    time_elapsed         | 108         |\n",
      "|    total_timesteps      | 2430976     |\n",
      "| train/                  |             |\n",
      "|    approx_kl            | 0.07467918  |\n",
      "|    clip_fraction        | 0.317       |\n",
      "|    clip_range           | 0.2         |\n",
      "|    entropy_loss         | 2.01        |\n",
      "|    explained_variance   | 0.023850143 |\n",
      "|    learning_rate        | 0.0003      |\n",
      "|    loss                 | 6.28e+03    |\n",
      "|    n_updates            | 11860       |\n",
      "|    policy_gradient_loss | -0.0182     |\n",
      "|    std                  | 0.0324      |\n",
      "|    value_loss           | 9.33e+03    |\n",
      "-----------------------------------------\n",
      "----------------------------------------\n",
      "| rollout/                |            |\n",
      "|    ep_len_mean          | 29         |\n",
      "|    ep_rew_mean          | 65.3       |\n",
      "| time/                   |            |\n",
      "|    fps                  | 205        |\n",
      "|    iterations           | 12         |\n",
      "|    time_elapsed         | 119        |\n",
      "|    total_timesteps      | 2433024    |\n",
      "| train/                  |            |\n",
      "|    approx_kl            | 0.06936818 |\n",
      "|    clip_fraction        | 0.378      |\n",
      "|    clip_range           | 0.2        |\n",
      "|    entropy_loss         | 2          |\n",
      "|    explained_variance   | 0.08398044 |\n",
      "|    learning_rate        | 0.0003     |\n",
      "|    loss                 | 3.39e+03   |\n",
      "|    n_updates            | 11870      |\n",
      "|    policy_gradient_loss | -0.00997   |\n",
      "|    std                  | 0.0326     |\n",
      "|    value_loss           | 8.12e+03   |\n",
      "----------------------------------------\n",
      "-----------------------------------------\n",
      "| rollout/                |             |\n",
      "|    ep_len_mean          | 29          |\n",
      "|    ep_rew_mean          | 92.9        |\n",
      "| time/                   |             |\n",
      "|    fps                  | 203         |\n",
      "|    iterations           | 13          |\n",
      "|    time_elapsed         | 130         |\n",
      "|    total_timesteps      | 2435072     |\n",
      "| train/                  |             |\n",
      "|    approx_kl            | 0.041665927 |\n",
      "|    clip_fraction        | 0.291       |\n",
      "|    clip_range           | 0.2         |\n",
      "|    entropy_loss         | 2           |\n",
      "|    explained_variance   | 0.055684865 |\n",
      "|    learning_rate        | 0.0003      |\n",
      "|    loss                 | 8.38e+03    |\n",
      "|    n_updates            | 11880       |\n",
      "|    policy_gradient_loss | -0.00714    |\n",
      "|    std                  | 0.0327      |\n",
      "|    value_loss           | 1.33e+04    |\n",
      "-----------------------------------------\n",
      "----------------------------------------\n",
      "| rollout/                |            |\n",
      "|    ep_len_mean          | 29         |\n",
      "|    ep_rew_mean          | 58.6       |\n",
      "| time/                   |            |\n",
      "|    fps                  | 201        |\n",
      "|    iterations           | 14         |\n",
      "|    time_elapsed         | 142        |\n",
      "|    total_timesteps      | 2437120    |\n",
      "| train/                  |            |\n",
      "|    approx_kl            | 0.06747745 |\n",
      "|    clip_fraction        | 0.393      |\n",
      "|    clip_range           | 0.2        |\n",
      "|    entropy_loss         | 2.01       |\n",
      "|    explained_variance   | 0.09563851 |\n",
      "|    learning_rate        | 0.0003     |\n",
      "|    loss                 | 6.83e+03   |\n",
      "|    n_updates            | 11890      |\n",
      "|    policy_gradient_loss | -0.00263   |\n",
      "|    std                  | 0.0321     |\n",
      "|    value_loss           | 1.05e+04   |\n",
      "----------------------------------------\n",
      "-----------------------------------------\n",
      "| rollout/                |             |\n",
      "|    ep_len_mean          | 29          |\n",
      "|    ep_rew_mean          | 54.2        |\n",
      "| time/                   |             |\n",
      "|    fps                  | 201         |\n",
      "|    iterations           | 15          |\n",
      "|    time_elapsed         | 152         |\n",
      "|    total_timesteps      | 2439168     |\n",
      "| train/                  |             |\n",
      "|    approx_kl            | 0.056125406 |\n",
      "|    clip_fraction        | 0.39        |\n",
      "|    clip_range           | 0.2         |\n",
      "|    entropy_loss         | 2.01        |\n",
      "|    explained_variance   | 0.06265342  |\n",
      "|    learning_rate        | 0.0003      |\n",
      "|    loss                 | 3.45e+03    |\n",
      "|    n_updates            | 11900       |\n",
      "|    policy_gradient_loss | -4.28e-05   |\n",
      "|    std                  | 0.0325      |\n",
      "|    value_loss           | 1.24e+04    |\n",
      "-----------------------------------------\n",
      "-----------------------------------------\n",
      "| rollout/                |             |\n",
      "|    ep_len_mean          | 29          |\n",
      "|    ep_rew_mean          | 60.9        |\n",
      "| time/                   |             |\n",
      "|    fps                  | 194         |\n",
      "|    iterations           | 16          |\n",
      "|    time_elapsed         | 168         |\n",
      "|    total_timesteps      | 2441216     |\n",
      "| train/                  |             |\n",
      "|    approx_kl            | 0.081749976 |\n",
      "|    clip_fraction        | 0.374       |\n",
      "|    clip_range           | 0.2         |\n",
      "|    entropy_loss         | 2.01        |\n",
      "|    explained_variance   | 0.07789737  |\n",
      "|    learning_rate        | 0.0003      |\n",
      "|    loss                 | 6.64e+03    |\n",
      "|    n_updates            | 11910       |\n",
      "|    policy_gradient_loss | -0.00375    |\n",
      "|    std                  | 0.0322      |\n",
      "|    value_loss           | 9.34e+03    |\n",
      "-----------------------------------------\n",
      "----------------------------------------\n",
      "| rollout/                |            |\n",
      "|    ep_len_mean          | 29         |\n",
      "|    ep_rew_mean          | 58         |\n",
      "| time/                   |            |\n",
      "|    fps                  | 184        |\n",
      "|    iterations           | 17         |\n",
      "|    time_elapsed         | 188        |\n",
      "|    total_timesteps      | 2443264    |\n",
      "| train/                  |            |\n",
      "|    approx_kl            | 0.2626542  |\n",
      "|    clip_fraction        | 0.472      |\n",
      "|    clip_range           | 0.2        |\n",
      "|    entropy_loss         | 2.01       |\n",
      "|    explained_variance   | 0.05606228 |\n",
      "|    learning_rate        | 0.0003     |\n",
      "|    loss                 | 5.54e+03   |\n",
      "|    n_updates            | 11920      |\n",
      "|    policy_gradient_loss | 0.0301     |\n",
      "|    std                  | 0.0325     |\n",
      "|    value_loss           | 1.01e+04   |\n",
      "----------------------------------------\n",
      "----------------------------------------\n",
      "| rollout/                |            |\n",
      "|    ep_len_mean          | 29         |\n",
      "|    ep_rew_mean          | 56.6       |\n",
      "| time/                   |            |\n",
      "|    fps                  | 181        |\n",
      "|    iterations           | 18         |\n",
      "|    time_elapsed         | 203        |\n",
      "|    total_timesteps      | 2445312    |\n",
      "| train/                  |            |\n",
      "|    approx_kl            | 0.05213888 |\n",
      "|    clip_fraction        | 0.32       |\n",
      "|    clip_range           | 0.2        |\n",
      "|    entropy_loss         | 2.02       |\n",
      "|    explained_variance   | 0.06918079 |\n",
      "|    learning_rate        | 0.0003     |\n",
      "|    loss                 | 3.29e+03   |\n",
      "|    n_updates            | 11930      |\n",
      "|    policy_gradient_loss | -0.0142    |\n",
      "|    std                  | 0.0318     |\n",
      "|    value_loss           | 1.02e+04   |\n",
      "----------------------------------------\n",
      "-----------------------------------------\n",
      "| rollout/                |             |\n",
      "|    ep_len_mean          | 29          |\n",
      "|    ep_rew_mean          | 104         |\n",
      "| time/                   |             |\n",
      "|    fps                  | 180         |\n",
      "|    iterations           | 19          |\n",
      "|    time_elapsed         | 215         |\n",
      "|    total_timesteps      | 2447360     |\n",
      "| train/                  |             |\n",
      "|    approx_kl            | 0.0749107   |\n",
      "|    clip_fraction        | 0.364       |\n",
      "|    clip_range           | 0.2         |\n",
      "|    entropy_loss         | 2.03        |\n",
      "|    explained_variance   | 0.031822205 |\n",
      "|    learning_rate        | 0.0003      |\n",
      "|    loss                 | 1.01e+04    |\n",
      "|    n_updates            | 11940       |\n",
      "|    policy_gradient_loss | -0.0106     |\n",
      "|    std                  | 0.0318      |\n",
      "|    value_loss           | 1.34e+04    |\n",
      "-----------------------------------------\n",
      "-----------------------------------------\n",
      "| rollout/                |             |\n",
      "|    ep_len_mean          | 29          |\n",
      "|    ep_rew_mean          | 76.4        |\n",
      "| time/                   |             |\n",
      "|    fps                  | 179         |\n",
      "|    iterations           | 20          |\n",
      "|    time_elapsed         | 228         |\n",
      "|    total_timesteps      | 2449408     |\n",
      "| train/                  |             |\n",
      "|    approx_kl            | 0.067564726 |\n",
      "|    clip_fraction        | 0.382       |\n",
      "|    clip_range           | 0.2         |\n",
      "|    entropy_loss         | 2.03        |\n",
      "|    explained_variance   | 0.084573925 |\n",
      "|    learning_rate        | 0.0003      |\n",
      "|    loss                 | 3.22e+03    |\n",
      "|    n_updates            | 11950       |\n",
      "|    policy_gradient_loss | -0.000257   |\n",
      "|    std                  | 0.0319      |\n",
      "|    value_loss           | 1.29e+04    |\n",
      "-----------------------------------------\n"
     ]
    }
   ],
   "source": [
    "# Definizione dei parametri con valori esemplificativi\n",
    "liquidità_iniziale = 1000\n",
    "bitcoin_iniziali = 0\n",
    "L = 30\n",
    "num_epochs = 1000  # Numero di epoche, cioè quante volte attraversare tutti i periodi di training\n",
    "patience = 10  # Numero massimo di epoche senza miglioramento sul validation set prima di fermarsi\n",
    "# Definisci il numero di timesteps di addestramento (regola per una durata adeguata)\n",
    "n_timesteps = 200000  # Adatta questo valore in base alla complessità del modello e ai dati\n",
    "detailed_logs = True # Mettere True se si vuole una stampa dettagliata per ogni epoca durante l'allenamento\n",
    "\n",
    "best_validation_reward = -np.inf  # Reward migliore osservato finora\n",
    "validation_rewards = []  # Lista dei reward di validazione per monitoraggio\n",
    "no_improvement_count = 0  # Contatore per tenere traccia delle epoche senza miglioramento\n",
    "\n",
    "# Nome del file per salvare i migliori pesi\n",
    "best_model_path = f\"Best models RL/best_model_RL_BTC_{num_epochs}_{patience}_{n_timesteps}_{info_columns}_{portfolio_metrics}_RS_{seed_value}.zip\"\n",
    "\n",
    "# Imposta train_env con tutti i periodi di addestramento\n",
    "train_env = TradingEnv(\n",
    "    periods=train_periods,\n",
    "    initial_cash=liquidità_iniziale,\n",
    "    initial_btc=bitcoin_iniziali,\n",
    "    L=L,\n",
    "    info_columns=info_columns,\n",
    "    portfolio_metrics=portfolio_metrics\n",
    ")\n",
    "\n",
    "if load_previous_model:\n",
    "    # Oppure carico un modello già salvato per continuare un addestramento\n",
    "    model = PPO.load(previous_model, env=train_env)\n",
    "    # Imposto il livello di verbosità desiderato (opzionale)\n",
    "    model.verbose = 2\n",
    "else:\n",
    "    # Inizializzazione del modello PPO con il training environment\n",
    "    model = PPO(\"MlpPolicy\", train_env, verbose=2)\n",
    "\n",
    "# Addestra il modello con early stopping monitorato sul validation set\n",
    "for epoch in range(num_epochs):\n",
    "    print(f\"\\n--- Epoch {epoch+1}/{num_epochs} ---\")\n",
    "    \n",
    "    # Esegui un ciclo di addestramento per `n_timesteps`\n",
    "    model.learn(total_timesteps=n_timesteps, reset_num_timesteps=False)\n",
    "\n",
    "    # Valutazione su tutti i periodi di validation dopo ogni epoca\n",
    "    validation_rewards_epoch = []\n",
    "    for val_period_index, val_period in enumerate(validation_periods, start=1):\n",
    "        validation_env = TradingEnv(\n",
    "            periods=[val_period],\n",
    "            initial_cash=liquidità_iniziale,\n",
    "            initial_btc=bitcoin_iniziali,\n",
    "            L=L,\n",
    "            info_columns=info_columns,\n",
    "            portfolio_metrics=portfolio_metrics\n",
    "        )\n",
    "        \n",
    "        obs, _ = validation_env.reset()\n",
    "        done = False\n",
    "        total_reward = 0\n",
    "        daily_rewards = []  # Per registrare i reward giornalieri\n",
    "        while not done:\n",
    "            action, _states = model.predict(obs, deterministic=True)\n",
    "            obs, reward, done, truncated, _ = validation_env.step(action)\n",
    "            total_reward += reward\n",
    "            daily_rewards.append(reward)\n",
    "            \n",
    "        validation_rewards_epoch.append(total_reward)\n",
    "        if detailed_logs:\n",
    "            print(f\"\\nValidation period {val_period_index}:\")\n",
    "            print(f\"Total reward for period: {total_reward}\")\n",
    "            print(\"Daily rewards:\", daily_rewards)\n",
    "            print(\"Final portfolio value:\", validation_env.previous_total_value)\n",
    "    \n",
    "    # Calcola il reward medio di validation\n",
    "    avg_validation_reward = np.mean(validation_rewards_epoch)\n",
    "    validation_rewards.append(avg_validation_reward)\n",
    "    print(f\"Average validation reward at epoch {epoch+1}: {avg_validation_reward}\")\n",
    "\n",
    "    # Controllo per Early Stopping\n",
    "    if avg_validation_reward > best_validation_reward:\n",
    "        best_validation_reward = avg_validation_reward\n",
    "        no_improvement_count = 0\n",
    "        model.save(best_model_path)  # Salva i migliori pesi\n",
    "        print(f\"New best model saved with validation reward {avg_validation_reward}\")\n",
    "    else:\n",
    "        no_improvement_count += 1\n",
    "        print(f\"No improvement count: {no_improvement_count}/{patience}\")\n",
    "        print(f\"Best validation reward so far: {best_validation_reward}\")\n",
    "\n",
    "    if no_improvement_count >= patience:\n",
    "        print(f\"Early stopping at epoch {epoch+1} due to no improvement.\")\n",
    "        break\n",
    "\n",
    "# Ripristina i migliori pesi salvati\n",
    "if os.path.exists(best_model_path):\n",
    "    model = PPO.load(best_model_path, env=train_env)  # Carica i pesi salvati nel modello\n",
    "    print(f\"Restored the best model weights from saved file with validation reward: {best_validation_reward}.\")\n",
    "\n",
    "# Best: 61.338393550479985"
   ]
  },
  {
   "cell_type": "markdown",
   "metadata": {},
   "source": [
    "# Test finale sui dati di test"
   ]
  },
  {
   "cell_type": "code",
   "execution_count": null,
   "metadata": {},
   "outputs": [
    {
     "name": "stdout",
     "output_type": "stream",
     "text": [
      "Media fattore di rendimento sui dati di test: 1.061973607320257\n",
      "Media fattore di rendimento ideale sui dati di test: 1.4406768925836237\n",
      "Media punteggio rendimento sui dati di test: 0.7475662181776146\n",
      "Media punteggio di sufficienza sui dati di test: 0.7095252448346598\n"
     ]
    }
   ],
   "source": [
    "# Inizializza le variabili per calcolare il rendimento medio\n",
    "total_returns = []\n",
    "ideal_returns = []\n",
    "punteggi_rendimento = []\n",
    "punteggi_sufficienza = []\n",
    "\n",
    "# Testa l'agente su ciascun periodo in test_periods\n",
    "for period in test_periods:\n",
    "    # Crea un ambiente per il periodo corrente\n",
    "    test_env = TradingEnv(\n",
    "        periods=[period],  # Passa solo il periodo corrente\n",
    "        initial_cash=liquidità_iniziale, \n",
    "        initial_btc=bitcoin_iniziali, \n",
    "        L=L, \n",
    "        info_columns=info_columns, \n",
    "        portfolio_metrics=portfolio_metrics\n",
    "    )\n",
    "\n",
    "    obs, _ = test_env.reset()\n",
    "    done = False\n",
    "    lista_prezzi_test = [test_env.current_period['Price'].iloc[0]]  # Lista per registrare i prezzi durante il test\n",
    "\n",
    "    # Esegui il test su questo periodo\n",
    "    while not done:\n",
    "        action, _states = model.predict(obs, deterministic=True)\n",
    "        obs, reward, done, truncated, _ = test_env.step(action)\n",
    "        lista_prezzi_test.append(test_env.current_period['Price'].iloc[test_env.current_step])\n",
    "\n",
    "    # Calcola il rendimento finale del portafoglio dell'agente per questo periodo\n",
    "    final_value = test_env.cash + test_env.btc * test_env.current_period['Price'].iloc[test_env.current_step]\n",
    "    total_return = final_value / test_env.valore_iniziale\n",
    "    total_returns.append(total_return)\n",
    "\n",
    "    # Calcola il rendimento ideale usando la funzione `calcola_rendimento_portafoglio_ideale`\n",
    "    rendimento_ideale, valore_finale_ideale = calcola_rendimento_portafoglio_ideale(\n",
    "        capitale_iniziale=liquidità_iniziale, \n",
    "        bitcoin_iniziali=bitcoin_iniziali, \n",
    "        lista_prezzi=pd.Series(lista_prezzi_test), \n",
    "        min_acquisto=10, \n",
    "        min_vendita=10, \n",
    "        perc_commissione_acquisto=0.001, \n",
    "        perc_commissione_vendita=0.001\n",
    "    )\n",
    "    ideal_returns.append(rendimento_ideale)\n",
    "\n",
    "    # Calcola il punteggio di rendimento per questo periodo\n",
    "    punteggio_rendimento = total_return / rendimento_ideale if rendimento_ideale != 0 else 0\n",
    "    punteggi_rendimento.append(punteggio_rendimento)\n",
    "\n",
    "    # Stampa i risultati per ogni periodo\n",
    "    # print(f\"Total return on test period: {total_return}\")\n",
    "    # print(f\"Ideal return on test period: {rendimento_ideale}\")\n",
    "    # print(f\"Agent's final portfolio value: {final_value}\")\n",
    "    # print(f\"Ideal final portfolio value: {valore_finale_ideale}\")\n",
    "    # print(f'Punteggio rendimento: {punteggio_rendimento}')\n",
    "    # print(f'Punteggio di sufficienza: {punteggio_sufficienza}')\n",
    "\n",
    "# Calcola le medie finali\n",
    "avg_total_return = np.mean(total_returns)\n",
    "avg_ideal_return = np.mean(ideal_returns)\n",
    "avg_punteggio_rendimento = np.mean(punteggi_rendimento)\n",
    "\n",
    "# Stampa i risultati finali\n",
    "print(f\"Media fattore di rendimento sui dati di test: {avg_total_return}\")\n",
    "print(f\"Media fattore di rendimento ideale sui dati di test: {avg_ideal_return}\")\n",
    "print(f\"Media punteggio rendimento sui dati di test: {avg_punteggio_rendimento}\")\n",
    "print(f\"Media punteggio di sufficienza sui dati di test: {punteggio_sufficienza_medio_test}\")\n",
    "\n",
    "# Media punteggio rendimento sui dati di test: 0.7476366740370503"
   ]
  },
  {
   "cell_type": "markdown",
   "metadata": {},
   "source": [
    "# Test finale su 1 dato di test casuale con grafico"
   ]
  },
  {
   "cell_type": "code",
   "execution_count": null,
   "metadata": {},
   "outputs": [
    {
     "name": "stdout",
     "output_type": "stream",
     "text": [
      "Step: 1, Cash: 0.0, BTC: 0.42096084930495725, Total Value: 1020.4845345705362\n",
      "Step: 2, Cash: 0.0, BTC: 0.42096084930495725, Total Value: 941.1986757410314\n",
      "Step: 3, Cash: 0.0, BTC: 0.42096084930495725, Total Value: 930.7363186953173\n",
      "Step: 4, Cash: 0.0, BTC: 0.42096084930495725, Total Value: 947.0435156972868\n",
      "Step: 5, Cash: 0.0, BTC: 0.42096084930495725, Total Value: 998.6792558900347\n",
      "Step: 6, Cash: 0.0, BTC: 0.42096084930495725, Total Value: 957.5384519884183\n",
      "Step: 7, Cash: 0.0, BTC: 0.42096084930495725, Total Value: 978.3883468663956\n",
      "Step: 8, Cash: 0.0, BTC: 0.42096084930495725, Total Value: 1028.9780569018617\n",
      "Step: 9, Cash: 0.0, BTC: 0.42096084930495725, Total Value: 1013.7971562738018\n",
      "Step: 10, Cash: 0.0, BTC: 0.42096084930495725, Total Value: 1021.684416874158\n",
      "Step: 11, Cash: 0.0, BTC: 0.42096084930495725, Total Value: 1032.6180938551536\n",
      "Step: 12, Cash: 0.0, BTC: 0.42096084930495725, Total Value: 981.3841986137685\n",
      "Step: 13, Cash: 0.0, BTC: 0.42096084930495725, Total Value: 973.3371249956707\n",
      "Step: 14, Cash: 0.0, BTC: 0.42096084930495725, Total Value: 933.127964184618\n",
      "Step: 15, Cash: 0.0, BTC: 0.42096084930495725, Total Value: 947.932507725238\n",
      "Step: 16, Cash: 0.0, BTC: 0.42096084930495725, Total Value: 952.6153888528211\n",
      "Step: 17, Cash: 0.0, BTC: 0.42096084930495725, Total Value: 934.4823152764493\n",
      "Step: 18, Cash: 0.0, BTC: 0.42096084930495725, Total Value: 914.4002422991451\n",
      "Step: 19, Cash: 0.0, BTC: 0.42096084930495725, Total Value: 897.3384811966881\n",
      "Step: 20, Cash: 0.0, BTC: 0.42096084930495725, Total Value: 923.766210101601\n",
      "Step: 21, Cash: 0.0, BTC: 0.42096084930495725, Total Value: 949.1460589236249\n",
      "Step: 22, Cash: 0.0, BTC: 0.42096084930495725, Total Value: 964.1593357369348\n",
      "Step: 23, Cash: 0.0, BTC: 0.42096084930495725, Total Value: 965.3938527588712\n",
      "Step: 24, Cash: 0.0, BTC: 0.42096084930495725, Total Value: 961.5600874850375\n",
      "Step: 25, Cash: 0.0, BTC: 0.42096084930495725, Total Value: 930.0502018422998\n",
      "Step: 26, Cash: 0.0, BTC: 0.42096084930495725, Total Value: 949.5030945658333\n",
      "Step: 27, Cash: 0.0, BTC: 0.42096084930495725, Total Value: 929.724306614481\n",
      "Step: 28, Cash: 0.0, BTC: 0.42096084930495725, Total Value: 876.4851947884307\n",
      "Step: 29, Cash: 0.0, BTC: 0.42096084930495725, Total Value: 857.8434944436971\n",
      "Fattore di rendimento: 0.8578434944436971\n",
      "Fattore di rendimento ideale: 1.3251828327813733\n",
      "Valore finale del portafoglio: 857.8434944436971\n",
      "Valore finale ideale del portafoglio: 1325.1828327813732\n",
      "Punteggio rendimento: 0.6473397279401845\n",
      "Punteggio considerato sufficiente: 0.7441166702479346\n"
     ]
    }
   ],
   "source": [
    "# Test finale su test_periods\n",
    "test_env = TradingEnv(\n",
    "    periods=test_periods, \n",
    "    initial_cash=liquidità_iniziale, \n",
    "    initial_btc=bitcoin_iniziali, \n",
    "    L=L, \n",
    "    info_columns=info_columns, \n",
    "    portfolio_metrics=portfolio_metrics\n",
    ")\n",
    "\n",
    "obs, _ = test_env.reset()\n",
    "done = False\n",
    "lista_prezzi_test = [test_env.current_period['Price'].iloc[0]]  # Lista per registrare i prezzi durante il test\n",
    "\n",
    "while not done:\n",
    "    action, _states = model.predict(obs, deterministic=True)\n",
    "    obs, reward, done, truncated, _ = test_env.step(action)\n",
    "    lista_prezzi_test.append(test_env.current_period['Price'].iloc[test_env.current_step])\n",
    "    test_env.render()\n",
    "\n",
    "# Calcola il rendimento finale del portafoglio dell'agente\n",
    "final_value = test_env.cash + test_env.btc * test_env.current_period['Price'].iloc[test_env.current_step]\n",
    "total_return = final_value / test_env.valore_iniziale  # Rendimento complessivo dell'agente\n",
    "\n",
    "# Calcola il rendimento ideale usando la funzione `calcola_rendimento_portafoglio_ideale`\n",
    "rendimento_ideale, valore_finale_ideale = calcola_rendimento_portafoglio_ideale(\n",
    "    capitale_iniziale=liquidità_iniziale, \n",
    "    bitcoin_iniziali=bitcoin_iniziali, \n",
    "    lista_prezzi=pd.Series(lista_prezzi_test), \n",
    "    min_acquisto=10, \n",
    "    min_vendita=10, \n",
    "    perc_commissione_acquisto=0.001, \n",
    "    perc_commissione_vendita=0.001\n",
    ")\n",
    "\n",
    "# Stampa i risultati finali\n",
    "print(f\"Fattore di rendimento: {total_return}\")\n",
    "print(f\"Fattore di rendimento ideale: {rendimento_ideale}\")\n",
    "print(f\"Valore finale del portafoglio: {final_value}\")\n",
    "print(f\"Valore finale ideale del portafoglio: {valore_finale_ideale}\")\n",
    "print(f'Punteggio rendimento: {total_return / rendimento_ideale}')\n",
    "print(f'Punteggio considerato sufficiente: {calcola_punteggio_sufficienza_medio([pd.DataFrame({\"Price\": lista_prezzi_test})])}')\n",
    "\n",
    "# 0.6473397279401845"
   ]
  },
  {
   "cell_type": "code",
   "execution_count": null,
   "metadata": {},
   "outputs": [
    {
     "data": {
      "application/vnd.plotly.v1+json": {
       "config": {
        "plotlyServerURL": "https://plot.ly"
       },
       "data": [
        {
         "line": {
          "color": "blue",
          "width": 2
         },
         "mode": "lines",
         "name": "Prezzo BTC",
         "type": "scatter",
         "x": [
          "2017-06-12T00:00:00",
          "2017-06-13T00:00:00",
          "2017-06-14T00:00:00",
          "2017-06-15T00:00:00",
          "2017-06-16T00:00:00",
          "2017-06-17T00:00:00",
          "2017-06-18T00:00:00",
          "2017-06-19T00:00:00",
          "2017-06-20T00:00:00",
          "2017-06-21T00:00:00",
          "2017-06-22T00:00:00",
          "2017-06-23T00:00:00",
          "2017-06-24T00:00:00",
          "2017-06-25T00:00:00",
          "2017-06-26T00:00:00",
          "2017-06-27T00:00:00",
          "2017-06-28T00:00:00",
          "2017-06-29T00:00:00",
          "2017-06-30T00:00:00",
          "2017-07-01T00:00:00",
          "2017-07-02T00:00:00",
          "2017-07-03T00:00:00",
          "2017-07-04T00:00:00",
          "2017-07-05T00:00:00",
          "2017-07-06T00:00:00",
          "2017-07-07T00:00:00",
          "2017-07-08T00:00:00",
          "2017-07-09T00:00:00",
          "2017-07-10T00:00:00",
          "2017-07-11T00:00:00"
         ],
         "y": [
          2375.517822265625,
          2424.17919921875,
          2235.834228515625,
          2210.980712890625,
          2249.71875,
          2372.38037109375,
          2274.649658203125,
          2324.178955078125,
          2444.355712890625,
          2408.293212890625,
          2427.029541015625,
          2453.002685546875,
          2331.295654296875,
          2312.1796875,
          2216.662109375,
          2251.83056640625,
          2262.954833984375,
          2219.87939453125,
          2172.174072265625,
          2131.6435546875,
          2194.423095703125,
          2254.71337890625,
          2290.377685546875,
          2293.310302734375,
          2284.203125,
          2209.350830078125,
          2255.5615234375,
          2208.57666015625,
          2082.106201171875,
          2037.822509765625
         ]
        }
       ],
       "layout": {
        "height": 600,
        "hovermode": "x unified",
        "template": {
         "data": {
          "bar": [
           {
            "error_x": {
             "color": "#2a3f5f"
            },
            "error_y": {
             "color": "#2a3f5f"
            },
            "marker": {
             "line": {
              "color": "white",
              "width": 0.5
             },
             "pattern": {
              "fillmode": "overlay",
              "size": 10,
              "solidity": 0.2
             }
            },
            "type": "bar"
           }
          ],
          "barpolar": [
           {
            "marker": {
             "line": {
              "color": "white",
              "width": 0.5
             },
             "pattern": {
              "fillmode": "overlay",
              "size": 10,
              "solidity": 0.2
             }
            },
            "type": "barpolar"
           }
          ],
          "carpet": [
           {
            "aaxis": {
             "endlinecolor": "#2a3f5f",
             "gridcolor": "#C8D4E3",
             "linecolor": "#C8D4E3",
             "minorgridcolor": "#C8D4E3",
             "startlinecolor": "#2a3f5f"
            },
            "baxis": {
             "endlinecolor": "#2a3f5f",
             "gridcolor": "#C8D4E3",
             "linecolor": "#C8D4E3",
             "minorgridcolor": "#C8D4E3",
             "startlinecolor": "#2a3f5f"
            },
            "type": "carpet"
           }
          ],
          "choropleth": [
           {
            "colorbar": {
             "outlinewidth": 0,
             "ticks": ""
            },
            "type": "choropleth"
           }
          ],
          "contour": [
           {
            "colorbar": {
             "outlinewidth": 0,
             "ticks": ""
            },
            "colorscale": [
             [
              0,
              "#0d0887"
             ],
             [
              0.1111111111111111,
              "#46039f"
             ],
             [
              0.2222222222222222,
              "#7201a8"
             ],
             [
              0.3333333333333333,
              "#9c179e"
             ],
             [
              0.4444444444444444,
              "#bd3786"
             ],
             [
              0.5555555555555556,
              "#d8576b"
             ],
             [
              0.6666666666666666,
              "#ed7953"
             ],
             [
              0.7777777777777778,
              "#fb9f3a"
             ],
             [
              0.8888888888888888,
              "#fdca26"
             ],
             [
              1,
              "#f0f921"
             ]
            ],
            "type": "contour"
           }
          ],
          "contourcarpet": [
           {
            "colorbar": {
             "outlinewidth": 0,
             "ticks": ""
            },
            "type": "contourcarpet"
           }
          ],
          "heatmap": [
           {
            "colorbar": {
             "outlinewidth": 0,
             "ticks": ""
            },
            "colorscale": [
             [
              0,
              "#0d0887"
             ],
             [
              0.1111111111111111,
              "#46039f"
             ],
             [
              0.2222222222222222,
              "#7201a8"
             ],
             [
              0.3333333333333333,
              "#9c179e"
             ],
             [
              0.4444444444444444,
              "#bd3786"
             ],
             [
              0.5555555555555556,
              "#d8576b"
             ],
             [
              0.6666666666666666,
              "#ed7953"
             ],
             [
              0.7777777777777778,
              "#fb9f3a"
             ],
             [
              0.8888888888888888,
              "#fdca26"
             ],
             [
              1,
              "#f0f921"
             ]
            ],
            "type": "heatmap"
           }
          ],
          "heatmapgl": [
           {
            "colorbar": {
             "outlinewidth": 0,
             "ticks": ""
            },
            "colorscale": [
             [
              0,
              "#0d0887"
             ],
             [
              0.1111111111111111,
              "#46039f"
             ],
             [
              0.2222222222222222,
              "#7201a8"
             ],
             [
              0.3333333333333333,
              "#9c179e"
             ],
             [
              0.4444444444444444,
              "#bd3786"
             ],
             [
              0.5555555555555556,
              "#d8576b"
             ],
             [
              0.6666666666666666,
              "#ed7953"
             ],
             [
              0.7777777777777778,
              "#fb9f3a"
             ],
             [
              0.8888888888888888,
              "#fdca26"
             ],
             [
              1,
              "#f0f921"
             ]
            ],
            "type": "heatmapgl"
           }
          ],
          "histogram": [
           {
            "marker": {
             "pattern": {
              "fillmode": "overlay",
              "size": 10,
              "solidity": 0.2
             }
            },
            "type": "histogram"
           }
          ],
          "histogram2d": [
           {
            "colorbar": {
             "outlinewidth": 0,
             "ticks": ""
            },
            "colorscale": [
             [
              0,
              "#0d0887"
             ],
             [
              0.1111111111111111,
              "#46039f"
             ],
             [
              0.2222222222222222,
              "#7201a8"
             ],
             [
              0.3333333333333333,
              "#9c179e"
             ],
             [
              0.4444444444444444,
              "#bd3786"
             ],
             [
              0.5555555555555556,
              "#d8576b"
             ],
             [
              0.6666666666666666,
              "#ed7953"
             ],
             [
              0.7777777777777778,
              "#fb9f3a"
             ],
             [
              0.8888888888888888,
              "#fdca26"
             ],
             [
              1,
              "#f0f921"
             ]
            ],
            "type": "histogram2d"
           }
          ],
          "histogram2dcontour": [
           {
            "colorbar": {
             "outlinewidth": 0,
             "ticks": ""
            },
            "colorscale": [
             [
              0,
              "#0d0887"
             ],
             [
              0.1111111111111111,
              "#46039f"
             ],
             [
              0.2222222222222222,
              "#7201a8"
             ],
             [
              0.3333333333333333,
              "#9c179e"
             ],
             [
              0.4444444444444444,
              "#bd3786"
             ],
             [
              0.5555555555555556,
              "#d8576b"
             ],
             [
              0.6666666666666666,
              "#ed7953"
             ],
             [
              0.7777777777777778,
              "#fb9f3a"
             ],
             [
              0.8888888888888888,
              "#fdca26"
             ],
             [
              1,
              "#f0f921"
             ]
            ],
            "type": "histogram2dcontour"
           }
          ],
          "mesh3d": [
           {
            "colorbar": {
             "outlinewidth": 0,
             "ticks": ""
            },
            "type": "mesh3d"
           }
          ],
          "parcoords": [
           {
            "line": {
             "colorbar": {
              "outlinewidth": 0,
              "ticks": ""
             }
            },
            "type": "parcoords"
           }
          ],
          "pie": [
           {
            "automargin": true,
            "type": "pie"
           }
          ],
          "scatter": [
           {
            "fillpattern": {
             "fillmode": "overlay",
             "size": 10,
             "solidity": 0.2
            },
            "type": "scatter"
           }
          ],
          "scatter3d": [
           {
            "line": {
             "colorbar": {
              "outlinewidth": 0,
              "ticks": ""
             }
            },
            "marker": {
             "colorbar": {
              "outlinewidth": 0,
              "ticks": ""
             }
            },
            "type": "scatter3d"
           }
          ],
          "scattercarpet": [
           {
            "marker": {
             "colorbar": {
              "outlinewidth": 0,
              "ticks": ""
             }
            },
            "type": "scattercarpet"
           }
          ],
          "scattergeo": [
           {
            "marker": {
             "colorbar": {
              "outlinewidth": 0,
              "ticks": ""
             }
            },
            "type": "scattergeo"
           }
          ],
          "scattergl": [
           {
            "marker": {
             "colorbar": {
              "outlinewidth": 0,
              "ticks": ""
             }
            },
            "type": "scattergl"
           }
          ],
          "scattermapbox": [
           {
            "marker": {
             "colorbar": {
              "outlinewidth": 0,
              "ticks": ""
             }
            },
            "type": "scattermapbox"
           }
          ],
          "scatterpolar": [
           {
            "marker": {
             "colorbar": {
              "outlinewidth": 0,
              "ticks": ""
             }
            },
            "type": "scatterpolar"
           }
          ],
          "scatterpolargl": [
           {
            "marker": {
             "colorbar": {
              "outlinewidth": 0,
              "ticks": ""
             }
            },
            "type": "scatterpolargl"
           }
          ],
          "scatterternary": [
           {
            "marker": {
             "colorbar": {
              "outlinewidth": 0,
              "ticks": ""
             }
            },
            "type": "scatterternary"
           }
          ],
          "surface": [
           {
            "colorbar": {
             "outlinewidth": 0,
             "ticks": ""
            },
            "colorscale": [
             [
              0,
              "#0d0887"
             ],
             [
              0.1111111111111111,
              "#46039f"
             ],
             [
              0.2222222222222222,
              "#7201a8"
             ],
             [
              0.3333333333333333,
              "#9c179e"
             ],
             [
              0.4444444444444444,
              "#bd3786"
             ],
             [
              0.5555555555555556,
              "#d8576b"
             ],
             [
              0.6666666666666666,
              "#ed7953"
             ],
             [
              0.7777777777777778,
              "#fb9f3a"
             ],
             [
              0.8888888888888888,
              "#fdca26"
             ],
             [
              1,
              "#f0f921"
             ]
            ],
            "type": "surface"
           }
          ],
          "table": [
           {
            "cells": {
             "fill": {
              "color": "#EBF0F8"
             },
             "line": {
              "color": "white"
             }
            },
            "header": {
             "fill": {
              "color": "#C8D4E3"
             },
             "line": {
              "color": "white"
             }
            },
            "type": "table"
           }
          ]
         },
         "layout": {
          "annotationdefaults": {
           "arrowcolor": "#2a3f5f",
           "arrowhead": 0,
           "arrowwidth": 1
          },
          "autotypenumbers": "strict",
          "coloraxis": {
           "colorbar": {
            "outlinewidth": 0,
            "ticks": ""
           }
          },
          "colorscale": {
           "diverging": [
            [
             0,
             "#8e0152"
            ],
            [
             0.1,
             "#c51b7d"
            ],
            [
             0.2,
             "#de77ae"
            ],
            [
             0.3,
             "#f1b6da"
            ],
            [
             0.4,
             "#fde0ef"
            ],
            [
             0.5,
             "#f7f7f7"
            ],
            [
             0.6,
             "#e6f5d0"
            ],
            [
             0.7,
             "#b8e186"
            ],
            [
             0.8,
             "#7fbc41"
            ],
            [
             0.9,
             "#4d9221"
            ],
            [
             1,
             "#276419"
            ]
           ],
           "sequential": [
            [
             0,
             "#0d0887"
            ],
            [
             0.1111111111111111,
             "#46039f"
            ],
            [
             0.2222222222222222,
             "#7201a8"
            ],
            [
             0.3333333333333333,
             "#9c179e"
            ],
            [
             0.4444444444444444,
             "#bd3786"
            ],
            [
             0.5555555555555556,
             "#d8576b"
            ],
            [
             0.6666666666666666,
             "#ed7953"
            ],
            [
             0.7777777777777778,
             "#fb9f3a"
            ],
            [
             0.8888888888888888,
             "#fdca26"
            ],
            [
             1,
             "#f0f921"
            ]
           ],
           "sequentialminus": [
            [
             0,
             "#0d0887"
            ],
            [
             0.1111111111111111,
             "#46039f"
            ],
            [
             0.2222222222222222,
             "#7201a8"
            ],
            [
             0.3333333333333333,
             "#9c179e"
            ],
            [
             0.4444444444444444,
             "#bd3786"
            ],
            [
             0.5555555555555556,
             "#d8576b"
            ],
            [
             0.6666666666666666,
             "#ed7953"
            ],
            [
             0.7777777777777778,
             "#fb9f3a"
            ],
            [
             0.8888888888888888,
             "#fdca26"
            ],
            [
             1,
             "#f0f921"
            ]
           ]
          },
          "colorway": [
           "#636efa",
           "#EF553B",
           "#00cc96",
           "#ab63fa",
           "#FFA15A",
           "#19d3f3",
           "#FF6692",
           "#B6E880",
           "#FF97FF",
           "#FECB52"
          ],
          "font": {
           "color": "#2a3f5f"
          },
          "geo": {
           "bgcolor": "white",
           "lakecolor": "white",
           "landcolor": "white",
           "showlakes": true,
           "showland": true,
           "subunitcolor": "#C8D4E3"
          },
          "hoverlabel": {
           "align": "left"
          },
          "hovermode": "closest",
          "mapbox": {
           "style": "light"
          },
          "paper_bgcolor": "white",
          "plot_bgcolor": "white",
          "polar": {
           "angularaxis": {
            "gridcolor": "#EBF0F8",
            "linecolor": "#EBF0F8",
            "ticks": ""
           },
           "bgcolor": "white",
           "radialaxis": {
            "gridcolor": "#EBF0F8",
            "linecolor": "#EBF0F8",
            "ticks": ""
           }
          },
          "scene": {
           "xaxis": {
            "backgroundcolor": "white",
            "gridcolor": "#DFE8F3",
            "gridwidth": 2,
            "linecolor": "#EBF0F8",
            "showbackground": true,
            "ticks": "",
            "zerolinecolor": "#EBF0F8"
           },
           "yaxis": {
            "backgroundcolor": "white",
            "gridcolor": "#DFE8F3",
            "gridwidth": 2,
            "linecolor": "#EBF0F8",
            "showbackground": true,
            "ticks": "",
            "zerolinecolor": "#EBF0F8"
           },
           "zaxis": {
            "backgroundcolor": "white",
            "gridcolor": "#DFE8F3",
            "gridwidth": 2,
            "linecolor": "#EBF0F8",
            "showbackground": true,
            "ticks": "",
            "zerolinecolor": "#EBF0F8"
           }
          },
          "shapedefaults": {
           "line": {
            "color": "#2a3f5f"
           }
          },
          "ternary": {
           "aaxis": {
            "gridcolor": "#DFE8F3",
            "linecolor": "#A2B1C6",
            "ticks": ""
           },
           "baxis": {
            "gridcolor": "#DFE8F3",
            "linecolor": "#A2B1C6",
            "ticks": ""
           },
           "bgcolor": "white",
           "caxis": {
            "gridcolor": "#DFE8F3",
            "linecolor": "#A2B1C6",
            "ticks": ""
           }
          },
          "title": {
           "x": 0.05
          },
          "xaxis": {
           "automargin": true,
           "gridcolor": "#EBF0F8",
           "linecolor": "#EBF0F8",
           "ticks": "",
           "title": {
            "standoff": 15
           },
           "zerolinecolor": "#EBF0F8",
           "zerolinewidth": 2
          },
          "yaxis": {
           "automargin": true,
           "gridcolor": "#EBF0F8",
           "linecolor": "#EBF0F8",
           "ticks": "",
           "title": {
            "standoff": 15
           },
           "zerolinecolor": "#EBF0F8",
           "zerolinewidth": 2
          }
         }
        },
        "title": {
         "text": "Andamento dei Prezzi di BTC durante il periodo di test"
        },
        "width": 1000,
        "xaxis": {
         "title": {
          "text": "Data"
         }
        },
        "yaxis": {
         "title": {
          "text": "Prezzo (€)"
         }
        }
       }
      }
     },
     "metadata": {},
     "output_type": "display_data"
    }
   ],
   "source": [
    "# Estrai i prezzi e le date dal periodo di test\n",
    "test_dates = test_env.current_period['Timestamp']  # Assicurati che ci sia una colonna 'Timestamp' nei dati\n",
    "test_prices = test_env.current_period['Price']\n",
    "\n",
    "# Crea la figura dell'andamento dei prezzi\n",
    "fig = go.Figure()\n",
    "\n",
    "# Aggiungi una linea per l'andamento dei prezzi di test\n",
    "fig.add_trace(go.Scatter(\n",
    "    x=test_dates, \n",
    "    y=test_prices, \n",
    "    mode='lines',\n",
    "    name='Prezzo BTC',\n",
    "    line=dict(color='blue', width=2)\n",
    "))\n",
    "\n",
    "# Configurazione del layout del grafico\n",
    "fig.update_layout(\n",
    "    title=\"Andamento dei Prezzi di BTC durante il periodo di test\",\n",
    "    xaxis_title=\"Data\",\n",
    "    yaxis_title=\"Prezzo (€)\",\n",
    "    template=\"plotly_white\",\n",
    "    hovermode=\"x unified\",\n",
    "    width=1000,\n",
    "    height=600\n",
    ")\n",
    "\n",
    "# Mostra il grafico\n",
    "fig.show()"
   ]
  },
  {
   "cell_type": "markdown",
   "metadata": {},
   "source": [
    "# Funzione per sapere cosa fare oggi in base al passato"
   ]
  },
  {
   "cell_type": "code",
   "execution_count": null,
   "metadata": {},
   "outputs": [
    {
     "name": "stdout",
     "output_type": "stream",
     "text": [
      "Azione consigliata per oggi: 1.0\n"
     ]
    }
   ],
   "source": [
    "def get_trading_action(model, new_data):\n",
    "    new_env = TradingEnv(periods=[new_data], initial_cash=liquidità_iniziale, initial_btc=bitcoin_iniziali, \n",
    "                                    L=L, info_columns=info_columns, portfolio_metrics=portfolio_metrics)\n",
    "    obs, _ = new_env.reset()\n",
    "    action, _states = model.predict(obs, deterministic=True)\n",
    "    return action[0]\n",
    "\n",
    "# Esempio di utilizzo su nuovi dati\n",
    "new_data = dati.iloc[-L:]\n",
    "\n",
    "action_today = get_trading_action(model, new_data)\n",
    "print(\"Azione consigliata per oggi:\", action_today)"
   ]
  },
  {
   "cell_type": "code",
   "execution_count": null,
   "metadata": {},
   "outputs": [
    {
     "data": {
      "image/png": "[encoded data removed]",
      "text/plain": [
       "<Figure size 640x480 with 1 Axes>"
      ]
     },
     "metadata": {},
     "output_type": "display_data"
    }
   ],
   "source": [
    "plt.grid()\n",
    "plt.plot(new_data['Timestamp'], new_data['Price']);"
   ]
  },
  {
   "cell_type": "markdown",
   "metadata": {},
   "source": [
    "# Funzione per testare l'agente su più giorni (simulazione classica)"
   ]
  },
  {
   "cell_type": "code",
   "execution_count": null,
   "metadata": {},
   "outputs": [],
   "source": [
    "# Funzione per simulare il trading su dati di test\n",
    "def simulate_trading_on_test_data(model, dati_test_custom, L=30, initial_cash=1000, initial_btc=0):\n",
    "    # Inizializza le variabili di portafoglio\n",
    "    cash = initial_cash\n",
    "    btc = initial_btc\n",
    "    \n",
    "    # Lista per accumulare i dati del log\n",
    "    log_data = []\n",
    "    \n",
    "    # Ciclo su ogni giorno da L in poi per simulare le operazioni di trading\n",
    "    for i in range(L, len(dati_test_custom)):\n",
    "        # Crea la finestra dei dati passati di lunghezza L\n",
    "        historical_data = dati_test_custom.iloc[i-L:i]\n",
    "        \n",
    "        # Estrarre il prezzo del giorno corrente\n",
    "        current_price = dati_test_custom.iloc[i]['Price']\n",
    "        current_timestamp = dati_test_custom.iloc[i]['Timestamp']\n",
    "        \n",
    "        # Usa il modello per prevedere l'azione da compiere oggi\n",
    "        action = get_trading_action(model, historical_data)\n",
    "        \n",
    "        # Determina l'azione (acquisto, vendita o nulla)\n",
    "        if action > 0:  # Acquisto\n",
    "            cash_spent = action * cash\n",
    "            btc_bought = cash_spent / current_price\n",
    "            cash -= cash_spent\n",
    "            btc += btc_bought\n",
    "            action_type = 'Acquisto'\n",
    "        elif action < 0:  # Vendita\n",
    "            btc_sold = -action * btc\n",
    "            cash_earned = btc_sold * current_price\n",
    "            btc -= btc_sold\n",
    "            cash += cash_earned\n",
    "            action_type = 'Vendita'\n",
    "        else:\n",
    "            # Nessuna azione\n",
    "            action_type = '-'\n",
    "            cash_spent = 0\n",
    "            btc_bought = 0\n",
    "            cash_earned = 0\n",
    "            btc_sold = 0\n",
    "\n",
    "        # Calcola il valore totale del portafoglio alla fine della giornata\n",
    "        total_value = cash + btc * current_price\n",
    "        \n",
    "        # Aggiungi una nuova riga al log\n",
    "        log_data.append({\n",
    "            'Timestamp': current_timestamp,\n",
    "            'prezzo': current_price,\n",
    "            'Azione': action_type,\n",
    "            'Percentuale': action,\n",
    "            'Liquidità spesa/guadagnata': cash_spent if action_type == 'Acquisto' else cash_earned if action_type == 'Vendita' else '-',\n",
    "            'Bitcoin spesi/guadagnati': btc_bought if action_type == 'Acquisto' else btc_sold if action_type == 'Vendita' else '-',\n",
    "            'Liquidità posseduta': cash,\n",
    "            'bitcoin': btc,\n",
    "            'valore_totale_portafoglio': total_value\n",
    "        })\n",
    "        \n",
    "    # Converti i dati del log in un DataFrame\n",
    "    log_df = pd.DataFrame(log_data)\n",
    "    \n",
    "    return log_df"
   ]
  },
  {
   "cell_type": "code",
   "execution_count": null,
   "metadata": {},
   "outputs": [
    {
     "data": {
      "text/html": [
       "<div>\n",
       "<style scoped>\n",
       "    .dataframe tbody tr th:only-of-type {\n",
       "        vertical-align: middle;\n",
       "    }\n",
       "\n",
       "    .dataframe tbody tr th {\n",
       "        vertical-align: top;\n",
       "    }\n",
       "\n",
       "    .dataframe thead th {\n",
       "        text-align: right;\n",
       "    }\n",
       "</style>\n",
       "<table border=\"1\" class=\"dataframe\">\n",
       "  <thead>\n",
       "    <tr style=\"text-align: right;\">\n",
       "      <th></th>\n",
       "      <th>Timestamp</th>\n",
       "      <th>Price</th>\n",
       "      <th>Open</th>\n",
       "      <th>High</th>\n",
       "      <th>Low</th>\n",
       "      <th>Volume</th>\n",
       "    </tr>\n",
       "  </thead>\n",
       "  <tbody>\n",
       "    <tr>\n",
       "      <th>0</th>\n",
       "      <td>2014-09-17</td>\n",
       "      <td>355.957367</td>\n",
       "      <td>359.546204</td>\n",
       "      <td>361.468506</td>\n",
       "      <td>351.586884</td>\n",
       "      <td>16389166</td>\n",
       "    </tr>\n",
       "    <tr>\n",
       "      <th>1</th>\n",
       "      <td>2014-09-18</td>\n",
       "      <td>328.539368</td>\n",
       "      <td>355.588409</td>\n",
       "      <td>355.505402</td>\n",
       "      <td>319.789459</td>\n",
       "      <td>26691849</td>\n",
       "    </tr>\n",
       "    <tr>\n",
       "      <th>2</th>\n",
       "      <td>2014-09-19</td>\n",
       "      <td>307.761139</td>\n",
       "      <td>328.278503</td>\n",
       "      <td>330.936707</td>\n",
       "      <td>298.921021</td>\n",
       "      <td>29560103</td>\n",
       "    </tr>\n",
       "    <tr>\n",
       "      <th>3</th>\n",
       "      <td>2014-09-20</td>\n",
       "      <td>318.758972</td>\n",
       "      <td>307.665253</td>\n",
       "      <td>329.978180</td>\n",
       "      <td>303.931244</td>\n",
       "      <td>28736826</td>\n",
       "    </tr>\n",
       "    <tr>\n",
       "      <th>4</th>\n",
       "      <td>2014-09-21</td>\n",
       "      <td>310.632446</td>\n",
       "      <td>318.120514</td>\n",
       "      <td>321.504517</td>\n",
       "      <td>306.502197</td>\n",
       "      <td>20702625</td>\n",
       "    </tr>\n",
       "    <tr>\n",
       "      <th>...</th>\n",
       "      <td>...</td>\n",
       "      <td>...</td>\n",
       "      <td>...</td>\n",
       "      <td>...</td>\n",
       "      <td>...</td>\n",
       "      <td>...</td>\n",
       "    </tr>\n",
       "    <tr>\n",
       "      <th>3388</th>\n",
       "      <td>2023-12-27</td>\n",
       "      <td>38504.562500</td>\n",
       "      <td>39568.429688</td>\n",
       "      <td>39571.453125</td>\n",
       "      <td>37778.320312</td>\n",
       "      <td>27190965041</td>\n",
       "    </tr>\n",
       "    <tr>\n",
       "      <th>3389</th>\n",
       "      <td>2023-12-28</td>\n",
       "      <td>39108.300781</td>\n",
       "      <td>38502.812500</td>\n",
       "      <td>39345.335938</td>\n",
       "      <td>38217.789062</td>\n",
       "      <td>22740505379</td>\n",
       "    </tr>\n",
       "    <tr>\n",
       "      <th>3390</th>\n",
       "      <td>2023-12-29</td>\n",
       "      <td>38515.289062</td>\n",
       "      <td>39131.113281</td>\n",
       "      <td>39415.761719</td>\n",
       "      <td>38211.789062</td>\n",
       "      <td>20773907848</td>\n",
       "    </tr>\n",
       "    <tr>\n",
       "      <th>3391</th>\n",
       "      <td>2023-12-30</td>\n",
       "      <td>38080.046875</td>\n",
       "      <td>38503.351562</td>\n",
       "      <td>38997.976562</td>\n",
       "      <td>37469.179688</td>\n",
       "      <td>23517721045</td>\n",
       "    </tr>\n",
       "    <tr>\n",
       "      <th>3392</th>\n",
       "      <td>2023-12-31</td>\n",
       "      <td>38132.054688</td>\n",
       "      <td>38073.125000</td>\n",
       "      <td>38518.488281</td>\n",
       "      <td>37588.726562</td>\n",
       "      <td>14485028393</td>\n",
       "    </tr>\n",
       "  </tbody>\n",
       "</table>\n",
       "<p>3393 rows × 6 columns</p>\n",
       "</div>"
      ],
      "text/plain": [
       "      Timestamp         Price          Open          High           Low  \\\n",
       "0    2014-09-17    355.957367    359.546204    361.468506    351.586884   \n",
       "1    2014-09-18    328.539368    355.588409    355.505402    319.789459   \n",
       "2    2014-09-19    307.761139    328.278503    330.936707    298.921021   \n",
       "3    2014-09-20    318.758972    307.665253    329.978180    303.931244   \n",
       "4    2014-09-21    310.632446    318.120514    321.504517    306.502197   \n",
       "...         ...           ...           ...           ...           ...   \n",
       "3388 2023-12-27  38504.562500  39568.429688  39571.453125  37778.320312   \n",
       "3389 2023-12-28  39108.300781  38502.812500  39345.335938  38217.789062   \n",
       "3390 2023-12-29  38515.289062  39131.113281  39415.761719  38211.789062   \n",
       "3391 2023-12-30  38080.046875  38503.351562  38997.976562  37469.179688   \n",
       "3392 2023-12-31  38132.054688  38073.125000  38518.488281  37588.726562   \n",
       "\n",
       "           Volume  \n",
       "0        16389166  \n",
       "1        26691849  \n",
       "2        29560103  \n",
       "3        28736826  \n",
       "4        20702625  \n",
       "...           ...  \n",
       "3388  27190965041  \n",
       "3389  22740505379  \n",
       "3390  20773907848  \n",
       "3391  23517721045  \n",
       "3392  14485028393  \n",
       "\n",
       "[3393 rows x 6 columns]"
      ]
     },
     "execution_count": 60,
     "metadata": {},
     "output_type": "execute_result"
    }
   ],
   "source": [
    "dati"
   ]
  },
  {
   "cell_type": "code",
   "execution_count": null,
   "metadata": {},
   "outputs": [
    {
     "data": {
      "text/html": [
       "<div>\n",
       "<style scoped>\n",
       "    .dataframe tbody tr th:only-of-type {\n",
       "        vertical-align: middle;\n",
       "    }\n",
       "\n",
       "    .dataframe tbody tr th {\n",
       "        vertical-align: top;\n",
       "    }\n",
       "\n",
       "    .dataframe thead th {\n",
       "        text-align: right;\n",
       "    }\n",
       "</style>\n",
       "<table border=\"1\" class=\"dataframe\">\n",
       "  <thead>\n",
       "    <tr style=\"text-align: right;\">\n",
       "      <th></th>\n",
       "      <th>Timestamp</th>\n",
       "      <th>prezzo</th>\n",
       "      <th>Azione</th>\n",
       "      <th>Percentuale</th>\n",
       "      <th>Liquidità spesa/guadagnata</th>\n",
       "      <th>Bitcoin spesi/guadagnati</th>\n",
       "      <th>Liquidità posseduta</th>\n",
       "      <th>bitcoin</th>\n",
       "      <th>valore_totale_portafoglio</th>\n",
       "    </tr>\n",
       "  </thead>\n",
       "  <tbody>\n",
       "    <tr>\n",
       "      <th>0</th>\n",
       "      <td>2024-03-18</td>\n",
       "      <td>62838.261719</td>\n",
       "      <td>Acquisto</td>\n",
       "      <td>1.0</td>\n",
       "      <td>1000.0</td>\n",
       "      <td>0.015914</td>\n",
       "      <td>0.0</td>\n",
       "      <td>0.015914</td>\n",
       "      <td>1000.000000</td>\n",
       "    </tr>\n",
       "    <tr>\n",
       "      <th>1</th>\n",
       "      <td>2024-03-19</td>\n",
       "      <td>62122.750000</td>\n",
       "      <td>Acquisto</td>\n",
       "      <td>1.0</td>\n",
       "      <td>0.0</td>\n",
       "      <td>0.000000</td>\n",
       "      <td>0.0</td>\n",
       "      <td>0.015914</td>\n",
       "      <td>988.613439</td>\n",
       "    </tr>\n",
       "    <tr>\n",
       "      <th>2</th>\n",
       "      <td>2024-03-20</td>\n",
       "      <td>56999.375000</td>\n",
       "      <td>Acquisto</td>\n",
       "      <td>1.0</td>\n",
       "      <td>0.0</td>\n",
       "      <td>0.000000</td>\n",
       "      <td>0.0</td>\n",
       "      <td>0.015914</td>\n",
       "      <td>907.080709</td>\n",
       "    </tr>\n",
       "    <tr>\n",
       "      <th>3</th>\n",
       "      <td>2024-03-21</td>\n",
       "      <td>62092.179688</td>\n",
       "      <td>Acquisto</td>\n",
       "      <td>1.0</td>\n",
       "      <td>0.0</td>\n",
       "      <td>0.000000</td>\n",
       "      <td>0.0</td>\n",
       "      <td>0.015914</td>\n",
       "      <td>988.126947</td>\n",
       "    </tr>\n",
       "    <tr>\n",
       "      <th>4</th>\n",
       "      <td>2024-03-22</td>\n",
       "      <td>60291.375000</td>\n",
       "      <td>Acquisto</td>\n",
       "      <td>1.0</td>\n",
       "      <td>0.0</td>\n",
       "      <td>0.000000</td>\n",
       "      <td>0.0</td>\n",
       "      <td>0.015914</td>\n",
       "      <td>959.469173</td>\n",
       "    </tr>\n",
       "    <tr>\n",
       "      <th>5</th>\n",
       "      <td>2024-03-23</td>\n",
       "      <td>58737.050781</td>\n",
       "      <td>Acquisto</td>\n",
       "      <td>1.0</td>\n",
       "      <td>0.0</td>\n",
       "      <td>0.000000</td>\n",
       "      <td>0.0</td>\n",
       "      <td>0.015914</td>\n",
       "      <td>934.733858</td>\n",
       "    </tr>\n",
       "    <tr>\n",
       "      <th>6</th>\n",
       "      <td>2024-03-24</td>\n",
       "      <td>58998.085938</td>\n",
       "      <td>Acquisto</td>\n",
       "      <td>1.0</td>\n",
       "      <td>0.0</td>\n",
       "      <td>0.000000</td>\n",
       "      <td>0.0</td>\n",
       "      <td>0.015914</td>\n",
       "      <td>938.887937</td>\n",
       "    </tr>\n",
       "    <tr>\n",
       "      <th>7</th>\n",
       "      <td>2024-03-25</td>\n",
       "      <td>62211.914062</td>\n",
       "      <td>Acquisto</td>\n",
       "      <td>1.0</td>\n",
       "      <td>0.0</td>\n",
       "      <td>0.000000</td>\n",
       "      <td>0.0</td>\n",
       "      <td>0.015914</td>\n",
       "      <td>990.032384</td>\n",
       "    </tr>\n",
       "    <tr>\n",
       "      <th>8</th>\n",
       "      <td>2024-03-26</td>\n",
       "      <td>64555.195312</td>\n",
       "      <td>Acquisto</td>\n",
       "      <td>1.0</td>\n",
       "      <td>0.0</td>\n",
       "      <td>0.000000</td>\n",
       "      <td>0.0</td>\n",
       "      <td>0.015914</td>\n",
       "      <td>1027.323060</td>\n",
       "    </tr>\n",
       "    <tr>\n",
       "      <th>9</th>\n",
       "      <td>2024-03-27</td>\n",
       "      <td>64607.664062</td>\n",
       "      <td>Acquisto</td>\n",
       "      <td>1.0</td>\n",
       "      <td>0.0</td>\n",
       "      <td>0.000000</td>\n",
       "      <td>0.0</td>\n",
       "      <td>0.015914</td>\n",
       "      <td>1028.158041</td>\n",
       "    </tr>\n",
       "    <tr>\n",
       "      <th>10</th>\n",
       "      <td>2024-03-28</td>\n",
       "      <td>64228.828125</td>\n",
       "      <td>Acquisto</td>\n",
       "      <td>1.0</td>\n",
       "      <td>0.0</td>\n",
       "      <td>0.000000</td>\n",
       "      <td>0.0</td>\n",
       "      <td>0.015914</td>\n",
       "      <td>1022.129295</td>\n",
       "    </tr>\n",
       "    <tr>\n",
       "      <th>11</th>\n",
       "      <td>2024-03-29</td>\n",
       "      <td>65552.484375</td>\n",
       "      <td>Acquisto</td>\n",
       "      <td>1.0</td>\n",
       "      <td>0.0</td>\n",
       "      <td>0.000000</td>\n",
       "      <td>0.0</td>\n",
       "      <td>0.015914</td>\n",
       "      <td>1043.193790</td>\n",
       "    </tr>\n",
       "    <tr>\n",
       "      <th>12</th>\n",
       "      <td>2024-03-30</td>\n",
       "      <td>64714.957031</td>\n",
       "      <td>Acquisto</td>\n",
       "      <td>1.0</td>\n",
       "      <td>0.0</td>\n",
       "      <td>0.000000</td>\n",
       "      <td>0.0</td>\n",
       "      <td>0.015914</td>\n",
       "      <td>1029.865487</td>\n",
       "    </tr>\n",
       "    <tr>\n",
       "      <th>13</th>\n",
       "      <td>2024-03-31</td>\n",
       "      <td>64485.773438</td>\n",
       "      <td>Acquisto</td>\n",
       "      <td>1.0</td>\n",
       "      <td>0.0</td>\n",
       "      <td>0.000000</td>\n",
       "      <td>0.0</td>\n",
       "      <td>0.015914</td>\n",
       "      <td>1026.218289</td>\n",
       "    </tr>\n",
       "    <tr>\n",
       "      <th>14</th>\n",
       "      <td>2024-04-01</td>\n",
       "      <td>66090.195312</td>\n",
       "      <td>Acquisto</td>\n",
       "      <td>1.0</td>\n",
       "      <td>0.0</td>\n",
       "      <td>0.000000</td>\n",
       "      <td>0.0</td>\n",
       "      <td>0.015914</td>\n",
       "      <td>1051.750852</td>\n",
       "    </tr>\n",
       "    <tr>\n",
       "      <th>15</th>\n",
       "      <td>2024-04-02</td>\n",
       "      <td>64920.578125</td>\n",
       "      <td>Acquisto</td>\n",
       "      <td>1.0</td>\n",
       "      <td>0.0</td>\n",
       "      <td>0.000000</td>\n",
       "      <td>0.0</td>\n",
       "      <td>0.015914</td>\n",
       "      <td>1033.137715</td>\n",
       "    </tr>\n",
       "    <tr>\n",
       "      <th>16</th>\n",
       "      <td>2024-04-03</td>\n",
       "      <td>60778.117188</td>\n",
       "      <td>Acquisto</td>\n",
       "      <td>1.0</td>\n",
       "      <td>0.0</td>\n",
       "      <td>0.000000</td>\n",
       "      <td>0.0</td>\n",
       "      <td>0.015914</td>\n",
       "      <td>967.215125</td>\n",
       "    </tr>\n",
       "    <tr>\n",
       "      <th>17</th>\n",
       "      <td>2024-04-04</td>\n",
       "      <td>60879.437500</td>\n",
       "      <td>Acquisto</td>\n",
       "      <td>1.0</td>\n",
       "      <td>0.0</td>\n",
       "      <td>0.000000</td>\n",
       "      <td>0.0</td>\n",
       "      <td>0.015914</td>\n",
       "      <td>968.827524</td>\n",
       "    </tr>\n",
       "    <tr>\n",
       "      <th>18</th>\n",
       "      <td>2024-04-05</td>\n",
       "      <td>63220.507812</td>\n",
       "      <td>Acquisto</td>\n",
       "      <td>1.0</td>\n",
       "      <td>0.0</td>\n",
       "      <td>0.000000</td>\n",
       "      <td>0.0</td>\n",
       "      <td>0.015914</td>\n",
       "      <td>1006.083015</td>\n",
       "    </tr>\n",
       "    <tr>\n",
       "      <th>19</th>\n",
       "      <td>2024-04-06</td>\n",
       "      <td>62559.875000</td>\n",
       "      <td>Acquisto</td>\n",
       "      <td>1.0</td>\n",
       "      <td>0.0</td>\n",
       "      <td>0.000000</td>\n",
       "      <td>0.0</td>\n",
       "      <td>0.015914</td>\n",
       "      <td>995.569790</td>\n",
       "    </tr>\n",
       "  </tbody>\n",
       "</table>\n",
       "</div>"
      ],
      "text/plain": [
       "    Timestamp        prezzo    Azione  Percentuale  \\\n",
       "0  2024-03-18  62838.261719  Acquisto          1.0   \n",
       "1  2024-03-19  62122.750000  Acquisto          1.0   \n",
       "2  2024-03-20  56999.375000  Acquisto          1.0   \n",
       "3  2024-03-21  62092.179688  Acquisto          1.0   \n",
       "4  2024-03-22  60291.375000  Acquisto          1.0   \n",
       "5  2024-03-23  58737.050781  Acquisto          1.0   \n",
       "6  2024-03-24  58998.085938  Acquisto          1.0   \n",
       "7  2024-03-25  62211.914062  Acquisto          1.0   \n",
       "8  2024-03-26  64555.195312  Acquisto          1.0   \n",
       "9  2024-03-27  64607.664062  Acquisto          1.0   \n",
       "10 2024-03-28  64228.828125  Acquisto          1.0   \n",
       "11 2024-03-29  65552.484375  Acquisto          1.0   \n",
       "12 2024-03-30  64714.957031  Acquisto          1.0   \n",
       "13 2024-03-31  64485.773438  Acquisto          1.0   \n",
       "14 2024-04-01  66090.195312  Acquisto          1.0   \n",
       "15 2024-04-02  64920.578125  Acquisto          1.0   \n",
       "16 2024-04-03  60778.117188  Acquisto          1.0   \n",
       "17 2024-04-04  60879.437500  Acquisto          1.0   \n",
       "18 2024-04-05  63220.507812  Acquisto          1.0   \n",
       "19 2024-04-06  62559.875000  Acquisto          1.0   \n",
       "\n",
       "    Liquidità spesa/guadagnata  Bitcoin spesi/guadagnati  Liquidità posseduta  \\\n",
       "0                       1000.0                  0.015914                  0.0   \n",
       "1                          0.0                  0.000000                  0.0   \n",
       "2                          0.0                  0.000000                  0.0   \n",
       "3                          0.0                  0.000000                  0.0   \n",
       "4                          0.0                  0.000000                  0.0   \n",
       "5                          0.0                  0.000000                  0.0   \n",
       "6                          0.0                  0.000000                  0.0   \n",
       "7                          0.0                  0.000000                  0.0   \n",
       "8                          0.0                  0.000000                  0.0   \n",
       "9                          0.0                  0.000000                  0.0   \n",
       "10                         0.0                  0.000000                  0.0   \n",
       "11                         0.0                  0.000000                  0.0   \n",
       "12                         0.0                  0.000000                  0.0   \n",
       "13                         0.0                  0.000000                  0.0   \n",
       "14                         0.0                  0.000000                  0.0   \n",
       "15                         0.0                  0.000000                  0.0   \n",
       "16                         0.0                  0.000000                  0.0   \n",
       "17                         0.0                  0.000000                  0.0   \n",
       "18                         0.0                  0.000000                  0.0   \n",
       "19                         0.0                  0.000000                  0.0   \n",
       "\n",
       "     bitcoin  valore_totale_portafoglio  \n",
       "0   0.015914                1000.000000  \n",
       "1   0.015914                 988.613439  \n",
       "2   0.015914                 907.080709  \n",
       "3   0.015914                 988.126947  \n",
       "4   0.015914                 959.469173  \n",
       "5   0.015914                 934.733858  \n",
       "6   0.015914                 938.887937  \n",
       "7   0.015914                 990.032384  \n",
       "8   0.015914                1027.323060  \n",
       "9   0.015914                1028.158041  \n",
       "10  0.015914                1022.129295  \n",
       "11  0.015914                1043.193790  \n",
       "12  0.015914                1029.865487  \n",
       "13  0.015914                1026.218289  \n",
       "14  0.015914                1051.750852  \n",
       "15  0.015914                1033.137715  \n",
       "16  0.015914                 967.215125  \n",
       "17  0.015914                 968.827524  \n",
       "18  0.015914                1006.083015  \n",
       "19  0.015914                 995.569790  "
      ]
     },
     "execution_count": 61,
     "metadata": {},
     "output_type": "execute_result"
    }
   ],
   "source": [
    "# Parametri di input\n",
    "initial_date = '2024-01-01'  # Data di inizio per la selezione casuale\n",
    "final_date = '2024-04-24'    # Data di fine per la selezione casuale\n",
    "n_days = 50                  # Numero di giorni da includere nel periodo casuale\n",
    "\n",
    "# Filtrare i dati tra initial_date e final_date\n",
    "dati_filtered = dati_originali[(dati_originali['Timestamp'] >= initial_date) & (dati_originali['Timestamp'] <= final_date)]\n",
    "\n",
    "# Calcolare il massimo indice di partenza per un periodo di lunghezza n_days\n",
    "max_start_index = len(dati_filtered) - n_days\n",
    "\n",
    "# Selezionare un indice casuale di partenza per il periodo\n",
    "if max_start_index > 0:\n",
    "    start_index = random.randint(0, max_start_index)\n",
    "    dati_test_custom = dati_filtered.iloc[start_index:start_index + n_days].reset_index(drop=True)\n",
    "else:\n",
    "    raise ValueError(\"L'intervallo specificato non contiene abbastanza dati per un periodo di n_days.\")\n",
    "\n",
    "# Esecuzione della simulazione di trading sui dati di test\n",
    "log_df = simulate_trading_on_test_data(model, dati_test_custom)\n",
    "\n",
    "# Visualizzare i primi risultati del log\n",
    "log_df"
   ]
  },
  {
   "cell_type": "code",
   "execution_count": null,
   "metadata": {},
   "outputs": [
    {
     "data": {
      "application/vnd.plotly.v1+json": {
       "config": {
        "plotlyServerURL": "https://plot.ly"
       },
       "data": [
        {
         "hoverinfo": "x+y",
         "line": {
          "color": "blue",
          "width": 2
         },
         "mode": "lines",
         "name": "Prezzi Bitcoin",
         "type": "scatter",
         "x": [
          "2024-03-18T00:00:00",
          "2024-03-19T00:00:00",
          "2024-03-20T00:00:00",
          "2024-03-21T00:00:00",
          "2024-03-22T00:00:00",
          "2024-03-23T00:00:00",
          "2024-03-24T00:00:00",
          "2024-03-25T00:00:00",
          "2024-03-26T00:00:00",
          "2024-03-27T00:00:00",
          "2024-03-28T00:00:00",
          "2024-03-29T00:00:00",
          "2024-03-30T00:00:00",
          "2024-03-31T00:00:00",
          "2024-04-01T00:00:00",
          "2024-04-02T00:00:00",
          "2024-04-03T00:00:00",
          "2024-04-04T00:00:00",
          "2024-04-05T00:00:00",
          "2024-04-06T00:00:00"
         ],
         "y": [
          62838.26171875,
          62122.75,
          56999.375,
          62092.1796875,
          60291.375,
          58737.05078125,
          58998.0859375,
          62211.9140625,
          64555.1953125,
          64607.6640625,
          64228.828125,
          65552.484375,
          64714.95703125,
          64485.7734375,
          66090.1953125,
          64920.578125,
          60778.1171875,
          60879.4375,
          63220.5078125,
          62559.875
         ]
        },
        {
         "hoverinfo": "text",
         "marker": {
          "color": "green",
          "opacity": 0.7,
          "size": [
           50
          ]
         },
         "mode": "markers",
         "name": "Acquisti",
         "text": [
          "Timestamp: 2024-03-18 00:00:00<br>Prezzo: 62838.26171875 €<br>Percentuale Acquisto: 100.0%<br>Liquidità Spesa: 1000.0 €<br>Bitcoin Acquistati: 0.015914<br>Liquidità: 0.0 €<br>Bitcoin: 0.015914<br>Valore Portafoglio: 1000.0 €"
         ],
         "type": "scatter",
         "x": [
          "2024-03-18T00:00:00"
         ],
         "y": [
          62838.26171875
         ]
        },
        {
         "hoverinfo": "text",
         "marker": {
          "color": "red",
          "opacity": 0.7,
          "size": []
         },
         "mode": "markers",
         "name": "Vendite",
         "text": [],
         "type": "scatter",
         "x": [],
         "y": []
        }
       ],
       "layout": {
        "height": 800,
        "hovermode": "closest",
        "legend": {
         "x": 0.01,
         "xanchor": "left",
         "y": 0.99,
         "yanchor": "top"
        },
        "template": {
         "data": {
          "bar": [
           {
            "error_x": {
             "color": "#2a3f5f"
            },
            "error_y": {
             "color": "#2a3f5f"
            },
            "marker": {
             "line": {
              "color": "white",
              "width": 0.5
             },
             "pattern": {
              "fillmode": "overlay",
              "size": 10,
              "solidity": 0.2
             }
            },
            "type": "bar"
           }
          ],
          "barpolar": [
           {
            "marker": {
             "line": {
              "color": "white",
              "width": 0.5
             },
             "pattern": {
              "fillmode": "overlay",
              "size": 10,
              "solidity": 0.2
             }
            },
            "type": "barpolar"
           }
          ],
          "carpet": [
           {
            "aaxis": {
             "endlinecolor": "#2a3f5f",
             "gridcolor": "#C8D4E3",
             "linecolor": "#C8D4E3",
             "minorgridcolor": "#C8D4E3",
             "startlinecolor": "#2a3f5f"
            },
            "baxis": {
             "endlinecolor": "#2a3f5f",
             "gridcolor": "#C8D4E3",
             "linecolor": "#C8D4E3",
             "minorgridcolor": "#C8D4E3",
             "startlinecolor": "#2a3f5f"
            },
            "type": "carpet"
           }
          ],
          "choropleth": [
           {
            "colorbar": {
             "outlinewidth": 0,
             "ticks": ""
            },
            "type": "choropleth"
           }
          ],
          "contour": [
           {
            "colorbar": {
             "outlinewidth": 0,
             "ticks": ""
            },
            "colorscale": [
             [
              0,
              "#0d0887"
             ],
             [
              0.1111111111111111,
              "#46039f"
             ],
             [
              0.2222222222222222,
              "#7201a8"
             ],
             [
              0.3333333333333333,
              "#9c179e"
             ],
             [
              0.4444444444444444,
              "#bd3786"
             ],
             [
              0.5555555555555556,
              "#d8576b"
             ],
             [
              0.6666666666666666,
              "#ed7953"
             ],
             [
              0.7777777777777778,
              "#fb9f3a"
             ],
             [
              0.8888888888888888,
              "#fdca26"
             ],
             [
              1,
              "#f0f921"
             ]
            ],
            "type": "contour"
           }
          ],
          "contourcarpet": [
           {
            "colorbar": {
             "outlinewidth": 0,
             "ticks": ""
            },
            "type": "contourcarpet"
           }
          ],
          "heatmap": [
           {
            "colorbar": {
             "outlinewidth": 0,
             "ticks": ""
            },
            "colorscale": [
             [
              0,
              "#0d0887"
             ],
             [
              0.1111111111111111,
              "#46039f"
             ],
             [
              0.2222222222222222,
              "#7201a8"
             ],
             [
              0.3333333333333333,
              "#9c179e"
             ],
             [
              0.4444444444444444,
              "#bd3786"
             ],
             [
              0.5555555555555556,
              "#d8576b"
             ],
             [
              0.6666666666666666,
              "#ed7953"
             ],
             [
              0.7777777777777778,
              "#fb9f3a"
             ],
             [
              0.8888888888888888,
              "#fdca26"
             ],
             [
              1,
              "#f0f921"
             ]
            ],
            "type": "heatmap"
           }
          ],
          "heatmapgl": [
           {
            "colorbar": {
             "outlinewidth": 0,
             "ticks": ""
            },
            "colorscale": [
             [
              0,
              "#0d0887"
             ],
             [
              0.1111111111111111,
              "#46039f"
             ],
             [
              0.2222222222222222,
              "#7201a8"
             ],
             [
              0.3333333333333333,
              "#9c179e"
             ],
             [
              0.4444444444444444,
              "#bd3786"
             ],
             [
              0.5555555555555556,
              "#d8576b"
             ],
             [
              0.6666666666666666,
              "#ed7953"
             ],
             [
              0.7777777777777778,
              "#fb9f3a"
             ],
             [
              0.8888888888888888,
              "#fdca26"
             ],
             [
              1,
              "#f0f921"
             ]
            ],
            "type": "heatmapgl"
           }
          ],
          "histogram": [
           {
            "marker": {
             "pattern": {
              "fillmode": "overlay",
              "size": 10,
              "solidity": 0.2
             }
            },
            "type": "histogram"
           }
          ],
          "histogram2d": [
           {
            "colorbar": {
             "outlinewidth": 0,
             "ticks": ""
            },
            "colorscale": [
             [
              0,
              "#0d0887"
             ],
             [
              0.1111111111111111,
              "#46039f"
             ],
             [
              0.2222222222222222,
              "#7201a8"
             ],
             [
              0.3333333333333333,
              "#9c179e"
             ],
             [
              0.4444444444444444,
              "#bd3786"
             ],
             [
              0.5555555555555556,
              "#d8576b"
             ],
             [
              0.6666666666666666,
              "#ed7953"
             ],
             [
              0.7777777777777778,
              "#fb9f3a"
             ],
             [
              0.8888888888888888,
              "#fdca26"
             ],
             [
              1,
              "#f0f921"
             ]
            ],
            "type": "histogram2d"
           }
          ],
          "histogram2dcontour": [
           {
            "colorbar": {
             "outlinewidth": 0,
             "ticks": ""
            },
            "colorscale": [
             [
              0,
              "#0d0887"
             ],
             [
              0.1111111111111111,
              "#46039f"
             ],
             [
              0.2222222222222222,
              "#7201a8"
             ],
             [
              0.3333333333333333,
              "#9c179e"
             ],
             [
              0.4444444444444444,
              "#bd3786"
             ],
             [
              0.5555555555555556,
              "#d8576b"
             ],
             [
              0.6666666666666666,
              "#ed7953"
             ],
             [
              0.7777777777777778,
              "#fb9f3a"
             ],
             [
              0.8888888888888888,
              "#fdca26"
             ],
             [
              1,
              "#f0f921"
             ]
            ],
            "type": "histogram2dcontour"
           }
          ],
          "mesh3d": [
           {
            "colorbar": {
             "outlinewidth": 0,
             "ticks": ""
            },
            "type": "mesh3d"
           }
          ],
          "parcoords": [
           {
            "line": {
             "colorbar": {
              "outlinewidth": 0,
              "ticks": ""
             }
            },
            "type": "parcoords"
           }
          ],
          "pie": [
           {
            "automargin": true,
            "type": "pie"
           }
          ],
          "scatter": [
           {
            "fillpattern": {
             "fillmode": "overlay",
             "size": 10,
             "solidity": 0.2
            },
            "type": "scatter"
           }
          ],
          "scatter3d": [
           {
            "line": {
             "colorbar": {
              "outlinewidth": 0,
              "ticks": ""
             }
            },
            "marker": {
             "colorbar": {
              "outlinewidth": 0,
              "ticks": ""
             }
            },
            "type": "scatter3d"
           }
          ],
          "scattercarpet": [
           {
            "marker": {
             "colorbar": {
              "outlinewidth": 0,
              "ticks": ""
             }
            },
            "type": "scattercarpet"
           }
          ],
          "scattergeo": [
           {
            "marker": {
             "colorbar": {
              "outlinewidth": 0,
              "ticks": ""
             }
            },
            "type": "scattergeo"
           }
          ],
          "scattergl": [
           {
            "marker": {
             "colorbar": {
              "outlinewidth": 0,
              "ticks": ""
             }
            },
            "type": "scattergl"
           }
          ],
          "scattermapbox": [
           {
            "marker": {
             "colorbar": {
              "outlinewidth": 0,
              "ticks": ""
             }
            },
            "type": "scattermapbox"
           }
          ],
          "scatterpolar": [
           {
            "marker": {
             "colorbar": {
              "outlinewidth": 0,
              "ticks": ""
             }
            },
            "type": "scatterpolar"
           }
          ],
          "scatterpolargl": [
           {
            "marker": {
             "colorbar": {
              "outlinewidth": 0,
              "ticks": ""
             }
            },
            "type": "scatterpolargl"
           }
          ],
          "scatterternary": [
           {
            "marker": {
             "colorbar": {
              "outlinewidth": 0,
              "ticks": ""
             }
            },
            "type": "scatterternary"
           }
          ],
          "surface": [
           {
            "colorbar": {
             "outlinewidth": 0,
             "ticks": ""
            },
            "colorscale": [
             [
              0,
              "#0d0887"
             ],
             [
              0.1111111111111111,
              "#46039f"
             ],
             [
              0.2222222222222222,
              "#7201a8"
             ],
             [
              0.3333333333333333,
              "#9c179e"
             ],
             [
              0.4444444444444444,
              "#bd3786"
             ],
             [
              0.5555555555555556,
              "#d8576b"
             ],
             [
              0.6666666666666666,
              "#ed7953"
             ],
             [
              0.7777777777777778,
              "#fb9f3a"
             ],
             [
              0.8888888888888888,
              "#fdca26"
             ],
             [
              1,
              "#f0f921"
             ]
            ],
            "type": "surface"
           }
          ],
          "table": [
           {
            "cells": {
             "fill": {
              "color": "#EBF0F8"
             },
             "line": {
              "color": "white"
             }
            },
            "header": {
             "fill": {
              "color": "#C8D4E3"
             },
             "line": {
              "color": "white"
             }
            },
            "type": "table"
           }
          ]
         },
         "layout": {
          "annotationdefaults": {
           "arrowcolor": "#2a3f5f",
           "arrowhead": 0,
           "arrowwidth": 1
          },
          "autotypenumbers": "strict",
          "coloraxis": {
           "colorbar": {
            "outlinewidth": 0,
            "ticks": ""
           }
          },
          "colorscale": {
           "diverging": [
            [
             0,
             "#8e0152"
            ],
            [
             0.1,
             "#c51b7d"
            ],
            [
             0.2,
             "#de77ae"
            ],
            [
             0.3,
             "#f1b6da"
            ],
            [
             0.4,
             "#fde0ef"
            ],
            [
             0.5,
             "#f7f7f7"
            ],
            [
             0.6,
             "#e6f5d0"
            ],
            [
             0.7,
             "#b8e186"
            ],
            [
             0.8,
             "#7fbc41"
            ],
            [
             0.9,
             "#4d9221"
            ],
            [
             1,
             "#276419"
            ]
           ],
           "sequential": [
            [
             0,
             "#0d0887"
            ],
            [
             0.1111111111111111,
             "#46039f"
            ],
            [
             0.2222222222222222,
             "#7201a8"
            ],
            [
             0.3333333333333333,
             "#9c179e"
            ],
            [
             0.4444444444444444,
             "#bd3786"
            ],
            [
             0.5555555555555556,
             "#d8576b"
            ],
            [
             0.6666666666666666,
             "#ed7953"
            ],
            [
             0.7777777777777778,
             "#fb9f3a"
            ],
            [
             0.8888888888888888,
             "#fdca26"
            ],
            [
             1,
             "#f0f921"
            ]
           ],
           "sequentialminus": [
            [
             0,
             "#0d0887"
            ],
            [
             0.1111111111111111,
             "#46039f"
            ],
            [
             0.2222222222222222,
             "#7201a8"
            ],
            [
             0.3333333333333333,
             "#9c179e"
            ],
            [
             0.4444444444444444,
             "#bd3786"
            ],
            [
             0.5555555555555556,
             "#d8576b"
            ],
            [
             0.6666666666666666,
             "#ed7953"
            ],
            [
             0.7777777777777778,
             "#fb9f3a"
            ],
            [
             0.8888888888888888,
             "#fdca26"
            ],
            [
             1,
             "#f0f921"
            ]
           ]
          },
          "colorway": [
           "#636efa",
           "#EF553B",
           "#00cc96",
           "#ab63fa",
           "#FFA15A",
           "#19d3f3",
           "#FF6692",
           "#B6E880",
           "#FF97FF",
           "#FECB52"
          ],
          "font": {
           "color": "#2a3f5f"
          },
          "geo": {
           "bgcolor": "white",
           "lakecolor": "white",
           "landcolor": "white",
           "showlakes": true,
           "showland": true,
           "subunitcolor": "#C8D4E3"
          },
          "hoverlabel": {
           "align": "left"
          },
          "hovermode": "closest",
          "mapbox": {
           "style": "light"
          },
          "paper_bgcolor": "white",
          "plot_bgcolor": "white",
          "polar": {
           "angularaxis": {
            "gridcolor": "#EBF0F8",
            "linecolor": "#EBF0F8",
            "ticks": ""
           },
           "bgcolor": "white",
           "radialaxis": {
            "gridcolor": "#EBF0F8",
            "linecolor": "#EBF0F8",
            "ticks": ""
           }
          },
          "scene": {
           "xaxis": {
            "backgroundcolor": "white",
            "gridcolor": "#DFE8F3",
            "gridwidth": 2,
            "linecolor": "#EBF0F8",
            "showbackground": true,
            "ticks": "",
            "zerolinecolor": "#EBF0F8"
           },
           "yaxis": {
            "backgroundcolor": "white",
            "gridcolor": "#DFE8F3",
            "gridwidth": 2,
            "linecolor": "#EBF0F8",
            "showbackground": true,
            "ticks": "",
            "zerolinecolor": "#EBF0F8"
           },
           "zaxis": {
            "backgroundcolor": "white",
            "gridcolor": "#DFE8F3",
            "gridwidth": 2,
            "linecolor": "#EBF0F8",
            "showbackground": true,
            "ticks": "",
            "zerolinecolor": "#EBF0F8"
           }
          },
          "shapedefaults": {
           "line": {
            "color": "#2a3f5f"
           }
          },
          "ternary": {
           "aaxis": {
            "gridcolor": "#DFE8F3",
            "linecolor": "#A2B1C6",
            "ticks": ""
           },
           "baxis": {
            "gridcolor": "#DFE8F3",
            "linecolor": "#A2B1C6",
            "ticks": ""
           },
           "bgcolor": "white",
           "caxis": {
            "gridcolor": "#DFE8F3",
            "linecolor": "#A2B1C6",
            "ticks": ""
           }
          },
          "title": {
           "x": 0.05
          },
          "xaxis": {
           "automargin": true,
           "gridcolor": "#EBF0F8",
           "linecolor": "#EBF0F8",
           "ticks": "",
           "title": {
            "standoff": 15
           },
           "zerolinecolor": "#EBF0F8",
           "zerolinewidth": 2
          },
          "yaxis": {
           "automargin": true,
           "gridcolor": "#EBF0F8",
           "linecolor": "#EBF0F8",
           "ticks": "",
           "title": {
            "standoff": 15
           },
           "zerolinecolor": "#EBF0F8",
           "zerolinewidth": 2
          }
         }
        },
        "title": {
         "text": "Andamento Prezzi Bitcoin con Transazioni di Acquisto e Vendita"
        },
        "width": 1200,
        "xaxis": {
         "rangeslider": {
          "visible": true
         },
         "title": {
          "text": "Data"
         },
         "type": "date"
        },
        "yaxis": {
         "title": {
          "text": "Prezzo (€)"
         }
        }
       }
      }
     },
     "metadata": {},
     "output_type": "display_data"
    }
   ],
   "source": [
    "# Funzione per calcolare la dimensione dei punti in base alla quantità e al massimo valore\n",
    "def calcola_dimensione(quantita, max_quantita, min_size=10, max_size=50):\n",
    "    return min_size + (max_size - min_size) * (quantita / max_quantita) if max_quantita != 0 else min_size\n",
    "\n",
    "# Filtra gli acquisti e le vendite dal log delle transazioni\n",
    "acquisti = log_df[(log_df['Azione'] == 'Acquisto') & (log_df['Liquidità spesa/guadagnata'] != 0)]\n",
    "vendite = log_df[(log_df['Azione'] == 'Vendita') & (log_df['Liquidità spesa/guadagnata'] != 0)]\n",
    "\n",
    "# Calcola il massimo valore speso per acquistare e il massimo valore guadagnato dalle vendite\n",
    "max_acquisto = acquisti['Liquidità spesa/guadagnata'].max()\n",
    "max_vendita = vendite['Liquidità spesa/guadagnata'].max()\n",
    "\n",
    "# Calcola la dimensione dei punti in base al massimo valore di acquisto e vendita\n",
    "dimensioni_acquisti = acquisti['Liquidità spesa/guadagnata'].apply(lambda x: calcola_dimensione(x, max_acquisto))\n",
    "dimensioni_vendite = vendite['Liquidità spesa/guadagnata'].apply(lambda x: calcola_dimensione(x, max_vendita))\n",
    "\n",
    "# Creazione del grafico dei prezzi con acquisti e vendite\n",
    "fig = go.Figure()\n",
    "\n",
    "# Linea dell'andamento dei prezzi\n",
    "fig.add_trace(go.Scatter(\n",
    "    x=log_df['Timestamp'],\n",
    "    y=log_df['prezzo'],\n",
    "    mode='lines',\n",
    "    name='Prezzi Bitcoin',\n",
    "    line=dict(color='blue', width=2),\n",
    "    hoverinfo='x+y'\n",
    "))\n",
    "\n",
    "# Scatter plot per gli acquisti con dimensione proporzionale al valore speso\n",
    "fig.add_trace(go.Scatter(\n",
    "    x=acquisti['Timestamp'],\n",
    "    y=acquisti['prezzo'],\n",
    "    mode='markers',\n",
    "    name='Acquisti',\n",
    "    marker=dict(color='green', size=dimensioni_acquisti, opacity=0.7),\n",
    "    text=[\n",
    "        f\"Timestamp: {timestamp}<br>Prezzo: {prezzo} €<br>Percentuale Acquisto: {round(percentuale * 100, 2)}%<br>Liquidità Spesa: {round(liquid_spesa, 2)} €<br>Bitcoin Acquistati: {round(btc_acq, 6)}<br>Liquidità: {round(liquid_tot, 2)} €<br>Bitcoin: {round(btc_poss, 6)}<br>Valore Portafoglio: {round(valore_port, 2)} €\"\n",
    "        for timestamp, prezzo, percentuale, liquid_spesa, btc_acq, liquid_tot, btc_poss, valore_port in zip(\n",
    "            acquisti['Timestamp'],\n",
    "            acquisti['prezzo'],\n",
    "            acquisti['Percentuale'],\n",
    "            acquisti['Liquidità spesa/guadagnata'],\n",
    "            acquisti['Bitcoin spesi/guadagnati'],\n",
    "            acquisti['Liquidità posseduta'],\n",
    "            acquisti['bitcoin'],\n",
    "            acquisti['valore_totale_portafoglio']\n",
    "        )\n",
    "    ],\n",
    "    hoverinfo='text'\n",
    "))\n",
    "\n",
    "# Scatter plot per le vendite con dimensione proporzionale al valore guadagnato\n",
    "fig.add_trace(go.Scatter(\n",
    "    x=vendite['Timestamp'],\n",
    "    y=vendite['prezzo'],\n",
    "    mode='markers',\n",
    "    name='Vendite',\n",
    "    marker=dict(color='red', size=dimensioni_vendite, opacity=0.7),\n",
    "    text=[\n",
    "        f\"Timestamp: {timestamp}<br>Prezzo: {prezzo} €<br>Percentuale Vendita: {round(percentuale * 100, 2)}%<br>Liquidità Guadagnata: {round(liquid_guad, 2)} €<br>Bitcoin Venduti: {round(btc_vend, 6)}<br>Liquidità: {round(liquid_tot, 2)} €<br>Bitcoin: {round(btc_poss, 6)}<br>Valore Portafoglio: {round(valore_port, 2)} €\"\n",
    "        for timestamp, prezzo, percentuale, liquid_guad, btc_vend, liquid_tot, btc_poss, valore_port in zip(\n",
    "            vendite['Timestamp'],\n",
    "            vendite['prezzo'],\n",
    "            vendite['Percentuale'],\n",
    "            vendite['Liquidità spesa/guadagnata'],\n",
    "            vendite['Bitcoin spesi/guadagnati'],\n",
    "            vendite['Liquidità posseduta'],\n",
    "            vendite['bitcoin'],\n",
    "            vendite['valore_totale_portafoglio']\n",
    "        )\n",
    "    ],\n",
    "    hoverinfo='text'\n",
    "))\n",
    "\n",
    "# Configurazione del layout del grafico\n",
    "fig.update_layout(\n",
    "    title='Andamento Prezzi Bitcoin con Transazioni di Acquisto e Vendita',\n",
    "    xaxis_title='Data',\n",
    "    yaxis_title='Prezzo (€)',\n",
    "    hovermode='closest',\n",
    "    template='plotly_white',\n",
    "    legend=dict(yanchor=\"top\", y=0.99, xanchor=\"left\", x=0.01),\n",
    "    width=1200,\n",
    "    height=800,\n",
    "    xaxis=dict(\n",
    "        rangeslider=dict(visible=True),  # Abilita il range slider\n",
    "        type=\"date\"  # Imposta l'asse x come asse temporale\n",
    "    )\n",
    ")\n",
    "\n",
    "# Mostra il grafico interattivo\n",
    "fig.show()"
   ]
  },
  {
   "cell_type": "code",
   "execution_count": null,
   "metadata": {},
   "outputs": [
    {
     "name": "stdout",
     "output_type": "stream",
     "text": [
      "Rendimento ideale: 1.3\n",
      "Portafoglio finale ideale in euro: 1303.71\n",
      "Rendimento del portafoglio: 1.0\n",
      "Punteggio rendimento: 76.36%\n",
      "Punteggio considerato sufficiente: 76.7%\n",
      "Valore finale del portafoglio in euro: 995.57\n"
     ]
    }
   ],
   "source": [
    "rendimento_ideale, portafoglio_finale_ideale = calcola_rendimento_portafoglio_ideale(liquidità_iniziale, bitcoin_iniziali, log_df['prezzo'], 0, 0, 0, 0)\n",
    "print('Rendimento ideale:', round(rendimento_ideale, 2))\n",
    "print('Portafoglio finale ideale in euro:', round(portafoglio_finale_ideale, 2))\n",
    "\n",
    "valore_iniziale = log_df['valore_totale_portafoglio'].iloc[0]\n",
    "valore_finale = log_df['valore_totale_portafoglio'].iloc[-1]\n",
    "rendimento = valore_finale / valore_iniziale\n",
    "\n",
    "print(f\"Rendimento del portafoglio: {round(rendimento, 2)}\")\n",
    "print(f'Punteggio rendimento: {round(rendimento / rendimento_ideale *100, 2)}%')\n",
    "print(f\"Punteggio considerato sufficiente: {round(calcola_punteggio_sufficienza_medio([pd.DataFrame({'Price': log_df['prezzo']})]) * 100, 2)}%\")\n",
    "print(f\"Valore finale del portafoglio in euro: {round(log_df['valore_totale_portafoglio'].iloc[-1], 2)}\")\n",
    "\n",
    "# Punteggio rendimento: 80.43%"
   ]
  }
 ],
 "metadata": {
  "kernelspec": {
   "display_name": "trading_env",
   "language": "python",
   "name": "python3"
  },
  "language_info": {
   "codemirror_mode": {
    "name": "ipython",
    "version": 3
   },
   "file_extension": ".py",
   "mimetype": "text/x-python",
   "name": "python",
   "nbconvert_exporter": "python",
   "pygments_lexer": "ipython3",
   "version": "3.10.9"
  }
 },
 "nbformat": 4,
 "nbformat_minor": 2
}
