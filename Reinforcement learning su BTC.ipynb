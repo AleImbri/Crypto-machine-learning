{
 "cells": [
  {
   "cell_type": "markdown",
   "metadata": {},
   "source": [
    "# Importare le Librerie Necessarie"
   ]
  },
  {
   "cell_type": "code",
   "execution_count": 1,
   "metadata": {},
   "outputs": [],
   "source": [
    "import numpy as np\n",
    "import pandas as pd\n",
    "import gymnasium as gym\n",
    "from gymnasium import spaces\n",
    "from stable_baselines3 import PPO\n",
    "import matplotlib.pyplot as plt\n",
    "import random\n",
    "from sklearn.model_selection import train_test_split\n",
    "import plotly.graph_objects as go\n",
    "import os\n",
    "import torch\n",
    "from stable_baselines3.common.utils import set_random_seed"
   ]
  },
  {
   "cell_type": "code",
   "execution_count": 2,
   "metadata": {},
   "outputs": [],
   "source": [
    "# # Imposta il seme per la riproducibilità\n",
    "# seed_value = 42\n",
    "\n",
    "# random.seed(seed_value)\n",
    "# np.random.seed(seed_value)\n",
    "# torch.manual_seed(seed_value)\n",
    "# set_random_seed(seed_value)"
   ]
  },
  {
   "cell_type": "markdown",
   "metadata": {},
   "source": [
    "# Lettura dati"
   ]
  },
  {
   "cell_type": "code",
   "execution_count": 3,
   "metadata": {},
   "outputs": [
    {
     "data": {
      "text/html": [
       "<div>\n",
       "<style scoped>\n",
       "    .dataframe tbody tr th:only-of-type {\n",
       "        vertical-align: middle;\n",
       "    }\n",
       "\n",
       "    .dataframe tbody tr th {\n",
       "        vertical-align: top;\n",
       "    }\n",
       "\n",
       "    .dataframe thead th {\n",
       "        text-align: right;\n",
       "    }\n",
       "</style>\n",
       "<table border=\"1\" class=\"dataframe\">\n",
       "  <thead>\n",
       "    <tr style=\"text-align: right;\">\n",
       "      <th></th>\n",
       "      <th>Unnamed: 0</th>\n",
       "      <th>Date</th>\n",
       "      <th>Open</th>\n",
       "      <th>High</th>\n",
       "      <th>Low</th>\n",
       "      <th>Close</th>\n",
       "      <th>Volume</th>\n",
       "      <th>Dividends</th>\n",
       "      <th>Stock Splits</th>\n",
       "    </tr>\n",
       "  </thead>\n",
       "  <tbody>\n",
       "    <tr>\n",
       "      <th>0</th>\n",
       "      <td>0</td>\n",
       "      <td>2014-09-17 00:00:00+00:00</td>\n",
       "      <td>359.546204</td>\n",
       "      <td>361.468506</td>\n",
       "      <td>351.586884</td>\n",
       "      <td>355.957367</td>\n",
       "      <td>16389166</td>\n",
       "      <td>0.0</td>\n",
       "      <td>0.0</td>\n",
       "    </tr>\n",
       "    <tr>\n",
       "      <th>1</th>\n",
       "      <td>1</td>\n",
       "      <td>2014-09-18 00:00:00+00:00</td>\n",
       "      <td>355.588409</td>\n",
       "      <td>355.505402</td>\n",
       "      <td>319.789459</td>\n",
       "      <td>328.539368</td>\n",
       "      <td>26691849</td>\n",
       "      <td>0.0</td>\n",
       "      <td>0.0</td>\n",
       "    </tr>\n",
       "    <tr>\n",
       "      <th>2</th>\n",
       "      <td>2</td>\n",
       "      <td>2014-09-19 00:00:00+00:00</td>\n",
       "      <td>328.278503</td>\n",
       "      <td>330.936707</td>\n",
       "      <td>298.921021</td>\n",
       "      <td>307.761139</td>\n",
       "      <td>29560103</td>\n",
       "      <td>0.0</td>\n",
       "      <td>0.0</td>\n",
       "    </tr>\n",
       "    <tr>\n",
       "      <th>3</th>\n",
       "      <td>3</td>\n",
       "      <td>2014-09-20 00:00:00+00:00</td>\n",
       "      <td>307.665253</td>\n",
       "      <td>329.978180</td>\n",
       "      <td>303.931244</td>\n",
       "      <td>318.758972</td>\n",
       "      <td>28736826</td>\n",
       "      <td>0.0</td>\n",
       "      <td>0.0</td>\n",
       "    </tr>\n",
       "    <tr>\n",
       "      <th>4</th>\n",
       "      <td>4</td>\n",
       "      <td>2014-09-21 00:00:00+00:00</td>\n",
       "      <td>318.120514</td>\n",
       "      <td>321.504517</td>\n",
       "      <td>306.502197</td>\n",
       "      <td>310.632446</td>\n",
       "      <td>20702625</td>\n",
       "      <td>0.0</td>\n",
       "      <td>0.0</td>\n",
       "    </tr>\n",
       "    <tr>\n",
       "      <th>...</th>\n",
       "      <td>...</td>\n",
       "      <td>...</td>\n",
       "      <td>...</td>\n",
       "      <td>...</td>\n",
       "      <td>...</td>\n",
       "      <td>...</td>\n",
       "      <td>...</td>\n",
       "      <td>...</td>\n",
       "      <td>...</td>\n",
       "    </tr>\n",
       "    <tr>\n",
       "      <th>3503</th>\n",
       "      <td>3503</td>\n",
       "      <td>2024-04-20 00:00:00+00:00</td>\n",
       "      <td>59675.082031</td>\n",
       "      <td>61440.464844</td>\n",
       "      <td>56170.074219</td>\n",
       "      <td>59876.710938</td>\n",
       "      <td>46818669689</td>\n",
       "      <td>0.0</td>\n",
       "      <td>0.0</td>\n",
       "    </tr>\n",
       "    <tr>\n",
       "      <th>3504</th>\n",
       "      <td>3504</td>\n",
       "      <td>2024-04-21 00:00:00+00:00</td>\n",
       "      <td>59883.777344</td>\n",
       "      <td>61376.257812</td>\n",
       "      <td>59247.250000</td>\n",
       "      <td>60956.074219</td>\n",
       "      <td>21662346331</td>\n",
       "      <td>0.0</td>\n",
       "      <td>0.0</td>\n",
       "    </tr>\n",
       "    <tr>\n",
       "      <th>3505</th>\n",
       "      <td>3505</td>\n",
       "      <td>2024-04-22 00:00:00+00:00</td>\n",
       "      <td>60954.554688</td>\n",
       "      <td>61639.593750</td>\n",
       "      <td>60245.773438</td>\n",
       "      <td>60919.242188</td>\n",
       "      <td>19240933719</td>\n",
       "      <td>0.0</td>\n",
       "      <td>0.0</td>\n",
       "    </tr>\n",
       "    <tr>\n",
       "      <th>3506</th>\n",
       "      <td>3506</td>\n",
       "      <td>2024-04-23 00:00:00+00:00</td>\n",
       "      <td>60927.675781</td>\n",
       "      <td>63113.457031</td>\n",
       "      <td>60496.617188</td>\n",
       "      <td>62729.296875</td>\n",
       "      <td>26544206489</td>\n",
       "      <td>0.0</td>\n",
       "      <td>0.0</td>\n",
       "    </tr>\n",
       "    <tr>\n",
       "      <th>3507</th>\n",
       "      <td>3507</td>\n",
       "      <td>2024-04-24 00:00:00+00:00</td>\n",
       "      <td>62731.378906</td>\n",
       "      <td>63032.957031</td>\n",
       "      <td>61737.578125</td>\n",
       "      <td>62048.164062</td>\n",
       "      <td>22715154524</td>\n",
       "      <td>0.0</td>\n",
       "      <td>0.0</td>\n",
       "    </tr>\n",
       "  </tbody>\n",
       "</table>\n",
       "<p>3508 rows × 9 columns</p>\n",
       "</div>"
      ],
      "text/plain": [
       "      Unnamed: 0                       Date          Open          High  \\\n",
       "0              0  2014-09-17 00:00:00+00:00    359.546204    361.468506   \n",
       "1              1  2014-09-18 00:00:00+00:00    355.588409    355.505402   \n",
       "2              2  2014-09-19 00:00:00+00:00    328.278503    330.936707   \n",
       "3              3  2014-09-20 00:00:00+00:00    307.665253    329.978180   \n",
       "4              4  2014-09-21 00:00:00+00:00    318.120514    321.504517   \n",
       "...          ...                        ...           ...           ...   \n",
       "3503        3503  2024-04-20 00:00:00+00:00  59675.082031  61440.464844   \n",
       "3504        3504  2024-04-21 00:00:00+00:00  59883.777344  61376.257812   \n",
       "3505        3505  2024-04-22 00:00:00+00:00  60954.554688  61639.593750   \n",
       "3506        3506  2024-04-23 00:00:00+00:00  60927.675781  63113.457031   \n",
       "3507        3507  2024-04-24 00:00:00+00:00  62731.378906  63032.957031   \n",
       "\n",
       "               Low         Close       Volume  Dividends  Stock Splits  \n",
       "0       351.586884    355.957367     16389166        0.0           0.0  \n",
       "1       319.789459    328.539368     26691849        0.0           0.0  \n",
       "2       298.921021    307.761139     29560103        0.0           0.0  \n",
       "3       303.931244    318.758972     28736826        0.0           0.0  \n",
       "4       306.502197    310.632446     20702625        0.0           0.0  \n",
       "...            ...           ...          ...        ...           ...  \n",
       "3503  56170.074219  59876.710938  46818669689        0.0           0.0  \n",
       "3504  59247.250000  60956.074219  21662346331        0.0           0.0  \n",
       "3505  60245.773438  60919.242188  19240933719        0.0           0.0  \n",
       "3506  60496.617188  62729.296875  26544206489        0.0           0.0  \n",
       "3507  61737.578125  62048.164062  22715154524        0.0           0.0  \n",
       "\n",
       "[3508 rows x 9 columns]"
      ]
     },
     "execution_count": 3,
     "metadata": {},
     "output_type": "execute_result"
    }
   ],
   "source": [
    "pd.read_csv('Bitcoin (€) da yfinance dal 17-09-2014 al 24-04-2024.csv')"
   ]
  },
  {
   "cell_type": "code",
   "execution_count": 4,
   "metadata": {},
   "outputs": [
    {
     "data": {
      "text/html": [
       "<div>\n",
       "<style scoped>\n",
       "    .dataframe tbody tr th:only-of-type {\n",
       "        vertical-align: middle;\n",
       "    }\n",
       "\n",
       "    .dataframe tbody tr th {\n",
       "        vertical-align: top;\n",
       "    }\n",
       "\n",
       "    .dataframe thead th {\n",
       "        text-align: right;\n",
       "    }\n",
       "</style>\n",
       "<table border=\"1\" class=\"dataframe\">\n",
       "  <thead>\n",
       "    <tr style=\"text-align: right;\">\n",
       "      <th></th>\n",
       "      <th>Timestamp</th>\n",
       "      <th>Price</th>\n",
       "      <th>Open</th>\n",
       "      <th>High</th>\n",
       "      <th>Low</th>\n",
       "      <th>Volume</th>\n",
       "    </tr>\n",
       "  </thead>\n",
       "  <tbody>\n",
       "    <tr>\n",
       "      <th>0</th>\n",
       "      <td>2014-09-17</td>\n",
       "      <td>355.957367</td>\n",
       "      <td>359.546204</td>\n",
       "      <td>361.468506</td>\n",
       "      <td>351.586884</td>\n",
       "      <td>16389166</td>\n",
       "    </tr>\n",
       "    <tr>\n",
       "      <th>1</th>\n",
       "      <td>2014-09-18</td>\n",
       "      <td>328.539368</td>\n",
       "      <td>355.588409</td>\n",
       "      <td>355.505402</td>\n",
       "      <td>319.789459</td>\n",
       "      <td>26691849</td>\n",
       "    </tr>\n",
       "    <tr>\n",
       "      <th>2</th>\n",
       "      <td>2014-09-19</td>\n",
       "      <td>307.761139</td>\n",
       "      <td>328.278503</td>\n",
       "      <td>330.936707</td>\n",
       "      <td>298.921021</td>\n",
       "      <td>29560103</td>\n",
       "    </tr>\n",
       "    <tr>\n",
       "      <th>3</th>\n",
       "      <td>2014-09-20</td>\n",
       "      <td>318.758972</td>\n",
       "      <td>307.665253</td>\n",
       "      <td>329.978180</td>\n",
       "      <td>303.931244</td>\n",
       "      <td>28736826</td>\n",
       "    </tr>\n",
       "    <tr>\n",
       "      <th>4</th>\n",
       "      <td>2014-09-21</td>\n",
       "      <td>310.632446</td>\n",
       "      <td>318.120514</td>\n",
       "      <td>321.504517</td>\n",
       "      <td>306.502197</td>\n",
       "      <td>20702625</td>\n",
       "    </tr>\n",
       "    <tr>\n",
       "      <th>...</th>\n",
       "      <td>...</td>\n",
       "      <td>...</td>\n",
       "      <td>...</td>\n",
       "      <td>...</td>\n",
       "      <td>...</td>\n",
       "      <td>...</td>\n",
       "    </tr>\n",
       "    <tr>\n",
       "      <th>3503</th>\n",
       "      <td>2024-04-20</td>\n",
       "      <td>59876.710938</td>\n",
       "      <td>59675.082031</td>\n",
       "      <td>61440.464844</td>\n",
       "      <td>56170.074219</td>\n",
       "      <td>46818669689</td>\n",
       "    </tr>\n",
       "    <tr>\n",
       "      <th>3504</th>\n",
       "      <td>2024-04-21</td>\n",
       "      <td>60956.074219</td>\n",
       "      <td>59883.777344</td>\n",
       "      <td>61376.257812</td>\n",
       "      <td>59247.250000</td>\n",
       "      <td>21662346331</td>\n",
       "    </tr>\n",
       "    <tr>\n",
       "      <th>3505</th>\n",
       "      <td>2024-04-22</td>\n",
       "      <td>60919.242188</td>\n",
       "      <td>60954.554688</td>\n",
       "      <td>61639.593750</td>\n",
       "      <td>60245.773438</td>\n",
       "      <td>19240933719</td>\n",
       "    </tr>\n",
       "    <tr>\n",
       "      <th>3506</th>\n",
       "      <td>2024-04-23</td>\n",
       "      <td>62729.296875</td>\n",
       "      <td>60927.675781</td>\n",
       "      <td>63113.457031</td>\n",
       "      <td>60496.617188</td>\n",
       "      <td>26544206489</td>\n",
       "    </tr>\n",
       "    <tr>\n",
       "      <th>3507</th>\n",
       "      <td>2024-04-24</td>\n",
       "      <td>62048.164062</td>\n",
       "      <td>62731.378906</td>\n",
       "      <td>63032.957031</td>\n",
       "      <td>61737.578125</td>\n",
       "      <td>22715154524</td>\n",
       "    </tr>\n",
       "  </tbody>\n",
       "</table>\n",
       "<p>3508 rows × 6 columns</p>\n",
       "</div>"
      ],
      "text/plain": [
       "      Timestamp         Price          Open          High           Low  \\\n",
       "0    2014-09-17    355.957367    359.546204    361.468506    351.586884   \n",
       "1    2014-09-18    328.539368    355.588409    355.505402    319.789459   \n",
       "2    2014-09-19    307.761139    328.278503    330.936707    298.921021   \n",
       "3    2014-09-20    318.758972    307.665253    329.978180    303.931244   \n",
       "4    2014-09-21    310.632446    318.120514    321.504517    306.502197   \n",
       "...         ...           ...           ...           ...           ...   \n",
       "3503 2024-04-20  59876.710938  59675.082031  61440.464844  56170.074219   \n",
       "3504 2024-04-21  60956.074219  59883.777344  61376.257812  59247.250000   \n",
       "3505 2024-04-22  60919.242188  60954.554688  61639.593750  60245.773438   \n",
       "3506 2024-04-23  62729.296875  60927.675781  63113.457031  60496.617188   \n",
       "3507 2024-04-24  62048.164062  62731.378906  63032.957031  61737.578125   \n",
       "\n",
       "           Volume  \n",
       "0        16389166  \n",
       "1        26691849  \n",
       "2        29560103  \n",
       "3        28736826  \n",
       "4        20702625  \n",
       "...           ...  \n",
       "3503  46818669689  \n",
       "3504  21662346331  \n",
       "3505  19240933719  \n",
       "3506  26544206489  \n",
       "3507  22715154524  \n",
       "\n",
       "[3508 rows x 6 columns]"
      ]
     },
     "execution_count": 4,
     "metadata": {},
     "output_type": "execute_result"
    }
   ],
   "source": [
    "dati_originali = pd.read_csv('Bitcoin (€) da yfinance dal 17-09-2014 al 24-04-2024.csv')\n",
    "dati_originali = dati_originali[['Date', 'Close', 'Open', 'High', 'Low', 'Volume']]\n",
    "dati_originali = dati_originali.rename(columns = {'Date':'Timestamp', 'Close': 'Price'})\n",
    "dati_originali['Timestamp'] = pd.to_datetime(dati_originali['Timestamp'])\n",
    "dati_originali['Timestamp'] = dati_originali['Timestamp'].dt.strftime('%Y-%m-%d')\n",
    "dati_originali['Timestamp'] = pd.to_datetime(dati_originali['Timestamp'], format='%Y-%m-%d')\n",
    "dati_originali"
   ]
  },
  {
   "cell_type": "code",
   "execution_count": 5,
   "metadata": {},
   "outputs": [
    {
     "data": {
      "text/html": [
       "<div>\n",
       "<style scoped>\n",
       "    .dataframe tbody tr th:only-of-type {\n",
       "        vertical-align: middle;\n",
       "    }\n",
       "\n",
       "    .dataframe tbody tr th {\n",
       "        vertical-align: top;\n",
       "    }\n",
       "\n",
       "    .dataframe thead th {\n",
       "        text-align: right;\n",
       "    }\n",
       "</style>\n",
       "<table border=\"1\" class=\"dataframe\">\n",
       "  <thead>\n",
       "    <tr style=\"text-align: right;\">\n",
       "      <th></th>\n",
       "      <th>Timestamp</th>\n",
       "      <th>Price</th>\n",
       "      <th>Open</th>\n",
       "      <th>High</th>\n",
       "      <th>Low</th>\n",
       "      <th>Volume</th>\n",
       "    </tr>\n",
       "  </thead>\n",
       "  <tbody>\n",
       "    <tr>\n",
       "      <th>0</th>\n",
       "      <td>2014-09-17</td>\n",
       "      <td>355.957367</td>\n",
       "      <td>359.546204</td>\n",
       "      <td>361.468506</td>\n",
       "      <td>351.586884</td>\n",
       "      <td>16389166</td>\n",
       "    </tr>\n",
       "    <tr>\n",
       "      <th>1</th>\n",
       "      <td>2014-09-18</td>\n",
       "      <td>328.539368</td>\n",
       "      <td>355.588409</td>\n",
       "      <td>355.505402</td>\n",
       "      <td>319.789459</td>\n",
       "      <td>26691849</td>\n",
       "    </tr>\n",
       "    <tr>\n",
       "      <th>2</th>\n",
       "      <td>2014-09-19</td>\n",
       "      <td>307.761139</td>\n",
       "      <td>328.278503</td>\n",
       "      <td>330.936707</td>\n",
       "      <td>298.921021</td>\n",
       "      <td>29560103</td>\n",
       "    </tr>\n",
       "    <tr>\n",
       "      <th>3</th>\n",
       "      <td>2014-09-20</td>\n",
       "      <td>318.758972</td>\n",
       "      <td>307.665253</td>\n",
       "      <td>329.978180</td>\n",
       "      <td>303.931244</td>\n",
       "      <td>28736826</td>\n",
       "    </tr>\n",
       "    <tr>\n",
       "      <th>4</th>\n",
       "      <td>2014-09-21</td>\n",
       "      <td>310.632446</td>\n",
       "      <td>318.120514</td>\n",
       "      <td>321.504517</td>\n",
       "      <td>306.502197</td>\n",
       "      <td>20702625</td>\n",
       "    </tr>\n",
       "    <tr>\n",
       "      <th>...</th>\n",
       "      <td>...</td>\n",
       "      <td>...</td>\n",
       "      <td>...</td>\n",
       "      <td>...</td>\n",
       "      <td>...</td>\n",
       "      <td>...</td>\n",
       "    </tr>\n",
       "    <tr>\n",
       "      <th>3388</th>\n",
       "      <td>2023-12-27</td>\n",
       "      <td>38504.562500</td>\n",
       "      <td>39568.429688</td>\n",
       "      <td>39571.453125</td>\n",
       "      <td>37778.320312</td>\n",
       "      <td>27190965041</td>\n",
       "    </tr>\n",
       "    <tr>\n",
       "      <th>3389</th>\n",
       "      <td>2023-12-28</td>\n",
       "      <td>39108.300781</td>\n",
       "      <td>38502.812500</td>\n",
       "      <td>39345.335938</td>\n",
       "      <td>38217.789062</td>\n",
       "      <td>22740505379</td>\n",
       "    </tr>\n",
       "    <tr>\n",
       "      <th>3390</th>\n",
       "      <td>2023-12-29</td>\n",
       "      <td>38515.289062</td>\n",
       "      <td>39131.113281</td>\n",
       "      <td>39415.761719</td>\n",
       "      <td>38211.789062</td>\n",
       "      <td>20773907848</td>\n",
       "    </tr>\n",
       "    <tr>\n",
       "      <th>3391</th>\n",
       "      <td>2023-12-30</td>\n",
       "      <td>38080.046875</td>\n",
       "      <td>38503.351562</td>\n",
       "      <td>38997.976562</td>\n",
       "      <td>37469.179688</td>\n",
       "      <td>23517721045</td>\n",
       "    </tr>\n",
       "    <tr>\n",
       "      <th>3392</th>\n",
       "      <td>2023-12-31</td>\n",
       "      <td>38132.054688</td>\n",
       "      <td>38073.125000</td>\n",
       "      <td>38518.488281</td>\n",
       "      <td>37588.726562</td>\n",
       "      <td>14485028393</td>\n",
       "    </tr>\n",
       "  </tbody>\n",
       "</table>\n",
       "<p>3393 rows × 6 columns</p>\n",
       "</div>"
      ],
      "text/plain": [
       "      Timestamp         Price          Open          High           Low  \\\n",
       "0    2014-09-17    355.957367    359.546204    361.468506    351.586884   \n",
       "1    2014-09-18    328.539368    355.588409    355.505402    319.789459   \n",
       "2    2014-09-19    307.761139    328.278503    330.936707    298.921021   \n",
       "3    2014-09-20    318.758972    307.665253    329.978180    303.931244   \n",
       "4    2014-09-21    310.632446    318.120514    321.504517    306.502197   \n",
       "...         ...           ...           ...           ...           ...   \n",
       "3388 2023-12-27  38504.562500  39568.429688  39571.453125  37778.320312   \n",
       "3389 2023-12-28  39108.300781  38502.812500  39345.335938  38217.789062   \n",
       "3390 2023-12-29  38515.289062  39131.113281  39415.761719  38211.789062   \n",
       "3391 2023-12-30  38080.046875  38503.351562  38997.976562  37469.179688   \n",
       "3392 2023-12-31  38132.054688  38073.125000  38518.488281  37588.726562   \n",
       "\n",
       "           Volume  \n",
       "0        16389166  \n",
       "1        26691849  \n",
       "2        29560103  \n",
       "3        28736826  \n",
       "4        20702625  \n",
       "...           ...  \n",
       "3388  27190965041  \n",
       "3389  22740505379  \n",
       "3390  20773907848  \n",
       "3391  23517721045  \n",
       "3392  14485028393  \n",
       "\n",
       "[3393 rows x 6 columns]"
      ]
     },
     "execution_count": 5,
     "metadata": {},
     "output_type": "execute_result"
    }
   ],
   "source": [
    "data_inizio = '2014-09-17'\n",
    "data_fine = '2023-12-31'\n",
    "indice_inizio = dati_originali[dati_originali['Timestamp'] == data_inizio].index[0]\n",
    "indice_fine = dati_originali[dati_originali['Timestamp'] == data_fine].index[0]\n",
    "dati = dati_originali[indice_inizio:indice_fine + 1].reset_index(drop=True)\n",
    "dati"
   ]
  },
  {
   "cell_type": "code",
   "execution_count": 6,
   "metadata": {},
   "outputs": [
    {
     "data": {
      "text/plain": [
       "[<matplotlib.lines.Line2D at 0x241d4fda740>]"
      ]
     },
     "execution_count": 6,
     "metadata": {},
     "output_type": "execute_result"
    },
    {
     "data": {
      "image/png": "[encoded data removed]",
      "text/plain": [
       "<Figure size 640x480 with 1 Axes>"
      ]
     },
     "metadata": {},
     "output_type": "display_data"
    }
   ],
   "source": [
    "plt.grid()\n",
    "plt.plot(dati['Timestamp'].iloc[-120:], dati['Price'].iloc[-120:])"
   ]
  },
  {
   "cell_type": "markdown",
   "metadata": {},
   "source": [
    "# Function per il calcolo del rendimento ideale"
   ]
  },
  {
   "cell_type": "code",
   "execution_count": 7,
   "metadata": {},
   "outputs": [],
   "source": [
    "def calcola_rendimento_portafoglio_ideale(capitale_iniziale, bitcoin_iniziali, lista_prezzi, min_acquisto, min_vendita, perc_commissione_acquisto, perc_commissione_vendita):\n",
    "    capitale = capitale_iniziale\n",
    "    bitcoin = bitcoin_iniziali\n",
    "    comprato = False\n",
    "\n",
    "    for i in range(len(lista_prezzi) - 1):\n",
    "        # Compra al minimo\n",
    "        if lista_prezzi[i] < lista_prezzi[i + 1] and not comprato and capitale >= min_acquisto:\n",
    "            bitcoin_acquistati = (capitale * (1 - perc_commissione_acquisto)) / lista_prezzi[i]\n",
    "            bitcoin += bitcoin_acquistati\n",
    "            capitale = 0\n",
    "            comprato = True\n",
    "            # print(f'Bitcoin posseduti: {bitcoin}')\n",
    "        # Vende al massimo\n",
    "        elif lista_prezzi[i] > lista_prezzi[i + 1] and comprato and bitcoin * lista_prezzi[i] >= min_vendita:\n",
    "            capitale_vendita = bitcoin * lista_prezzi[i] * (1 - perc_commissione_vendita)\n",
    "            capitale += capitale_vendita\n",
    "            bitcoin = 0\n",
    "            comprato = False\n",
    "            # print(f'Capitale posseduto: {capitale}')\n",
    "\n",
    "    # Vende i bitcoin rimasti all'ultimo prezzo\n",
    "    if comprato and bitcoin * lista_prezzi.iloc[-1] >= min_vendita:\n",
    "        capitale += bitcoin * lista_prezzi.iloc[-1] * (1 - perc_commissione_vendita)\n",
    "        bitcoin = 0\n",
    "        # print(f'Capitale posseduto: {capitale}')\n",
    "        # print(f'Bitcoin posseduti: {bitcoin}')\n",
    "\n",
    "    valore_iniziale = capitale_iniziale + bitcoin_iniziali * lista_prezzi[0]\n",
    "    valore_finale = capitale + bitcoin * lista_prezzi.iloc[-1]\n",
    "\n",
    "    rendimento = valore_finale / valore_iniziale\n",
    "\n",
    "    return [rendimento, valore_finale]"
   ]
  },
  {
   "cell_type": "markdown",
   "metadata": {},
   "source": [
    "# Preparazione dei Periodi di 30 Giorni e train_test_split"
   ]
  },
  {
   "cell_type": "code",
   "execution_count": 8,
   "metadata": {},
   "outputs": [
    {
     "name": "stdout",
     "output_type": "stream",
     "text": [
      "Train periods: 2354, Validation periods: 505, Test periods: 505\n"
     ]
    }
   ],
   "source": [
    "# Estrarre periodi di lunghezza 30 giorni dai dati\n",
    "L = 30\n",
    "periods = [dati.iloc[i:i + L] for i in range(len(dati) - L + 1)]\n",
    "\n",
    "# Suddivisione dei periodi in train (70%) e validation/test (30%)\n",
    "train_periods, validation_periods = train_test_split(periods, test_size=0.3, random_state=42)\n",
    "validation_periods, test_periods = train_test_split(validation_periods, test_size=0.5, random_state=42)\n",
    "\n",
    "# Visualizzare il numero di periodi in ciascun insieme\n",
    "print(f\"Train periods: {len(train_periods)}, Validation periods: {len(validation_periods)}, Test periods: {len(test_periods)}\")"
   ]
  },
  {
   "cell_type": "markdown",
   "metadata": {},
   "source": [
    "## Calcolo per curiosità i \"punteggi di sufficienza\" di ognuno dei 3 set"
   ]
  },
  {
   "cell_type": "code",
   "execution_count": 9,
   "metadata": {},
   "outputs": [],
   "source": [
    "# Parametri per calcola_rendimento_portafoglio_ideale\n",
    "initial_cash = 1000\n",
    "initial_btc = 0\n",
    "min_acquisto = 0\n",
    "min_vendita = 0\n",
    "perc_commissione_acquisto = 0\n",
    "perc_commissione_vendita = 0\n",
    "\n",
    "# Funzione per calcolare il punteggio di sufficienza medio per un insieme di periodi\n",
    "def calcola_punteggio_sufficienza_medio(periods):\n",
    "    punteggi_sufficienza = []\n",
    "    \n",
    "    for period in periods:\n",
    "        # Estrai la lista dei prezzi dal periodo\n",
    "        lista_prezzi = period['Price'].reset_index(drop=True)\n",
    "        \n",
    "        # Calcola il rendimento ideale\n",
    "        rendimento_ideale, _ = calcola_rendimento_portafoglio_ideale(\n",
    "            capitale_iniziale=initial_cash,\n",
    "            bitcoin_iniziali=initial_btc,\n",
    "            lista_prezzi=pd.Series(lista_prezzi),\n",
    "            min_acquisto=min_acquisto,\n",
    "            min_vendita=min_vendita,\n",
    "            perc_commissione_acquisto=perc_commissione_acquisto,\n",
    "            perc_commissione_vendita=perc_commissione_vendita\n",
    "        )\n",
    "        \n",
    "        # Calcola il punteggio di sufficienza per questo periodo\n",
    "        punteggio_sufficienza = 1 / rendimento_ideale\n",
    "        punteggi_sufficienza.append(punteggio_sufficienza)\n",
    "\n",
    "    # Calcola e restituisce il punteggio di sufficienza medio\n",
    "    punteggio_medio = np.mean(punteggi_sufficienza)\n",
    "    return punteggio_medio"
   ]
  },
  {
   "cell_type": "code",
   "execution_count": 10,
   "metadata": {},
   "outputs": [
    {
     "name": "stdout",
     "output_type": "stream",
     "text": [
      "Punteggio di sufficienza medio - Train: 0.7003\n",
      "Punteggio di sufficienza medio - Validation: 0.7011\n",
      "Punteggio di sufficienza medio - Test: 0.7095\n"
     ]
    }
   ],
   "source": [
    "# Calcola il punteggio di sufficienza medio per ciascun insieme\n",
    "punteggio_sufficienza_medio_train = calcola_punteggio_sufficienza_medio(train_periods)\n",
    "punteggio_sufficienza_medio_validation = calcola_punteggio_sufficienza_medio(validation_periods)\n",
    "punteggio_sufficienza_medio_test = calcola_punteggio_sufficienza_medio(test_periods)\n",
    "\n",
    "# Stampa i risultati\n",
    "print(f\"Punteggio di sufficienza medio - Train: {punteggio_sufficienza_medio_train:.4f}\")\n",
    "print(f\"Punteggio di sufficienza medio - Validation: {punteggio_sufficienza_medio_validation:.4f}\")\n",
    "print(f\"Punteggio di sufficienza medio - Test: {punteggio_sufficienza_medio_test:.4f}\")"
   ]
  },
  {
   "cell_type": "markdown",
   "metadata": {},
   "source": [
    "# Definizione dell'Ambiente Personalizzato TradingEnv per Train e Validation"
   ]
  },
  {
   "cell_type": "code",
   "execution_count": 11,
   "metadata": {},
   "outputs": [],
   "source": [
    "# class TradingEnv(gym.Env):\n",
    "#     def __init__(self, periods, initial_cash, initial_btc, L, info_columns, portfolio_metrics,\n",
    "#                  min_acquisto=0, min_vendita=0, perc_commissione_acquisto=0, perc_commissione_vendita=0):\n",
    "#         super(TradingEnv, self).__init__()\n",
    "        \n",
    "#         # Inizializzazione delle variabili di input\n",
    "#         self.periods = periods\n",
    "#         self.initial_cash = initial_cash\n",
    "#         self.initial_btc = initial_btc\n",
    "#         self.current_step = 0\n",
    "#         self.current_period = None\n",
    "#         self.initial_price = None\n",
    "#         self.L = L # Numero di giorni di osservazione\n",
    "#         self.period_index = 0\n",
    "\n",
    "#         # Parametri della funzione ideale\n",
    "#         self.min_acquisto = min_acquisto\n",
    "#         self.min_vendita = min_vendita\n",
    "#         self.perc_commissione_acquisto = perc_commissione_acquisto\n",
    "#         self.perc_commissione_vendita = perc_commissione_vendita\n",
    "\n",
    "#         # Definisci le colonne di informazione e le metriche del portafoglio\n",
    "#         self.info_columns = info_columns\n",
    "#         self.portfolio_metrics = portfolio_metrics\n",
    "\n",
    "#         # Calcola la dimensione dello spazio di osservazione in base a L e al numero di colonne e metriche\n",
    "#         self.num_info_columns = len(self.info_columns)\n",
    "#         self.observation_size = self.L * self.num_info_columns + len(self.portfolio_metrics)\n",
    "        \n",
    "#         # Definisce lo spazio di azione e di osservazione\n",
    "#         self.action_space = spaces.Box(low=-1, high=1, shape=(1,), dtype=np.float32)\n",
    "#         self.observation_space = spaces.Box(low=0, high=np.inf, shape=(self.observation_size,), dtype=np.float32)\n",
    "\n",
    "#     def reset(self):\n",
    "#         # Procede al prossimo periodo in sequenza\n",
    "#         self.current_period = self.periods[self.period_index].reset_index(drop=True)\n",
    "        \n",
    "#         # Aggiorna l'indice per il periodo successivo\n",
    "#         self.period_index = (self.period_index + 1) % len(self.periods)  # Ricomincia dall'inizio se finisce\n",
    "\n",
    "#         # Reset delle variabili del portafoglio\n",
    "#         self.current_step = 0\n",
    "#         self.cash = self.initial_cash\n",
    "#         self.btc = self.initial_btc\n",
    "#         self.initial_price = self.current_period['Price'].iloc[self.current_step]\n",
    "        \n",
    "#         # Costruzione delle metriche del portafoglio richieste\n",
    "#         self.valore_iniziale = self.cash + self.btc * self.initial_price\n",
    "#         self.lista_prezzi = [self.initial_price]\n",
    "        \n",
    "#         # Costruzione dell'osservazione iniziale\n",
    "#         obs = self.get_observation()\n",
    "#         return obs\n",
    "\n",
    "#     def step(self, action):\n",
    "#         percentage = action[0]\n",
    "#         price = self.current_period['Price'].iloc[self.current_step]\n",
    "\n",
    "#         # Gestione dell'azione (acquisto, vendita o nessuna azione)\n",
    "#         if percentage < 0:  # Vendita\n",
    "#             btc_to_sell = -percentage * self.btc\n",
    "#             self.btc -= btc_to_sell\n",
    "#             self.cash += btc_to_sell * price\n",
    "#         elif percentage > 0:  # Acquisto\n",
    "#             cash_to_spend = percentage * self.cash\n",
    "#             btc_bought = cash_to_spend / price\n",
    "#             self.btc += btc_bought\n",
    "#             self.cash -= cash_to_spend\n",
    "\n",
    "#         # Aggiorna l'indice temporale\n",
    "#         self.current_step += 1\n",
    "#         done = self.current_step >= len(self.current_period) - 1\n",
    "\n",
    "#         # Calcola il valore totale del portafoglio dell’agente\n",
    "#         total_value = self.cash + self.btc * price\n",
    "\n",
    "#         # Aggiungi il prezzo corrente a lista_prezzi per calcolare il rendimento ideale\n",
    "#         self.lista_prezzi.append(price)\n",
    "        \n",
    "#         # Calcola il rendimento ideale usando la funzione fornita\n",
    "#         rendimento_ideale, _ = calcola_rendimento_portafoglio_ideale(\n",
    "#             self.initial_cash, self.initial_btc, pd.Series(self.lista_prezzi), self.min_acquisto,\n",
    "#             self.min_vendita, self.perc_commissione_acquisto, self.perc_commissione_vendita\n",
    "#         )\n",
    "        \n",
    "#         # Calcola il rendimento dell'agente\n",
    "#         rendimento_agente = total_value / self.valore_iniziale\n",
    "        \n",
    "#         # Calcola il reward come il rapporto tra rendimento dell'agente e rendimento ideale\n",
    "#         reward = rendimento_agente / rendimento_ideale #if rendimento_ideale != 0 else 0\n",
    "\n",
    "#         # Restituisce l'osservazione aggiornata\n",
    "#         obs = self.get_observation()\n",
    "        \n",
    "#         return obs, reward, done, {}\n",
    "\n",
    "#     def get_observation(self):\n",
    "#         # Crea l'osservazione in base a L giorni di info_columns e le metriche del portafoglio\n",
    "#         obs = self.current_period[self.info_columns].values[:self.current_step + 1].flatten()\n",
    "#         obs = np.pad(obs, (0, self.L * self.num_info_columns - len(obs)), mode='constant')\n",
    "        \n",
    "#         # Costruisce l'osservazione delle metriche del portafoglio\n",
    "#         total_value = self.cash + self.btc * self.current_period['Price'].iloc[self.current_step]\n",
    "#         portfolio_obs = []\n",
    "#         if 'cash' in self.portfolio_metrics:\n",
    "#             portfolio_obs.append(self.cash)\n",
    "#         if 'btc' in self.portfolio_metrics:\n",
    "#             portfolio_obs.append(self.btc)\n",
    "#         if 'total_value' in self.portfolio_metrics:\n",
    "#             portfolio_obs.append(total_value)\n",
    "        \n",
    "#         # Aggiunge l'osservazione del portafoglio all'osservazione finale\n",
    "#         obs = np.append(obs, portfolio_obs)\n",
    "#         return obs\n",
    "\n",
    "#     def render(self):\n",
    "#         total_value = self.cash + self.btc * self.current_period['Price'].iloc[self.current_step]\n",
    "#         print(f'Step: {self.current_step}, Cash: {self.cash}, BTC: {self.btc}, Total Value: {total_value}')"
   ]
  },
  {
   "cell_type": "code",
   "execution_count": 12,
   "metadata": {},
   "outputs": [],
   "source": [
    "class TradingEnv(gym.Env):\n",
    "    def __init__(self, periods, initial_cash, initial_btc, L, info_columns, portfolio_metrics,\n",
    "                 min_acquisto=0, min_vendita=0, perc_commissione_acquisto=0, perc_commissione_vendita=0):\n",
    "        super(TradingEnv, self).__init__()\n",
    "        \n",
    "        # Inizializzazione delle variabili di input\n",
    "        self.periods = periods\n",
    "        self.initial_cash = initial_cash\n",
    "        self.initial_btc = initial_btc\n",
    "        self.current_step = 0\n",
    "        self.current_period = None\n",
    "        self.initial_price = None\n",
    "        self.L = L  # Numero di giorni di osservazione\n",
    "        self.period_index = 0\n",
    "\n",
    "        # Parametri della funzione ideale\n",
    "        self.min_acquisto = min_acquisto\n",
    "        self.min_vendita = min_vendita\n",
    "        self.perc_commissione_acquisto = perc_commissione_acquisto\n",
    "        self.perc_commissione_vendita = perc_commissione_vendita\n",
    "\n",
    "        # Definisce le colonne di informazione e le metriche del portafoglio\n",
    "        self.info_columns = info_columns\n",
    "        self.portfolio_metrics = portfolio_metrics\n",
    "\n",
    "        # Calcola la dimensione dello spazio di osservazione\n",
    "        self.num_info_columns = len(self.info_columns)\n",
    "        self.observation_size = self.L * self.num_info_columns + len(self.portfolio_metrics)\n",
    "        \n",
    "        # Spazio di azione e di osservazione\n",
    "        self.action_space = spaces.Box(low=-1, high=1, shape=(1,), dtype=np.float32)\n",
    "        self.observation_space = spaces.Box(low=0, high=np.inf, shape=(self.observation_size,), dtype=np.float32)\n",
    "\n",
    "    def reset(self):\n",
    "        # Procede al prossimo periodo in sequenza\n",
    "        self.current_period = self.periods[self.period_index].reset_index(drop=True)\n",
    "        \n",
    "        # Aggiorna l'indice per il periodo successivo\n",
    "        self.period_index = (self.period_index + 1) % len(self.periods)\n",
    "\n",
    "        # Reset delle variabili del portafoglio\n",
    "        self.current_step = 0\n",
    "        self.cash = self.initial_cash\n",
    "        self.btc = self.initial_btc\n",
    "        self.initial_price = self.current_period['Price'].iloc[self.current_step]\n",
    "        \n",
    "        # Valore iniziale del portafoglio e variabile per tracciare il valore del giorno precedente\n",
    "        self.valore_iniziale = self.cash + self.btc * self.initial_price\n",
    "        self.previous_total_value = self.valore_iniziale\n",
    "        \n",
    "        # Costruzione dell'osservazione iniziale\n",
    "        obs = self.get_observation()\n",
    "        return obs\n",
    "\n",
    "    def step(self, action):\n",
    "        percentage = action[0]\n",
    "        price = self.current_period['Price'].iloc[self.current_step]\n",
    "\n",
    "        # Gestione dell'azione (acquisto, vendita o nessuna azione)\n",
    "        if percentage < 0:  # Vendita\n",
    "            btc_to_sell = -percentage * self.btc\n",
    "            self.btc -= btc_to_sell\n",
    "            self.cash += btc_to_sell * price\n",
    "        elif percentage > 0:  # Acquisto\n",
    "            cash_to_spend = percentage * self.cash\n",
    "            btc_bought = cash_to_spend / price\n",
    "            self.btc += btc_bought\n",
    "            self.cash -= cash_to_spend\n",
    "\n",
    "        # Avanza al prossimo passo temporale\n",
    "        self.current_step += 1\n",
    "        done = self.current_step >= len(self.current_period) - 1\n",
    "\n",
    "        # Calcola il valore totale del portafoglio\n",
    "        total_value = self.cash + self.btc * price\n",
    "\n",
    "        # Calcola la variazione del portafoglio come reward\n",
    "        reward = total_value - self.previous_total_value\n",
    "        self.previous_total_value = total_value  # Aggiorna il valore del giorno precedente\n",
    "\n",
    "        # Costruisce l'osservazione aggiornata\n",
    "        obs = self.get_observation()\n",
    "        \n",
    "        return obs, reward, done, {}\n",
    "\n",
    "    def get_observation(self):\n",
    "        # Crea l'osservazione in base a L giorni di info_columns e alle metriche del portafoglio\n",
    "        obs = self.current_period[self.info_columns].values[:self.current_step + 1].flatten()\n",
    "        obs = np.pad(obs, (0, self.L * self.num_info_columns - len(obs)), mode='constant')\n",
    "        \n",
    "        # Costruisce l'osservazione delle metriche del portafoglio\n",
    "        total_value = self.cash + self.btc * self.current_period['Price'].iloc[self.current_step]\n",
    "        portfolio_obs = []\n",
    "        if 'cash' in self.portfolio_metrics:\n",
    "            portfolio_obs.append(self.cash)\n",
    "        if 'btc' in self.portfolio_metrics:\n",
    "            portfolio_obs.append(self.btc)\n",
    "        if 'total_value' in self.portfolio_metrics:\n",
    "            portfolio_obs.append(total_value)\n",
    "        \n",
    "        # Aggiunge l'osservazione del portafoglio all'osservazione finale\n",
    "        obs = np.append(obs, portfolio_obs)\n",
    "        return obs\n",
    "\n",
    "    def render(self):\n",
    "        total_value = self.cash + self.btc * self.current_period['Price'].iloc[self.current_step]\n",
    "        print(f'Step: {self.current_step}, Cash: {self.cash}, BTC: {self.btc}, Total Value: {total_value}')"
   ]
  },
  {
   "cell_type": "markdown",
   "metadata": {},
   "source": [
    "# Creare gli Ambienti di Addestramento e di Validazione"
   ]
  },
  {
   "cell_type": "code",
   "execution_count": 13,
   "metadata": {},
   "outputs": [],
   "source": [
    "liquidità_iniziale = 1000\n",
    "bitcoin_iniziali = 0\n",
    "L = 30\n",
    "info_columns = ['Price'] #['Price', 'Volume'] # Scegliere tra le colonne presenti nel dataset iniziale\n",
    "portfolio_metrics = ['total_value'] #['cash', 'btc', 'total_value'] # Scegliere tra 'cash', 'btc' e 'total_value' (o una combinazione di questi)\n",
    "train_env = TradingEnv(periods=train_periods, initial_cash=liquidità_iniziale, initial_btc=bitcoin_iniziali, L=L, info_columns=info_columns, portfolio_metrics=portfolio_metrics)\n",
    "validation_env = TradingEnv(periods=validation_periods, initial_cash=liquidità_iniziale, initial_btc=bitcoin_iniziali, L=L, info_columns=info_columns, portfolio_metrics=portfolio_metrics)"
   ]
  },
  {
   "cell_type": "markdown",
   "metadata": {},
   "source": [
    "# Addestrare l'Agente con Monitoraggio su validation"
   ]
  },
  {
   "cell_type": "code",
   "execution_count": 14,
   "metadata": {},
   "outputs": [
    {
     "name": "stdout",
     "output_type": "stream",
     "text": [
      "Using cpu device\n",
      "Wrapping the env with a `Monitor` wrapper\n",
      "Wrapping the env in a DummyVecEnv.\n",
      "\n",
      "--- Epoch 1/100000 ---\n",
      "Average training reward for epoch 1: 30.998392383295823\n",
      "Average validation reward at epoch 1: 24.764878921451484\n",
      "New best model saved with validation reward 24.764878921451484\n",
      "\n",
      "--- Epoch 2/100000 ---\n",
      "Average training reward for epoch 2: 32.12013548213413\n",
      "Average validation reward at epoch 2: 23.100513622084762\n",
      "No improvement count: 1/150\n",
      "Best validation reward so far: 24.764878921451484\n",
      "\n",
      "--- Epoch 3/100000 ---\n",
      "Average training reward for epoch 3: 28.31862032075718\n",
      "Average validation reward at epoch 3: 38.020279133383305\n",
      "New best model saved with validation reward 38.020279133383305\n",
      "\n",
      "--- Epoch 4/100000 ---\n",
      "Average training reward for epoch 4: 31.309456471667403\n",
      "Average validation reward at epoch 4: 25.921360232184327\n",
      "No improvement count: 1/150\n",
      "Best validation reward so far: 38.020279133383305\n",
      "\n",
      "--- Epoch 5/100000 ---\n",
      "Average training reward for epoch 5: 29.7034586426872\n",
      "Average validation reward at epoch 5: 33.23535770907558\n",
      "No improvement count: 2/150\n",
      "Best validation reward so far: 38.020279133383305\n",
      "\n",
      "--- Epoch 6/100000 ---\n",
      "Average training reward for epoch 6: 33.36841583647742\n",
      "Average validation reward at epoch 6: 25.351016141516816\n",
      "No improvement count: 3/150\n",
      "Best validation reward so far: 38.020279133383305\n",
      "\n",
      "--- Epoch 7/100000 ---\n",
      "Average training reward for epoch 7: 31.454936747617154\n",
      "Average validation reward at epoch 7: 27.930937171347\n",
      "No improvement count: 4/150\n",
      "Best validation reward so far: 38.020279133383305\n",
      "\n",
      "--- Epoch 8/100000 ---\n",
      "Average training reward for epoch 8: 29.0837745488575\n",
      "Average validation reward at epoch 8: 31.091849402734265\n",
      "No improvement count: 5/150\n",
      "Best validation reward so far: 38.020279133383305\n",
      "\n",
      "--- Epoch 9/100000 ---\n",
      "Average training reward for epoch 9: 30.63330609562303\n",
      "Average validation reward at epoch 9: 20.896041211749644\n",
      "No improvement count: 6/150\n",
      "Best validation reward so far: 38.020279133383305\n",
      "\n",
      "--- Epoch 10/100000 ---\n",
      "Average training reward for epoch 10: 31.908871729466906\n",
      "Average validation reward at epoch 10: 32.019533082214835\n",
      "No improvement count: 7/150\n",
      "Best validation reward so far: 38.020279133383305\n",
      "\n",
      "--- Epoch 11/100000 ---\n",
      "Average training reward for epoch 11: 32.6725932217306\n",
      "Average validation reward at epoch 11: 27.942937382950593\n",
      "No improvement count: 8/150\n",
      "Best validation reward so far: 38.020279133383305\n",
      "\n",
      "--- Epoch 12/100000 ---\n",
      "Average training reward for epoch 12: 33.930801732269174\n",
      "Average validation reward at epoch 12: 28.107601054408107\n",
      "No improvement count: 9/150\n",
      "Best validation reward so far: 38.020279133383305\n",
      "\n",
      "--- Epoch 13/100000 ---\n",
      "Average training reward for epoch 13: 33.24661323419342\n",
      "Average validation reward at epoch 13: 33.7686439856483\n",
      "No improvement count: 10/150\n",
      "Best validation reward so far: 38.020279133383305\n",
      "\n",
      "--- Epoch 14/100000 ---\n",
      "Average training reward for epoch 14: 31.72651706268678\n",
      "Average validation reward at epoch 14: 28.28387953762091\n",
      "No improvement count: 11/150\n",
      "Best validation reward so far: 38.020279133383305\n",
      "\n",
      "--- Epoch 15/100000 ---\n",
      "Average training reward for epoch 15: 31.35355023838031\n",
      "Average validation reward at epoch 15: 25.972737592978778\n",
      "No improvement count: 12/150\n",
      "Best validation reward so far: 38.020279133383305\n",
      "\n",
      "--- Epoch 16/100000 ---\n",
      "Average training reward for epoch 16: 29.922170713983565\n",
      "Average validation reward at epoch 16: 28.113397352376936\n",
      "No improvement count: 13/150\n",
      "Best validation reward so far: 38.020279133383305\n",
      "\n",
      "--- Epoch 17/100000 ---\n",
      "Average training reward for epoch 17: 31.542757485096278\n",
      "Average validation reward at epoch 17: 30.221164815146754\n",
      "No improvement count: 14/150\n",
      "Best validation reward so far: 38.020279133383305\n",
      "\n",
      "--- Epoch 18/100000 ---\n",
      "Average training reward for epoch 18: 31.802295759638906\n",
      "Average validation reward at epoch 18: 32.988689936982084\n",
      "No improvement count: 15/150\n",
      "Best validation reward so far: 38.020279133383305\n",
      "\n",
      "--- Epoch 19/100000 ---\n",
      "Average training reward for epoch 19: 30.168043193877477\n",
      "Average validation reward at epoch 19: 28.172699862160847\n",
      "No improvement count: 16/150\n",
      "Best validation reward so far: 38.020279133383305\n",
      "\n",
      "--- Epoch 20/100000 ---\n",
      "Average training reward for epoch 20: 28.989030698388664\n",
      "Average validation reward at epoch 20: 38.11856851398549\n",
      "New best model saved with validation reward 38.11856851398549\n",
      "\n",
      "--- Epoch 21/100000 ---\n",
      "Average training reward for epoch 21: 28.80723425973076\n",
      "Average validation reward at epoch 21: 28.777068856240227\n",
      "No improvement count: 1/150\n",
      "Best validation reward so far: 38.11856851398549\n",
      "\n",
      "--- Epoch 22/100000 ---\n",
      "Average training reward for epoch 22: 31.04228886452966\n",
      "Average validation reward at epoch 22: 30.87660064509841\n",
      "No improvement count: 2/150\n",
      "Best validation reward so far: 38.11856851398549\n",
      "\n",
      "--- Epoch 23/100000 ---\n",
      "Average training reward for epoch 23: 30.182753866978704\n",
      "Average validation reward at epoch 23: 28.366387075327054\n",
      "No improvement count: 3/150\n",
      "Best validation reward so far: 38.11856851398549\n",
      "\n",
      "--- Epoch 24/100000 ---\n",
      "Average training reward for epoch 24: 32.142526201528845\n",
      "Average validation reward at epoch 24: 25.223440393927323\n",
      "No improvement count: 4/150\n",
      "Best validation reward so far: 38.11856851398549\n",
      "\n",
      "--- Epoch 25/100000 ---\n",
      "Average training reward for epoch 25: 31.118820879529544\n",
      "Average validation reward at epoch 25: 25.95199576217127\n",
      "No improvement count: 5/150\n",
      "Best validation reward so far: 38.11856851398549\n",
      "\n",
      "--- Epoch 26/100000 ---\n",
      "Average training reward for epoch 26: 31.94841752190252\n",
      "Average validation reward at epoch 26: 28.40803938919473\n",
      "No improvement count: 6/150\n",
      "Best validation reward so far: 38.11856851398549\n",
      "\n",
      "--- Epoch 27/100000 ---\n",
      "Average training reward for epoch 27: 30.343652051822264\n",
      "Average validation reward at epoch 27: 32.19065066687026\n",
      "No improvement count: 7/150\n",
      "Best validation reward so far: 38.11856851398549\n",
      "\n",
      "--- Epoch 28/100000 ---\n",
      "Average training reward for epoch 28: 31.327981539181533\n",
      "Average validation reward at epoch 28: 27.19498089921928\n",
      "No improvement count: 8/150\n",
      "Best validation reward so far: 38.11856851398549\n",
      "\n",
      "--- Epoch 29/100000 ---\n",
      "Average training reward for epoch 29: 30.625097864042896\n",
      "Average validation reward at epoch 29: 28.956795048520515\n",
      "No improvement count: 9/150\n",
      "Best validation reward so far: 38.11856851398549\n",
      "\n",
      "--- Epoch 30/100000 ---\n",
      "Average training reward for epoch 30: 32.414478395077865\n",
      "Average validation reward at epoch 30: 23.00358187837253\n",
      "No improvement count: 10/150\n",
      "Best validation reward so far: 38.11856851398549\n",
      "\n",
      "--- Epoch 31/100000 ---\n",
      "Average training reward for epoch 31: 33.81010024277376\n",
      "Average validation reward at epoch 31: 28.106755397913314\n",
      "No improvement count: 11/150\n",
      "Best validation reward so far: 38.11856851398549\n",
      "\n",
      "--- Epoch 32/100000 ---\n",
      "Average training reward for epoch 32: 33.41401373295916\n",
      "Average validation reward at epoch 32: 30.928330418371235\n",
      "No improvement count: 12/150\n",
      "Best validation reward so far: 38.11856851398549\n",
      "\n",
      "--- Epoch 33/100000 ---\n",
      "Average training reward for epoch 33: 34.96073688609636\n",
      "Average validation reward at epoch 33: 29.499582808485073\n",
      "No improvement count: 13/150\n",
      "Best validation reward so far: 38.11856851398549\n",
      "\n",
      "--- Epoch 34/100000 ---\n",
      "Average training reward for epoch 34: 32.86849017421841\n",
      "Average validation reward at epoch 34: 34.092623733848875\n",
      "No improvement count: 14/150\n",
      "Best validation reward so far: 38.11856851398549\n",
      "\n",
      "--- Epoch 35/100000 ---\n",
      "Average training reward for epoch 35: 29.171963395724717\n",
      "Average validation reward at epoch 35: 26.986884673450973\n",
      "No improvement count: 15/150\n",
      "Best validation reward so far: 38.11856851398549\n",
      "\n",
      "--- Epoch 36/100000 ---\n",
      "Average training reward for epoch 36: 31.715153029782737\n",
      "Average validation reward at epoch 36: 26.647154274565516\n",
      "No improvement count: 16/150\n",
      "Best validation reward so far: 38.11856851398549\n",
      "\n",
      "--- Epoch 37/100000 ---\n",
      "Average training reward for epoch 37: 30.718097006367838\n",
      "Average validation reward at epoch 37: 30.066363258838237\n",
      "No improvement count: 17/150\n",
      "Best validation reward so far: 38.11856851398549\n",
      "\n",
      "--- Epoch 38/100000 ---\n",
      "Average training reward for epoch 38: 33.24193477871732\n",
      "Average validation reward at epoch 38: 31.920219340585668\n",
      "No improvement count: 18/150\n",
      "Best validation reward so far: 38.11856851398549\n",
      "\n",
      "--- Epoch 39/100000 ---\n",
      "Average training reward for epoch 39: 34.542084587872424\n",
      "Average validation reward at epoch 39: 27.400486118165396\n",
      "No improvement count: 19/150\n",
      "Best validation reward so far: 38.11856851398549\n",
      "\n",
      "--- Epoch 40/100000 ---\n",
      "Average training reward for epoch 40: 31.37045671540243\n",
      "Average validation reward at epoch 40: 22.903213927703156\n",
      "No improvement count: 20/150\n",
      "Best validation reward so far: 38.11856851398549\n",
      "\n",
      "--- Epoch 41/100000 ---\n",
      "Average training reward for epoch 41: 31.176190985811406\n",
      "Average validation reward at epoch 41: 33.706076842058394\n",
      "No improvement count: 21/150\n",
      "Best validation reward so far: 38.11856851398549\n",
      "\n",
      "--- Epoch 42/100000 ---\n",
      "Average training reward for epoch 42: 31.77364059712977\n",
      "Average validation reward at epoch 42: 31.772219645953186\n",
      "No improvement count: 22/150\n",
      "Best validation reward so far: 38.11856851398549\n",
      "\n",
      "--- Epoch 43/100000 ---\n",
      "Average training reward for epoch 43: 33.71746543573807\n",
      "Average validation reward at epoch 43: 33.491574506244525\n",
      "No improvement count: 23/150\n",
      "Best validation reward so far: 38.11856851398549\n",
      "\n",
      "--- Epoch 44/100000 ---\n",
      "Average training reward for epoch 44: 34.54104409370905\n",
      "Average validation reward at epoch 44: 30.7507364493764\n",
      "No improvement count: 24/150\n",
      "Best validation reward so far: 38.11856851398549\n",
      "\n",
      "--- Epoch 45/100000 ---\n",
      "Average training reward for epoch 45: 31.11707975731457\n",
      "Average validation reward at epoch 45: 24.752564534992814\n",
      "No improvement count: 25/150\n",
      "Best validation reward so far: 38.11856851398549\n",
      "\n",
      "--- Epoch 46/100000 ---\n",
      "Average training reward for epoch 46: 31.554352410757488\n",
      "Average validation reward at epoch 46: 23.793916929099645\n",
      "No improvement count: 26/150\n",
      "Best validation reward so far: 38.11856851398549\n",
      "\n",
      "--- Epoch 47/100000 ---\n",
      "Average training reward for epoch 47: 31.862430539646088\n",
      "Average validation reward at epoch 47: 34.530375674947436\n",
      "No improvement count: 27/150\n",
      "Best validation reward so far: 38.11856851398549\n",
      "\n",
      "--- Epoch 48/100000 ---\n",
      "Average training reward for epoch 48: 28.95466020250834\n",
      "Average validation reward at epoch 48: 30.21888089007013\n",
      "No improvement count: 28/150\n",
      "Best validation reward so far: 38.11856851398549\n",
      "\n",
      "--- Epoch 49/100000 ---\n",
      "Average training reward for epoch 49: 31.628273221041447\n",
      "Average validation reward at epoch 49: 28.428492336629052\n",
      "No improvement count: 29/150\n",
      "Best validation reward so far: 38.11856851398549\n",
      "\n",
      "--- Epoch 50/100000 ---\n",
      "Average training reward for epoch 50: 31.675407324558773\n",
      "Average validation reward at epoch 50: 25.15874105609461\n",
      "No improvement count: 30/150\n",
      "Best validation reward so far: 38.11856851398549\n",
      "\n",
      "--- Epoch 51/100000 ---\n",
      "Average training reward for epoch 51: 31.382393911845355\n",
      "Average validation reward at epoch 51: 17.389344518208965\n",
      "No improvement count: 31/150\n",
      "Best validation reward so far: 38.11856851398549\n",
      "\n",
      "--- Epoch 52/100000 ---\n",
      "Average training reward for epoch 52: 29.722779874837002\n",
      "Average validation reward at epoch 52: 23.610838847506137\n",
      "No improvement count: 32/150\n",
      "Best validation reward so far: 38.11856851398549\n",
      "\n",
      "--- Epoch 53/100000 ---\n",
      "Average training reward for epoch 53: 30.85519398813425\n",
      "Average validation reward at epoch 53: 25.55371380263201\n",
      "No improvement count: 33/150\n",
      "Best validation reward so far: 38.11856851398549\n",
      "\n",
      "--- Epoch 54/100000 ---\n",
      "Average training reward for epoch 54: 31.08664550324868\n",
      "Average validation reward at epoch 54: 26.73865051487782\n",
      "No improvement count: 34/150\n",
      "Best validation reward so far: 38.11856851398549\n",
      "\n",
      "--- Epoch 55/100000 ---\n",
      "Average training reward for epoch 55: 33.551588805276324\n",
      "Average validation reward at epoch 55: 26.012052954341755\n",
      "No improvement count: 35/150\n",
      "Best validation reward so far: 38.11856851398549\n",
      "\n",
      "--- Epoch 56/100000 ---\n",
      "Average training reward for epoch 56: 31.22431189033503\n",
      "Average validation reward at epoch 56: 29.308274761554177\n",
      "No improvement count: 36/150\n",
      "Best validation reward so far: 38.11856851398549\n",
      "\n",
      "--- Epoch 57/100000 ---\n",
      "Average training reward for epoch 57: 30.620819338879592\n",
      "Average validation reward at epoch 57: 27.550448680655943\n",
      "No improvement count: 37/150\n",
      "Best validation reward so far: 38.11856851398549\n",
      "\n",
      "--- Epoch 58/100000 ---\n",
      "Average training reward for epoch 58: 31.477223243023865\n",
      "Average validation reward at epoch 58: 29.45534828786356\n",
      "No improvement count: 38/150\n",
      "Best validation reward so far: 38.11856851398549\n",
      "\n",
      "--- Epoch 59/100000 ---\n",
      "Average training reward for epoch 59: 28.302771202322692\n",
      "Average validation reward at epoch 59: 34.884789872969776\n",
      "No improvement count: 39/150\n",
      "Best validation reward so far: 38.11856851398549\n",
      "\n",
      "--- Epoch 60/100000 ---\n",
      "Average training reward for epoch 60: 32.52963772702847\n",
      "Average validation reward at epoch 60: 23.628966868201534\n",
      "No improvement count: 40/150\n",
      "Best validation reward so far: 38.11856851398549\n",
      "\n",
      "--- Epoch 61/100000 ---\n",
      "Average training reward for epoch 61: 31.276309788761186\n",
      "Average validation reward at epoch 61: 28.544230126325168\n",
      "No improvement count: 41/150\n",
      "Best validation reward so far: 38.11856851398549\n",
      "\n",
      "--- Epoch 62/100000 ---\n",
      "Average training reward for epoch 62: 32.86090125744762\n",
      "Average validation reward at epoch 62: 26.595955379254466\n",
      "No improvement count: 42/150\n",
      "Best validation reward so far: 38.11856851398549\n",
      "\n",
      "--- Epoch 63/100000 ---\n",
      "Average training reward for epoch 63: 30.494385268646607\n",
      "Average validation reward at epoch 63: 30.213570391025602\n",
      "No improvement count: 43/150\n",
      "Best validation reward so far: 38.11856851398549\n",
      "\n",
      "--- Epoch 64/100000 ---\n",
      "Average training reward for epoch 64: 30.00810828242696\n",
      "Average validation reward at epoch 64: 34.3339819067285\n",
      "No improvement count: 44/150\n",
      "Best validation reward so far: 38.11856851398549\n",
      "\n",
      "--- Epoch 65/100000 ---\n",
      "Average training reward for epoch 65: 31.386111181213955\n",
      "Average validation reward at epoch 65: 25.45440715638882\n",
      "No improvement count: 45/150\n",
      "Best validation reward so far: 38.11856851398549\n",
      "\n",
      "--- Epoch 66/100000 ---\n",
      "Average training reward for epoch 66: 33.0998045012753\n",
      "Average validation reward at epoch 66: 23.52610897981589\n",
      "No improvement count: 46/150\n",
      "Best validation reward so far: 38.11856851398549\n",
      "\n",
      "--- Epoch 67/100000 ---\n",
      "Average training reward for epoch 67: 32.69188194399082\n",
      "Average validation reward at epoch 67: 24.502001924602318\n",
      "No improvement count: 47/150\n",
      "Best validation reward so far: 38.11856851398549\n",
      "\n",
      "--- Epoch 68/100000 ---\n",
      "Average training reward for epoch 68: 30.93509688335834\n",
      "Average validation reward at epoch 68: 27.13890601575165\n",
      "No improvement count: 48/150\n",
      "Best validation reward so far: 38.11856851398549\n",
      "\n",
      "--- Epoch 69/100000 ---\n",
      "Average training reward for epoch 69: 29.204901595823273\n",
      "Average validation reward at epoch 69: 39.627231914986744\n",
      "New best model saved with validation reward 39.627231914986744\n",
      "\n",
      "--- Epoch 70/100000 ---\n",
      "Average training reward for epoch 70: 33.425040191244506\n",
      "Average validation reward at epoch 70: 26.949258349209824\n",
      "No improvement count: 1/150\n",
      "Best validation reward so far: 39.627231914986744\n",
      "\n",
      "--- Epoch 71/100000 ---\n",
      "Average training reward for epoch 71: 28.16828304916566\n",
      "Average validation reward at epoch 71: 31.75628469334055\n",
      "No improvement count: 2/150\n",
      "Best validation reward so far: 39.627231914986744\n",
      "\n",
      "--- Epoch 72/100000 ---\n",
      "Average training reward for epoch 72: 30.17366726456559\n",
      "Average validation reward at epoch 72: 35.86819032754272\n",
      "No improvement count: 3/150\n",
      "Best validation reward so far: 39.627231914986744\n",
      "\n",
      "--- Epoch 73/100000 ---\n",
      "Average training reward for epoch 73: 29.31535936477219\n",
      "Average validation reward at epoch 73: 35.216148241096526\n",
      "No improvement count: 4/150\n",
      "Best validation reward so far: 39.627231914986744\n",
      "\n",
      "--- Epoch 74/100000 ---\n",
      "Average training reward for epoch 74: 29.400838679983007\n",
      "Average validation reward at epoch 74: 25.10664327283845\n",
      "No improvement count: 5/150\n",
      "Best validation reward so far: 39.627231914986744\n",
      "\n",
      "--- Epoch 75/100000 ---\n",
      "Average training reward for epoch 75: 30.35415252052616\n",
      "Average validation reward at epoch 75: 25.013519949506584\n",
      "No improvement count: 6/150\n",
      "Best validation reward so far: 39.627231914986744\n",
      "\n",
      "--- Epoch 76/100000 ---\n",
      "Average training reward for epoch 76: 28.460160170150523\n",
      "Average validation reward at epoch 76: 23.68509406417223\n",
      "No improvement count: 7/150\n",
      "Best validation reward so far: 39.627231914986744\n",
      "\n",
      "--- Epoch 77/100000 ---\n",
      "Average training reward for epoch 77: 32.01097230060156\n",
      "Average validation reward at epoch 77: 29.14264814906934\n",
      "No improvement count: 8/150\n",
      "Best validation reward so far: 39.627231914986744\n",
      "\n",
      "--- Epoch 78/100000 ---\n",
      "Average training reward for epoch 78: 29.773426666781422\n",
      "Average validation reward at epoch 78: 27.948180273510005\n",
      "No improvement count: 9/150\n",
      "Best validation reward so far: 39.627231914986744\n",
      "\n",
      "--- Epoch 79/100000 ---\n",
      "Average training reward for epoch 79: 35.54967845697205\n",
      "Average validation reward at epoch 79: 32.06742511376438\n",
      "No improvement count: 10/150\n",
      "Best validation reward so far: 39.627231914986744\n",
      "\n",
      "--- Epoch 80/100000 ---\n",
      "Average training reward for epoch 80: 32.26877711005595\n",
      "Average validation reward at epoch 80: 30.06455381640082\n",
      "No improvement count: 11/150\n",
      "Best validation reward so far: 39.627231914986744\n",
      "\n",
      "--- Epoch 81/100000 ---\n",
      "Average training reward for epoch 81: 32.306427514955956\n",
      "Average validation reward at epoch 81: 24.707436228651947\n",
      "No improvement count: 12/150\n",
      "Best validation reward so far: 39.627231914986744\n",
      "\n",
      "--- Epoch 82/100000 ---\n",
      "Average training reward for epoch 82: 32.59101210497322\n",
      "Average validation reward at epoch 82: 29.884473659546536\n",
      "No improvement count: 13/150\n",
      "Best validation reward so far: 39.627231914986744\n",
      "\n",
      "--- Epoch 83/100000 ---\n",
      "Average training reward for epoch 83: 30.492876243329448\n",
      "Average validation reward at epoch 83: 22.499950107995268\n",
      "No improvement count: 14/150\n",
      "Best validation reward so far: 39.627231914986744\n",
      "\n",
      "--- Epoch 84/100000 ---\n",
      "Average training reward for epoch 84: 30.305468605062288\n",
      "Average validation reward at epoch 84: 23.43691130256518\n",
      "No improvement count: 15/150\n",
      "Best validation reward so far: 39.627231914986744\n",
      "\n",
      "--- Epoch 85/100000 ---\n",
      "Average training reward for epoch 85: 31.096579280269893\n",
      "Average validation reward at epoch 85: 31.62912681628556\n",
      "No improvement count: 16/150\n",
      "Best validation reward so far: 39.627231914986744\n",
      "\n",
      "--- Epoch 86/100000 ---\n",
      "Average training reward for epoch 86: 31.769546498833783\n",
      "Average validation reward at epoch 86: 32.95490018214091\n",
      "No improvement count: 17/150\n",
      "Best validation reward so far: 39.627231914986744\n",
      "\n",
      "--- Epoch 87/100000 ---\n",
      "Average training reward for epoch 87: 33.406887596357215\n",
      "Average validation reward at epoch 87: 29.111369785460084\n",
      "No improvement count: 18/150\n",
      "Best validation reward so far: 39.627231914986744\n",
      "\n",
      "--- Epoch 88/100000 ---\n",
      "Average training reward for epoch 88: 33.7432454326621\n",
      "Average validation reward at epoch 88: 22.66757215970019\n",
      "No improvement count: 19/150\n",
      "Best validation reward so far: 39.627231914986744\n",
      "\n",
      "--- Epoch 89/100000 ---\n",
      "Average training reward for epoch 89: 33.13027949258732\n",
      "Average validation reward at epoch 89: 22.521718106748537\n",
      "No improvement count: 20/150\n",
      "Best validation reward so far: 39.627231914986744\n",
      "\n",
      "--- Epoch 90/100000 ---\n",
      "Average training reward for epoch 90: 30.78335315725151\n",
      "Average validation reward at epoch 90: 28.297363649164186\n",
      "No improvement count: 21/150\n",
      "Best validation reward so far: 39.627231914986744\n",
      "\n",
      "--- Epoch 91/100000 ---\n",
      "Average training reward for epoch 91: 31.12046918450354\n",
      "Average validation reward at epoch 91: 26.45073614520051\n",
      "No improvement count: 22/150\n",
      "Best validation reward so far: 39.627231914986744\n",
      "\n",
      "--- Epoch 92/100000 ---\n",
      "Average training reward for epoch 92: 31.183299953242827\n",
      "Average validation reward at epoch 92: 29.721336117468642\n",
      "No improvement count: 23/150\n",
      "Best validation reward so far: 39.627231914986744\n",
      "\n",
      "--- Epoch 93/100000 ---\n",
      "Average training reward for epoch 93: 31.689295596087405\n",
      "Average validation reward at epoch 93: 27.097527990353527\n",
      "No improvement count: 24/150\n",
      "Best validation reward so far: 39.627231914986744\n",
      "\n",
      "--- Epoch 94/100000 ---\n",
      "Average training reward for epoch 94: 32.82812359317983\n",
      "Average validation reward at epoch 94: 30.095490932724097\n",
      "No improvement count: 25/150\n",
      "Best validation reward so far: 39.627231914986744\n",
      "\n",
      "--- Epoch 95/100000 ---\n",
      "Average training reward for epoch 95: 32.773224917832565\n",
      "Average validation reward at epoch 95: 24.392581101045565\n",
      "No improvement count: 26/150\n",
      "Best validation reward so far: 39.627231914986744\n",
      "\n",
      "--- Epoch 96/100000 ---\n",
      "Average training reward for epoch 96: 31.754924275548163\n",
      "Average validation reward at epoch 96: 25.744053485367413\n",
      "No improvement count: 27/150\n",
      "Best validation reward so far: 39.627231914986744\n",
      "\n",
      "--- Epoch 97/100000 ---\n",
      "Average training reward for epoch 97: 31.64665133425615\n",
      "Average validation reward at epoch 97: 21.06875681460878\n",
      "No improvement count: 28/150\n",
      "Best validation reward so far: 39.627231914986744\n",
      "\n",
      "--- Epoch 98/100000 ---\n",
      "Average training reward for epoch 98: 30.79738462840999\n",
      "Average validation reward at epoch 98: 31.26867988840177\n",
      "No improvement count: 29/150\n",
      "Best validation reward so far: 39.627231914986744\n",
      "\n",
      "--- Epoch 99/100000 ---\n",
      "Average training reward for epoch 99: 31.482471196511483\n",
      "Average validation reward at epoch 99: 30.34274780129329\n",
      "No improvement count: 30/150\n",
      "Best validation reward so far: 39.627231914986744\n",
      "\n",
      "--- Epoch 100/100000 ---\n",
      "Average training reward for epoch 100: 35.43903910587752\n",
      "Average validation reward at epoch 100: 30.814895779882384\n",
      "No improvement count: 31/150\n",
      "Best validation reward so far: 39.627231914986744\n",
      "\n",
      "--- Epoch 101/100000 ---\n",
      "Average training reward for epoch 101: 29.440890405784547\n",
      "Average validation reward at epoch 101: 33.93731515974528\n",
      "No improvement count: 32/150\n",
      "Best validation reward so far: 39.627231914986744\n",
      "\n",
      "--- Epoch 102/100000 ---\n",
      "Average training reward for epoch 102: 28.345032281954946\n",
      "Average validation reward at epoch 102: 25.839774144517616\n",
      "No improvement count: 33/150\n",
      "Best validation reward so far: 39.627231914986744\n",
      "\n",
      "--- Epoch 103/100000 ---\n",
      "Average training reward for epoch 103: 32.059525928531116\n",
      "Average validation reward at epoch 103: 31.153324388223208\n",
      "No improvement count: 34/150\n",
      "Best validation reward so far: 39.627231914986744\n",
      "\n",
      "--- Epoch 104/100000 ---\n",
      "Average training reward for epoch 104: 32.55814411398414\n",
      "Average validation reward at epoch 104: 28.212968877278698\n",
      "No improvement count: 35/150\n",
      "Best validation reward so far: 39.627231914986744\n",
      "\n",
      "--- Epoch 105/100000 ---\n",
      "Average training reward for epoch 105: 32.33403494975645\n",
      "Average validation reward at epoch 105: 26.146936333998102\n",
      "No improvement count: 36/150\n",
      "Best validation reward so far: 39.627231914986744\n",
      "\n",
      "--- Epoch 106/100000 ---\n",
      "Average training reward for epoch 106: 28.112606646051116\n",
      "Average validation reward at epoch 106: 33.94411785680173\n",
      "No improvement count: 37/150\n",
      "Best validation reward so far: 39.627231914986744\n",
      "\n",
      "--- Epoch 107/100000 ---\n",
      "Average training reward for epoch 107: 33.68198438092769\n",
      "Average validation reward at epoch 107: 22.36822943158614\n",
      "No improvement count: 38/150\n",
      "Best validation reward so far: 39.627231914986744\n",
      "\n",
      "--- Epoch 108/100000 ---\n",
      "Average training reward for epoch 108: 32.148167971302996\n",
      "Average validation reward at epoch 108: 20.44443211353955\n",
      "No improvement count: 39/150\n",
      "Best validation reward so far: 39.627231914986744\n",
      "\n",
      "--- Epoch 109/100000 ---\n",
      "Average training reward for epoch 109: 33.25295876832649\n",
      "Average validation reward at epoch 109: 27.93815389961929\n",
      "No improvement count: 40/150\n",
      "Best validation reward so far: 39.627231914986744\n",
      "\n",
      "--- Epoch 110/100000 ---\n",
      "Average training reward for epoch 110: 32.46542016265529\n",
      "Average validation reward at epoch 110: 26.82592090275263\n",
      "No improvement count: 41/150\n",
      "Best validation reward so far: 39.627231914986744\n",
      "\n",
      "--- Epoch 111/100000 ---\n",
      "Average training reward for epoch 111: 28.170702197327202\n",
      "Average validation reward at epoch 111: 24.49171180618492\n",
      "No improvement count: 42/150\n",
      "Best validation reward so far: 39.627231914986744\n",
      "\n",
      "--- Epoch 112/100000 ---\n",
      "Average training reward for epoch 112: 30.28345120424605\n",
      "Average validation reward at epoch 112: 33.43789417167536\n",
      "No improvement count: 43/150\n",
      "Best validation reward so far: 39.627231914986744\n",
      "\n",
      "--- Epoch 113/100000 ---\n",
      "Average training reward for epoch 113: 31.451536770712647\n",
      "Average validation reward at epoch 113: 29.559999074160924\n",
      "No improvement count: 44/150\n",
      "Best validation reward so far: 39.627231914986744\n",
      "\n",
      "--- Epoch 114/100000 ---\n",
      "Average training reward for epoch 114: 32.241216875543635\n",
      "Average validation reward at epoch 114: 24.31596383316967\n",
      "No improvement count: 45/150\n",
      "Best validation reward so far: 39.627231914986744\n",
      "\n",
      "--- Epoch 115/100000 ---\n",
      "Average training reward for epoch 115: 30.676413852503615\n",
      "Average validation reward at epoch 115: 28.75315845009254\n",
      "No improvement count: 46/150\n",
      "Best validation reward so far: 39.627231914986744\n",
      "\n",
      "--- Epoch 116/100000 ---\n",
      "Average training reward for epoch 116: 30.5986221144208\n",
      "Average validation reward at epoch 116: 23.863333038208946\n",
      "No improvement count: 47/150\n",
      "Best validation reward so far: 39.627231914986744\n",
      "\n",
      "--- Epoch 117/100000 ---\n",
      "Average training reward for epoch 117: 29.34670552232798\n",
      "Average validation reward at epoch 117: 26.729836914809905\n",
      "No improvement count: 48/150\n",
      "Best validation reward so far: 39.627231914986744\n",
      "\n",
      "--- Epoch 118/100000 ---\n",
      "Average training reward for epoch 118: 30.59135123481483\n",
      "Average validation reward at epoch 118: 26.444077162363836\n",
      "No improvement count: 49/150\n",
      "Best validation reward so far: 39.627231914986744\n",
      "\n",
      "--- Epoch 119/100000 ---\n",
      "Average training reward for epoch 119: 31.144451641198575\n",
      "Average validation reward at epoch 119: 27.853863163196273\n",
      "No improvement count: 50/150\n",
      "Best validation reward so far: 39.627231914986744\n",
      "\n",
      "--- Epoch 120/100000 ---\n",
      "Average training reward for epoch 120: 32.144891259863215\n",
      "Average validation reward at epoch 120: 22.896331652034185\n",
      "No improvement count: 51/150\n",
      "Best validation reward so far: 39.627231914986744\n",
      "\n",
      "--- Epoch 121/100000 ---\n",
      "Average training reward for epoch 121: 33.110820819447056\n",
      "Average validation reward at epoch 121: 31.722784956108512\n",
      "No improvement count: 52/150\n",
      "Best validation reward so far: 39.627231914986744\n",
      "\n",
      "--- Epoch 122/100000 ---\n",
      "Average training reward for epoch 122: 30.184320809397786\n",
      "Average validation reward at epoch 122: 22.573628783702784\n",
      "No improvement count: 53/150\n",
      "Best validation reward so far: 39.627231914986744\n",
      "\n",
      "--- Epoch 123/100000 ---\n",
      "Average training reward for epoch 123: 30.247236247697618\n",
      "Average validation reward at epoch 123: 27.96708011548247\n",
      "No improvement count: 54/150\n",
      "Best validation reward so far: 39.627231914986744\n",
      "\n",
      "--- Epoch 124/100000 ---\n",
      "Average training reward for epoch 124: 32.33563403545367\n",
      "Average validation reward at epoch 124: 27.047825586208166\n",
      "No improvement count: 55/150\n",
      "Best validation reward so far: 39.627231914986744\n",
      "\n",
      "--- Epoch 125/100000 ---\n",
      "Average training reward for epoch 125: 33.08305340556396\n",
      "Average validation reward at epoch 125: 31.01895845451641\n",
      "No improvement count: 56/150\n",
      "Best validation reward so far: 39.627231914986744\n",
      "\n",
      "--- Epoch 126/100000 ---\n",
      "Average training reward for epoch 126: 33.58685969870587\n",
      "Average validation reward at epoch 126: 27.794740682923273\n",
      "No improvement count: 57/150\n",
      "Best validation reward so far: 39.627231914986744\n",
      "\n",
      "--- Epoch 127/100000 ---\n",
      "Average training reward for epoch 127: 32.25276909993126\n",
      "Average validation reward at epoch 127: 25.513656757182684\n",
      "No improvement count: 58/150\n",
      "Best validation reward so far: 39.627231914986744\n",
      "\n",
      "--- Epoch 128/100000 ---\n",
      "Average training reward for epoch 128: 30.078898941265404\n",
      "Average validation reward at epoch 128: 32.818409760919266\n",
      "No improvement count: 59/150\n",
      "Best validation reward so far: 39.627231914986744\n",
      "\n",
      "--- Epoch 129/100000 ---\n",
      "Average training reward for epoch 129: 33.87720894312759\n",
      "Average validation reward at epoch 129: 25.939685158990294\n",
      "No improvement count: 60/150\n",
      "Best validation reward so far: 39.627231914986744\n",
      "\n",
      "--- Epoch 130/100000 ---\n",
      "Average training reward for epoch 130: 33.00905247431814\n",
      "Average validation reward at epoch 130: 34.97004911692066\n",
      "No improvement count: 61/150\n",
      "Best validation reward so far: 39.627231914986744\n",
      "\n",
      "--- Epoch 131/100000 ---\n",
      "Average training reward for epoch 131: 33.71213647107304\n",
      "Average validation reward at epoch 131: 35.21690735727517\n",
      "No improvement count: 62/150\n",
      "Best validation reward so far: 39.627231914986744\n",
      "\n",
      "--- Epoch 132/100000 ---\n",
      "Average training reward for epoch 132: 31.249312848584545\n",
      "Average validation reward at epoch 132: 31.315576516190852\n",
      "No improvement count: 63/150\n",
      "Best validation reward so far: 39.627231914986744\n",
      "\n",
      "--- Epoch 133/100000 ---\n",
      "Average training reward for epoch 133: 31.038261271406075\n",
      "Average validation reward at epoch 133: 31.221518779039638\n",
      "No improvement count: 64/150\n",
      "Best validation reward so far: 39.627231914986744\n",
      "\n",
      "--- Epoch 134/100000 ---\n",
      "Average training reward for epoch 134: 31.916071975396054\n",
      "Average validation reward at epoch 134: 26.07324654393669\n",
      "No improvement count: 65/150\n",
      "Best validation reward so far: 39.627231914986744\n",
      "\n",
      "--- Epoch 135/100000 ---\n",
      "Average training reward for epoch 135: 31.4935454400327\n",
      "Average validation reward at epoch 135: 34.60248414016535\n",
      "No improvement count: 66/150\n",
      "Best validation reward so far: 39.627231914986744\n",
      "\n",
      "--- Epoch 136/100000 ---\n",
      "Average training reward for epoch 136: 33.15051894357822\n",
      "Average validation reward at epoch 136: 31.479053335938993\n",
      "No improvement count: 67/150\n",
      "Best validation reward so far: 39.627231914986744\n",
      "\n",
      "--- Epoch 137/100000 ---\n",
      "Average training reward for epoch 137: 31.410477854085226\n",
      "Average validation reward at epoch 137: 31.29436249362987\n",
      "No improvement count: 68/150\n",
      "Best validation reward so far: 39.627231914986744\n",
      "\n",
      "--- Epoch 138/100000 ---\n",
      "Average training reward for epoch 138: 32.27793149448965\n",
      "Average validation reward at epoch 138: 36.39274299641279\n",
      "No improvement count: 69/150\n",
      "Best validation reward so far: 39.627231914986744\n",
      "\n",
      "--- Epoch 139/100000 ---\n",
      "Average training reward for epoch 139: 30.588073370972758\n",
      "Average validation reward at epoch 139: 19.210274587113652\n",
      "No improvement count: 70/150\n",
      "Best validation reward so far: 39.627231914986744\n",
      "\n",
      "--- Epoch 140/100000 ---\n",
      "Average training reward for epoch 140: 35.174013545629776\n",
      "Average validation reward at epoch 140: 33.90912637673822\n",
      "No improvement count: 71/150\n",
      "Best validation reward so far: 39.627231914986744\n",
      "\n",
      "--- Epoch 141/100000 ---\n",
      "Average training reward for epoch 141: 29.16608327808254\n",
      "Average validation reward at epoch 141: 29.429269684981833\n",
      "No improvement count: 72/150\n",
      "Best validation reward so far: 39.627231914986744\n",
      "\n",
      "--- Epoch 142/100000 ---\n",
      "Average training reward for epoch 142: 30.206386535907534\n",
      "Average validation reward at epoch 142: 36.10150805459269\n",
      "No improvement count: 73/150\n",
      "Best validation reward so far: 39.627231914986744\n",
      "\n",
      "--- Epoch 143/100000 ---\n",
      "Average training reward for epoch 143: 31.617898640589125\n",
      "Average validation reward at epoch 143: 30.698759807294806\n",
      "No improvement count: 74/150\n",
      "Best validation reward so far: 39.627231914986744\n",
      "\n",
      "--- Epoch 144/100000 ---\n",
      "Average training reward for epoch 144: 29.896774118566714\n",
      "Average validation reward at epoch 144: 30.571797672066335\n",
      "No improvement count: 75/150\n",
      "Best validation reward so far: 39.627231914986744\n",
      "\n",
      "--- Epoch 145/100000 ---\n",
      "Average training reward for epoch 145: 31.97462505304791\n",
      "Average validation reward at epoch 145: 28.089652572421542\n",
      "No improvement count: 76/150\n",
      "Best validation reward so far: 39.627231914986744\n",
      "\n",
      "--- Epoch 146/100000 ---\n",
      "Average training reward for epoch 146: 29.4077617089365\n",
      "Average validation reward at epoch 146: 29.984435734048564\n",
      "No improvement count: 77/150\n",
      "Best validation reward so far: 39.627231914986744\n",
      "\n",
      "--- Epoch 147/100000 ---\n",
      "Average training reward for epoch 147: 30.3717359996131\n",
      "Average validation reward at epoch 147: 31.374419682286135\n",
      "No improvement count: 78/150\n",
      "Best validation reward so far: 39.627231914986744\n",
      "\n",
      "--- Epoch 148/100000 ---\n",
      "Average training reward for epoch 148: 34.486750316783834\n",
      "Average validation reward at epoch 148: 26.975057138682565\n",
      "No improvement count: 79/150\n",
      "Best validation reward so far: 39.627231914986744\n",
      "\n",
      "--- Epoch 149/100000 ---\n",
      "Average training reward for epoch 149: 28.778812044460135\n",
      "Average validation reward at epoch 149: 32.72112830991214\n",
      "No improvement count: 80/150\n",
      "Best validation reward so far: 39.627231914986744\n",
      "\n",
      "--- Epoch 150/100000 ---\n",
      "Average training reward for epoch 150: 30.850812510129575\n",
      "Average validation reward at epoch 150: 23.04157340387081\n",
      "No improvement count: 81/150\n",
      "Best validation reward so far: 39.627231914986744\n",
      "\n",
      "--- Epoch 151/100000 ---\n",
      "Average training reward for epoch 151: 31.085630118926996\n",
      "Average validation reward at epoch 151: 36.61371932169323\n",
      "No improvement count: 82/150\n",
      "Best validation reward so far: 39.627231914986744\n",
      "\n",
      "--- Epoch 152/100000 ---\n",
      "Average training reward for epoch 152: 33.29895845387746\n",
      "Average validation reward at epoch 152: 30.465314135237893\n",
      "No improvement count: 83/150\n",
      "Best validation reward so far: 39.627231914986744\n",
      "\n",
      "--- Epoch 153/100000 ---\n",
      "Average training reward for epoch 153: 33.03415263751685\n",
      "Average validation reward at epoch 153: 23.93278340372621\n",
      "No improvement count: 84/150\n",
      "Best validation reward so far: 39.627231914986744\n",
      "\n",
      "--- Epoch 154/100000 ---\n",
      "Average training reward for epoch 154: 33.3924182145772\n",
      "Average validation reward at epoch 154: 32.18013914467246\n",
      "No improvement count: 85/150\n",
      "Best validation reward so far: 39.627231914986744\n",
      "\n",
      "--- Epoch 155/100000 ---\n",
      "Average training reward for epoch 155: 30.714164614252574\n",
      "Average validation reward at epoch 155: 31.44694648572664\n",
      "No improvement count: 86/150\n",
      "Best validation reward so far: 39.627231914986744\n",
      "\n",
      "--- Epoch 156/100000 ---\n",
      "Average training reward for epoch 156: 28.567276579243863\n",
      "Average validation reward at epoch 156: 33.55163990075844\n",
      "No improvement count: 87/150\n",
      "Best validation reward so far: 39.627231914986744\n",
      "\n",
      "--- Epoch 157/100000 ---\n",
      "Average training reward for epoch 157: 31.861052769992163\n",
      "Average validation reward at epoch 157: 26.349988937358376\n",
      "No improvement count: 88/150\n",
      "Best validation reward so far: 39.627231914986744\n",
      "\n",
      "--- Epoch 158/100000 ---\n",
      "Average training reward for epoch 158: 29.84770846447926\n",
      "Average validation reward at epoch 158: 32.65165738868553\n",
      "No improvement count: 89/150\n",
      "Best validation reward so far: 39.627231914986744\n",
      "\n",
      "--- Epoch 159/100000 ---\n",
      "Average training reward for epoch 159: 33.04653251681124\n",
      "Average validation reward at epoch 159: 27.088987022181847\n",
      "No improvement count: 90/150\n",
      "Best validation reward so far: 39.627231914986744\n",
      "\n",
      "--- Epoch 160/100000 ---\n",
      "Average training reward for epoch 160: 31.000717480662434\n",
      "Average validation reward at epoch 160: 21.666704755977904\n",
      "No improvement count: 91/150\n",
      "Best validation reward so far: 39.627231914986744\n",
      "\n",
      "--- Epoch 161/100000 ---\n",
      "Average training reward for epoch 161: 31.40818119455041\n",
      "Average validation reward at epoch 161: 30.87031786010025\n",
      "No improvement count: 92/150\n",
      "Best validation reward so far: 39.627231914986744\n",
      "\n",
      "--- Epoch 162/100000 ---\n",
      "Average training reward for epoch 162: 30.131354101103536\n",
      "Average validation reward at epoch 162: 26.49359724079281\n",
      "No improvement count: 93/150\n",
      "Best validation reward so far: 39.627231914986744\n",
      "\n",
      "--- Epoch 163/100000 ---\n",
      "Average training reward for epoch 163: 26.53941310631514\n",
      "Average validation reward at epoch 163: 28.82358662146908\n",
      "No improvement count: 94/150\n",
      "Best validation reward so far: 39.627231914986744\n",
      "\n",
      "--- Epoch 164/100000 ---\n",
      "Average training reward for epoch 164: 31.904497191851167\n",
      "Average validation reward at epoch 164: 30.782747821276836\n",
      "No improvement count: 95/150\n",
      "Best validation reward so far: 39.627231914986744\n",
      "\n",
      "--- Epoch 165/100000 ---\n",
      "Average training reward for epoch 165: 33.6065921027828\n",
      "Average validation reward at epoch 165: 25.77786785590253\n",
      "No improvement count: 96/150\n",
      "Best validation reward so far: 39.627231914986744\n",
      "\n",
      "--- Epoch 166/100000 ---\n",
      "Average training reward for epoch 166: 31.12368082716161\n",
      "Average validation reward at epoch 166: 26.95254450151352\n",
      "No improvement count: 97/150\n",
      "Best validation reward so far: 39.627231914986744\n",
      "\n",
      "--- Epoch 167/100000 ---\n",
      "Average training reward for epoch 167: 32.00729804878996\n",
      "Average validation reward at epoch 167: 29.217741159082387\n",
      "No improvement count: 98/150\n",
      "Best validation reward so far: 39.627231914986744\n",
      "\n",
      "--- Epoch 168/100000 ---\n",
      "Average training reward for epoch 168: 32.27509108546525\n",
      "Average validation reward at epoch 168: 32.14829262179459\n",
      "No improvement count: 99/150\n",
      "Best validation reward so far: 39.627231914986744\n",
      "\n",
      "--- Epoch 169/100000 ---\n",
      "Average training reward for epoch 169: 32.24260610095611\n",
      "Average validation reward at epoch 169: 35.140645197413704\n",
      "No improvement count: 100/150\n",
      "Best validation reward so far: 39.627231914986744\n",
      "\n",
      "--- Epoch 170/100000 ---\n",
      "Average training reward for epoch 170: 32.833046113664565\n",
      "Average validation reward at epoch 170: 25.2733306739556\n",
      "No improvement count: 101/150\n",
      "Best validation reward so far: 39.627231914986744\n",
      "\n",
      "--- Epoch 171/100000 ---\n",
      "Average training reward for epoch 171: 32.31347621057788\n",
      "Average validation reward at epoch 171: 31.427096492998626\n",
      "No improvement count: 102/150\n",
      "Best validation reward so far: 39.627231914986744\n",
      "\n",
      "--- Epoch 172/100000 ---\n",
      "Average training reward for epoch 172: 29.34923246386278\n",
      "Average validation reward at epoch 172: 26.330028717856774\n",
      "No improvement count: 103/150\n",
      "Best validation reward so far: 39.627231914986744\n",
      "\n",
      "--- Epoch 173/100000 ---\n",
      "Average training reward for epoch 173: 32.588513245573125\n",
      "Average validation reward at epoch 173: 26.440863875487768\n",
      "No improvement count: 104/150\n",
      "Best validation reward so far: 39.627231914986744\n",
      "\n",
      "--- Epoch 174/100000 ---\n",
      "Average training reward for epoch 174: 34.1062086842316\n",
      "Average validation reward at epoch 174: 26.270909257251102\n",
      "No improvement count: 105/150\n",
      "Best validation reward so far: 39.627231914986744\n",
      "\n",
      "--- Epoch 175/100000 ---\n",
      "Average training reward for epoch 175: 32.33805765485968\n",
      "Average validation reward at epoch 175: 34.546417829763215\n",
      "No improvement count: 106/150\n",
      "Best validation reward so far: 39.627231914986744\n",
      "\n",
      "--- Epoch 176/100000 ---\n",
      "Average training reward for epoch 176: 31.146692480374323\n",
      "Average validation reward at epoch 176: 30.123213280790214\n",
      "No improvement count: 107/150\n",
      "Best validation reward so far: 39.627231914986744\n",
      "\n",
      "--- Epoch 177/100000 ---\n",
      "Average training reward for epoch 177: 27.600057169049006\n",
      "Average validation reward at epoch 177: 29.260498381427087\n",
      "No improvement count: 108/150\n",
      "Best validation reward so far: 39.627231914986744\n",
      "\n",
      "--- Epoch 178/100000 ---\n",
      "Average training reward for epoch 178: 29.69747480242724\n",
      "Average validation reward at epoch 178: 31.05210406857855\n",
      "No improvement count: 109/150\n",
      "Best validation reward so far: 39.627231914986744\n",
      "\n",
      "--- Epoch 179/100000 ---\n",
      "Average training reward for epoch 179: 29.860319098600826\n",
      "Average validation reward at epoch 179: 31.371666806638114\n",
      "No improvement count: 110/150\n",
      "Best validation reward so far: 39.627231914986744\n",
      "\n",
      "--- Epoch 180/100000 ---\n",
      "Average training reward for epoch 180: 31.488780808988988\n",
      "Average validation reward at epoch 180: 28.98591749089187\n",
      "No improvement count: 111/150\n",
      "Best validation reward so far: 39.627231914986744\n",
      "\n",
      "--- Epoch 181/100000 ---\n",
      "Average training reward for epoch 181: 32.13665390231669\n",
      "Average validation reward at epoch 181: 27.709807389511205\n",
      "No improvement count: 112/150\n",
      "Best validation reward so far: 39.627231914986744\n",
      "\n",
      "--- Epoch 182/100000 ---\n",
      "Average training reward for epoch 182: 28.597740835117992\n",
      "Average validation reward at epoch 182: 35.713628784624014\n",
      "No improvement count: 113/150\n",
      "Best validation reward so far: 39.627231914986744\n",
      "\n",
      "--- Epoch 183/100000 ---\n",
      "Average training reward for epoch 183: 32.20554873548504\n",
      "Average validation reward at epoch 183: 24.86219096568771\n",
      "No improvement count: 114/150\n",
      "Best validation reward so far: 39.627231914986744\n",
      "\n",
      "--- Epoch 184/100000 ---\n",
      "Average training reward for epoch 184: 32.76677635571843\n",
      "Average validation reward at epoch 184: 28.187428746195035\n",
      "No improvement count: 115/150\n",
      "Best validation reward so far: 39.627231914986744\n",
      "\n",
      "--- Epoch 185/100000 ---\n",
      "Average training reward for epoch 185: 29.517260745096667\n",
      "Average validation reward at epoch 185: 31.963825426272617\n",
      "No improvement count: 116/150\n",
      "Best validation reward so far: 39.627231914986744\n",
      "\n",
      "--- Epoch 186/100000 ---\n",
      "Average training reward for epoch 186: 28.803206111880257\n",
      "Average validation reward at epoch 186: 25.301865499423975\n",
      "No improvement count: 117/150\n",
      "Best validation reward so far: 39.627231914986744\n",
      "\n",
      "--- Epoch 187/100000 ---\n",
      "Average training reward for epoch 187: 31.635350659480252\n",
      "Average validation reward at epoch 187: 29.074824797284744\n",
      "No improvement count: 118/150\n",
      "Best validation reward so far: 39.627231914986744\n",
      "\n",
      "--- Epoch 188/100000 ---\n",
      "Average training reward for epoch 188: 33.33459199903017\n",
      "Average validation reward at epoch 188: 26.78282357788353\n",
      "No improvement count: 119/150\n",
      "Best validation reward so far: 39.627231914986744\n",
      "\n",
      "--- Epoch 189/100000 ---\n",
      "Average training reward for epoch 189: 29.421065232093586\n",
      "Average validation reward at epoch 189: 23.99008898658039\n",
      "No improvement count: 120/150\n",
      "Best validation reward so far: 39.627231914986744\n",
      "\n",
      "--- Epoch 190/100000 ---\n",
      "Average training reward for epoch 190: 31.747628611804956\n",
      "Average validation reward at epoch 190: 31.2090081639355\n",
      "No improvement count: 121/150\n",
      "Best validation reward so far: 39.627231914986744\n",
      "\n",
      "--- Epoch 191/100000 ---\n",
      "Average training reward for epoch 191: 35.84244878995778\n",
      "Average validation reward at epoch 191: 25.82404445880682\n",
      "No improvement count: 122/150\n",
      "Best validation reward so far: 39.627231914986744\n",
      "\n",
      "--- Epoch 192/100000 ---\n",
      "Average training reward for epoch 192: 30.174582691534827\n",
      "Average validation reward at epoch 192: 28.386119677045578\n",
      "No improvement count: 123/150\n",
      "Best validation reward so far: 39.627231914986744\n",
      "\n",
      "--- Epoch 193/100000 ---\n",
      "Average training reward for epoch 193: 32.16315953148988\n",
      "Average validation reward at epoch 193: 26.603581365768186\n",
      "No improvement count: 124/150\n",
      "Best validation reward so far: 39.627231914986744\n",
      "\n",
      "--- Epoch 194/100000 ---\n",
      "Average training reward for epoch 194: 31.302747627540587\n",
      "Average validation reward at epoch 194: 32.63603526800478\n",
      "No improvement count: 125/150\n",
      "Best validation reward so far: 39.627231914986744\n",
      "\n",
      "--- Epoch 195/100000 ---\n",
      "Average training reward for epoch 195: 31.442159415339354\n",
      "Average validation reward at epoch 195: 32.12792094517592\n",
      "No improvement count: 126/150\n",
      "Best validation reward so far: 39.627231914986744\n",
      "\n",
      "--- Epoch 196/100000 ---\n",
      "Average training reward for epoch 196: 33.95473270449942\n",
      "Average validation reward at epoch 196: 26.98440296847955\n",
      "No improvement count: 127/150\n",
      "Best validation reward so far: 39.627231914986744\n",
      "\n",
      "--- Epoch 197/100000 ---\n",
      "Average training reward for epoch 197: 31.23629284767882\n",
      "Average validation reward at epoch 197: 31.592740550788154\n",
      "No improvement count: 128/150\n",
      "Best validation reward so far: 39.627231914986744\n",
      "\n",
      "--- Epoch 198/100000 ---\n",
      "Average training reward for epoch 198: 33.16842053628369\n",
      "Average validation reward at epoch 198: 22.636790583080312\n",
      "No improvement count: 129/150\n",
      "Best validation reward so far: 39.627231914986744\n",
      "\n",
      "--- Epoch 199/100000 ---\n",
      "Average training reward for epoch 199: 29.330231500999247\n",
      "Average validation reward at epoch 199: 27.55833099577612\n",
      "No improvement count: 130/150\n",
      "Best validation reward so far: 39.627231914986744\n",
      "\n",
      "--- Epoch 200/100000 ---\n",
      "Average training reward for epoch 200: 32.21816454385164\n",
      "Average validation reward at epoch 200: 33.22504071704205\n",
      "No improvement count: 131/150\n",
      "Best validation reward so far: 39.627231914986744\n",
      "\n",
      "--- Epoch 201/100000 ---\n",
      "Average training reward for epoch 201: 31.996106969933734\n",
      "Average validation reward at epoch 201: 26.705143274840474\n",
      "No improvement count: 132/150\n",
      "Best validation reward so far: 39.627231914986744\n",
      "\n",
      "--- Epoch 202/100000 ---\n",
      "Average training reward for epoch 202: 27.396564505550536\n",
      "Average validation reward at epoch 202: 27.690087698058612\n",
      "No improvement count: 133/150\n",
      "Best validation reward so far: 39.627231914986744\n",
      "\n",
      "--- Epoch 203/100000 ---\n",
      "Average training reward for epoch 203: 30.76864540215009\n",
      "Average validation reward at epoch 203: 23.451800114261328\n",
      "No improvement count: 134/150\n",
      "Best validation reward so far: 39.627231914986744\n",
      "\n",
      "--- Epoch 204/100000 ---\n",
      "Average training reward for epoch 204: 31.679710765921048\n",
      "Average validation reward at epoch 204: 25.030559994935704\n",
      "No improvement count: 135/150\n",
      "Best validation reward so far: 39.627231914986744\n",
      "\n",
      "--- Epoch 205/100000 ---\n",
      "Average training reward for epoch 205: 31.384103630774604\n",
      "Average validation reward at epoch 205: 30.458672980227348\n",
      "No improvement count: 136/150\n",
      "Best validation reward so far: 39.627231914986744\n",
      "\n",
      "--- Epoch 206/100000 ---\n",
      "Average training reward for epoch 206: 30.97976028726739\n",
      "Average validation reward at epoch 206: 29.692193549339954\n",
      "No improvement count: 137/150\n",
      "Best validation reward so far: 39.627231914986744\n",
      "\n",
      "--- Epoch 207/100000 ---\n",
      "Average training reward for epoch 207: 33.30531041032424\n",
      "Average validation reward at epoch 207: 22.537291908792003\n",
      "No improvement count: 138/150\n",
      "Best validation reward so far: 39.627231914986744\n",
      "\n",
      "--- Epoch 208/100000 ---\n",
      "Average training reward for epoch 208: 32.913869288711275\n",
      "Average validation reward at epoch 208: 34.429759803141586\n",
      "No improvement count: 139/150\n",
      "Best validation reward so far: 39.627231914986744\n",
      "\n",
      "--- Epoch 209/100000 ---\n",
      "Average training reward for epoch 209: 28.444674528849976\n",
      "Average validation reward at epoch 209: 26.869995031925708\n",
      "No improvement count: 140/150\n",
      "Best validation reward so far: 39.627231914986744\n",
      "\n",
      "--- Epoch 210/100000 ---\n",
      "Average training reward for epoch 210: 31.124812926757567\n",
      "Average validation reward at epoch 210: 33.2915701192872\n",
      "No improvement count: 141/150\n",
      "Best validation reward so far: 39.627231914986744\n",
      "\n",
      "--- Epoch 211/100000 ---\n",
      "Average training reward for epoch 211: 32.585812160751296\n",
      "Average validation reward at epoch 211: 25.070952148599456\n",
      "No improvement count: 142/150\n",
      "Best validation reward so far: 39.627231914986744\n",
      "\n",
      "--- Epoch 212/100000 ---\n",
      "Average training reward for epoch 212: 31.554532767001994\n",
      "Average validation reward at epoch 212: 31.569560193440008\n",
      "No improvement count: 143/150\n",
      "Best validation reward so far: 39.627231914986744\n",
      "\n",
      "--- Epoch 213/100000 ---\n",
      "Average training reward for epoch 213: 31.018426110205365\n",
      "Average validation reward at epoch 213: 22.828289304471948\n",
      "No improvement count: 144/150\n",
      "Best validation reward so far: 39.627231914986744\n",
      "\n",
      "--- Epoch 214/100000 ---\n",
      "Average training reward for epoch 214: 29.485509167993477\n",
      "Average validation reward at epoch 214: 28.25921109465545\n",
      "No improvement count: 145/150\n",
      "Best validation reward so far: 39.627231914986744\n",
      "\n",
      "--- Epoch 215/100000 ---\n",
      "Average training reward for epoch 215: 30.32524951286915\n",
      "Average validation reward at epoch 215: 21.49245612670072\n",
      "No improvement count: 146/150\n",
      "Best validation reward so far: 39.627231914986744\n",
      "\n",
      "--- Epoch 216/100000 ---\n",
      "Average training reward for epoch 216: 31.95919201482581\n",
      "Average validation reward at epoch 216: 31.03646285482996\n",
      "No improvement count: 147/150\n",
      "Best validation reward so far: 39.627231914986744\n",
      "\n",
      "--- Epoch 217/100000 ---\n",
      "Average training reward for epoch 217: 34.6419366697649\n",
      "Average validation reward at epoch 217: 27.894365454928273\n",
      "No improvement count: 148/150\n",
      "Best validation reward so far: 39.627231914986744\n",
      "\n",
      "--- Epoch 218/100000 ---\n",
      "Average training reward for epoch 218: 31.725483290702346\n",
      "Average validation reward at epoch 218: 25.354137567944466\n",
      "No improvement count: 149/150\n",
      "Best validation reward so far: 39.627231914986744\n",
      "\n",
      "--- Epoch 219/100000 ---\n",
      "Average training reward for epoch 219: 33.622027359458315\n",
      "Average validation reward at epoch 219: 31.21528992946032\n",
      "No improvement count: 150/150\n",
      "Best validation reward so far: 39.627231914986744\n",
      "Early stopping at epoch 219 due to no improvement in validation reward.\n",
      "Wrapping the env with a `Monitor` wrapper\n",
      "Wrapping the env in a DummyVecEnv.\n",
      "Restored the best model weights from saved file with validation reward: 39.627231914986744.\n"
     ]
    }
   ],
   "source": [
    "# Definizione dei parametri con valori esemplificativi\n",
    "liquidità_iniziale = 1000\n",
    "bitcoin_iniziali = 0\n",
    "L = 30\n",
    "num_epochs = 100000  # Numero di epoche, cioè quante volte attraversare tutti i periodi di training\n",
    "patience = 150  # Numero massimo di epoche senza miglioramento sul validation set prima di fermarsi\n",
    "detailed_logs = False # Mettere True se si vuole una stampa dettagliata per ogni epoca durante l'allenamento\n",
    "\n",
    "best_validation_reward = -np.inf  # Reward migliore osservato finora\n",
    "validation_rewards = []  # Lista dei reward di validazione per monitoraggio\n",
    "no_improvement_count = 0  # Contatore per tenere traccia delle epoche senza miglioramento\n",
    "\n",
    "# Nome del file per salvare i migliori pesi\n",
    "best_model_path = f\"best_model_RL_BTC_{num_epochs}_{patience}_{info_columns}_{portfolio_metrics}.zip\"\n",
    "\n",
    "# Creazione dell'ambiente di addestramento con un periodo iniziale (verrà reimpostato a ogni epoca)\n",
    "train_env = TradingEnv(\n",
    "    periods=[train_periods[0]],  # Inizializza con un periodo dummy; verrà sovrascritto\n",
    "    initial_cash=liquidità_iniziale,\n",
    "    initial_btc=bitcoin_iniziali,\n",
    "    L=L,\n",
    "    info_columns=info_columns,\n",
    "    portfolio_metrics=portfolio_metrics\n",
    ")\n",
    "\n",
    "# Inizializzazione del modello PPO\n",
    "model = PPO(\"MlpPolicy\", train_env, verbose=1)\n",
    "\n",
    "# Ciclo di training con epoche (addestramento su tutti i periodi di training)\n",
    "for epoch in range(num_epochs):\n",
    "    print(f\"\\n--- Epoch {epoch+1}/{num_epochs} ---\")\n",
    "    \n",
    "    epoch_rewards = []  # Per raccogliere reward dell'epoca\n",
    "    \n",
    "    # Attraversa tutti i periodi in train_periods\n",
    "    for period_index, period in enumerate(train_periods, start=1):\n",
    "        if detailed_logs:\n",
    "            print(f\"Training on period {period_index}/{len(train_periods)} of the current epoch (epoch {epoch+1}/{num_epochs})\")\n",
    "        \n",
    "        # Ricrea l'ambiente di training con il periodo corrente\n",
    "        train_env = TradingEnv(\n",
    "            periods=[period],\n",
    "            initial_cash=liquidità_iniziale,\n",
    "            initial_btc=bitcoin_iniziali,\n",
    "            L=L,\n",
    "            info_columns=info_columns,\n",
    "            portfolio_metrics=portfolio_metrics\n",
    "        )\n",
    "        \n",
    "        # Reset e addestramento per il periodo corrente\n",
    "        obs = train_env.reset()\n",
    "        done = False\n",
    "        period_reward = 0  # Reward totale per il periodo corrente\n",
    "        \n",
    "        while not done:\n",
    "            action, _states = model.predict(obs)\n",
    "            obs, reward, done, _ = train_env.step(action)\n",
    "            period_reward += reward\n",
    "            \n",
    "        epoch_rewards.append(period_reward)  # Salva il reward del periodo corrente\n",
    "        if detailed_logs:\n",
    "            print(f\"Reward for period {period_index}: {period_reward}\")\n",
    "\n",
    "    # Reward medio del training su tutti i periodi di training\n",
    "    avg_epoch_reward = np.mean(epoch_rewards)\n",
    "    print(f\"Average training reward for epoch {epoch+1}: {avg_epoch_reward}\")\n",
    "\n",
    "    # Dopo aver attraversato tutti i periodi di training, valutazione sull'intero validation set\n",
    "    validation_rewards_epoch = []  # Reward per ciascun periodo di validazione\n",
    "    for val_period_index, val_period in enumerate(validation_periods, start=1):\n",
    "        validation_env = TradingEnv(\n",
    "            periods=[val_period],\n",
    "            initial_cash=liquidità_iniziale,\n",
    "            initial_btc=bitcoin_iniziali,\n",
    "            L=L,\n",
    "            info_columns=info_columns,\n",
    "            portfolio_metrics=portfolio_metrics\n",
    "        )\n",
    "        \n",
    "        # Valutazione su un singolo periodo di validazione\n",
    "        obs = validation_env.reset()\n",
    "        done = False\n",
    "        total_reward = 0\n",
    "        while not done:\n",
    "            action, _states = model.predict(obs)\n",
    "            obs, reward, done, _ = validation_env.step(action)\n",
    "            total_reward += reward\n",
    "        \n",
    "        validation_rewards_epoch.append(total_reward)  # Aggiunge reward per il periodo di validazione\n",
    "        if detailed_logs:\n",
    "            print(f\"Validation reward for period {val_period_index}: {total_reward}\")\n",
    "    \n",
    "    # Calcola il reward medio su tutto il validation set per questa epoca\n",
    "    avg_validation_reward = np.mean(validation_rewards_epoch)\n",
    "    validation_rewards.append(avg_validation_reward)\n",
    "    print(f\"Average validation reward at epoch {epoch+1}: {avg_validation_reward}\")\n",
    "\n",
    "    # Early stopping logic basata sul reward medio di validazione\n",
    "    if avg_validation_reward > best_validation_reward:\n",
    "        best_validation_reward = avg_validation_reward\n",
    "        no_improvement_count = 0\n",
    "        model.save(best_model_path)  # Salva i migliori pesi\n",
    "        print(f\"New best model saved with validation reward {avg_validation_reward}\")\n",
    "    else:\n",
    "        no_improvement_count += 1\n",
    "        print(f\"No improvement count: {no_improvement_count}/{patience}\")\n",
    "        print(f\"Best validation reward so far: {best_validation_reward}\")\n",
    "\n",
    "    # Se il numero di epoche senza miglioramento supera il patience, interrompi l'addestramento\n",
    "    if no_improvement_count >= patience:\n",
    "        print(f\"Early stopping at epoch {epoch+1} due to no improvement in validation reward.\")\n",
    "        break\n",
    "\n",
    "# Ripristina i migliori pesi salvati\n",
    "if os.path.exists(best_model_path):\n",
    "    model = PPO.load(best_model_path, env=train_env)  # Carica i pesi salvati nel modello\n",
    "    print(f\"Restored the best model weights from saved file with validation reward: {best_validation_reward}.\")"
   ]
  },
  {
   "cell_type": "markdown",
   "metadata": {},
   "source": [
    "# Test finale sui dati di test"
   ]
  },
  {
   "cell_type": "code",
   "execution_count": 15,
   "metadata": {},
   "outputs": [
    {
     "name": "stdout",
     "output_type": "stream",
     "text": [
      "Media fattore di rendimento sui dati di test: 1.0340493542100726\n",
      "Media fattore di rendimento ideale sui dati di test: 1.4406768925836237\n",
      "Media punteggio rendimento sui dati di test: 0.7359648773313029\n",
      "Media punteggio di sufficienza sui dati di test: 0.7095252448346598\n"
     ]
    }
   ],
   "source": [
    "# Inizializza le variabili per calcolare il rendimento medio\n",
    "total_returns = []\n",
    "ideal_returns = []\n",
    "punteggi_rendimento = []\n",
    "punteggi_sufficienza = []\n",
    "\n",
    "# Testa l'agente su ciascun periodo in test_periods\n",
    "for period in test_periods:\n",
    "    # Crea un ambiente per il periodo corrente\n",
    "    test_env = TradingEnv(\n",
    "        periods=[period],  # Passa solo il periodo corrente\n",
    "        initial_cash=liquidità_iniziale, \n",
    "        initial_btc=bitcoin_iniziali, \n",
    "        L=L, \n",
    "        info_columns=info_columns, \n",
    "        portfolio_metrics=portfolio_metrics\n",
    "    )\n",
    "\n",
    "    obs = test_env.reset()\n",
    "    done = False\n",
    "    lista_prezzi_test = [test_env.current_period['Price'].iloc[0]]  # Lista per registrare i prezzi durante il test\n",
    "\n",
    "    # Esegui il test su questo periodo\n",
    "    while not done:\n",
    "        action, _states = model.predict(obs)\n",
    "        obs, reward, done, _ = test_env.step(action)\n",
    "        lista_prezzi_test.append(test_env.current_period['Price'].iloc[test_env.current_step])\n",
    "\n",
    "    # Calcola il rendimento finale del portafoglio dell'agente per questo periodo\n",
    "    final_value = test_env.cash + test_env.btc * test_env.current_period['Price'].iloc[test_env.current_step]\n",
    "    total_return = final_value / test_env.valore_iniziale\n",
    "    total_returns.append(total_return)\n",
    "\n",
    "    # Calcola il rendimento ideale usando la funzione `calcola_rendimento_portafoglio_ideale`\n",
    "    rendimento_ideale, valore_finale_ideale = calcola_rendimento_portafoglio_ideale(\n",
    "        capitale_iniziale=liquidità_iniziale, \n",
    "        bitcoin_iniziali=bitcoin_iniziali, \n",
    "        lista_prezzi=pd.Series(lista_prezzi_test), \n",
    "        min_acquisto=10, \n",
    "        min_vendita=10, \n",
    "        perc_commissione_acquisto=0.001, \n",
    "        perc_commissione_vendita=0.001\n",
    "    )\n",
    "    ideal_returns.append(rendimento_ideale)\n",
    "\n",
    "    # Calcola il punteggio di rendimento per questo periodo\n",
    "    punteggio_rendimento = total_return / rendimento_ideale if rendimento_ideale != 0 else 0\n",
    "    punteggi_rendimento.append(punteggio_rendimento)\n",
    "\n",
    "    # Stampa i risultati per ogni periodo\n",
    "    # print(f\"Total return on test period: {total_return}\")\n",
    "    # print(f\"Ideal return on test period: {rendimento_ideale}\")\n",
    "    # print(f\"Agent's final portfolio value: {final_value}\")\n",
    "    # print(f\"Ideal final portfolio value: {valore_finale_ideale}\")\n",
    "    # print(f'Punteggio rendimento: {punteggio_rendimento}')\n",
    "    # print(f'Punteggio di sufficienza: {punteggio_sufficienza}')\n",
    "\n",
    "# Calcola le medie finali\n",
    "avg_total_return = np.mean(total_returns)\n",
    "avg_ideal_return = np.mean(ideal_returns)\n",
    "avg_punteggio_rendimento = np.mean(punteggi_rendimento)\n",
    "\n",
    "# Stampa i risultati finali\n",
    "print(f\"Media fattore di rendimento sui dati di test: {avg_total_return}\")\n",
    "print(f\"Media fattore di rendimento ideale sui dati di test: {avg_ideal_return}\")\n",
    "print(f\"Media punteggio rendimento sui dati di test: {avg_punteggio_rendimento}\")\n",
    "print(f\"Media punteggio di sufficienza sui dati di test: {punteggio_sufficienza_medio_test}\")"
   ]
  },
  {
   "cell_type": "markdown",
   "metadata": {},
   "source": [
    "# Test finale su 1 dato di test casuale con grafico"
   ]
  },
  {
   "cell_type": "code",
   "execution_count": 17,
   "metadata": {},
   "outputs": [
    {
     "name": "stdout",
     "output_type": "stream",
     "text": [
      "Step: 1, Cash: 168.06201171875, BTC: 0.15225177832408296, Total Value: 1014.9744233166431\n",
      "Step: 2, Cash: 445.0131663493906, BTC: 0.1024635059785794, Total Value: 1015.8826862500098\n",
      "Step: 3, Cash: 773.7896251338032, BTC: 0.04345249299589751, Total Value: 1023.8069103193848\n",
      "Step: 4, Cash: 344.57487169758366, BTC: 0.1180491395980692, Total Value: 1007.615329528117\n",
      "Step: 5, Cash: 991.6107972977618, BTC: 0.002849481109561333, Total Value: 1007.8204003390243\n",
      "Step: 6, Cash: 919.6359893623813, BTC: 0.015501910354996887, Total Value: 1004.7410836081217\n",
      "Step: 7, Cash: 132.0426139969279, BTC: 0.158962205056636, Total Value: 1023.3133490081885\n",
      "Step: 8, Cash: 0.0, BTC: 0.18251260815848214, Total Value: 1004.6874382877024\n",
      "Step: 9, Cash: 647.0308604890279, BTC: 0.06497228128016116, Total Value: 1014.9563898283734\n",
      "Step: 10, Cash: 132.93630727688958, BTC: 0.15575667445851699, Total Value: 1033.6149442643864\n",
      "Step: 11, Cash: 93.65004959865593, BTC: 0.16255054809623157, Total Value: 1039.6617770313353\n",
      "Step: 12, Cash: 292.7602869825064, BTC: 0.12833799313546984, Total Value: 1031.958489521493\n",
      "Step: 13, Cash: 1031.958489521493, BTC: 0.0, Total Value: 1031.958489521493\n",
      "Step: 14, Cash: 1031.958489521493, BTC: 0.0, Total Value: 1031.958489521493\n",
      "Step: 15, Cash: 1031.958489521493, BTC: 0.0, Total Value: 1031.958489521493\n",
      "Step: 16, Cash: 1031.958489521493, BTC: 0.0, Total Value: 1031.958489521493\n",
      "Step: 17, Cash: 708.9240268252277, BTC: 0.053990067404647804, Total Value: 1036.5034883354083\n",
      "Step: 18, Cash: 745.0591181261466, BTC: 0.04803445588365785, Total Value: 1042.950190783208\n",
      "Step: 19, Cash: 707.0428544953645, BTC: 0.054164517190787194, Total Value: 1046.7491122916476\n",
      "Step: 20, Cash: 0.0, BTC: 0.16689907526272985, Total Value: 1043.487164398317\n",
      "Step: 21, Cash: 0.0, BTC: 0.16689907526272985, Total Value: 1060.5560990725621\n",
      "Step: 22, Cash: 0.0, BTC: 0.16689907526272985, Total Value: 974.5698258871063\n",
      "Step: 23, Cash: 817.904616993742, BTC: 0.02682955884289176, Total Value: 968.6703884283738\n",
      "Step: 24, Cash: 968.6703884283738, BTC: 0.0, Total Value: 968.6703884283738\n",
      "Step: 25, Cash: 968.6703884283738, BTC: 0.0, Total Value: 968.6703884283738\n",
      "Step: 26, Cash: 0.0, BTC: 0.1797164735553476, Total Value: 979.6421317902384\n",
      "Step: 27, Cash: 201.51168107322962, BTC: 0.14274892435806064, Total Value: 980.978451310645\n",
      "Step: 28, Cash: 980.978451310645, BTC: 0.0, Total Value: 980.978451310645\n",
      "Step: 29, Cash: 980.978451310645, BTC: 0.0, Total Value: 980.978451310645\n",
      "Fattore di rendimento: 0.980978451310645\n",
      "Fattore di rendimento ideale: 1.2890246327915174\n",
      "Valore finale del portafoglio: 980.978451310645\n",
      "Valore finale ideale del portafoglio: 1289.0246327915174\n",
      "Punteggio rendimento: 0.7610238209228274\n",
      "Punteggio considerato sufficiente: 0.7619343820641332\n"
     ]
    }
   ],
   "source": [
    "# Test finale su test_periods\n",
    "test_env = TradingEnv(\n",
    "    periods=test_periods, \n",
    "    initial_cash=liquidità_iniziale, \n",
    "    initial_btc=bitcoin_iniziali, \n",
    "    L=L, \n",
    "    info_columns=info_columns, \n",
    "    portfolio_metrics=portfolio_metrics\n",
    ")\n",
    "\n",
    "obs = test_env.reset()\n",
    "done = False\n",
    "lista_prezzi_test = [test_env.current_period['Price'].iloc[0]]  # Lista per registrare i prezzi durante il test\n",
    "\n",
    "while not done:\n",
    "    action, _states = model.predict(obs)\n",
    "    obs, reward, done, _ = test_env.step(action)\n",
    "    lista_prezzi_test.append(test_env.current_period['Price'].iloc[test_env.current_step])\n",
    "    test_env.render()\n",
    "\n",
    "# Calcola il rendimento finale del portafoglio dell'agente\n",
    "final_value = test_env.cash + test_env.btc * test_env.current_period['Price'].iloc[test_env.current_step]\n",
    "total_return = final_value / test_env.valore_iniziale  # Rendimento complessivo dell'agente\n",
    "\n",
    "# Calcola il rendimento ideale usando la funzione `calcola_rendimento_portafoglio_ideale`\n",
    "rendimento_ideale, valore_finale_ideale = calcola_rendimento_portafoglio_ideale(\n",
    "    capitale_iniziale=liquidità_iniziale, \n",
    "    bitcoin_iniziali=bitcoin_iniziali, \n",
    "    lista_prezzi=pd.Series(lista_prezzi_test), \n",
    "    min_acquisto=10, \n",
    "    min_vendita=10, \n",
    "    perc_commissione_acquisto=0.001, \n",
    "    perc_commissione_vendita=0.001\n",
    ")\n",
    "\n",
    "# Stampa i risultati finali\n",
    "print(f\"Fattore di rendimento: {total_return}\")\n",
    "print(f\"Fattore di rendimento ideale: {rendimento_ideale}\")\n",
    "print(f\"Valore finale del portafoglio: {final_value}\")\n",
    "print(f\"Valore finale ideale del portafoglio: {valore_finale_ideale}\")\n",
    "print(f'Punteggio rendimento: {total_return / rendimento_ideale}')\n",
    "print(f'Punteggio considerato sufficiente: {calcola_punteggio_sufficienza_medio([pd.DataFrame({\"Price\": lista_prezzi_test})])}')"
   ]
  },
  {
   "cell_type": "code",
   "execution_count": null,
   "metadata": {},
   "outputs": [
    {
     "data": {
      "application/vnd.plotly.v1+json": {
       "config": {
        "plotlyServerURL": "https://plot.ly"
       },
       "data": [
        {
         "line": {
          "color": "blue",
          "width": 2
         },
         "mode": "lines",
         "name": "Prezzo BTC",
         "type": "scatter",
         "x": [
          "2018-08-14T00:00:00",
          "2018-08-15T00:00:00",
          "2018-08-16T00:00:00",
          "2018-08-17T00:00:00",
          "2018-08-18T00:00:00",
          "2018-08-19T00:00:00",
          "2018-08-20T00:00:00",
          "2018-08-21T00:00:00",
          "2018-08-22T00:00:00",
          "2018-08-23T00:00:00",
          "2018-08-24T00:00:00",
          "2018-08-25T00:00:00",
          "2018-08-26T00:00:00",
          "2018-08-27T00:00:00",
          "2018-08-28T00:00:00",
          "2018-08-29T00:00:00",
          "2018-08-30T00:00:00",
          "2018-08-31T00:00:00",
          "2018-09-01T00:00:00",
          "2018-09-02T00:00:00",
          "2018-09-03T00:00:00",
          "2018-09-04T00:00:00",
          "2018-09-05T00:00:00",
          "2018-09-06T00:00:00",
          "2018-09-07T00:00:00",
          "2018-09-08T00:00:00",
          "2018-09-09T00:00:00",
          "2018-09-10T00:00:00",
          "2018-09-11T00:00:00",
          "2018-09-12T00:00:00"
         ],
         "y": [
          5464.22509765625,
          5562.578125,
          5571.4423828125,
          5753.8076171875,
          5616.64794921875,
          5688.61572265625,
          5489.974609375,
          5606.80908203125,
          5504.75634765625,
          5662.8076171875,
          5782.6005859375,
          5819.80029296875,
          5759.77685546875,
          5893.37451171875,
          6068.82763671875,
          6019.09814453125,
          5983.22021484375,
          6067.40234375,
          6201.6123046875,
          6271.7490234375,
          6252.20458984375,
          6354.4755859375,
          5839.2763671875,
          5619.390625,
          5598.7099609375,
          5389.9921875,
          5451.04248046875,
          5460.40380859375,
          5452.6005859375,
          5464.85400390625
         ]
        }
       ],
       "layout": {
        "height": 600,
        "hovermode": "x unified",
        "template": {
         "data": {
          "bar": [
           {
            "error_x": {
             "color": "#2a3f5f"
            },
            "error_y": {
             "color": "#2a3f5f"
            },
            "marker": {
             "line": {
              "color": "white",
              "width": 0.5
             },
             "pattern": {
              "fillmode": "overlay",
              "size": 10,
              "solidity": 0.2
             }
            },
            "type": "bar"
           }
          ],
          "barpolar": [
           {
            "marker": {
             "line": {
              "color": "white",
              "width": 0.5
             },
             "pattern": {
              "fillmode": "overlay",
              "size": 10,
              "solidity": 0.2
             }
            },
            "type": "barpolar"
           }
          ],
          "carpet": [
           {
            "aaxis": {
             "endlinecolor": "#2a3f5f",
             "gridcolor": "#C8D4E3",
             "linecolor": "#C8D4E3",
             "minorgridcolor": "#C8D4E3",
             "startlinecolor": "#2a3f5f"
            },
            "baxis": {
             "endlinecolor": "#2a3f5f",
             "gridcolor": "#C8D4E3",
             "linecolor": "#C8D4E3",
             "minorgridcolor": "#C8D4E3",
             "startlinecolor": "#2a3f5f"
            },
            "type": "carpet"
           }
          ],
          "choropleth": [
           {
            "colorbar": {
             "outlinewidth": 0,
             "ticks": ""
            },
            "type": "choropleth"
           }
          ],
          "contour": [
           {
            "colorbar": {
             "outlinewidth": 0,
             "ticks": ""
            },
            "colorscale": [
             [
              0,
              "#0d0887"
             ],
             [
              0.1111111111111111,
              "#46039f"
             ],
             [
              0.2222222222222222,
              "#7201a8"
             ],
             [
              0.3333333333333333,
              "#9c179e"
             ],
             [
              0.4444444444444444,
              "#bd3786"
             ],
             [
              0.5555555555555556,
              "#d8576b"
             ],
             [
              0.6666666666666666,
              "#ed7953"
             ],
             [
              0.7777777777777778,
              "#fb9f3a"
             ],
             [
              0.8888888888888888,
              "#fdca26"
             ],
             [
              1,
              "#f0f921"
             ]
            ],
            "type": "contour"
           }
          ],
          "contourcarpet": [
           {
            "colorbar": {
             "outlinewidth": 0,
             "ticks": ""
            },
            "type": "contourcarpet"
           }
          ],
          "heatmap": [
           {
            "colorbar": {
             "outlinewidth": 0,
             "ticks": ""
            },
            "colorscale": [
             [
              0,
              "#0d0887"
             ],
             [
              0.1111111111111111,
              "#46039f"
             ],
             [
              0.2222222222222222,
              "#7201a8"
             ],
             [
              0.3333333333333333,
              "#9c179e"
             ],
             [
              0.4444444444444444,
              "#bd3786"
             ],
             [
              0.5555555555555556,
              "#d8576b"
             ],
             [
              0.6666666666666666,
              "#ed7953"
             ],
             [
              0.7777777777777778,
              "#fb9f3a"
             ],
             [
              0.8888888888888888,
              "#fdca26"
             ],
             [
              1,
              "#f0f921"
             ]
            ],
            "type": "heatmap"
           }
          ],
          "heatmapgl": [
           {
            "colorbar": {
             "outlinewidth": 0,
             "ticks": ""
            },
            "colorscale": [
             [
              0,
              "#0d0887"
             ],
             [
              0.1111111111111111,
              "#46039f"
             ],
             [
              0.2222222222222222,
              "#7201a8"
             ],
             [
              0.3333333333333333,
              "#9c179e"
             ],
             [
              0.4444444444444444,
              "#bd3786"
             ],
             [
              0.5555555555555556,
              "#d8576b"
             ],
             [
              0.6666666666666666,
              "#ed7953"
             ],
             [
              0.7777777777777778,
              "#fb9f3a"
             ],
             [
              0.8888888888888888,
              "#fdca26"
             ],
             [
              1,
              "#f0f921"
             ]
            ],
            "type": "heatmapgl"
           }
          ],
          "histogram": [
           {
            "marker": {
             "pattern": {
              "fillmode": "overlay",
              "size": 10,
              "solidity": 0.2
             }
            },
            "type": "histogram"
           }
          ],
          "histogram2d": [
           {
            "colorbar": {
             "outlinewidth": 0,
             "ticks": ""
            },
            "colorscale": [
             [
              0,
              "#0d0887"
             ],
             [
              0.1111111111111111,
              "#46039f"
             ],
             [
              0.2222222222222222,
              "#7201a8"
             ],
             [
              0.3333333333333333,
              "#9c179e"
             ],
             [
              0.4444444444444444,
              "#bd3786"
             ],
             [
              0.5555555555555556,
              "#d8576b"
             ],
             [
              0.6666666666666666,
              "#ed7953"
             ],
             [
              0.7777777777777778,
              "#fb9f3a"
             ],
             [
              0.8888888888888888,
              "#fdca26"
             ],
             [
              1,
              "#f0f921"
             ]
            ],
            "type": "histogram2d"
           }
          ],
          "histogram2dcontour": [
           {
            "colorbar": {
             "outlinewidth": 0,
             "ticks": ""
            },
            "colorscale": [
             [
              0,
              "#0d0887"
             ],
             [
              0.1111111111111111,
              "#46039f"
             ],
             [
              0.2222222222222222,
              "#7201a8"
             ],
             [
              0.3333333333333333,
              "#9c179e"
             ],
             [
              0.4444444444444444,
              "#bd3786"
             ],
             [
              0.5555555555555556,
              "#d8576b"
             ],
             [
              0.6666666666666666,
              "#ed7953"
             ],
             [
              0.7777777777777778,
              "#fb9f3a"
             ],
             [
              0.8888888888888888,
              "#fdca26"
             ],
             [
              1,
              "#f0f921"
             ]
            ],
            "type": "histogram2dcontour"
           }
          ],
          "mesh3d": [
           {
            "colorbar": {
             "outlinewidth": 0,
             "ticks": ""
            },
            "type": "mesh3d"
           }
          ],
          "parcoords": [
           {
            "line": {
             "colorbar": {
              "outlinewidth": 0,
              "ticks": ""
             }
            },
            "type": "parcoords"
           }
          ],
          "pie": [
           {
            "automargin": true,
            "type": "pie"
           }
          ],
          "scatter": [
           {
            "fillpattern": {
             "fillmode": "overlay",
             "size": 10,
             "solidity": 0.2
            },
            "type": "scatter"
           }
          ],
          "scatter3d": [
           {
            "line": {
             "colorbar": {
              "outlinewidth": 0,
              "ticks": ""
             }
            },
            "marker": {
             "colorbar": {
              "outlinewidth": 0,
              "ticks": ""
             }
            },
            "type": "scatter3d"
           }
          ],
          "scattercarpet": [
           {
            "marker": {
             "colorbar": {
              "outlinewidth": 0,
              "ticks": ""
             }
            },
            "type": "scattercarpet"
           }
          ],
          "scattergeo": [
           {
            "marker": {
             "colorbar": {
              "outlinewidth": 0,
              "ticks": ""
             }
            },
            "type": "scattergeo"
           }
          ],
          "scattergl": [
           {
            "marker": {
             "colorbar": {
              "outlinewidth": 0,
              "ticks": ""
             }
            },
            "type": "scattergl"
           }
          ],
          "scattermapbox": [
           {
            "marker": {
             "colorbar": {
              "outlinewidth": 0,
              "ticks": ""
             }
            },
            "type": "scattermapbox"
           }
          ],
          "scatterpolar": [
           {
            "marker": {
             "colorbar": {
              "outlinewidth": 0,
              "ticks": ""
             }
            },
            "type": "scatterpolar"
           }
          ],
          "scatterpolargl": [
           {
            "marker": {
             "colorbar": {
              "outlinewidth": 0,
              "ticks": ""
             }
            },
            "type": "scatterpolargl"
           }
          ],
          "scatterternary": [
           {
            "marker": {
             "colorbar": {
              "outlinewidth": 0,
              "ticks": ""
             }
            },
            "type": "scatterternary"
           }
          ],
          "surface": [
           {
            "colorbar": {
             "outlinewidth": 0,
             "ticks": ""
            },
            "colorscale": [
             [
              0,
              "#0d0887"
             ],
             [
              0.1111111111111111,
              "#46039f"
             ],
             [
              0.2222222222222222,
              "#7201a8"
             ],
             [
              0.3333333333333333,
              "#9c179e"
             ],
             [
              0.4444444444444444,
              "#bd3786"
             ],
             [
              0.5555555555555556,
              "#d8576b"
             ],
             [
              0.6666666666666666,
              "#ed7953"
             ],
             [
              0.7777777777777778,
              "#fb9f3a"
             ],
             [
              0.8888888888888888,
              "#fdca26"
             ],
             [
              1,
              "#f0f921"
             ]
            ],
            "type": "surface"
           }
          ],
          "table": [
           {
            "cells": {
             "fill": {
              "color": "#EBF0F8"
             },
             "line": {
              "color": "white"
             }
            },
            "header": {
             "fill": {
              "color": "#C8D4E3"
             },
             "line": {
              "color": "white"
             }
            },
            "type": "table"
           }
          ]
         },
         "layout": {
          "annotationdefaults": {
           "arrowcolor": "#2a3f5f",
           "arrowhead": 0,
           "arrowwidth": 1
          },
          "autotypenumbers": "strict",
          "coloraxis": {
           "colorbar": {
            "outlinewidth": 0,
            "ticks": ""
           }
          },
          "colorscale": {
           "diverging": [
            [
             0,
             "#8e0152"
            ],
            [
             0.1,
             "#c51b7d"
            ],
            [
             0.2,
             "#de77ae"
            ],
            [
             0.3,
             "#f1b6da"
            ],
            [
             0.4,
             "#fde0ef"
            ],
            [
             0.5,
             "#f7f7f7"
            ],
            [
             0.6,
             "#e6f5d0"
            ],
            [
             0.7,
             "#b8e186"
            ],
            [
             0.8,
             "#7fbc41"
            ],
            [
             0.9,
             "#4d9221"
            ],
            [
             1,
             "#276419"
            ]
           ],
           "sequential": [
            [
             0,
             "#0d0887"
            ],
            [
             0.1111111111111111,
             "#46039f"
            ],
            [
             0.2222222222222222,
             "#7201a8"
            ],
            [
             0.3333333333333333,
             "#9c179e"
            ],
            [
             0.4444444444444444,
             "#bd3786"
            ],
            [
             0.5555555555555556,
             "#d8576b"
            ],
            [
             0.6666666666666666,
             "#ed7953"
            ],
            [
             0.7777777777777778,
             "#fb9f3a"
            ],
            [
             0.8888888888888888,
             "#fdca26"
            ],
            [
             1,
             "#f0f921"
            ]
           ],
           "sequentialminus": [
            [
             0,
             "#0d0887"
            ],
            [
             0.1111111111111111,
             "#46039f"
            ],
            [
             0.2222222222222222,
             "#7201a8"
            ],
            [
             0.3333333333333333,
             "#9c179e"
            ],
            [
             0.4444444444444444,
             "#bd3786"
            ],
            [
             0.5555555555555556,
             "#d8576b"
            ],
            [
             0.6666666666666666,
             "#ed7953"
            ],
            [
             0.7777777777777778,
             "#fb9f3a"
            ],
            [
             0.8888888888888888,
             "#fdca26"
            ],
            [
             1,
             "#f0f921"
            ]
           ]
          },
          "colorway": [
           "#636efa",
           "#EF553B",
           "#00cc96",
           "#ab63fa",
           "#FFA15A",
           "#19d3f3",
           "#FF6692",
           "#B6E880",
           "#FF97FF",
           "#FECB52"
          ],
          "font": {
           "color": "#2a3f5f"
          },
          "geo": {
           "bgcolor": "white",
           "lakecolor": "white",
           "landcolor": "white",
           "showlakes": true,
           "showland": true,
           "subunitcolor": "#C8D4E3"
          },
          "hoverlabel": {
           "align": "left"
          },
          "hovermode": "closest",
          "mapbox": {
           "style": "light"
          },
          "paper_bgcolor": "white",
          "plot_bgcolor": "white",
          "polar": {
           "angularaxis": {
            "gridcolor": "#EBF0F8",
            "linecolor": "#EBF0F8",
            "ticks": ""
           },
           "bgcolor": "white",
           "radialaxis": {
            "gridcolor": "#EBF0F8",
            "linecolor": "#EBF0F8",
            "ticks": ""
           }
          },
          "scene": {
           "xaxis": {
            "backgroundcolor": "white",
            "gridcolor": "#DFE8F3",
            "gridwidth": 2,
            "linecolor": "#EBF0F8",
            "showbackground": true,
            "ticks": "",
            "zerolinecolor": "#EBF0F8"
           },
           "yaxis": {
            "backgroundcolor": "white",
            "gridcolor": "#DFE8F3",
            "gridwidth": 2,
            "linecolor": "#EBF0F8",
            "showbackground": true,
            "ticks": "",
            "zerolinecolor": "#EBF0F8"
           },
           "zaxis": {
            "backgroundcolor": "white",
            "gridcolor": "#DFE8F3",
            "gridwidth": 2,
            "linecolor": "#EBF0F8",
            "showbackground": true,
            "ticks": "",
            "zerolinecolor": "#EBF0F8"
           }
          },
          "shapedefaults": {
           "line": {
            "color": "#2a3f5f"
           }
          },
          "ternary": {
           "aaxis": {
            "gridcolor": "#DFE8F3",
            "linecolor": "#A2B1C6",
            "ticks": ""
           },
           "baxis": {
            "gridcolor": "#DFE8F3",
            "linecolor": "#A2B1C6",
            "ticks": ""
           },
           "bgcolor": "white",
           "caxis": {
            "gridcolor": "#DFE8F3",
            "linecolor": "#A2B1C6",
            "ticks": ""
           }
          },
          "title": {
           "x": 0.05
          },
          "xaxis": {
           "automargin": true,
           "gridcolor": "#EBF0F8",
           "linecolor": "#EBF0F8",
           "ticks": "",
           "title": {
            "standoff": 15
           },
           "zerolinecolor": "#EBF0F8",
           "zerolinewidth": 2
          },
          "yaxis": {
           "automargin": true,
           "gridcolor": "#EBF0F8",
           "linecolor": "#EBF0F8",
           "ticks": "",
           "title": {
            "standoff": 15
           },
           "zerolinecolor": "#EBF0F8",
           "zerolinewidth": 2
          }
         }
        },
        "title": {
         "text": "Andamento dei Prezzi di BTC durante il periodo di test"
        },
        "width": 1000,
        "xaxis": {
         "title": {
          "text": "Data"
         }
        },
        "yaxis": {
         "title": {
          "text": "Prezzo (€)"
         }
        }
       }
      }
     },
     "metadata": {},
     "output_type": "display_data"
    }
   ],
   "source": [
    "# Estrai i prezzi e le date dal periodo di test\n",
    "test_dates = test_env.current_period['Timestamp']  # Assicurati che ci sia una colonna 'Timestamp' nei dati\n",
    "test_prices = test_env.current_period['Price']\n",
    "\n",
    "# Crea la figura dell'andamento dei prezzi\n",
    "fig = go.Figure()\n",
    "\n",
    "# Aggiungi una linea per l'andamento dei prezzi di test\n",
    "fig.add_trace(go.Scatter(\n",
    "    x=test_dates, \n",
    "    y=test_prices, \n",
    "    mode='lines',\n",
    "    name='Prezzo BTC',\n",
    "    line=dict(color='blue', width=2)\n",
    "))\n",
    "\n",
    "# Configurazione del layout del grafico\n",
    "fig.update_layout(\n",
    "    title=\"Andamento dei Prezzi di BTC durante il periodo di test\",\n",
    "    xaxis_title=\"Data\",\n",
    "    yaxis_title=\"Prezzo (€)\",\n",
    "    template=\"plotly_white\",\n",
    "    hovermode=\"x unified\",\n",
    "    width=1000,\n",
    "    height=600\n",
    ")\n",
    "\n",
    "# Mostra il grafico\n",
    "fig.show()"
   ]
  },
  {
   "cell_type": "markdown",
   "metadata": {},
   "source": [
    "# Funzione per sapere cosa fare oggi in base al passato"
   ]
  },
  {
   "cell_type": "code",
   "execution_count": null,
   "metadata": {},
   "outputs": [
    {
     "name": "stdout",
     "output_type": "stream",
     "text": [
      "Azione consigliata per oggi: 0.42666033\n"
     ]
    }
   ],
   "source": [
    "def get_trading_action(model, new_data):\n",
    "    new_env = TradingEnv(periods=[new_data], initial_cash=liquidità_iniziale, initial_btc=bitcoin_iniziali, \n",
    "                                    L=L, info_columns=info_columns, portfolio_metrics=portfolio_metrics)\n",
    "    obs = new_env.reset()\n",
    "    action, _states = model.predict(obs)\n",
    "    return action[0]\n",
    "\n",
    "# Esempio di utilizzo su nuovi dati\n",
    "new_data = dati.iloc[-L:]\n",
    "\n",
    "action_today = get_trading_action(model, new_data)\n",
    "print(\"Azione consigliata per oggi:\", action_today)"
   ]
  },
  {
   "cell_type": "code",
   "execution_count": null,
   "metadata": {},
   "outputs": [
    {
     "data": {
      "image/png": "[encoded data removed]",
      "text/plain": [
       "<Figure size 640x480 with 1 Axes>"
      ]
     },
     "metadata": {},
     "output_type": "display_data"
    }
   ],
   "source": [
    "plt.grid()\n",
    "plt.plot(new_data['Timestamp'], new_data['Price']);"
   ]
  },
  {
   "cell_type": "markdown",
   "metadata": {},
   "source": [
    "# Funzione per testare l'agente su più giorni (simulazione classica)"
   ]
  },
  {
   "cell_type": "code",
   "execution_count": null,
   "metadata": {},
   "outputs": [],
   "source": [
    "# Funzione per simulare il trading su dati di test\n",
    "def simulate_trading_on_test_data(model, dati_test_custom, L=30, initial_cash=1000, initial_btc=0):\n",
    "    # Inizializza le variabili di portafoglio\n",
    "    cash = initial_cash\n",
    "    btc = initial_btc\n",
    "    \n",
    "    # Lista per accumulare i dati del log\n",
    "    log_data = []\n",
    "    \n",
    "    # Ciclo su ogni giorno da L in poi per simulare le operazioni di trading\n",
    "    for i in range(L, len(dati_test_custom)):\n",
    "        # Crea la finestra dei dati passati di lunghezza L\n",
    "        historical_data = dati_test_custom.iloc[i-L:i]\n",
    "        \n",
    "        # Estrarre il prezzo del giorno corrente\n",
    "        current_price = dati_test_custom.iloc[i]['Price']\n",
    "        current_timestamp = dati_test_custom.iloc[i]['Timestamp']\n",
    "        \n",
    "        # Usa il modello per prevedere l'azione da compiere oggi\n",
    "        action = get_trading_action(model, historical_data)\n",
    "        \n",
    "        # Determina l'azione (acquisto, vendita o nulla)\n",
    "        if action > 0:  # Acquisto\n",
    "            cash_spent = action * cash\n",
    "            btc_bought = cash_spent / current_price\n",
    "            cash -= cash_spent\n",
    "            btc += btc_bought\n",
    "            action_type = 'Acquisto'\n",
    "        elif action < 0:  # Vendita\n",
    "            btc_sold = -action * btc\n",
    "            cash_earned = btc_sold * current_price\n",
    "            btc -= btc_sold\n",
    "            cash += cash_earned\n",
    "            action_type = 'Vendita'\n",
    "        else:\n",
    "            # Nessuna azione\n",
    "            action_type = '-'\n",
    "            cash_spent = 0\n",
    "            btc_bought = 0\n",
    "            cash_earned = 0\n",
    "            btc_sold = 0\n",
    "\n",
    "        # Calcola il valore totale del portafoglio alla fine della giornata\n",
    "        total_value = cash + btc * current_price\n",
    "        \n",
    "        # Aggiungi una nuova riga al log\n",
    "        log_data.append({\n",
    "            'Timestamp': current_timestamp,\n",
    "            'prezzo': current_price,\n",
    "            'Azione': action_type,\n",
    "            'Percentuale': action,\n",
    "            'Liquidità spesa/guadagnata': cash_spent if action_type == 'Acquisto' else cash_earned if action_type == 'Vendita' else '-',\n",
    "            'Bitcoin spesi/guadagnati': btc_bought if action_type == 'Acquisto' else btc_sold if action_type == 'Vendita' else '-',\n",
    "            'Liquidità posseduta': cash,\n",
    "            'bitcoin': btc,\n",
    "            'valore_totale_portafoglio': total_value\n",
    "        })\n",
    "        \n",
    "    # Converti i dati del log in un DataFrame\n",
    "    log_df = pd.DataFrame(log_data)\n",
    "    \n",
    "    return log_df"
   ]
  },
  {
   "cell_type": "code",
   "execution_count": null,
   "metadata": {},
   "outputs": [
    {
     "data": {
      "text/html": [
       "<div>\n",
       "<style scoped>\n",
       "    .dataframe tbody tr th:only-of-type {\n",
       "        vertical-align: middle;\n",
       "    }\n",
       "\n",
       "    .dataframe tbody tr th {\n",
       "        vertical-align: top;\n",
       "    }\n",
       "\n",
       "    .dataframe thead th {\n",
       "        text-align: right;\n",
       "    }\n",
       "</style>\n",
       "<table border=\"1\" class=\"dataframe\">\n",
       "  <thead>\n",
       "    <tr style=\"text-align: right;\">\n",
       "      <th></th>\n",
       "      <th>Timestamp</th>\n",
       "      <th>Price</th>\n",
       "      <th>Open</th>\n",
       "      <th>High</th>\n",
       "      <th>Low</th>\n",
       "      <th>Volume</th>\n",
       "    </tr>\n",
       "  </thead>\n",
       "  <tbody>\n",
       "    <tr>\n",
       "      <th>0</th>\n",
       "      <td>2014-09-17</td>\n",
       "      <td>355.957367</td>\n",
       "      <td>359.546204</td>\n",
       "      <td>361.468506</td>\n",
       "      <td>351.586884</td>\n",
       "      <td>16389166</td>\n",
       "    </tr>\n",
       "    <tr>\n",
       "      <th>1</th>\n",
       "      <td>2014-09-18</td>\n",
       "      <td>328.539368</td>\n",
       "      <td>355.588409</td>\n",
       "      <td>355.505402</td>\n",
       "      <td>319.789459</td>\n",
       "      <td>26691849</td>\n",
       "    </tr>\n",
       "    <tr>\n",
       "      <th>2</th>\n",
       "      <td>2014-09-19</td>\n",
       "      <td>307.761139</td>\n",
       "      <td>328.278503</td>\n",
       "      <td>330.936707</td>\n",
       "      <td>298.921021</td>\n",
       "      <td>29560103</td>\n",
       "    </tr>\n",
       "    <tr>\n",
       "      <th>3</th>\n",
       "      <td>2014-09-20</td>\n",
       "      <td>318.758972</td>\n",
       "      <td>307.665253</td>\n",
       "      <td>329.978180</td>\n",
       "      <td>303.931244</td>\n",
       "      <td>28736826</td>\n",
       "    </tr>\n",
       "    <tr>\n",
       "      <th>4</th>\n",
       "      <td>2014-09-21</td>\n",
       "      <td>310.632446</td>\n",
       "      <td>318.120514</td>\n",
       "      <td>321.504517</td>\n",
       "      <td>306.502197</td>\n",
       "      <td>20702625</td>\n",
       "    </tr>\n",
       "    <tr>\n",
       "      <th>...</th>\n",
       "      <td>...</td>\n",
       "      <td>...</td>\n",
       "      <td>...</td>\n",
       "      <td>...</td>\n",
       "      <td>...</td>\n",
       "      <td>...</td>\n",
       "    </tr>\n",
       "    <tr>\n",
       "      <th>3388</th>\n",
       "      <td>2023-12-27</td>\n",
       "      <td>38504.562500</td>\n",
       "      <td>39568.429688</td>\n",
       "      <td>39571.453125</td>\n",
       "      <td>37778.320312</td>\n",
       "      <td>27190965041</td>\n",
       "    </tr>\n",
       "    <tr>\n",
       "      <th>3389</th>\n",
       "      <td>2023-12-28</td>\n",
       "      <td>39108.300781</td>\n",
       "      <td>38502.812500</td>\n",
       "      <td>39345.335938</td>\n",
       "      <td>38217.789062</td>\n",
       "      <td>22740505379</td>\n",
       "    </tr>\n",
       "    <tr>\n",
       "      <th>3390</th>\n",
       "      <td>2023-12-29</td>\n",
       "      <td>38515.289062</td>\n",
       "      <td>39131.113281</td>\n",
       "      <td>39415.761719</td>\n",
       "      <td>38211.789062</td>\n",
       "      <td>20773907848</td>\n",
       "    </tr>\n",
       "    <tr>\n",
       "      <th>3391</th>\n",
       "      <td>2023-12-30</td>\n",
       "      <td>38080.046875</td>\n",
       "      <td>38503.351562</td>\n",
       "      <td>38997.976562</td>\n",
       "      <td>37469.179688</td>\n",
       "      <td>23517721045</td>\n",
       "    </tr>\n",
       "    <tr>\n",
       "      <th>3392</th>\n",
       "      <td>2023-12-31</td>\n",
       "      <td>38132.054688</td>\n",
       "      <td>38073.125000</td>\n",
       "      <td>38518.488281</td>\n",
       "      <td>37588.726562</td>\n",
       "      <td>14485028393</td>\n",
       "    </tr>\n",
       "  </tbody>\n",
       "</table>\n",
       "<p>3393 rows × 6 columns</p>\n",
       "</div>"
      ],
      "text/plain": [
       "      Timestamp         Price          Open          High           Low  \\\n",
       "0    2014-09-17    355.957367    359.546204    361.468506    351.586884   \n",
       "1    2014-09-18    328.539368    355.588409    355.505402    319.789459   \n",
       "2    2014-09-19    307.761139    328.278503    330.936707    298.921021   \n",
       "3    2014-09-20    318.758972    307.665253    329.978180    303.931244   \n",
       "4    2014-09-21    310.632446    318.120514    321.504517    306.502197   \n",
       "...         ...           ...           ...           ...           ...   \n",
       "3388 2023-12-27  38504.562500  39568.429688  39571.453125  37778.320312   \n",
       "3389 2023-12-28  39108.300781  38502.812500  39345.335938  38217.789062   \n",
       "3390 2023-12-29  38515.289062  39131.113281  39415.761719  38211.789062   \n",
       "3391 2023-12-30  38080.046875  38503.351562  38997.976562  37469.179688   \n",
       "3392 2023-12-31  38132.054688  38073.125000  38518.488281  37588.726562   \n",
       "\n",
       "           Volume  \n",
       "0        16389166  \n",
       "1        26691849  \n",
       "2        29560103  \n",
       "3        28736826  \n",
       "4        20702625  \n",
       "...           ...  \n",
       "3388  27190965041  \n",
       "3389  22740505379  \n",
       "3390  20773907848  \n",
       "3391  23517721045  \n",
       "3392  14485028393  \n",
       "\n",
       "[3393 rows x 6 columns]"
      ]
     },
     "execution_count": 212,
     "metadata": {},
     "output_type": "execute_result"
    }
   ],
   "source": [
    "dati"
   ]
  },
  {
   "cell_type": "code",
   "execution_count": null,
   "metadata": {},
   "outputs": [
    {
     "data": {
      "text/html": [
       "<div>\n",
       "<style scoped>\n",
       "    .dataframe tbody tr th:only-of-type {\n",
       "        vertical-align: middle;\n",
       "    }\n",
       "\n",
       "    .dataframe tbody tr th {\n",
       "        vertical-align: top;\n",
       "    }\n",
       "\n",
       "    .dataframe thead th {\n",
       "        text-align: right;\n",
       "    }\n",
       "</style>\n",
       "<table border=\"1\" class=\"dataframe\">\n",
       "  <thead>\n",
       "    <tr style=\"text-align: right;\">\n",
       "      <th></th>\n",
       "      <th>Timestamp</th>\n",
       "      <th>prezzo</th>\n",
       "      <th>Azione</th>\n",
       "      <th>Percentuale</th>\n",
       "      <th>Liquidità spesa/guadagnata</th>\n",
       "      <th>Bitcoin spesi/guadagnati</th>\n",
       "      <th>Liquidità posseduta</th>\n",
       "      <th>bitcoin</th>\n",
       "      <th>valore_totale_portafoglio</th>\n",
       "    </tr>\n",
       "  </thead>\n",
       "  <tbody>\n",
       "    <tr>\n",
       "      <th>0</th>\n",
       "      <td>2024-04-02</td>\n",
       "      <td>64920.578125</td>\n",
       "      <td>Vendita</td>\n",
       "      <td>-0.183986</td>\n",
       "      <td>0.000000</td>\n",
       "      <td>0.000000</td>\n",
       "      <td>1000.000000</td>\n",
       "      <td>0.000000</td>\n",
       "      <td>1000.000000</td>\n",
       "    </tr>\n",
       "    <tr>\n",
       "      <th>1</th>\n",
       "      <td>2024-04-03</td>\n",
       "      <td>60778.117188</td>\n",
       "      <td>Acquisto</td>\n",
       "      <td>0.029885</td>\n",
       "      <td>29.884722</td>\n",
       "      <td>0.000492</td>\n",
       "      <td>970.115278</td>\n",
       "      <td>0.000492</td>\n",
       "      <td>1000.000000</td>\n",
       "    </tr>\n",
       "    <tr>\n",
       "      <th>2</th>\n",
       "      <td>2024-04-04</td>\n",
       "      <td>60879.437500</td>\n",
       "      <td>Acquisto</td>\n",
       "      <td>0.312101</td>\n",
       "      <td>302.773984</td>\n",
       "      <td>0.004973</td>\n",
       "      <td>667.341294</td>\n",
       "      <td>0.005465</td>\n",
       "      <td>1000.049819</td>\n",
       "    </tr>\n",
       "    <tr>\n",
       "      <th>3</th>\n",
       "      <td>2024-04-05</td>\n",
       "      <td>63220.507812</td>\n",
       "      <td>Acquisto</td>\n",
       "      <td>1.000000</td>\n",
       "      <td>667.341294</td>\n",
       "      <td>0.010556</td>\n",
       "      <td>0.000000</td>\n",
       "      <td>0.016021</td>\n",
       "      <td>1012.843861</td>\n",
       "    </tr>\n",
       "    <tr>\n",
       "      <th>4</th>\n",
       "      <td>2024-04-06</td>\n",
       "      <td>62559.875000</td>\n",
       "      <td>Acquisto</td>\n",
       "      <td>0.352522</td>\n",
       "      <td>0.000000</td>\n",
       "      <td>0.000000</td>\n",
       "      <td>0.000000</td>\n",
       "      <td>0.016021</td>\n",
       "      <td>1002.259987</td>\n",
       "    </tr>\n",
       "    <tr>\n",
       "      <th>5</th>\n",
       "      <td>2024-04-07</td>\n",
       "      <td>63535.992188</td>\n",
       "      <td>Acquisto</td>\n",
       "      <td>0.150498</td>\n",
       "      <td>0.000000</td>\n",
       "      <td>0.000000</td>\n",
       "      <td>0.000000</td>\n",
       "      <td>0.016021</td>\n",
       "      <td>1017.898177</td>\n",
       "    </tr>\n",
       "    <tr>\n",
       "      <th>6</th>\n",
       "      <td>2024-04-08</td>\n",
       "      <td>64045.218750</td>\n",
       "      <td>Acquisto</td>\n",
       "      <td>0.288390</td>\n",
       "      <td>0.000000</td>\n",
       "      <td>0.000000</td>\n",
       "      <td>0.000000</td>\n",
       "      <td>0.016021</td>\n",
       "      <td>1026.056400</td>\n",
       "    </tr>\n",
       "    <tr>\n",
       "      <th>7</th>\n",
       "      <td>2024-04-09</td>\n",
       "      <td>65948.554688</td>\n",
       "      <td>Vendita</td>\n",
       "      <td>-0.121663</td>\n",
       "      <td>128.543272</td>\n",
       "      <td>0.001949</td>\n",
       "      <td>128.543272</td>\n",
       "      <td>0.014072</td>\n",
       "      <td>1056.549387</td>\n",
       "    </tr>\n",
       "    <tr>\n",
       "      <th>8</th>\n",
       "      <td>2024-04-10</td>\n",
       "      <td>63670.394531</td>\n",
       "      <td>Vendita</td>\n",
       "      <td>-0.808912</td>\n",
       "      <td>724.743238</td>\n",
       "      <td>0.011383</td>\n",
       "      <td>853.286509</td>\n",
       "      <td>0.002689</td>\n",
       "      <td>1024.491875</td>\n",
       "    </tr>\n",
       "    <tr>\n",
       "      <th>9</th>\n",
       "      <td>2024-04-11</td>\n",
       "      <td>65717.312500</td>\n",
       "      <td>Vendita</td>\n",
       "      <td>-1.000000</td>\n",
       "      <td>176.709389</td>\n",
       "      <td>0.002689</td>\n",
       "      <td>1029.995898</td>\n",
       "      <td>0.000000</td>\n",
       "      <td>1029.995898</td>\n",
       "    </tr>\n",
       "    <tr>\n",
       "      <th>10</th>\n",
       "      <td>2024-04-12</td>\n",
       "      <td>65317.503906</td>\n",
       "      <td>Acquisto</td>\n",
       "      <td>0.288726</td>\n",
       "      <td>297.386506</td>\n",
       "      <td>0.004553</td>\n",
       "      <td>732.609393</td>\n",
       "      <td>0.004553</td>\n",
       "      <td>1029.995898</td>\n",
       "    </tr>\n",
       "    <tr>\n",
       "      <th>11</th>\n",
       "      <td>2024-04-13</td>\n",
       "      <td>63046.519531</td>\n",
       "      <td>Acquisto</td>\n",
       "      <td>0.876569</td>\n",
       "      <td>642.182619</td>\n",
       "      <td>0.010186</td>\n",
       "      <td>90.426773</td>\n",
       "      <td>0.014739</td>\n",
       "      <td>1019.656249</td>\n",
       "    </tr>\n",
       "    <tr>\n",
       "      <th>12</th>\n",
       "      <td>2024-04-14</td>\n",
       "      <td>59880.496094</td>\n",
       "      <td>Vendita</td>\n",
       "      <td>-0.676972</td>\n",
       "      <td>597.472525</td>\n",
       "      <td>0.009978</td>\n",
       "      <td>687.899298</td>\n",
       "      <td>0.004761</td>\n",
       "      <td>972.992891</td>\n",
       "    </tr>\n",
       "    <tr>\n",
       "      <th>13</th>\n",
       "      <td>2024-04-15</td>\n",
       "      <td>61747.792969</td>\n",
       "      <td>Vendita</td>\n",
       "      <td>-1.000000</td>\n",
       "      <td>293.983873</td>\n",
       "      <td>0.004761</td>\n",
       "      <td>981.883171</td>\n",
       "      <td>0.000000</td>\n",
       "      <td>981.883171</td>\n",
       "    </tr>\n",
       "    <tr>\n",
       "      <th>14</th>\n",
       "      <td>2024-04-16</td>\n",
       "      <td>59696.433594</td>\n",
       "      <td>Vendita</td>\n",
       "      <td>-0.089883</td>\n",
       "      <td>0.000000</td>\n",
       "      <td>0.000000</td>\n",
       "      <td>981.883171</td>\n",
       "      <td>0.000000</td>\n",
       "      <td>981.883171</td>\n",
       "    </tr>\n",
       "    <tr>\n",
       "      <th>15</th>\n",
       "      <td>2024-04-17</td>\n",
       "      <td>60080.527344</td>\n",
       "      <td>Vendita</td>\n",
       "      <td>-1.000000</td>\n",
       "      <td>0.000000</td>\n",
       "      <td>0.000000</td>\n",
       "      <td>981.883171</td>\n",
       "      <td>0.000000</td>\n",
       "      <td>981.883171</td>\n",
       "    </tr>\n",
       "    <tr>\n",
       "      <th>16</th>\n",
       "      <td>2024-04-18</td>\n",
       "      <td>57433.480469</td>\n",
       "      <td>Vendita</td>\n",
       "      <td>-1.000000</td>\n",
       "      <td>0.000000</td>\n",
       "      <td>0.000000</td>\n",
       "      <td>981.883171</td>\n",
       "      <td>0.000000</td>\n",
       "      <td>981.883171</td>\n",
       "    </tr>\n",
       "    <tr>\n",
       "      <th>17</th>\n",
       "      <td>2024-04-19</td>\n",
       "      <td>59676.964844</td>\n",
       "      <td>Vendita</td>\n",
       "      <td>-0.375697</td>\n",
       "      <td>0.000000</td>\n",
       "      <td>0.000000</td>\n",
       "      <td>981.883171</td>\n",
       "      <td>0.000000</td>\n",
       "      <td>981.883171</td>\n",
       "    </tr>\n",
       "    <tr>\n",
       "      <th>18</th>\n",
       "      <td>2024-04-20</td>\n",
       "      <td>59876.710938</td>\n",
       "      <td>Vendita</td>\n",
       "      <td>-0.124272</td>\n",
       "      <td>0.000000</td>\n",
       "      <td>0.000000</td>\n",
       "      <td>981.883171</td>\n",
       "      <td>0.000000</td>\n",
       "      <td>981.883171</td>\n",
       "    </tr>\n",
       "    <tr>\n",
       "      <th>19</th>\n",
       "      <td>2024-04-21</td>\n",
       "      <td>60956.074219</td>\n",
       "      <td>Vendita</td>\n",
       "      <td>-0.233176</td>\n",
       "      <td>0.000000</td>\n",
       "      <td>0.000000</td>\n",
       "      <td>981.883171</td>\n",
       "      <td>0.000000</td>\n",
       "      <td>981.883171</td>\n",
       "    </tr>\n",
       "  </tbody>\n",
       "</table>\n",
       "</div>"
      ],
      "text/plain": [
       "    Timestamp        prezzo    Azione  Percentuale  \\\n",
       "0  2024-04-02  64920.578125   Vendita    -0.183986   \n",
       "1  2024-04-03  60778.117188  Acquisto     0.029885   \n",
       "2  2024-04-04  60879.437500  Acquisto     0.312101   \n",
       "3  2024-04-05  63220.507812  Acquisto     1.000000   \n",
       "4  2024-04-06  62559.875000  Acquisto     0.352522   \n",
       "5  2024-04-07  63535.992188  Acquisto     0.150498   \n",
       "6  2024-04-08  64045.218750  Acquisto     0.288390   \n",
       "7  2024-04-09  65948.554688   Vendita    -0.121663   \n",
       "8  2024-04-10  63670.394531   Vendita    -0.808912   \n",
       "9  2024-04-11  65717.312500   Vendita    -1.000000   \n",
       "10 2024-04-12  65317.503906  Acquisto     0.288726   \n",
       "11 2024-04-13  63046.519531  Acquisto     0.876569   \n",
       "12 2024-04-14  59880.496094   Vendita    -0.676972   \n",
       "13 2024-04-15  61747.792969   Vendita    -1.000000   \n",
       "14 2024-04-16  59696.433594   Vendita    -0.089883   \n",
       "15 2024-04-17  60080.527344   Vendita    -1.000000   \n",
       "16 2024-04-18  57433.480469   Vendita    -1.000000   \n",
       "17 2024-04-19  59676.964844   Vendita    -0.375697   \n",
       "18 2024-04-20  59876.710938   Vendita    -0.124272   \n",
       "19 2024-04-21  60956.074219   Vendita    -0.233176   \n",
       "\n",
       "    Liquidità spesa/guadagnata  Bitcoin spesi/guadagnati  Liquidità posseduta  \\\n",
       "0                     0.000000                  0.000000          1000.000000   \n",
       "1                    29.884722                  0.000492           970.115278   \n",
       "2                   302.773984                  0.004973           667.341294   \n",
       "3                   667.341294                  0.010556             0.000000   \n",
       "4                     0.000000                  0.000000             0.000000   \n",
       "5                     0.000000                  0.000000             0.000000   \n",
       "6                     0.000000                  0.000000             0.000000   \n",
       "7                   128.543272                  0.001949           128.543272   \n",
       "8                   724.743238                  0.011383           853.286509   \n",
       "9                   176.709389                  0.002689          1029.995898   \n",
       "10                  297.386506                  0.004553           732.609393   \n",
       "11                  642.182619                  0.010186            90.426773   \n",
       "12                  597.472525                  0.009978           687.899298   \n",
       "13                  293.983873                  0.004761           981.883171   \n",
       "14                    0.000000                  0.000000           981.883171   \n",
       "15                    0.000000                  0.000000           981.883171   \n",
       "16                    0.000000                  0.000000           981.883171   \n",
       "17                    0.000000                  0.000000           981.883171   \n",
       "18                    0.000000                  0.000000           981.883171   \n",
       "19                    0.000000                  0.000000           981.883171   \n",
       "\n",
       "     bitcoin  valore_totale_portafoglio  \n",
       "0   0.000000                1000.000000  \n",
       "1   0.000492                1000.000000  \n",
       "2   0.005465                1000.049819  \n",
       "3   0.016021                1012.843861  \n",
       "4   0.016021                1002.259987  \n",
       "5   0.016021                1017.898177  \n",
       "6   0.016021                1026.056400  \n",
       "7   0.014072                1056.549387  \n",
       "8   0.002689                1024.491875  \n",
       "9   0.000000                1029.995898  \n",
       "10  0.004553                1029.995898  \n",
       "11  0.014739                1019.656249  \n",
       "12  0.004761                 972.992891  \n",
       "13  0.000000                 981.883171  \n",
       "14  0.000000                 981.883171  \n",
       "15  0.000000                 981.883171  \n",
       "16  0.000000                 981.883171  \n",
       "17  0.000000                 981.883171  \n",
       "18  0.000000                 981.883171  \n",
       "19  0.000000                 981.883171  "
      ]
     },
     "execution_count": 213,
     "metadata": {},
     "output_type": "execute_result"
    }
   ],
   "source": [
    "# Parametri di input\n",
    "initial_date = '2024-01-01'  # Data di inizio per la selezione casuale\n",
    "final_date = '2024-04-24'    # Data di fine per la selezione casuale\n",
    "n_days = 50                  # Numero di giorni da includere nel periodo casuale\n",
    "\n",
    "# Filtrare i dati tra initial_date e final_date\n",
    "dati_filtered = dati_originali[(dati_originali['Timestamp'] >= initial_date) & (dati_originali['Timestamp'] <= final_date)]\n",
    "\n",
    "# Calcolare il massimo indice di partenza per un periodo di lunghezza n_days\n",
    "max_start_index = len(dati_filtered) - n_days\n",
    "\n",
    "# Selezionare un indice casuale di partenza per il periodo\n",
    "if max_start_index > 0:\n",
    "    start_index = random.randint(0, max_start_index)\n",
    "    dati_test_custom = dati_filtered.iloc[start_index:start_index + n_days].reset_index(drop=True)\n",
    "else:\n",
    "    raise ValueError(\"L'intervallo specificato non contiene abbastanza dati per un periodo di n_days.\")\n",
    "\n",
    "# Esecuzione della simulazione di trading sui dati di test\n",
    "log_df = simulate_trading_on_test_data(model, dati_test_custom)\n",
    "\n",
    "# Visualizzare i primi risultati del log\n",
    "log_df"
   ]
  },
  {
   "cell_type": "code",
   "execution_count": null,
   "metadata": {},
   "outputs": [
    {
     "data": {
      "application/vnd.plotly.v1+json": {
       "config": {
        "plotlyServerURL": "https://plot.ly"
       },
       "data": [
        {
         "hoverinfo": "x+y",
         "line": {
          "color": "blue",
          "width": 2
         },
         "mode": "lines",
         "name": "Prezzi Bitcoin",
         "type": "scatter",
         "x": [
          "2024-04-02T00:00:00",
          "2024-04-03T00:00:00",
          "2024-04-04T00:00:00",
          "2024-04-05T00:00:00",
          "2024-04-06T00:00:00",
          "2024-04-07T00:00:00",
          "2024-04-08T00:00:00",
          "2024-04-09T00:00:00",
          "2024-04-10T00:00:00",
          "2024-04-11T00:00:00",
          "2024-04-12T00:00:00",
          "2024-04-13T00:00:00",
          "2024-04-14T00:00:00",
          "2024-04-15T00:00:00",
          "2024-04-16T00:00:00",
          "2024-04-17T00:00:00",
          "2024-04-18T00:00:00",
          "2024-04-19T00:00:00",
          "2024-04-20T00:00:00",
          "2024-04-21T00:00:00"
         ],
         "y": [
          64920.578125,
          60778.1171875,
          60879.4375,
          63220.5078125,
          62559.875,
          63535.9921875,
          64045.21875,
          65948.5546875,
          63670.39453125,
          65717.3125,
          65317.50390625,
          63046.51953125,
          59880.49609375,
          61747.79296875,
          59696.43359375,
          60080.52734375,
          57433.48046875,
          59676.96484375,
          59876.7109375,
          60956.07421875
         ]
        },
        {
         "hoverinfo": "text",
         "marker": {
          "color": "green",
          "opacity": 0.7,
          "size": [
           11.79127066389283,
           28.148074225094042,
           50,
           27.825152331236083,
           48.49200550272925
          ]
         },
         "mode": "markers",
         "name": "Acquisti",
         "text": [
          "Timestamp: 2024-04-03 00:00:00<br>Prezzo: 60778.1171875 €<br>Percentuale Acquisto: 2.99%<br>Liquidità Spesa: 29.88 €<br>Bitcoin Acquistati: 0.000492<br>Liquidità: 970.12 €<br>Bitcoin: 0.000492<br>Valore Portafoglio: 1000.0 €",
          "Timestamp: 2024-04-04 00:00:00<br>Prezzo: 60879.4375 €<br>Percentuale Acquisto: 31.21%<br>Liquidità Spesa: 302.77 €<br>Bitcoin Acquistati: 0.004973<br>Liquidità: 667.34 €<br>Bitcoin: 0.005465<br>Valore Portafoglio: 1000.05 €",
          "Timestamp: 2024-04-05 00:00:00<br>Prezzo: 63220.5078125 €<br>Percentuale Acquisto: 100.0%<br>Liquidità Spesa: 667.34 €<br>Bitcoin Acquistati: 0.010556<br>Liquidità: 0.0 €<br>Bitcoin: 0.016021<br>Valore Portafoglio: 1012.84 €",
          "Timestamp: 2024-04-12 00:00:00<br>Prezzo: 65317.50390625 €<br>Percentuale Acquisto: 28.87%<br>Liquidità Spesa: 297.39 €<br>Bitcoin Acquistati: 0.004553<br>Liquidità: 732.61 €<br>Bitcoin: 0.004553<br>Valore Portafoglio: 1030.0 €",
          "Timestamp: 2024-04-13 00:00:00<br>Prezzo: 63046.51953125 €<br>Percentuale Acquisto: 87.66%<br>Liquidità Spesa: 642.18 €<br>Bitcoin Acquistati: 0.010186<br>Liquidità: 90.43 €<br>Bitcoin: 0.014739<br>Valore Portafoglio: 1019.66 €"
         ],
         "type": "scatter",
         "x": [
          "2024-04-03T00:00:00",
          "2024-04-04T00:00:00",
          "2024-04-05T00:00:00",
          "2024-04-12T00:00:00",
          "2024-04-13T00:00:00"
         ],
         "y": [
          60778.1171875,
          60879.4375,
          63220.5078125,
          65317.50390625,
          63046.51953125
         ]
        },
        {
         "hoverinfo": "text",
         "marker": {
          "color": "red",
          "opacity": 0.7,
          "size": [
           17.094555139972748,
           50,
           19.752937591049424,
           42.97567988079068,
           26.225546220072697
          ]
         },
         "mode": "markers",
         "name": "Vendite",
         "text": [
          "Timestamp: 2024-04-09 00:00:00<br>Prezzo: 65948.5546875 €<br>Percentuale Vendita: -12.17%<br>Liquidità Guadagnata: 128.54 €<br>Bitcoin Venduti: 0.001949<br>Liquidità: 128.54 €<br>Bitcoin: 0.014072<br>Valore Portafoglio: 1056.55 €",
          "Timestamp: 2024-04-10 00:00:00<br>Prezzo: 63670.39453125 €<br>Percentuale Vendita: -80.89%<br>Liquidità Guadagnata: 724.74 €<br>Bitcoin Venduti: 0.011383<br>Liquidità: 853.29 €<br>Bitcoin: 0.002689<br>Valore Portafoglio: 1024.49 €",
          "Timestamp: 2024-04-11 00:00:00<br>Prezzo: 65717.3125 €<br>Percentuale Vendita: -100.0%<br>Liquidità Guadagnata: 176.71 €<br>Bitcoin Venduti: 0.002689<br>Liquidità: 1030.0 €<br>Bitcoin: 0.0<br>Valore Portafoglio: 1030.0 €",
          "Timestamp: 2024-04-14 00:00:00<br>Prezzo: 59880.49609375 €<br>Percentuale Vendita: -67.7%<br>Liquidità Guadagnata: 597.47 €<br>Bitcoin Venduti: 0.009978<br>Liquidità: 687.9 €<br>Bitcoin: 0.004761<br>Valore Portafoglio: 972.99 €",
          "Timestamp: 2024-04-15 00:00:00<br>Prezzo: 61747.79296875 €<br>Percentuale Vendita: -100.0%<br>Liquidità Guadagnata: 293.98 €<br>Bitcoin Venduti: 0.004761<br>Liquidità: 981.88 €<br>Bitcoin: 0.0<br>Valore Portafoglio: 981.88 €"
         ],
         "type": "scatter",
         "x": [
          "2024-04-09T00:00:00",
          "2024-04-10T00:00:00",
          "2024-04-11T00:00:00",
          "2024-04-14T00:00:00",
          "2024-04-15T00:00:00"
         ],
         "y": [
          65948.5546875,
          63670.39453125,
          65717.3125,
          59880.49609375,
          61747.79296875
         ]
        }
       ],
       "layout": {
        "height": 800,
        "hovermode": "closest",
        "legend": {
         "x": 0.01,
         "xanchor": "left",
         "y": 0.99,
         "yanchor": "top"
        },
        "template": {
         "data": {
          "bar": [
           {
            "error_x": {
             "color": "#2a3f5f"
            },
            "error_y": {
             "color": "#2a3f5f"
            },
            "marker": {
             "line": {
              "color": "white",
              "width": 0.5
             },
             "pattern": {
              "fillmode": "overlay",
              "size": 10,
              "solidity": 0.2
             }
            },
            "type": "bar"
           }
          ],
          "barpolar": [
           {
            "marker": {
             "line": {
              "color": "white",
              "width": 0.5
             },
             "pattern": {
              "fillmode": "overlay",
              "size": 10,
              "solidity": 0.2
             }
            },
            "type": "barpolar"
           }
          ],
          "carpet": [
           {
            "aaxis": {
             "endlinecolor": "#2a3f5f",
             "gridcolor": "#C8D4E3",
             "linecolor": "#C8D4E3",
             "minorgridcolor": "#C8D4E3",
             "startlinecolor": "#2a3f5f"
            },
            "baxis": {
             "endlinecolor": "#2a3f5f",
             "gridcolor": "#C8D4E3",
             "linecolor": "#C8D4E3",
             "minorgridcolor": "#C8D4E3",
             "startlinecolor": "#2a3f5f"
            },
            "type": "carpet"
           }
          ],
          "choropleth": [
           {
            "colorbar": {
             "outlinewidth": 0,
             "ticks": ""
            },
            "type": "choropleth"
           }
          ],
          "contour": [
           {
            "colorbar": {
             "outlinewidth": 0,
             "ticks": ""
            },
            "colorscale": [
             [
              0,
              "#0d0887"
             ],
             [
              0.1111111111111111,
              "#46039f"
             ],
             [
              0.2222222222222222,
              "#7201a8"
             ],
             [
              0.3333333333333333,
              "#9c179e"
             ],
             [
              0.4444444444444444,
              "#bd3786"
             ],
             [
              0.5555555555555556,
              "#d8576b"
             ],
             [
              0.6666666666666666,
              "#ed7953"
             ],
             [
              0.7777777777777778,
              "#fb9f3a"
             ],
             [
              0.8888888888888888,
              "#fdca26"
             ],
             [
              1,
              "#f0f921"
             ]
            ],
            "type": "contour"
           }
          ],
          "contourcarpet": [
           {
            "colorbar": {
             "outlinewidth": 0,
             "ticks": ""
            },
            "type": "contourcarpet"
           }
          ],
          "heatmap": [
           {
            "colorbar": {
             "outlinewidth": 0,
             "ticks": ""
            },
            "colorscale": [
             [
              0,
              "#0d0887"
             ],
             [
              0.1111111111111111,
              "#46039f"
             ],
             [
              0.2222222222222222,
              "#7201a8"
             ],
             [
              0.3333333333333333,
              "#9c179e"
             ],
             [
              0.4444444444444444,
              "#bd3786"
             ],
             [
              0.5555555555555556,
              "#d8576b"
             ],
             [
              0.6666666666666666,
              "#ed7953"
             ],
             [
              0.7777777777777778,
              "#fb9f3a"
             ],
             [
              0.8888888888888888,
              "#fdca26"
             ],
             [
              1,
              "#f0f921"
             ]
            ],
            "type": "heatmap"
           }
          ],
          "heatmapgl": [
           {
            "colorbar": {
             "outlinewidth": 0,
             "ticks": ""
            },
            "colorscale": [
             [
              0,
              "#0d0887"
             ],
             [
              0.1111111111111111,
              "#46039f"
             ],
             [
              0.2222222222222222,
              "#7201a8"
             ],
             [
              0.3333333333333333,
              "#9c179e"
             ],
             [
              0.4444444444444444,
              "#bd3786"
             ],
             [
              0.5555555555555556,
              "#d8576b"
             ],
             [
              0.6666666666666666,
              "#ed7953"
             ],
             [
              0.7777777777777778,
              "#fb9f3a"
             ],
             [
              0.8888888888888888,
              "#fdca26"
             ],
             [
              1,
              "#f0f921"
             ]
            ],
            "type": "heatmapgl"
           }
          ],
          "histogram": [
           {
            "marker": {
             "pattern": {
              "fillmode": "overlay",
              "size": 10,
              "solidity": 0.2
             }
            },
            "type": "histogram"
           }
          ],
          "histogram2d": [
           {
            "colorbar": {
             "outlinewidth": 0,
             "ticks": ""
            },
            "colorscale": [
             [
              0,
              "#0d0887"
             ],
             [
              0.1111111111111111,
              "#46039f"
             ],
             [
              0.2222222222222222,
              "#7201a8"
             ],
             [
              0.3333333333333333,
              "#9c179e"
             ],
             [
              0.4444444444444444,
              "#bd3786"
             ],
             [
              0.5555555555555556,
              "#d8576b"
             ],
             [
              0.6666666666666666,
              "#ed7953"
             ],
             [
              0.7777777777777778,
              "#fb9f3a"
             ],
             [
              0.8888888888888888,
              "#fdca26"
             ],
             [
              1,
              "#f0f921"
             ]
            ],
            "type": "histogram2d"
           }
          ],
          "histogram2dcontour": [
           {
            "colorbar": {
             "outlinewidth": 0,
             "ticks": ""
            },
            "colorscale": [
             [
              0,
              "#0d0887"
             ],
             [
              0.1111111111111111,
              "#46039f"
             ],
             [
              0.2222222222222222,
              "#7201a8"
             ],
             [
              0.3333333333333333,
              "#9c179e"
             ],
             [
              0.4444444444444444,
              "#bd3786"
             ],
             [
              0.5555555555555556,
              "#d8576b"
             ],
             [
              0.6666666666666666,
              "#ed7953"
             ],
             [
              0.7777777777777778,
              "#fb9f3a"
             ],
             [
              0.8888888888888888,
              "#fdca26"
             ],
             [
              1,
              "#f0f921"
             ]
            ],
            "type": "histogram2dcontour"
           }
          ],
          "mesh3d": [
           {
            "colorbar": {
             "outlinewidth": 0,
             "ticks": ""
            },
            "type": "mesh3d"
           }
          ],
          "parcoords": [
           {
            "line": {
             "colorbar": {
              "outlinewidth": 0,
              "ticks": ""
             }
            },
            "type": "parcoords"
           }
          ],
          "pie": [
           {
            "automargin": true,
            "type": "pie"
           }
          ],
          "scatter": [
           {
            "fillpattern": {
             "fillmode": "overlay",
             "size": 10,
             "solidity": 0.2
            },
            "type": "scatter"
           }
          ],
          "scatter3d": [
           {
            "line": {
             "colorbar": {
              "outlinewidth": 0,
              "ticks": ""
             }
            },
            "marker": {
             "colorbar": {
              "outlinewidth": 0,
              "ticks": ""
             }
            },
            "type": "scatter3d"
           }
          ],
          "scattercarpet": [
           {
            "marker": {
             "colorbar": {
              "outlinewidth": 0,
              "ticks": ""
             }
            },
            "type": "scattercarpet"
           }
          ],
          "scattergeo": [
           {
            "marker": {
             "colorbar": {
              "outlinewidth": 0,
              "ticks": ""
             }
            },
            "type": "scattergeo"
           }
          ],
          "scattergl": [
           {
            "marker": {
             "colorbar": {
              "outlinewidth": 0,
              "ticks": ""
             }
            },
            "type": "scattergl"
           }
          ],
          "scattermapbox": [
           {
            "marker": {
             "colorbar": {
              "outlinewidth": 0,
              "ticks": ""
             }
            },
            "type": "scattermapbox"
           }
          ],
          "scatterpolar": [
           {
            "marker": {
             "colorbar": {
              "outlinewidth": 0,
              "ticks": ""
             }
            },
            "type": "scatterpolar"
           }
          ],
          "scatterpolargl": [
           {
            "marker": {
             "colorbar": {
              "outlinewidth": 0,
              "ticks": ""
             }
            },
            "type": "scatterpolargl"
           }
          ],
          "scatterternary": [
           {
            "marker": {
             "colorbar": {
              "outlinewidth": 0,
              "ticks": ""
             }
            },
            "type": "scatterternary"
           }
          ],
          "surface": [
           {
            "colorbar": {
             "outlinewidth": 0,
             "ticks": ""
            },
            "colorscale": [
             [
              0,
              "#0d0887"
             ],
             [
              0.1111111111111111,
              "#46039f"
             ],
             [
              0.2222222222222222,
              "#7201a8"
             ],
             [
              0.3333333333333333,
              "#9c179e"
             ],
             [
              0.4444444444444444,
              "#bd3786"
             ],
             [
              0.5555555555555556,
              "#d8576b"
             ],
             [
              0.6666666666666666,
              "#ed7953"
             ],
             [
              0.7777777777777778,
              "#fb9f3a"
             ],
             [
              0.8888888888888888,
              "#fdca26"
             ],
             [
              1,
              "#f0f921"
             ]
            ],
            "type": "surface"
           }
          ],
          "table": [
           {
            "cells": {
             "fill": {
              "color": "#EBF0F8"
             },
             "line": {
              "color": "white"
             }
            },
            "header": {
             "fill": {
              "color": "#C8D4E3"
             },
             "line": {
              "color": "white"
             }
            },
            "type": "table"
           }
          ]
         },
         "layout": {
          "annotationdefaults": {
           "arrowcolor": "#2a3f5f",
           "arrowhead": 0,
           "arrowwidth": 1
          },
          "autotypenumbers": "strict",
          "coloraxis": {
           "colorbar": {
            "outlinewidth": 0,
            "ticks": ""
           }
          },
          "colorscale": {
           "diverging": [
            [
             0,
             "#8e0152"
            ],
            [
             0.1,
             "#c51b7d"
            ],
            [
             0.2,
             "#de77ae"
            ],
            [
             0.3,
             "#f1b6da"
            ],
            [
             0.4,
             "#fde0ef"
            ],
            [
             0.5,
             "#f7f7f7"
            ],
            [
             0.6,
             "#e6f5d0"
            ],
            [
             0.7,
             "#b8e186"
            ],
            [
             0.8,
             "#7fbc41"
            ],
            [
             0.9,
             "#4d9221"
            ],
            [
             1,
             "#276419"
            ]
           ],
           "sequential": [
            [
             0,
             "#0d0887"
            ],
            [
             0.1111111111111111,
             "#46039f"
            ],
            [
             0.2222222222222222,
             "#7201a8"
            ],
            [
             0.3333333333333333,
             "#9c179e"
            ],
            [
             0.4444444444444444,
             "#bd3786"
            ],
            [
             0.5555555555555556,
             "#d8576b"
            ],
            [
             0.6666666666666666,
             "#ed7953"
            ],
            [
             0.7777777777777778,
             "#fb9f3a"
            ],
            [
             0.8888888888888888,
             "#fdca26"
            ],
            [
             1,
             "#f0f921"
            ]
           ],
           "sequentialminus": [
            [
             0,
             "#0d0887"
            ],
            [
             0.1111111111111111,
             "#46039f"
            ],
            [
             0.2222222222222222,
             "#7201a8"
            ],
            [
             0.3333333333333333,
             "#9c179e"
            ],
            [
             0.4444444444444444,
             "#bd3786"
            ],
            [
             0.5555555555555556,
             "#d8576b"
            ],
            [
             0.6666666666666666,
             "#ed7953"
            ],
            [
             0.7777777777777778,
             "#fb9f3a"
            ],
            [
             0.8888888888888888,
             "#fdca26"
            ],
            [
             1,
             "#f0f921"
            ]
           ]
          },
          "colorway": [
           "#636efa",
           "#EF553B",
           "#00cc96",
           "#ab63fa",
           "#FFA15A",
           "#19d3f3",
           "#FF6692",
           "#B6E880",
           "#FF97FF",
           "#FECB52"
          ],
          "font": {
           "color": "#2a3f5f"
          },
          "geo": {
           "bgcolor": "white",
           "lakecolor": "white",
           "landcolor": "white",
           "showlakes": true,
           "showland": true,
           "subunitcolor": "#C8D4E3"
          },
          "hoverlabel": {
           "align": "left"
          },
          "hovermode": "closest",
          "mapbox": {
           "style": "light"
          },
          "paper_bgcolor": "white",
          "plot_bgcolor": "white",
          "polar": {
           "angularaxis": {
            "gridcolor": "#EBF0F8",
            "linecolor": "#EBF0F8",
            "ticks": ""
           },
           "bgcolor": "white",
           "radialaxis": {
            "gridcolor": "#EBF0F8",
            "linecolor": "#EBF0F8",
            "ticks": ""
           }
          },
          "scene": {
           "xaxis": {
            "backgroundcolor": "white",
            "gridcolor": "#DFE8F3",
            "gridwidth": 2,
            "linecolor": "#EBF0F8",
            "showbackground": true,
            "ticks": "",
            "zerolinecolor": "#EBF0F8"
           },
           "yaxis": {
            "backgroundcolor": "white",
            "gridcolor": "#DFE8F3",
            "gridwidth": 2,
            "linecolor": "#EBF0F8",
            "showbackground": true,
            "ticks": "",
            "zerolinecolor": "#EBF0F8"
           },
           "zaxis": {
            "backgroundcolor": "white",
            "gridcolor": "#DFE8F3",
            "gridwidth": 2,
            "linecolor": "#EBF0F8",
            "showbackground": true,
            "ticks": "",
            "zerolinecolor": "#EBF0F8"
           }
          },
          "shapedefaults": {
           "line": {
            "color": "#2a3f5f"
           }
          },
          "ternary": {
           "aaxis": {
            "gridcolor": "#DFE8F3",
            "linecolor": "#A2B1C6",
            "ticks": ""
           },
           "baxis": {
            "gridcolor": "#DFE8F3",
            "linecolor": "#A2B1C6",
            "ticks": ""
           },
           "bgcolor": "white",
           "caxis": {
            "gridcolor": "#DFE8F3",
            "linecolor": "#A2B1C6",
            "ticks": ""
           }
          },
          "title": {
           "x": 0.05
          },
          "xaxis": {
           "automargin": true,
           "gridcolor": "#EBF0F8",
           "linecolor": "#EBF0F8",
           "ticks": "",
           "title": {
            "standoff": 15
           },
           "zerolinecolor": "#EBF0F8",
           "zerolinewidth": 2
          },
          "yaxis": {
           "automargin": true,
           "gridcolor": "#EBF0F8",
           "linecolor": "#EBF0F8",
           "ticks": "",
           "title": {
            "standoff": 15
           },
           "zerolinecolor": "#EBF0F8",
           "zerolinewidth": 2
          }
         }
        },
        "title": {
         "text": "Andamento Prezzi Bitcoin con Transazioni di Acquisto e Vendita"
        },
        "width": 1200,
        "xaxis": {
         "rangeslider": {
          "visible": true
         },
         "title": {
          "text": "Data"
         },
         "type": "date"
        },
        "yaxis": {
         "title": {
          "text": "Prezzo (€)"
         }
        }
       }
      }
     },
     "metadata": {},
     "output_type": "display_data"
    }
   ],
   "source": [
    "# Funzione per calcolare la dimensione dei punti in base alla quantità e al massimo valore\n",
    "def calcola_dimensione(quantita, max_quantita, min_size=10, max_size=50):\n",
    "    return min_size + (max_size - min_size) * (quantita / max_quantita) if max_quantita != 0 else min_size\n",
    "\n",
    "# Filtra gli acquisti e le vendite dal log delle transazioni\n",
    "acquisti = log_df[(log_df['Azione'] == 'Acquisto') & (log_df['Liquidità spesa/guadagnata'] != 0)]\n",
    "vendite = log_df[(log_df['Azione'] == 'Vendita') & (log_df['Liquidità spesa/guadagnata'] != 0)]\n",
    "\n",
    "# Calcola il massimo valore speso per acquistare e il massimo valore guadagnato dalle vendite\n",
    "max_acquisto = acquisti['Liquidità spesa/guadagnata'].max()\n",
    "max_vendita = vendite['Liquidità spesa/guadagnata'].max()\n",
    "\n",
    "# Calcola la dimensione dei punti in base al massimo valore di acquisto e vendita\n",
    "dimensioni_acquisti = acquisti['Liquidità spesa/guadagnata'].apply(lambda x: calcola_dimensione(x, max_acquisto))\n",
    "dimensioni_vendite = vendite['Liquidità spesa/guadagnata'].apply(lambda x: calcola_dimensione(x, max_vendita))\n",
    "\n",
    "# Creazione del grafico dei prezzi con acquisti e vendite\n",
    "fig = go.Figure()\n",
    "\n",
    "# Linea dell'andamento dei prezzi\n",
    "fig.add_trace(go.Scatter(\n",
    "    x=log_df['Timestamp'],\n",
    "    y=log_df['prezzo'],\n",
    "    mode='lines',\n",
    "    name='Prezzi Bitcoin',\n",
    "    line=dict(color='blue', width=2),\n",
    "    hoverinfo='x+y'\n",
    "))\n",
    "\n",
    "# Scatter plot per gli acquisti con dimensione proporzionale al valore speso\n",
    "fig.add_trace(go.Scatter(\n",
    "    x=acquisti['Timestamp'],\n",
    "    y=acquisti['prezzo'],\n",
    "    mode='markers',\n",
    "    name='Acquisti',\n",
    "    marker=dict(color='green', size=dimensioni_acquisti, opacity=0.7),\n",
    "    text=[\n",
    "        f\"Timestamp: {timestamp}<br>Prezzo: {prezzo} €<br>Percentuale Acquisto: {round(percentuale * 100, 2)}%<br>Liquidità Spesa: {round(liquid_spesa, 2)} €<br>Bitcoin Acquistati: {round(btc_acq, 6)}<br>Liquidità: {round(liquid_tot, 2)} €<br>Bitcoin: {round(btc_poss, 6)}<br>Valore Portafoglio: {round(valore_port, 2)} €\"\n",
    "        for timestamp, prezzo, percentuale, liquid_spesa, btc_acq, liquid_tot, btc_poss, valore_port in zip(\n",
    "            acquisti['Timestamp'],\n",
    "            acquisti['prezzo'],\n",
    "            acquisti['Percentuale'],\n",
    "            acquisti['Liquidità spesa/guadagnata'],\n",
    "            acquisti['Bitcoin spesi/guadagnati'],\n",
    "            acquisti['Liquidità posseduta'],\n",
    "            acquisti['bitcoin'],\n",
    "            acquisti['valore_totale_portafoglio']\n",
    "        )\n",
    "    ],\n",
    "    hoverinfo='text'\n",
    "))\n",
    "\n",
    "# Scatter plot per le vendite con dimensione proporzionale al valore guadagnato\n",
    "fig.add_trace(go.Scatter(\n",
    "    x=vendite['Timestamp'],\n",
    "    y=vendite['prezzo'],\n",
    "    mode='markers',\n",
    "    name='Vendite',\n",
    "    marker=dict(color='red', size=dimensioni_vendite, opacity=0.7),\n",
    "    text=[\n",
    "        f\"Timestamp: {timestamp}<br>Prezzo: {prezzo} €<br>Percentuale Vendita: {round(percentuale * 100, 2)}%<br>Liquidità Guadagnata: {round(liquid_guad, 2)} €<br>Bitcoin Venduti: {round(btc_vend, 6)}<br>Liquidità: {round(liquid_tot, 2)} €<br>Bitcoin: {round(btc_poss, 6)}<br>Valore Portafoglio: {round(valore_port, 2)} €\"\n",
    "        for timestamp, prezzo, percentuale, liquid_guad, btc_vend, liquid_tot, btc_poss, valore_port in zip(\n",
    "            vendite['Timestamp'],\n",
    "            vendite['prezzo'],\n",
    "            vendite['Percentuale'],\n",
    "            vendite['Liquidità spesa/guadagnata'],\n",
    "            vendite['Bitcoin spesi/guadagnati'],\n",
    "            vendite['Liquidità posseduta'],\n",
    "            vendite['bitcoin'],\n",
    "            vendite['valore_totale_portafoglio']\n",
    "        )\n",
    "    ],\n",
    "    hoverinfo='text'\n",
    "))\n",
    "\n",
    "# Configurazione del layout del grafico\n",
    "fig.update_layout(\n",
    "    title='Andamento Prezzi Bitcoin con Transazioni di Acquisto e Vendita',\n",
    "    xaxis_title='Data',\n",
    "    yaxis_title='Prezzo (€)',\n",
    "    hovermode='closest',\n",
    "    template='plotly_white',\n",
    "    legend=dict(yanchor=\"top\", y=0.99, xanchor=\"left\", x=0.01),\n",
    "    width=1200,\n",
    "    height=800,\n",
    "    xaxis=dict(\n",
    "        rangeslider=dict(visible=True),  # Abilita il range slider\n",
    "        type=\"date\"  # Imposta l'asse x come asse temporale\n",
    "    )\n",
    ")\n",
    "\n",
    "# Mostra il grafico interattivo\n",
    "fig.show()"
   ]
  },
  {
   "cell_type": "code",
   "execution_count": null,
   "metadata": {},
   "outputs": [
    {
     "name": "stdout",
     "output_type": "stream",
     "text": [
      "Rendimento ideale: 1.25\n",
      "Portafoglio finale ideale in euro: 1246.62\n",
      "Rendimento del portafoglio: 0.98\n",
      "Punteggio rendimento: 78.76%\n",
      "Punteggio considerato sufficiente: 80.22%\n",
      "Valore finale del portafoglio in euro: 981.88\n"
     ]
    }
   ],
   "source": [
    "rendimento_ideale, portafoglio_finale_ideale = calcola_rendimento_portafoglio_ideale(liquidità_iniziale, bitcoin_iniziali, log_df['prezzo'], 0, 0, 0, 0)\n",
    "print('Rendimento ideale:', round(rendimento_ideale, 2))\n",
    "print('Portafoglio finale ideale in euro:', round(portafoglio_finale_ideale, 2))\n",
    "\n",
    "valore_iniziale = log_df['valore_totale_portafoglio'].iloc[0]\n",
    "valore_finale = log_df['valore_totale_portafoglio'].iloc[-1]\n",
    "rendimento = valore_finale / valore_iniziale\n",
    "\n",
    "print(f\"Rendimento del portafoglio: {round(rendimento, 2)}\")\n",
    "print(f'Punteggio rendimento: {round(rendimento / rendimento_ideale *100, 2)}%')\n",
    "print(f'Punteggio considerato sufficiente: {round(calcola_punteggio_sufficienza_medio([pd.DataFrame({'Price': log_df['prezzo']})]) * 100, 2)}%')\n",
    "print(f\"Valore finale del portafoglio in euro: {round(log_df['valore_totale_portafoglio'].iloc[-1], 2)}\")"
   ]
  }
 ],
 "metadata": {
  "kernelspec": {
   "display_name": "myenv",
   "language": "python",
   "name": "python3"
  },
  "language_info": {
   "codemirror_mode": {
    "name": "ipython",
    "version": 3
   },
   "file_extension": ".py",
   "mimetype": "text/x-python",
   "name": "python",
   "nbconvert_exporter": "python",
   "pygments_lexer": "ipython3",
   "version": "3.12.4"
  }
 },
 "nbformat": 4,
 "nbformat_minor": 2
}
