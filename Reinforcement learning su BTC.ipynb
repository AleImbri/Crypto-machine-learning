{
 "cells": [
  {
   "cell_type": "markdown",
   "metadata": {},
   "source": [
    "# Importare le Librerie Necessarie"
   ]
  },
  {
   "cell_type": "code",
   "execution_count": 1,
   "metadata": {},
   "outputs": [],
   "source": [
    "import numpy as np\n",
    "import pandas as pd\n",
    "import gym\n",
    "from gym import spaces\n",
    "from stable_baselines3 import PPO\n",
    "import matplotlib.pyplot as plt\n",
    "import random\n",
    "from sklearn.model_selection import train_test_split\n",
    "import plotly.graph_objects as go"
   ]
  },
  {
   "cell_type": "markdown",
   "metadata": {},
   "source": [
    "# Lettura dati"
   ]
  },
  {
   "cell_type": "code",
   "execution_count": 2,
   "metadata": {},
   "outputs": [
    {
     "data": {
      "text/html": [
       "<div>\n",
       "<style scoped>\n",
       "    .dataframe tbody tr th:only-of-type {\n",
       "        vertical-align: middle;\n",
       "    }\n",
       "\n",
       "    .dataframe tbody tr th {\n",
       "        vertical-align: top;\n",
       "    }\n",
       "\n",
       "    .dataframe thead th {\n",
       "        text-align: right;\n",
       "    }\n",
       "</style>\n",
       "<table border=\"1\" class=\"dataframe\">\n",
       "  <thead>\n",
       "    <tr style=\"text-align: right;\">\n",
       "      <th></th>\n",
       "      <th>Timestamp</th>\n",
       "      <th>Price</th>\n",
       "    </tr>\n",
       "  </thead>\n",
       "  <tbody>\n",
       "    <tr>\n",
       "      <th>0</th>\n",
       "      <td>2014-09-17</td>\n",
       "      <td>355.957367</td>\n",
       "    </tr>\n",
       "    <tr>\n",
       "      <th>1</th>\n",
       "      <td>2014-09-18</td>\n",
       "      <td>328.539368</td>\n",
       "    </tr>\n",
       "    <tr>\n",
       "      <th>2</th>\n",
       "      <td>2014-09-19</td>\n",
       "      <td>307.761139</td>\n",
       "    </tr>\n",
       "    <tr>\n",
       "      <th>3</th>\n",
       "      <td>2014-09-20</td>\n",
       "      <td>318.758972</td>\n",
       "    </tr>\n",
       "    <tr>\n",
       "      <th>4</th>\n",
       "      <td>2014-09-21</td>\n",
       "      <td>310.632446</td>\n",
       "    </tr>\n",
       "    <tr>\n",
       "      <th>...</th>\n",
       "      <td>...</td>\n",
       "      <td>...</td>\n",
       "    </tr>\n",
       "    <tr>\n",
       "      <th>3503</th>\n",
       "      <td>2024-04-20</td>\n",
       "      <td>59876.710938</td>\n",
       "    </tr>\n",
       "    <tr>\n",
       "      <th>3504</th>\n",
       "      <td>2024-04-21</td>\n",
       "      <td>60956.074219</td>\n",
       "    </tr>\n",
       "    <tr>\n",
       "      <th>3505</th>\n",
       "      <td>2024-04-22</td>\n",
       "      <td>60919.242188</td>\n",
       "    </tr>\n",
       "    <tr>\n",
       "      <th>3506</th>\n",
       "      <td>2024-04-23</td>\n",
       "      <td>62729.296875</td>\n",
       "    </tr>\n",
       "    <tr>\n",
       "      <th>3507</th>\n",
       "      <td>2024-04-24</td>\n",
       "      <td>62048.164062</td>\n",
       "    </tr>\n",
       "  </tbody>\n",
       "</table>\n",
       "<p>3508 rows × 2 columns</p>\n",
       "</div>"
      ],
      "text/plain": [
       "      Timestamp         Price\n",
       "0    2014-09-17    355.957367\n",
       "1    2014-09-18    328.539368\n",
       "2    2014-09-19    307.761139\n",
       "3    2014-09-20    318.758972\n",
       "4    2014-09-21    310.632446\n",
       "...         ...           ...\n",
       "3503 2024-04-20  59876.710938\n",
       "3504 2024-04-21  60956.074219\n",
       "3505 2024-04-22  60919.242188\n",
       "3506 2024-04-23  62729.296875\n",
       "3507 2024-04-24  62048.164062\n",
       "\n",
       "[3508 rows x 2 columns]"
      ]
     },
     "execution_count": 2,
     "metadata": {},
     "output_type": "execute_result"
    }
   ],
   "source": [
    "dati = pd.read_csv('Bitcoin (€) da yfinance dal 17-09-2014 al 24-04-2024.csv')\n",
    "dati = dati[['Date', 'Close']]\n",
    "dati = dati.rename(columns = {'Date':'Timestamp', 'Close': 'Price'})\n",
    "dati['Timestamp'] = pd.to_datetime(dati['Timestamp'])\n",
    "dati['Timestamp'] = dati['Timestamp'].dt.strftime('%Y-%m-%d')\n",
    "dati['Timestamp'] = pd.to_datetime(dati['Timestamp'], format='%Y-%m-%d')\n",
    "dati"
   ]
  },
  {
   "cell_type": "code",
   "execution_count": 3,
   "metadata": {},
   "outputs": [
    {
     "data": {
      "text/html": [
       "<div>\n",
       "<style scoped>\n",
       "    .dataframe tbody tr th:only-of-type {\n",
       "        vertical-align: middle;\n",
       "    }\n",
       "\n",
       "    .dataframe tbody tr th {\n",
       "        vertical-align: top;\n",
       "    }\n",
       "\n",
       "    .dataframe thead th {\n",
       "        text-align: right;\n",
       "    }\n",
       "</style>\n",
       "<table border=\"1\" class=\"dataframe\">\n",
       "  <thead>\n",
       "    <tr style=\"text-align: right;\">\n",
       "      <th></th>\n",
       "      <th>Timestamp</th>\n",
       "      <th>Price</th>\n",
       "    </tr>\n",
       "  </thead>\n",
       "  <tbody>\n",
       "    <tr>\n",
       "      <th>0</th>\n",
       "      <td>2014-09-17</td>\n",
       "      <td>355.957367</td>\n",
       "    </tr>\n",
       "    <tr>\n",
       "      <th>1</th>\n",
       "      <td>2014-09-18</td>\n",
       "      <td>328.539368</td>\n",
       "    </tr>\n",
       "    <tr>\n",
       "      <th>2</th>\n",
       "      <td>2014-09-19</td>\n",
       "      <td>307.761139</td>\n",
       "    </tr>\n",
       "    <tr>\n",
       "      <th>3</th>\n",
       "      <td>2014-09-20</td>\n",
       "      <td>318.758972</td>\n",
       "    </tr>\n",
       "    <tr>\n",
       "      <th>4</th>\n",
       "      <td>2014-09-21</td>\n",
       "      <td>310.632446</td>\n",
       "    </tr>\n",
       "    <tr>\n",
       "      <th>...</th>\n",
       "      <td>...</td>\n",
       "      <td>...</td>\n",
       "    </tr>\n",
       "    <tr>\n",
       "      <th>3388</th>\n",
       "      <td>2023-12-27</td>\n",
       "      <td>38504.562500</td>\n",
       "    </tr>\n",
       "    <tr>\n",
       "      <th>3389</th>\n",
       "      <td>2023-12-28</td>\n",
       "      <td>39108.300781</td>\n",
       "    </tr>\n",
       "    <tr>\n",
       "      <th>3390</th>\n",
       "      <td>2023-12-29</td>\n",
       "      <td>38515.289062</td>\n",
       "    </tr>\n",
       "    <tr>\n",
       "      <th>3391</th>\n",
       "      <td>2023-12-30</td>\n",
       "      <td>38080.046875</td>\n",
       "    </tr>\n",
       "    <tr>\n",
       "      <th>3392</th>\n",
       "      <td>2023-12-31</td>\n",
       "      <td>38132.054688</td>\n",
       "    </tr>\n",
       "  </tbody>\n",
       "</table>\n",
       "<p>3393 rows × 2 columns</p>\n",
       "</div>"
      ],
      "text/plain": [
       "      Timestamp         Price\n",
       "0    2014-09-17    355.957367\n",
       "1    2014-09-18    328.539368\n",
       "2    2014-09-19    307.761139\n",
       "3    2014-09-20    318.758972\n",
       "4    2014-09-21    310.632446\n",
       "...         ...           ...\n",
       "3388 2023-12-27  38504.562500\n",
       "3389 2023-12-28  39108.300781\n",
       "3390 2023-12-29  38515.289062\n",
       "3391 2023-12-30  38080.046875\n",
       "3392 2023-12-31  38132.054688\n",
       "\n",
       "[3393 rows x 2 columns]"
      ]
     },
     "execution_count": 3,
     "metadata": {},
     "output_type": "execute_result"
    }
   ],
   "source": [
    "data_inizio = '2014-09-17'\n",
    "data_fine = '2023-12-31'\n",
    "indice_inizio = dati[dati['Timestamp'] == data_inizio].index[0]\n",
    "indice_fine = dati[dati['Timestamp'] == data_fine].index[0]\n",
    "dati = dati[indice_inizio:indice_fine + 1].reset_index(drop=True)\n",
    "dati"
   ]
  },
  {
   "cell_type": "markdown",
   "metadata": {},
   "source": [
    "# Preparazione dei Periodi di 30 Giorni e train_test_split"
   ]
  },
  {
   "cell_type": "code",
   "execution_count": 4,
   "metadata": {},
   "outputs": [
    {
     "name": "stdout",
     "output_type": "stream",
     "text": [
      "Train periods: 2354, Validation periods: 505, Test periods: 505\n"
     ]
    }
   ],
   "source": [
    "# Estrarre periodi di lunghezza 30 giorni dai dati\n",
    "L = 30\n",
    "periods = [dati.iloc[i:i + L] for i in range(len(dati) - L + 1)]\n",
    "\n",
    "# Suddivisione dei periodi in train (70%) e validation/test (30%)\n",
    "train_periods, validation_periods = train_test_split(periods, test_size=0.3, random_state=42)\n",
    "validation_periods, test_periods = train_test_split(validation_periods, test_size=0.5, random_state=42)\n",
    "\n",
    "# Visualizzare il numero di periodi in ciascun insieme\n",
    "print(f\"Train periods: {len(train_periods)}, Validation periods: {len(validation_periods)}, Test periods: {len(test_periods)}\")"
   ]
  },
  {
   "cell_type": "markdown",
   "metadata": {},
   "source": [
    "# Definizione dell'Ambiente Personalizzato TradingEnv per Train e Validation"
   ]
  },
  {
   "cell_type": "code",
   "execution_count": 5,
   "metadata": {},
   "outputs": [],
   "source": [
    "class TradingEnv(gym.Env):\n",
    "    def __init__(self, periods, initial_cash=1000, initial_btc=0):\n",
    "        super(TradingEnv, self).__init__()\n",
    "        \n",
    "        self.periods = periods\n",
    "        self.initial_cash = initial_cash\n",
    "        self.initial_btc = initial_btc\n",
    "        self.current_step = 0\n",
    "        self.current_period = None\n",
    "        self.initial_price = None\n",
    "\n",
    "        self.action_space = spaces.Box(low=-1, high=1, shape=(1,), dtype=np.float32)\n",
    "        self.observation_space = spaces.Box(\n",
    "            low=0, high=np.inf, shape=(30,), dtype=np.float32  # Assicuriamo che la dimensione sia sempre (30,)\n",
    "        )\n",
    "    \n",
    "    def reset(self):\n",
    "        self.current_period = random.choice(self.periods).reset_index(drop=True)\n",
    "        self.current_step = 0\n",
    "        self.cash = self.initial_cash\n",
    "        self.btc = self.initial_btc\n",
    "        self.initial_price = self.current_period['Price'].iloc[self.current_step]\n",
    "        \n",
    "        # Prima osservazione, riempita con zeri se necessario\n",
    "        obs = self.current_period['Price'].values[:self.current_step + 1]\n",
    "        return np.pad(obs, (0, 30 - len(obs)), mode='constant')\n",
    "\n",
    "    def step(self, action):\n",
    "        percentage = action[0]\n",
    "        price = self.current_period['Price'].iloc[self.current_step]\n",
    "\n",
    "        if percentage < 0:  # Vendita\n",
    "            btc_to_sell = -percentage * self.btc\n",
    "            self.btc -= btc_to_sell\n",
    "            self.cash += btc_to_sell * price\n",
    "        elif percentage > 0:  # Acquisto\n",
    "            cash_to_spend = percentage * self.cash\n",
    "            btc_bought = cash_to_spend / price\n",
    "            self.btc += btc_bought\n",
    "            self.cash -= cash_to_spend\n",
    "\n",
    "        self.current_step += 1\n",
    "        done = self.current_step >= len(self.current_period) - 1\n",
    "\n",
    "        total_value = self.cash + self.btc * price\n",
    "        initial_total_value = self.initial_cash + self.initial_btc * self.initial_price\n",
    "        reward = total_value - initial_total_value\n",
    "\n",
    "        # Osservazione, riempita con zeri se necessario\n",
    "        obs = self.current_period['Price'].values[:self.current_step + 1]\n",
    "        return np.pad(obs, (0, 30 - len(obs)), mode='constant'), reward, done, {}\n",
    "\n",
    "    def render(self):\n",
    "        total_value = self.cash + self.btc * self.current_period['Price'].iloc[self.current_step]\n",
    "        print(f'Step: {self.current_step}, Cash: {self.cash}, BTC: {self.btc}, Total Value: {total_value}')"
   ]
  },
  {
   "cell_type": "markdown",
   "metadata": {},
   "source": [
    "# Creare gli Ambienti di Addestramento e di Validazione"
   ]
  },
  {
   "cell_type": "code",
   "execution_count": 6,
   "metadata": {},
   "outputs": [],
   "source": [
    "train_env = TradingEnv(periods=train_periods)\n",
    "validation_env = TradingEnv(periods=validation_periods)"
   ]
  },
  {
   "cell_type": "markdown",
   "metadata": {},
   "source": [
    "# Addestrare l'Agente con Monitoraggio su validation"
   ]
  },
  {
   "cell_type": "code",
   "execution_count": 7,
   "metadata": {},
   "outputs": [
    {
     "name": "stdout",
     "output_type": "stream",
     "text": [
      "Using cpu device\n",
      "Wrapping the env with a `Monitor` wrapper\n",
      "Wrapping the env in a DummyVecEnv.\n"
     ]
    },
    {
     "name": "stderr",
     "output_type": "stream",
     "text": [
      "c:\\Users\\Alessandro\\Desktop\\Cartelle\\Mie\\Programmi personali in Python\\Kaggle\\Bitcoin Historical Dataset\\trading_env\\lib\\site-packages\\stable_baselines3\\common\\vec_env\\patch_gym.py:49: UserWarning: You provided an OpenAI Gym environment. We strongly recommend transitioning to Gymnasium environments. Stable-Baselines3 is automatically wrapping your environments in a compatibility layer, which could potentially cause issues.\n",
      "  warnings.warn(\n"
     ]
    },
    {
     "name": "stdout",
     "output_type": "stream",
     "text": [
      "---------------------------------\n",
      "| rollout/           |          |\n",
      "|    ep_len_mean     | 29       |\n",
      "|    ep_rew_mean     | 9.61     |\n",
      "| time/              |          |\n",
      "|    fps             | 792      |\n",
      "|    iterations      | 1        |\n",
      "|    time_elapsed    | 2        |\n",
      "|    total_timesteps | 2048     |\n",
      "---------------------------------\n",
      "-------------------------------------------\n",
      "| rollout/                |               |\n",
      "|    ep_len_mean          | 29            |\n",
      "|    ep_rew_mean          | 367           |\n",
      "| time/                   |               |\n",
      "|    fps                  | 549           |\n",
      "|    iterations           | 2             |\n",
      "|    time_elapsed         | 7             |\n",
      "|    total_timesteps      | 4096          |\n",
      "| train/                  |               |\n",
      "|    approx_kl            | 0.0033653926  |\n",
      "|    clip_fraction        | 0.00952       |\n",
      "|    clip_range           | 0.2           |\n",
      "|    entropy_loss         | -1.42         |\n",
      "|    explained_variance   | 5.9127808e-05 |\n",
      "|    learning_rate        | 0.0003        |\n",
      "|    loss                 | 1.94e+05      |\n",
      "|    n_updates            | 10            |\n",
      "|    policy_gradient_loss | -0.00172      |\n",
      "|    std                  | 0.997         |\n",
      "|    value_loss           | 7.77e+05      |\n",
      "-------------------------------------------\n",
      "-------------------------------------------\n",
      "| rollout/                |               |\n",
      "|    ep_len_mean          | 29            |\n",
      "|    ep_rew_mean          | 595           |\n",
      "| time/                   |               |\n",
      "|    fps                  | 486           |\n",
      "|    iterations           | 3             |\n",
      "|    time_elapsed         | 12            |\n",
      "|    total_timesteps      | 6144          |\n",
      "| train/                  |               |\n",
      "|    approx_kl            | 0.0012849078  |\n",
      "|    clip_fraction        | 0.00937       |\n",
      "|    clip_range           | 0.2           |\n",
      "|    entropy_loss         | -1.42         |\n",
      "|    explained_variance   | 0.00020420551 |\n",
      "|    learning_rate        | 0.0003        |\n",
      "|    loss                 | 6.08e+05      |\n",
      "|    n_updates            | 20            |\n",
      "|    policy_gradient_loss | -0.00166      |\n",
      "|    std                  | 1             |\n",
      "|    value_loss           | 1.07e+06      |\n",
      "-------------------------------------------\n",
      "-------------------------------------------\n",
      "| rollout/                |               |\n",
      "|    ep_len_mean          | 29            |\n",
      "|    ep_rew_mean          | 467           |\n",
      "| time/                   |               |\n",
      "|    fps                  | 457           |\n",
      "|    iterations           | 4             |\n",
      "|    time_elapsed         | 17            |\n",
      "|    total_timesteps      | 8192          |\n",
      "| train/                  |               |\n",
      "|    approx_kl            | 0.0033421386  |\n",
      "|    clip_fraction        | 0.0312        |\n",
      "|    clip_range           | 0.2           |\n",
      "|    entropy_loss         | -1.42         |\n",
      "|    explained_variance   | 2.3305416e-05 |\n",
      "|    learning_rate        | 0.0003        |\n",
      "|    loss                 | 3.72e+05      |\n",
      "|    n_updates            | 30            |\n",
      "|    policy_gradient_loss | -0.00238      |\n",
      "|    std                  | 0.995         |\n",
      "|    value_loss           | 7.54e+05      |\n",
      "-------------------------------------------\n",
      "-------------------------------------------\n",
      "| rollout/                |               |\n",
      "|    ep_len_mean          | 29            |\n",
      "|    ep_rew_mean          | 24.7          |\n",
      "| time/                   |               |\n",
      "|    fps                  | 452           |\n",
      "|    iterations           | 5             |\n",
      "|    time_elapsed         | 22            |\n",
      "|    total_timesteps      | 10240         |\n",
      "| train/                  |               |\n",
      "|    approx_kl            | 0.0071571353  |\n",
      "|    clip_fraction        | 0.0397        |\n",
      "|    clip_range           | 0.2           |\n",
      "|    entropy_loss         | -1.41         |\n",
      "|    explained_variance   | 1.4722347e-05 |\n",
      "|    learning_rate        | 0.0003        |\n",
      "|    loss                 | 2.41e+05      |\n",
      "|    n_updates            | 40            |\n",
      "|    policy_gradient_loss | -0.00276      |\n",
      "|    std                  | 0.986         |\n",
      "|    value_loss           | 5.16e+05      |\n",
      "-------------------------------------------\n",
      "Average validation reward at step 10000: 518.7026409556531\n",
      "---------------------------------\n",
      "| rollout/           |          |\n",
      "|    ep_len_mean     | 29       |\n",
      "|    ep_rew_mean     | 290      |\n",
      "| time/              |          |\n",
      "|    fps             | 714      |\n",
      "|    iterations      | 1        |\n",
      "|    time_elapsed    | 2        |\n",
      "|    total_timesteps | 12288    |\n",
      "---------------------------------\n",
      "------------------------------------------\n",
      "| rollout/                |              |\n",
      "|    ep_len_mean          | 29           |\n",
      "|    ep_rew_mean          | 282          |\n",
      "| time/                   |              |\n",
      "|    fps                  | 518          |\n",
      "|    iterations           | 2            |\n",
      "|    time_elapsed         | 7            |\n",
      "|    total_timesteps      | 14336        |\n",
      "| train/                  |              |\n",
      "|    approx_kl            | 0.002570441  |\n",
      "|    clip_fraction        | 0.00361      |\n",
      "|    clip_range           | 0.2          |\n",
      "|    entropy_loss         | -1.4         |\n",
      "|    explained_variance   | 0.0002952218 |\n",
      "|    learning_rate        | 0.0003       |\n",
      "|    loss                 | 2.03e+05     |\n",
      "|    n_updates            | 60           |\n",
      "|    policy_gradient_loss | -0.00251     |\n",
      "|    std                  | 0.98         |\n",
      "|    value_loss           | 8.37e+05     |\n",
      "------------------------------------------\n",
      "-------------------------------------------\n",
      "| rollout/                |               |\n",
      "|    ep_len_mean          | 29            |\n",
      "|    ep_rew_mean          | 928           |\n",
      "| time/                   |               |\n",
      "|    fps                  | 503           |\n",
      "|    iterations           | 3             |\n",
      "|    time_elapsed         | 12            |\n",
      "|    total_timesteps      | 16384         |\n",
      "| train/                  |               |\n",
      "|    approx_kl            | 0.0020939112  |\n",
      "|    clip_fraction        | 0.00347       |\n",
      "|    clip_range           | 0.2           |\n",
      "|    entropy_loss         | -1.4          |\n",
      "|    explained_variance   | 0.00020712614 |\n",
      "|    learning_rate        | 0.0003        |\n",
      "|    loss                 | 4.06e+05      |\n",
      "|    n_updates            | 70            |\n",
      "|    policy_gradient_loss | -0.00177      |\n",
      "|    std                  | 0.978         |\n",
      "|    value_loss           | 1.01e+06      |\n",
      "-------------------------------------------\n",
      "------------------------------------------\n",
      "| rollout/                |              |\n",
      "|    ep_len_mean          | 29           |\n",
      "|    ep_rew_mean          | 856          |\n",
      "| time/                   |              |\n",
      "|    fps                  | 499          |\n",
      "|    iterations           | 4            |\n",
      "|    time_elapsed         | 16           |\n",
      "|    total_timesteps      | 18432        |\n",
      "| train/                  |              |\n",
      "|    approx_kl            | 0.0016879512 |\n",
      "|    clip_fraction        | 0.0022       |\n",
      "|    clip_range           | 0.2          |\n",
      "|    entropy_loss         | -1.4         |\n",
      "|    explained_variance   | 0.000331223  |\n",
      "|    learning_rate        | 0.0003       |\n",
      "|    loss                 | 1.98e+05     |\n",
      "|    n_updates            | 80           |\n",
      "|    policy_gradient_loss | -0.00147     |\n",
      "|    std                  | 0.982        |\n",
      "|    value_loss           | 9.19e+05     |\n",
      "------------------------------------------\n",
      "-------------------------------------------\n",
      "| rollout/                |               |\n",
      "|    ep_len_mean          | 29            |\n",
      "|    ep_rew_mean          | 962           |\n",
      "| time/                   |               |\n",
      "|    fps                  | 492           |\n",
      "|    iterations           | 5             |\n",
      "|    time_elapsed         | 20            |\n",
      "|    total_timesteps      | 20480         |\n",
      "| train/                  |               |\n",
      "|    approx_kl            | 0.002182172   |\n",
      "|    clip_fraction        | 0.0142        |\n",
      "|    clip_range           | 0.2           |\n",
      "|    entropy_loss         | -1.4          |\n",
      "|    explained_variance   | 4.2796135e-05 |\n",
      "|    learning_rate        | 0.0003        |\n",
      "|    loss                 | 3.78e+05      |\n",
      "|    n_updates            | 90            |\n",
      "|    policy_gradient_loss | -0.0041       |\n",
      "|    std                  | 0.988         |\n",
      "|    value_loss           | 1.01e+06      |\n",
      "-------------------------------------------\n",
      "Average validation reward at step 20000: -327.3447667105819\n",
      "---------------------------------\n",
      "| rollout/           |          |\n",
      "|    ep_len_mean     | 29       |\n",
      "|    ep_rew_mean     | 452      |\n",
      "| time/              |          |\n",
      "|    fps             | 850      |\n",
      "|    iterations      | 1        |\n",
      "|    time_elapsed    | 2        |\n",
      "|    total_timesteps | 22528    |\n",
      "---------------------------------\n",
      "-------------------------------------------\n",
      "| rollout/                |               |\n",
      "|    ep_len_mean          | 29            |\n",
      "|    ep_rew_mean          | 506           |\n",
      "| time/                   |               |\n",
      "|    fps                  | 539           |\n",
      "|    iterations           | 2             |\n",
      "|    time_elapsed         | 7             |\n",
      "|    total_timesteps      | 24576         |\n",
      "| train/                  |               |\n",
      "|    approx_kl            | 0.0036438773  |\n",
      "|    clip_fraction        | 0.0184        |\n",
      "|    clip_range           | 0.2           |\n",
      "|    entropy_loss         | -1.4          |\n",
      "|    explained_variance   | 6.5624714e-05 |\n",
      "|    learning_rate        | 0.0003        |\n",
      "|    loss                 | 5.61e+05      |\n",
      "|    n_updates            | 110           |\n",
      "|    policy_gradient_loss | -0.00321      |\n",
      "|    std                  | 0.99          |\n",
      "|    value_loss           | 7.82e+05      |\n",
      "-------------------------------------------\n",
      "-------------------------------------------\n",
      "| rollout/                |               |\n",
      "|    ep_len_mean          | 29            |\n",
      "|    ep_rew_mean          | 453           |\n",
      "| time/                   |               |\n",
      "|    fps                  | 492           |\n",
      "|    iterations           | 3             |\n",
      "|    time_elapsed         | 12            |\n",
      "|    total_timesteps      | 26624         |\n",
      "| train/                  |               |\n",
      "|    approx_kl            | 0.0030539564  |\n",
      "|    clip_fraction        | 0.0193        |\n",
      "|    clip_range           | 0.2           |\n",
      "|    entropy_loss         | -1.41         |\n",
      "|    explained_variance   | 6.9856644e-05 |\n",
      "|    learning_rate        | 0.0003        |\n",
      "|    loss                 | 6.73e+05      |\n",
      "|    n_updates            | 120           |\n",
      "|    policy_gradient_loss | -0.00246      |\n",
      "|    std                  | 1.01          |\n",
      "|    value_loss           | 9.92e+05      |\n",
      "-------------------------------------------\n",
      "-------------------------------------------\n",
      "| rollout/                |               |\n",
      "|    ep_len_mean          | 29            |\n",
      "|    ep_rew_mean          | 81.2          |\n",
      "| time/                   |               |\n",
      "|    fps                  | 468           |\n",
      "|    iterations           | 4             |\n",
      "|    time_elapsed         | 17            |\n",
      "|    total_timesteps      | 28672         |\n",
      "| train/                  |               |\n",
      "|    approx_kl            | 0.001240772   |\n",
      "|    clip_fraction        | 0.00542       |\n",
      "|    clip_range           | 0.2           |\n",
      "|    entropy_loss         | -1.43         |\n",
      "|    explained_variance   | 0.00013190508 |\n",
      "|    learning_rate        | 0.0003        |\n",
      "|    loss                 | 2.07e+05      |\n",
      "|    n_updates            | 130           |\n",
      "|    policy_gradient_loss | -0.00101      |\n",
      "|    std                  | 1.01          |\n",
      "|    value_loss           | 9.77e+05      |\n",
      "-------------------------------------------\n",
      "-------------------------------------------\n",
      "| rollout/                |               |\n",
      "|    ep_len_mean          | 29            |\n",
      "|    ep_rew_mean          | 120           |\n",
      "| time/                   |               |\n",
      "|    fps                  | 458           |\n",
      "|    iterations           | 5             |\n",
      "|    time_elapsed         | 22            |\n",
      "|    total_timesteps      | 30720         |\n",
      "| train/                  |               |\n",
      "|    approx_kl            | 0.0029903403  |\n",
      "|    clip_fraction        | 0.0183        |\n",
      "|    clip_range           | 0.2           |\n",
      "|    entropy_loss         | -1.42         |\n",
      "|    explained_variance   | 0.00039863586 |\n",
      "|    learning_rate        | 0.0003        |\n",
      "|    loss                 | 4.28e+05      |\n",
      "|    n_updates            | 140           |\n",
      "|    policy_gradient_loss | -0.00328      |\n",
      "|    std                  | 1             |\n",
      "|    value_loss           | 7.32e+05      |\n",
      "-------------------------------------------\n",
      "Average validation reward at step 30000: 710.5348290952217\n",
      "---------------------------------\n",
      "| rollout/           |          |\n",
      "|    ep_len_mean     | 29       |\n",
      "|    ep_rew_mean     | 149      |\n",
      "| time/              |          |\n",
      "|    fps             | 840      |\n",
      "|    iterations      | 1        |\n",
      "|    time_elapsed    | 2        |\n",
      "|    total_timesteps | 32768    |\n",
      "---------------------------------\n",
      "------------------------------------------\n",
      "| rollout/                |              |\n",
      "|    ep_len_mean          | 29           |\n",
      "|    ep_rew_mean          | 508          |\n",
      "| time/                   |              |\n",
      "|    fps                  | 582          |\n",
      "|    iterations           | 2            |\n",
      "|    time_elapsed         | 7            |\n",
      "|    total_timesteps      | 34816        |\n",
      "| train/                  |              |\n",
      "|    approx_kl            | 0.0007487636 |\n",
      "|    clip_fraction        | 0.000586     |\n",
      "|    clip_range           | 0.2          |\n",
      "|    entropy_loss         | -1.42        |\n",
      "|    explained_variance   | 0.0013017058 |\n",
      "|    learning_rate        | 0.0003       |\n",
      "|    loss                 | 3.59e+05     |\n",
      "|    n_updates            | 160          |\n",
      "|    policy_gradient_loss | -0.00175     |\n",
      "|    std                  | 0.992        |\n",
      "|    value_loss           | 6.13e+05     |\n",
      "------------------------------------------\n",
      "------------------------------------------\n",
      "| rollout/                |              |\n",
      "|    ep_len_mean          | 29           |\n",
      "|    ep_rew_mean          | 357          |\n",
      "| time/                   |              |\n",
      "|    fps                  | 489          |\n",
      "|    iterations           | 3            |\n",
      "|    time_elapsed         | 12           |\n",
      "|    total_timesteps      | 36864        |\n",
      "| train/                  |              |\n",
      "|    approx_kl            | 0.002297341  |\n",
      "|    clip_fraction        | 0.00249      |\n",
      "|    clip_range           | 0.2          |\n",
      "|    entropy_loss         | -1.41        |\n",
      "|    explained_variance   | 0.0016829967 |\n",
      "|    learning_rate        | 0.0003       |\n",
      "|    loss                 | 4.45e+05     |\n",
      "|    n_updates            | 170          |\n",
      "|    policy_gradient_loss | -0.00158     |\n",
      "|    std                  | 0.985        |\n",
      "|    value_loss           | 6.37e+05     |\n",
      "------------------------------------------\n",
      "------------------------------------------\n",
      "| rollout/                |              |\n",
      "|    ep_len_mean          | 29           |\n",
      "|    ep_rew_mean          | 446          |\n",
      "| time/                   |              |\n",
      "|    fps                  | 441          |\n",
      "|    iterations           | 4            |\n",
      "|    time_elapsed         | 18           |\n",
      "|    total_timesteps      | 38912        |\n",
      "| train/                  |              |\n",
      "|    approx_kl            | 0.0019571988 |\n",
      "|    clip_fraction        | 0.00562      |\n",
      "|    clip_range           | 0.2          |\n",
      "|    entropy_loss         | -1.41        |\n",
      "|    explained_variance   | 0.0010711551 |\n",
      "|    learning_rate        | 0.0003       |\n",
      "|    loss                 | 5.47e+05     |\n",
      "|    n_updates            | 180          |\n",
      "|    policy_gradient_loss | -0.00153     |\n",
      "|    std                  | 0.988        |\n",
      "|    value_loss           | 1.19e+06     |\n",
      "------------------------------------------\n",
      "------------------------------------------\n",
      "| rollout/                |              |\n",
      "|    ep_len_mean          | 29           |\n",
      "|    ep_rew_mean          | 565          |\n",
      "| time/                   |              |\n",
      "|    fps                  | 442          |\n",
      "|    iterations           | 5            |\n",
      "|    time_elapsed         | 23           |\n",
      "|    total_timesteps      | 40960        |\n",
      "| train/                  |              |\n",
      "|    approx_kl            | 0.005130465  |\n",
      "|    clip_fraction        | 0.0212       |\n",
      "|    clip_range           | 0.2          |\n",
      "|    entropy_loss         | -1.41        |\n",
      "|    explained_variance   | 0.0026305318 |\n",
      "|    learning_rate        | 0.0003       |\n",
      "|    loss                 | 2.59e+05     |\n",
      "|    n_updates            | 190          |\n",
      "|    policy_gradient_loss | -0.0032      |\n",
      "|    std                  | 0.987        |\n",
      "|    value_loss           | 7.66e+05     |\n",
      "------------------------------------------\n",
      "Average validation reward at step 40000: 52.35065372442102\n",
      "---------------------------------\n",
      "| rollout/           |          |\n",
      "|    ep_len_mean     | 29       |\n",
      "|    ep_rew_mean     | 741      |\n",
      "| time/              |          |\n",
      "|    fps             | 908      |\n",
      "|    iterations      | 1        |\n",
      "|    time_elapsed    | 2        |\n",
      "|    total_timesteps | 43008    |\n",
      "---------------------------------\n",
      "------------------------------------------\n",
      "| rollout/                |              |\n",
      "|    ep_len_mean          | 29           |\n",
      "|    ep_rew_mean          | 1.22e+03     |\n",
      "| time/                   |              |\n",
      "|    fps                  | 520          |\n",
      "|    iterations           | 2            |\n",
      "|    time_elapsed         | 7            |\n",
      "|    total_timesteps      | 45056        |\n",
      "| train/                  |              |\n",
      "|    approx_kl            | 0.0018576846 |\n",
      "|    clip_fraction        | 0.00181      |\n",
      "|    clip_range           | 0.2          |\n",
      "|    entropy_loss         | -1.4         |\n",
      "|    explained_variance   | 0.0018792152 |\n",
      "|    learning_rate        | 0.0003       |\n",
      "|    loss                 | 8.62e+05     |\n",
      "|    n_updates            | 210          |\n",
      "|    policy_gradient_loss | -0.00203     |\n",
      "|    std                  | 0.983        |\n",
      "|    value_loss           | 1.69e+06     |\n",
      "------------------------------------------\n",
      "------------------------------------------\n",
      "| rollout/                |              |\n",
      "|    ep_len_mean          | 29           |\n",
      "|    ep_rew_mean          | 479          |\n",
      "| time/                   |              |\n",
      "|    fps                  | 457          |\n",
      "|    iterations           | 3            |\n",
      "|    time_elapsed         | 13           |\n",
      "|    total_timesteps      | 47104        |\n",
      "| train/                  |              |\n",
      "|    approx_kl            | 0.004535037  |\n",
      "|    clip_fraction        | 0.017        |\n",
      "|    clip_range           | 0.2          |\n",
      "|    entropy_loss         | -1.4         |\n",
      "|    explained_variance   | 0.0016447902 |\n",
      "|    learning_rate        | 0.0003       |\n",
      "|    loss                 | 7.58e+05     |\n",
      "|    n_updates            | 220          |\n",
      "|    policy_gradient_loss | -0.00253     |\n",
      "|    std                  | 0.979        |\n",
      "|    value_loss           | 1.68e+06     |\n",
      "------------------------------------------\n",
      "------------------------------------------\n",
      "| rollout/                |              |\n",
      "|    ep_len_mean          | 29           |\n",
      "|    ep_rew_mean          | 868          |\n",
      "| time/                   |              |\n",
      "|    fps                  | 442          |\n",
      "|    iterations           | 4            |\n",
      "|    time_elapsed         | 18           |\n",
      "|    total_timesteps      | 49152        |\n",
      "| train/                  |              |\n",
      "|    approx_kl            | 0.0013962641 |\n",
      "|    clip_fraction        | 0.00122      |\n",
      "|    clip_range           | 0.2          |\n",
      "|    entropy_loss         | -1.39        |\n",
      "|    explained_variance   | 0.0015859008 |\n",
      "|    learning_rate        | 0.0003       |\n",
      "|    loss                 | 6.89e+05     |\n",
      "|    n_updates            | 230          |\n",
      "|    policy_gradient_loss | -0.00141     |\n",
      "|    std                  | 0.973        |\n",
      "|    value_loss           | 1.01e+06     |\n",
      "------------------------------------------\n",
      "------------------------------------------\n",
      "| rollout/                |              |\n",
      "|    ep_len_mean          | 29           |\n",
      "|    ep_rew_mean          | 1.12e+03     |\n",
      "| time/                   |              |\n",
      "|    fps                  | 442          |\n",
      "|    iterations           | 5            |\n",
      "|    time_elapsed         | 23           |\n",
      "|    total_timesteps      | 51200        |\n",
      "| train/                  |              |\n",
      "|    approx_kl            | 0.0034613968 |\n",
      "|    clip_fraction        | 0.00811      |\n",
      "|    clip_range           | 0.2          |\n",
      "|    entropy_loss         | -1.39        |\n",
      "|    explained_variance   | 0.0019839406 |\n",
      "|    learning_rate        | 0.0003       |\n",
      "|    loss                 | 5.01e+05     |\n",
      "|    n_updates            | 240          |\n",
      "|    policy_gradient_loss | -0.00173     |\n",
      "|    std                  | 0.973        |\n",
      "|    value_loss           | 1.08e+06     |\n",
      "------------------------------------------\n",
      "Average validation reward at step 50000: 811.6824401411973\n",
      "---------------------------------\n",
      "| rollout/           |          |\n",
      "|    ep_len_mean     | 29       |\n",
      "|    ep_rew_mean     | 875      |\n",
      "| time/              |          |\n",
      "|    fps             | 769      |\n",
      "|    iterations      | 1        |\n",
      "|    time_elapsed    | 2        |\n",
      "|    total_timesteps | 53248    |\n",
      "---------------------------------\n",
      "------------------------------------------\n",
      "| rollout/                |              |\n",
      "|    ep_len_mean          | 29           |\n",
      "|    ep_rew_mean          | 906          |\n",
      "| time/                   |              |\n",
      "|    fps                  | 575          |\n",
      "|    iterations           | 2            |\n",
      "|    time_elapsed         | 7            |\n",
      "|    total_timesteps      | 55296        |\n",
      "| train/                  |              |\n",
      "|    approx_kl            | 0.0015503807 |\n",
      "|    clip_fraction        | 0.00117      |\n",
      "|    clip_range           | 0.2          |\n",
      "|    entropy_loss         | -1.39        |\n",
      "|    explained_variance   | 0.0017418265 |\n",
      "|    learning_rate        | 0.0003       |\n",
      "|    loss                 | 4.23e+05     |\n",
      "|    n_updates            | 260          |\n",
      "|    policy_gradient_loss | -0.00101     |\n",
      "|    std                  | 0.97         |\n",
      "|    value_loss           | 8.72e+05     |\n",
      "------------------------------------------\n",
      "------------------------------------------\n",
      "| rollout/                |              |\n",
      "|    ep_len_mean          | 29           |\n",
      "|    ep_rew_mean          | 952          |\n",
      "| time/                   |              |\n",
      "|    fps                  | 530          |\n",
      "|    iterations           | 3            |\n",
      "|    time_elapsed         | 11           |\n",
      "|    total_timesteps      | 57344        |\n",
      "| train/                  |              |\n",
      "|    approx_kl            | 0.0007917315 |\n",
      "|    clip_fraction        | 0.00161      |\n",
      "|    clip_range           | 0.2          |\n",
      "|    entropy_loss         | -1.39        |\n",
      "|    explained_variance   | 0.0026724935 |\n",
      "|    learning_rate        | 0.0003       |\n",
      "|    loss                 | 3.3e+05      |\n",
      "|    n_updates            | 270          |\n",
      "|    policy_gradient_loss | -0.000655    |\n",
      "|    std                  | 0.967        |\n",
      "|    value_loss           | 1.51e+06     |\n",
      "------------------------------------------\n",
      "-------------------------------------------\n",
      "| rollout/                |               |\n",
      "|    ep_len_mean          | 29            |\n",
      "|    ep_rew_mean          | 464           |\n",
      "| time/                   |               |\n",
      "|    fps                  | 510           |\n",
      "|    iterations           | 4             |\n",
      "|    time_elapsed         | 16            |\n",
      "|    total_timesteps      | 59392         |\n",
      "| train/                  |               |\n",
      "|    approx_kl            | 0.00051260565 |\n",
      "|    clip_fraction        | 0.00122       |\n",
      "|    clip_range           | 0.2           |\n",
      "|    entropy_loss         | -1.39         |\n",
      "|    explained_variance   | 0.0041069984  |\n",
      "|    learning_rate        | 0.0003        |\n",
      "|    loss                 | 7.18e+05      |\n",
      "|    n_updates            | 280           |\n",
      "|    policy_gradient_loss | -0.000714     |\n",
      "|    std                  | 0.969         |\n",
      "|    value_loss           | 1.58e+06      |\n",
      "-------------------------------------------\n",
      "------------------------------------------\n",
      "| rollout/                |              |\n",
      "|    ep_len_mean          | 29           |\n",
      "|    ep_rew_mean          | 665          |\n",
      "| time/                   |              |\n",
      "|    fps                  | 498          |\n",
      "|    iterations           | 5            |\n",
      "|    time_elapsed         | 20           |\n",
      "|    total_timesteps      | 61440        |\n",
      "| train/                  |              |\n",
      "|    approx_kl            | 0.0005889917 |\n",
      "|    clip_fraction        | 0.000977     |\n",
      "|    clip_range           | 0.2          |\n",
      "|    entropy_loss         | -1.39        |\n",
      "|    explained_variance   | 0.006969273  |\n",
      "|    learning_rate        | 0.0003       |\n",
      "|    loss                 | 4.11e+05     |\n",
      "|    n_updates            | 290          |\n",
      "|    policy_gradient_loss | -0.00134     |\n",
      "|    std                  | 0.974        |\n",
      "|    value_loss           | 1.2e+06      |\n",
      "------------------------------------------\n",
      "Average validation reward at step 60000: 598.4384952481472\n",
      "---------------------------------\n",
      "| rollout/           |          |\n",
      "|    ep_len_mean     | 29       |\n",
      "|    ep_rew_mean     | 799      |\n",
      "| time/              |          |\n",
      "|    fps             | 817      |\n",
      "|    iterations      | 1        |\n",
      "|    time_elapsed    | 2        |\n",
      "|    total_timesteps | 63488    |\n",
      "---------------------------------\n",
      "-------------------------------------------\n",
      "| rollout/                |               |\n",
      "|    ep_len_mean          | 29            |\n",
      "|    ep_rew_mean          | 1.11e+03      |\n",
      "| time/                   |               |\n",
      "|    fps                  | 530           |\n",
      "|    iterations           | 2             |\n",
      "|    time_elapsed         | 7             |\n",
      "|    total_timesteps      | 65536         |\n",
      "| train/                  |               |\n",
      "|    approx_kl            | 0.00014506775 |\n",
      "|    clip_fraction        | 0.000391      |\n",
      "|    clip_range           | 0.2           |\n",
      "|    entropy_loss         | -1.39         |\n",
      "|    explained_variance   | 0.0051977634  |\n",
      "|    learning_rate        | 0.0003        |\n",
      "|    loss                 | 7.68e+05      |\n",
      "|    n_updates            | 310           |\n",
      "|    policy_gradient_loss | -0.000473     |\n",
      "|    std                  | 0.974         |\n",
      "|    value_loss           | 1.37e+06      |\n",
      "-------------------------------------------\n",
      "------------------------------------------\n",
      "| rollout/                |              |\n",
      "|    ep_len_mean          | 29           |\n",
      "|    ep_rew_mean          | 640          |\n",
      "| time/                   |              |\n",
      "|    fps                  | 491          |\n",
      "|    iterations           | 3            |\n",
      "|    time_elapsed         | 12           |\n",
      "|    total_timesteps      | 67584        |\n",
      "| train/                  |              |\n",
      "|    approx_kl            | 0.0007131017 |\n",
      "|    clip_fraction        | 0.00142      |\n",
      "|    clip_range           | 0.2          |\n",
      "|    entropy_loss         | -1.39        |\n",
      "|    explained_variance   | 0.006094873  |\n",
      "|    learning_rate        | 0.0003       |\n",
      "|    loss                 | 6.71e+05     |\n",
      "|    n_updates            | 320          |\n",
      "|    policy_gradient_loss | -0.00147     |\n",
      "|    std                  | 0.971        |\n",
      "|    value_loss           | 1.5e+06      |\n",
      "------------------------------------------\n",
      "-------------------------------------------\n",
      "| rollout/                |               |\n",
      "|    ep_len_mean          | 29            |\n",
      "|    ep_rew_mean          | 375           |\n",
      "| time/                   |               |\n",
      "|    fps                  | 468           |\n",
      "|    iterations           | 4             |\n",
      "|    time_elapsed         | 17            |\n",
      "|    total_timesteps      | 69632         |\n",
      "| train/                  |               |\n",
      "|    approx_kl            | 0.00055725616 |\n",
      "|    clip_fraction        | 4.88e-05      |\n",
      "|    clip_range           | 0.2           |\n",
      "|    entropy_loss         | -1.39         |\n",
      "|    explained_variance   | 0.005601108   |\n",
      "|    learning_rate        | 0.0003        |\n",
      "|    loss                 | 6.95e+05      |\n",
      "|    n_updates            | 330           |\n",
      "|    policy_gradient_loss | -0.00132      |\n",
      "|    std                  | 0.973         |\n",
      "|    value_loss           | 1.7e+06       |\n",
      "-------------------------------------------\n",
      "------------------------------------------\n",
      "| rollout/                |              |\n",
      "|    ep_len_mean          | 29           |\n",
      "|    ep_rew_mean          | 977          |\n",
      "| time/                   |              |\n",
      "|    fps                  | 470          |\n",
      "|    iterations           | 5            |\n",
      "|    time_elapsed         | 21           |\n",
      "|    total_timesteps      | 71680        |\n",
      "| train/                  |              |\n",
      "|    approx_kl            | 0.0017027739 |\n",
      "|    clip_fraction        | 0.000244     |\n",
      "|    clip_range           | 0.2          |\n",
      "|    entropy_loss         | -1.39        |\n",
      "|    explained_variance   | 0.008246422  |\n",
      "|    learning_rate        | 0.0003       |\n",
      "|    loss                 | 9.3e+05      |\n",
      "|    n_updates            | 340          |\n",
      "|    policy_gradient_loss | -0.000488    |\n",
      "|    std                  | 0.973        |\n",
      "|    value_loss           | 1.35e+06     |\n",
      "------------------------------------------\n",
      "Average validation reward at step 70000: 72.48367681580243\n",
      "---------------------------------\n",
      "| rollout/           |          |\n",
      "|    ep_len_mean     | 29       |\n",
      "|    ep_rew_mean     | 1.04e+03 |\n",
      "| time/              |          |\n",
      "|    fps             | 878      |\n",
      "|    iterations      | 1        |\n",
      "|    time_elapsed    | 2        |\n",
      "|    total_timesteps | 73728    |\n",
      "---------------------------------\n",
      "------------------------------------------\n",
      "| rollout/                |              |\n",
      "|    ep_len_mean          | 29           |\n",
      "|    ep_rew_mean          | 642          |\n",
      "| time/                   |              |\n",
      "|    fps                  | 541          |\n",
      "|    iterations           | 2            |\n",
      "|    time_elapsed         | 7            |\n",
      "|    total_timesteps      | 75776        |\n",
      "| train/                  |              |\n",
      "|    approx_kl            | 0.0051269624 |\n",
      "|    clip_fraction        | 0.00996      |\n",
      "|    clip_range           | 0.2          |\n",
      "|    entropy_loss         | -1.39        |\n",
      "|    explained_variance   | 0.008089125  |\n",
      "|    learning_rate        | 0.0003       |\n",
      "|    loss                 | 7.48e+05     |\n",
      "|    n_updates            | 360          |\n",
      "|    policy_gradient_loss | -0.0022      |\n",
      "|    std                  | 0.967        |\n",
      "|    value_loss           | 1.63e+06     |\n",
      "------------------------------------------\n",
      "-----------------------------------------\n",
      "| rollout/                |             |\n",
      "|    ep_len_mean          | 29          |\n",
      "|    ep_rew_mean          | 484         |\n",
      "| time/                   |             |\n",
      "|    fps                  | 512         |\n",
      "|    iterations           | 3           |\n",
      "|    time_elapsed         | 11          |\n",
      "|    total_timesteps      | 77824       |\n",
      "| train/                  |             |\n",
      "|    approx_kl            | 0.003697534 |\n",
      "|    clip_fraction        | 0.022       |\n",
      "|    clip_range           | 0.2         |\n",
      "|    entropy_loss         | -1.39       |\n",
      "|    explained_variance   | 0.008029461 |\n",
      "|    learning_rate        | 0.0003      |\n",
      "|    loss                 | 5.48e+05    |\n",
      "|    n_updates            | 370         |\n",
      "|    policy_gradient_loss | -0.00274    |\n",
      "|    std                  | 0.965       |\n",
      "|    value_loss           | 8.69e+05    |\n",
      "-----------------------------------------\n",
      "-------------------------------------------\n",
      "| rollout/                |               |\n",
      "|    ep_len_mean          | 29            |\n",
      "|    ep_rew_mean          | 439           |\n",
      "| time/                   |               |\n",
      "|    fps                  | 495           |\n",
      "|    iterations           | 4             |\n",
      "|    time_elapsed         | 16            |\n",
      "|    total_timesteps      | 79872         |\n",
      "| train/                  |               |\n",
      "|    approx_kl            | 0.00096099847 |\n",
      "|    clip_fraction        | 0.000586      |\n",
      "|    clip_range           | 0.2           |\n",
      "|    entropy_loss         | -1.38         |\n",
      "|    explained_variance   | 0.010939419   |\n",
      "|    learning_rate        | 0.0003        |\n",
      "|    loss                 | 3.93e+05      |\n",
      "|    n_updates            | 380           |\n",
      "|    policy_gradient_loss | -0.00137      |\n",
      "|    std                  | 0.963         |\n",
      "|    value_loss           | 9.66e+05      |\n",
      "-------------------------------------------\n",
      "------------------------------------------\n",
      "| rollout/                |              |\n",
      "|    ep_len_mean          | 29           |\n",
      "|    ep_rew_mean          | 702          |\n",
      "| time/                   |              |\n",
      "|    fps                  | 484          |\n",
      "|    iterations           | 5            |\n",
      "|    time_elapsed         | 21           |\n",
      "|    total_timesteps      | 81920        |\n",
      "| train/                  |              |\n",
      "|    approx_kl            | 0.0019800805 |\n",
      "|    clip_fraction        | 0.00293      |\n",
      "|    clip_range           | 0.2          |\n",
      "|    entropy_loss         | -1.38        |\n",
      "|    explained_variance   | 0.011813998  |\n",
      "|    learning_rate        | 0.0003       |\n",
      "|    loss                 | 5.43e+05     |\n",
      "|    n_updates            | 390          |\n",
      "|    policy_gradient_loss | -0.00137     |\n",
      "|    std                  | 0.96         |\n",
      "|    value_loss           | 1.11e+06     |\n",
      "------------------------------------------\n",
      "Average validation reward at step 80000: 1260.770422508865\n",
      "---------------------------------\n",
      "| rollout/           |          |\n",
      "|    ep_len_mean     | 29       |\n",
      "|    ep_rew_mean     | 942      |\n",
      "| time/              |          |\n",
      "|    fps             | 873      |\n",
      "|    iterations      | 1        |\n",
      "|    time_elapsed    | 2        |\n",
      "|    total_timesteps | 83968    |\n",
      "---------------------------------\n",
      "-------------------------------------------\n",
      "| rollout/                |               |\n",
      "|    ep_len_mean          | 29            |\n",
      "|    ep_rew_mean          | 238           |\n",
      "| time/                   |               |\n",
      "|    fps                  | 626           |\n",
      "|    iterations           | 2             |\n",
      "|    time_elapsed         | 6             |\n",
      "|    total_timesteps      | 86016         |\n",
      "| train/                  |               |\n",
      "|    approx_kl            | 0.00022397935 |\n",
      "|    clip_fraction        | 0             |\n",
      "|    clip_range           | 0.2           |\n",
      "|    entropy_loss         | -1.38         |\n",
      "|    explained_variance   | 0.008570552   |\n",
      "|    learning_rate        | 0.0003        |\n",
      "|    loss                 | 1.07e+06      |\n",
      "|    n_updates            | 410           |\n",
      "|    policy_gradient_loss | -0.000518     |\n",
      "|    std                  | 0.959         |\n",
      "|    value_loss           | 2.51e+06      |\n",
      "-------------------------------------------\n",
      "------------------------------------------\n",
      "| rollout/                |              |\n",
      "|    ep_len_mean          | 29           |\n",
      "|    ep_rew_mean          | 680          |\n",
      "| time/                   |              |\n",
      "|    fps                  | 549          |\n",
      "|    iterations           | 3            |\n",
      "|    time_elapsed         | 11           |\n",
      "|    total_timesteps      | 88064        |\n",
      "| train/                  |              |\n",
      "|    approx_kl            | 0.0012590511 |\n",
      "|    clip_fraction        | 0.000488     |\n",
      "|    clip_range           | 0.2          |\n",
      "|    entropy_loss         | -1.38        |\n",
      "|    explained_variance   | 0.011278987  |\n",
      "|    learning_rate        | 0.0003       |\n",
      "|    loss                 | 5.33e+05     |\n",
      "|    n_updates            | 420          |\n",
      "|    policy_gradient_loss | -0.000931    |\n",
      "|    std                  | 0.958        |\n",
      "|    value_loss           | 1.14e+06     |\n",
      "------------------------------------------\n",
      "-------------------------------------------\n",
      "| rollout/                |               |\n",
      "|    ep_len_mean          | 29            |\n",
      "|    ep_rew_mean          | 706           |\n",
      "| time/                   |               |\n",
      "|    fps                  | 503           |\n",
      "|    iterations           | 4             |\n",
      "|    time_elapsed         | 16            |\n",
      "|    total_timesteps      | 90112         |\n",
      "| train/                  |               |\n",
      "|    approx_kl            | 0.00015823013 |\n",
      "|    clip_fraction        | 0             |\n",
      "|    clip_range           | 0.2           |\n",
      "|    entropy_loss         | -1.38         |\n",
      "|    explained_variance   | 0.008366704   |\n",
      "|    learning_rate        | 0.0003        |\n",
      "|    loss                 | 1.3e+06       |\n",
      "|    n_updates            | 430           |\n",
      "|    policy_gradient_loss | -0.000428     |\n",
      "|    std                  | 0.96          |\n",
      "|    value_loss           | 2.53e+06      |\n",
      "-------------------------------------------\n",
      "------------------------------------------\n",
      "| rollout/                |              |\n",
      "|    ep_len_mean          | 29           |\n",
      "|    ep_rew_mean          | 136          |\n",
      "| time/                   |              |\n",
      "|    fps                  | 497          |\n",
      "|    iterations           | 5            |\n",
      "|    time_elapsed         | 20           |\n",
      "|    total_timesteps      | 92160        |\n",
      "| train/                  |              |\n",
      "|    approx_kl            | 0.0013777488 |\n",
      "|    clip_fraction        | 0.00112      |\n",
      "|    clip_range           | 0.2          |\n",
      "|    entropy_loss         | -1.38        |\n",
      "|    explained_variance   | 0.010239899  |\n",
      "|    learning_rate        | 0.0003       |\n",
      "|    loss                 | 4.23e+05     |\n",
      "|    n_updates            | 440          |\n",
      "|    policy_gradient_loss | -0.000941    |\n",
      "|    std                  | 0.954        |\n",
      "|    value_loss           | 1.43e+06     |\n",
      "------------------------------------------\n",
      "Average validation reward at step 90000: 1849.3794542178107\n",
      "---------------------------------\n",
      "| rollout/           |          |\n",
      "|    ep_len_mean     | 29       |\n",
      "|    ep_rew_mean     | 740      |\n",
      "| time/              |          |\n",
      "|    fps             | 844      |\n",
      "|    iterations      | 1        |\n",
      "|    time_elapsed    | 2        |\n",
      "|    total_timesteps | 94208    |\n",
      "---------------------------------\n",
      "------------------------------------------\n",
      "| rollout/                |              |\n",
      "|    ep_len_mean          | 29           |\n",
      "|    ep_rew_mean          | 959          |\n",
      "| time/                   |              |\n",
      "|    fps                  | 569          |\n",
      "|    iterations           | 2            |\n",
      "|    time_elapsed         | 7            |\n",
      "|    total_timesteps      | 96256        |\n",
      "| train/                  |              |\n",
      "|    approx_kl            | 0.0003382155 |\n",
      "|    clip_fraction        | 0            |\n",
      "|    clip_range           | 0.2          |\n",
      "|    entropy_loss         | -1.37        |\n",
      "|    explained_variance   | 0.011104405  |\n",
      "|    learning_rate        | 0.0003       |\n",
      "|    loss                 | 8.06e+05     |\n",
      "|    n_updates            | 460          |\n",
      "|    policy_gradient_loss | -0.000679    |\n",
      "|    std                  | 0.955        |\n",
      "|    value_loss           | 1.99e+06     |\n",
      "------------------------------------------\n",
      "------------------------------------------\n",
      "| rollout/                |              |\n",
      "|    ep_len_mean          | 29           |\n",
      "|    ep_rew_mean          | 1.05e+03     |\n",
      "| time/                   |              |\n",
      "|    fps                  | 512          |\n",
      "|    iterations           | 3            |\n",
      "|    time_elapsed         | 11           |\n",
      "|    total_timesteps      | 98304        |\n",
      "| train/                  |              |\n",
      "|    approx_kl            | 0.0003388945 |\n",
      "|    clip_fraction        | 4.88e-05     |\n",
      "|    clip_range           | 0.2          |\n",
      "|    entropy_loss         | -1.37        |\n",
      "|    explained_variance   | 0.00968796   |\n",
      "|    learning_rate        | 0.0003       |\n",
      "|    loss                 | 1.17e+06     |\n",
      "|    n_updates            | 470          |\n",
      "|    policy_gradient_loss | -0.00123     |\n",
      "|    std                  | 0.955        |\n",
      "|    value_loss           | 2.07e+06     |\n",
      "------------------------------------------\n",
      "------------------------------------------\n",
      "| rollout/                |              |\n",
      "|    ep_len_mean          | 29           |\n",
      "|    ep_rew_mean          | 847          |\n",
      "| time/                   |              |\n",
      "|    fps                  | 502          |\n",
      "|    iterations           | 4            |\n",
      "|    time_elapsed         | 16           |\n",
      "|    total_timesteps      | 100352       |\n",
      "| train/                  |              |\n",
      "|    approx_kl            | 0.0036682757 |\n",
      "|    clip_fraction        | 0.00303      |\n",
      "|    clip_range           | 0.2          |\n",
      "|    entropy_loss         | -1.37        |\n",
      "|    explained_variance   | 0.010047793  |\n",
      "|    learning_rate        | 0.0003       |\n",
      "|    loss                 | 8.9e+05      |\n",
      "|    n_updates            | 480          |\n",
      "|    policy_gradient_loss | -0.00255     |\n",
      "|    std                  | 0.951        |\n",
      "|    value_loss           | 2.4e+06      |\n",
      "------------------------------------------\n",
      "-------------------------------------------\n",
      "| rollout/                |               |\n",
      "|    ep_len_mean          | 29            |\n",
      "|    ep_rew_mean          | 559           |\n",
      "| time/                   |               |\n",
      "|    fps                  | 479           |\n",
      "|    iterations           | 5             |\n",
      "|    time_elapsed         | 21            |\n",
      "|    total_timesteps      | 102400        |\n",
      "| train/                  |               |\n",
      "|    approx_kl            | 0.00055119384 |\n",
      "|    clip_fraction        | 0             |\n",
      "|    clip_range           | 0.2           |\n",
      "|    entropy_loss         | -1.37         |\n",
      "|    explained_variance   | 0.013748944   |\n",
      "|    learning_rate        | 0.0003        |\n",
      "|    loss                 | 1.01e+06      |\n",
      "|    n_updates            | 490           |\n",
      "|    policy_gradient_loss | -0.000564     |\n",
      "|    std                  | 0.955         |\n",
      "|    value_loss           | 1.69e+06      |\n",
      "-------------------------------------------\n",
      "Average validation reward at step 100000: 2093.209756239824\n"
     ]
    }
   ],
   "source": [
    "# Addestramento dell'agente su train_env\n",
    "model = PPO(\"MlpPolicy\", train_env, verbose=1)\n",
    "\n",
    "# Training con valutazione periodica su validation_env\n",
    "n_train_steps = 100000\n",
    "n_eval_episodes = 8\n",
    "validation_rewards = []\n",
    "\n",
    "# Training loop con valutazione periodica\n",
    "for step in range(0, n_train_steps, 10000):  # Ogni 10,000 timesteps valutiamo l'agente\n",
    "    model.learn(total_timesteps=10000, reset_num_timesteps=False)\n",
    "    \n",
    "    # Valutazione su validation_env\n",
    "    rewards = []\n",
    "    for _ in range(n_eval_episodes):\n",
    "        obs = validation_env.reset()\n",
    "        done = False\n",
    "        total_reward = 0\n",
    "        while not done:\n",
    "            action, _states = model.predict(obs)\n",
    "            obs, reward, done, _ = validation_env.step(action)\n",
    "            total_reward += reward\n",
    "        rewards.append(total_reward)\n",
    "    \n",
    "    # Memorizza i reward di validazione\n",
    "    avg_validation_reward = np.mean(rewards)\n",
    "    validation_rewards.append(avg_validation_reward)\n",
    "    print(f\"Average validation reward at step {step + 10000}: {avg_validation_reward}\")"
   ]
  },
  {
   "cell_type": "markdown",
   "metadata": {},
   "source": [
    "# Test Finale su Periodi di Test"
   ]
  },
  {
   "cell_type": "code",
   "execution_count": 8,
   "metadata": {},
   "outputs": [
    {
     "name": "stdout",
     "output_type": "stream",
     "text": [
      "Step: 1, Cash: 427.3414306640625, BTC: 1.731397366394799, Total Value: 1005.0300771022355\n",
      "Step: 2, Cash: 68.39117431640625, BTC: 2.807211357787798, Total Value: 1071.4798917300704\n",
      "Step: 3, Cash: 0.0, BTC: 2.9986086668996768, Total Value: 1071.613222199665\n",
      "Step: 4, Cash: 0.0, BTC: 2.9986086668996768, Total Value: 1095.0583374852188\n",
      "Step: 5, Cash: 1095.0583374852188, BTC: 0.0, Total Value: 1095.0583374852188\n",
      "Step: 6, Cash: 0.0, BTC: 2.8701727967080157, Total Value: 1088.2393121435282\n",
      "Step: 7, Cash: 0.0, BTC: 2.8701727967080157, Total Value: 1089.5353920651862\n",
      "Step: 8, Cash: 10.250865374011129, BTC: 2.8431688506650747, Total Value: 1180.2891196558487\n",
      "Step: 9, Cash: 6.436721876041151, BTC: 2.8524371407792737, Total Value: 1136.2870036991328\n",
      "Step: 10, Cash: 0.0, BTC: 2.8686873863555817, Total Value: 1133.3523070876397\n",
      "Step: 11, Cash: 0.0, BTC: 2.8686873863555817, Total Value: 1159.5407230251942\n",
      "Step: 12, Cash: 0.0, BTC: 2.8686873863555817, Total Value: 1220.9461986637998\n",
      "Step: 13, Cash: 0.0, BTC: 2.8686873863555817, Total Value: 1200.2790079275173\n",
      "Step: 14, Cash: 0.0, BTC: 2.8686873863555817, Total Value: 1206.9605597467935\n",
      "Step: 15, Cash: 0.0, BTC: 2.8686873863555817, Total Value: 1224.3112684195598\n",
      "Step: 16, Cash: 0.0, BTC: 2.8686873863555817, Total Value: 1220.8941091558995\n",
      "Step: 17, Cash: 290.2332189906641, BTC: 2.1867376839399237, Total Value: 1181.0365305472678\n",
      "Step: 18, Cash: 221.10620276867357, BTC: 2.3564301956199816, Total Value: 1168.4274572419145\n",
      "Step: 19, Cash: 0.0, BTC: 2.90642454039238, Total Value: 1159.202965292427\n",
      "Step: 20, Cash: 0.0, BTC: 2.90642454039238, Total Value: 1178.988702250736\n",
      "Step: 21, Cash: 0.0, BTC: 2.90642454039238, Total Value: 1205.8905138688087\n",
      "Step: 22, Cash: 0.0, BTC: 2.90642454039238, Total Value: 1206.8906616690244\n",
      "Step: 23, Cash: 0.0, BTC: 2.90642454039238, Total Value: 1105.235873415292\n",
      "Step: 24, Cash: 0.0, BTC: 2.90642454039238, Total Value: 1121.0573849583088\n",
      "Step: 25, Cash: 0.0, BTC: 2.90642454039238, Total Value: 1118.4927101052372\n",
      "Step: 26, Cash: 413.4000368016439, BTC: 1.8321966968811227, Total Value: 1139.6749123594568\n",
      "Step: 27, Cash: 0.0, BTC: 2.8750941003425394, Total Value: 1121.8993938999079\n",
      "Step: 28, Cash: 0.0, BTC: 2.8750941003425394, Total Value: 1140.3100687984331\n",
      "Step: 29, Cash: 0.0, BTC: 2.8750941003425394, Total Value: 1150.0747545414483\n",
      "Total reward on test data: 4045.982041999323\n"
     ]
    }
   ],
   "source": [
    "# Test finale su test_periods\n",
    "test_env = TradingEnv(periods=test_periods)\n",
    "obs = test_env.reset()\n",
    "done = False\n",
    "total_test_reward = 0\n",
    "\n",
    "while not done:\n",
    "    action, _states = model.predict(obs)\n",
    "    obs, reward, done, _ = test_env.step(action)\n",
    "    total_test_reward += reward\n",
    "    test_env.render()\n",
    "\n",
    "print(f\"Total reward on test data: {total_test_reward}\")"
   ]
  },
  {
   "cell_type": "markdown",
   "metadata": {},
   "source": [
    "# Funzione per sapere cosa fare oggi in base al passato"
   ]
  },
  {
   "cell_type": "code",
   "execution_count": 9,
   "metadata": {},
   "outputs": [
    {
     "name": "stdout",
     "output_type": "stream",
     "text": [
      "Azione consigliata per oggi: 0.95345026\n"
     ]
    }
   ],
   "source": [
    "def get_trading_action(model, new_data):\n",
    "    new_env = TradingEnv(periods=[new_data])\n",
    "    obs = new_env.reset()\n",
    "    action, _states = model.predict(obs)\n",
    "    return action[0]\n",
    "\n",
    "# Esempio di utilizzo su nuovi dati\n",
    "new_data = dati.iloc[-30:]\n",
    "\n",
    "action_today = get_trading_action(model, new_data)\n",
    "print(\"Azione consigliata per oggi:\", action_today)"
   ]
  },
  {
   "cell_type": "code",
   "execution_count": 10,
   "metadata": {},
   "outputs": [
    {
     "data": {
      "text/plain": [
       "[<matplotlib.lines.Line2D at 0x1bb6a5bf490>]"
      ]
     },
     "execution_count": 10,
     "metadata": {},
     "output_type": "execute_result"
    },
    {
     "data": {
      "image/png": "[encoded data removed]",
      "text/plain": [
       "<Figure size 640x480 with 1 Axes>"
      ]
     },
     "metadata": {},
     "output_type": "display_data"
    }
   ],
   "source": [
    "plt.plot(new_data['Timestamp'], new_data['Price'])"
   ]
  },
  {
   "cell_type": "markdown",
   "metadata": {},
   "source": [
    "# Funzione per testare l'agente su più giorni (simulazione classica)"
   ]
  },
  {
   "cell_type": "code",
   "execution_count": 11,
   "metadata": {},
   "outputs": [],
   "source": [
    "# Funzione per simulare il trading su dati di test\n",
    "def simulate_trading_on_test_data(model, dati_test_custom, L=30, initial_cash=1000, initial_btc=0):\n",
    "    # Inizializza le variabili di portafoglio\n",
    "    cash = initial_cash\n",
    "    btc = initial_btc\n",
    "    \n",
    "    # Lista per accumulare i dati del log\n",
    "    log_data = []\n",
    "    \n",
    "    # Ciclo su ogni giorno da L in poi per simulare le operazioni di trading\n",
    "    for i in range(L, len(dati_test_custom)):\n",
    "        # Crea la finestra dei dati passati di lunghezza L\n",
    "        historical_data = dati_test_custom.iloc[i-L:i]\n",
    "        \n",
    "        # Estrarre il prezzo del giorno corrente\n",
    "        current_price = dati_test_custom.iloc[i]['Price']\n",
    "        current_timestamp = dati_test_custom.iloc[i]['Timestamp']\n",
    "        \n",
    "        # Usa il modello per prevedere l'azione da compiere oggi\n",
    "        action = get_trading_action(model, historical_data)\n",
    "        \n",
    "        # Determina l'azione (acquisto, vendita o nulla)\n",
    "        if action > 0:  # Acquisto\n",
    "            cash_spent = action * cash\n",
    "            btc_bought = cash_spent / current_price\n",
    "            cash -= cash_spent\n",
    "            btc += btc_bought\n",
    "            action_type = 'Acquisto'\n",
    "        elif action < 0:  # Vendita\n",
    "            btc_sold = -action * btc\n",
    "            cash_earned = btc_sold * current_price\n",
    "            btc -= btc_sold\n",
    "            cash += cash_earned\n",
    "            action_type = 'Vendita'\n",
    "        else:\n",
    "            # Nessuna azione\n",
    "            action_type = '-'\n",
    "            cash_spent = 0\n",
    "            btc_bought = 0\n",
    "            cash_earned = 0\n",
    "            btc_sold = 0\n",
    "\n",
    "        # Calcola il valore totale del portafoglio alla fine della giornata\n",
    "        total_value = cash + btc * current_price\n",
    "        \n",
    "        # Aggiungi una nuova riga al log\n",
    "        log_data.append({\n",
    "            'Timestamp': current_timestamp,\n",
    "            'prezzo': current_price,\n",
    "            'Azione': action_type,\n",
    "            'Percentuale': action,\n",
    "            'Liquidità spesa/guadagnata': cash_spent if action_type == 'Acquisto' else cash_earned if action_type == 'Vendita' else '-',\n",
    "            'Bitcoin spesi/guadagnati': btc_bought if action_type == 'Acquisto' else btc_sold if action_type == 'Vendita' else '-',\n",
    "            'Liquidità posseduta': cash,\n",
    "            'bitcoin': btc,\n",
    "            'valore_totale_portafoglio': total_value\n",
    "        })\n",
    "        \n",
    "    # Converti i dati del log in un DataFrame\n",
    "    log_df = pd.DataFrame(log_data)\n",
    "    \n",
    "    return log_df"
   ]
  },
  {
   "cell_type": "code",
   "execution_count": 12,
   "metadata": {},
   "outputs": [
    {
     "data": {
      "text/html": [
       "<div>\n",
       "<style scoped>\n",
       "    .dataframe tbody tr th:only-of-type {\n",
       "        vertical-align: middle;\n",
       "    }\n",
       "\n",
       "    .dataframe tbody tr th {\n",
       "        vertical-align: top;\n",
       "    }\n",
       "\n",
       "    .dataframe thead th {\n",
       "        text-align: right;\n",
       "    }\n",
       "</style>\n",
       "<table border=\"1\" class=\"dataframe\">\n",
       "  <thead>\n",
       "    <tr style=\"text-align: right;\">\n",
       "      <th></th>\n",
       "      <th>Timestamp</th>\n",
       "      <th>prezzo</th>\n",
       "      <th>Azione</th>\n",
       "      <th>Percentuale</th>\n",
       "      <th>Liquidità spesa/guadagnata</th>\n",
       "      <th>Bitcoin spesi/guadagnati</th>\n",
       "      <th>Liquidità posseduta</th>\n",
       "      <th>bitcoin</th>\n",
       "      <th>valore_totale_portafoglio</th>\n",
       "    </tr>\n",
       "  </thead>\n",
       "  <tbody>\n",
       "    <tr>\n",
       "      <th>0</th>\n",
       "      <td>2023-10-23</td>\n",
       "      <td>28324.646484</td>\n",
       "      <td>Acquisto</td>\n",
       "      <td>0.164952</td>\n",
       "      <td>164.951981</td>\n",
       "      <td>0.005824</td>\n",
       "      <td>835.048035</td>\n",
       "      <td>0.005824</td>\n",
       "      <td>1000.000015</td>\n",
       "    </tr>\n",
       "    <tr>\n",
       "      <th>1</th>\n",
       "      <td>2023-10-24</td>\n",
       "      <td>31008.648438</td>\n",
       "      <td>Acquisto</td>\n",
       "      <td>0.813277</td>\n",
       "      <td>679.125000</td>\n",
       "      <td>0.021901</td>\n",
       "      <td>155.923035</td>\n",
       "      <td>0.027725</td>\n",
       "      <td>1015.630623</td>\n",
       "    </tr>\n",
       "    <tr>\n",
       "      <th>2</th>\n",
       "      <td>2023-10-25</td>\n",
       "      <td>31996.871094</td>\n",
       "      <td>Acquisto</td>\n",
       "      <td>1.000000</td>\n",
       "      <td>155.923035</td>\n",
       "      <td>0.004873</td>\n",
       "      <td>0.000000</td>\n",
       "      <td>0.032598</td>\n",
       "      <td>1043.028867</td>\n",
       "    </tr>\n",
       "    <tr>\n",
       "      <th>3</th>\n",
       "      <td>2023-10-26</td>\n",
       "      <td>32653.228516</td>\n",
       "      <td>Acquisto</td>\n",
       "      <td>0.193034</td>\n",
       "      <td>0.000000</td>\n",
       "      <td>0.000000</td>\n",
       "      <td>0.000000</td>\n",
       "      <td>0.032598</td>\n",
       "      <td>1064.424701</td>\n",
       "    </tr>\n",
       "    <tr>\n",
       "      <th>4</th>\n",
       "      <td>2023-10-27</td>\n",
       "      <td>32333.435547</td>\n",
       "      <td>Acquisto</td>\n",
       "      <td>1.000000</td>\n",
       "      <td>0.000000</td>\n",
       "      <td>0.000000</td>\n",
       "      <td>0.000000</td>\n",
       "      <td>0.032598</td>\n",
       "      <td>1054.000141</td>\n",
       "    </tr>\n",
       "    <tr>\n",
       "      <th>...</th>\n",
       "      <td>...</td>\n",
       "      <td>...</td>\n",
       "      <td>...</td>\n",
       "      <td>...</td>\n",
       "      <td>...</td>\n",
       "      <td>...</td>\n",
       "      <td>...</td>\n",
       "      <td>...</td>\n",
       "      <td>...</td>\n",
       "    </tr>\n",
       "    <tr>\n",
       "      <th>65</th>\n",
       "      <td>2023-12-27</td>\n",
       "      <td>38504.562500</td>\n",
       "      <td>Acquisto</td>\n",
       "      <td>1.000000</td>\n",
       "      <td>0.000000</td>\n",
       "      <td>0.000000</td>\n",
       "      <td>0.000000</td>\n",
       "      <td>0.031319</td>\n",
       "      <td>1205.908020</td>\n",
       "    </tr>\n",
       "    <tr>\n",
       "      <th>66</th>\n",
       "      <td>2023-12-28</td>\n",
       "      <td>39108.300781</td>\n",
       "      <td>Vendita</td>\n",
       "      <td>-0.688270</td>\n",
       "      <td>843.004461</td>\n",
       "      <td>0.021556</td>\n",
       "      <td>843.004461</td>\n",
       "      <td>0.009763</td>\n",
       "      <td>1224.816242</td>\n",
       "    </tr>\n",
       "    <tr>\n",
       "      <th>67</th>\n",
       "      <td>2023-12-29</td>\n",
       "      <td>38515.289062</td>\n",
       "      <td>Acquisto</td>\n",
       "      <td>0.484242</td>\n",
       "      <td>408.217858</td>\n",
       "      <td>0.010599</td>\n",
       "      <td>434.786603</td>\n",
       "      <td>0.020362</td>\n",
       "      <td>1219.026708</td>\n",
       "    </tr>\n",
       "    <tr>\n",
       "      <th>68</th>\n",
       "      <td>2023-12-30</td>\n",
       "      <td>38080.046875</td>\n",
       "      <td>Acquisto</td>\n",
       "      <td>1.000000</td>\n",
       "      <td>434.786603</td>\n",
       "      <td>0.011418</td>\n",
       "      <td>0.000000</td>\n",
       "      <td>0.031779</td>\n",
       "      <td>1210.164399</td>\n",
       "    </tr>\n",
       "    <tr>\n",
       "      <th>69</th>\n",
       "      <td>2023-12-31</td>\n",
       "      <td>38132.054688</td>\n",
       "      <td>Vendita</td>\n",
       "      <td>-0.381428</td>\n",
       "      <td>462.221369</td>\n",
       "      <td>0.012122</td>\n",
       "      <td>462.221369</td>\n",
       "      <td>0.019658</td>\n",
       "      <td>1211.817181</td>\n",
       "    </tr>\n",
       "  </tbody>\n",
       "</table>\n",
       "<p>70 rows × 9 columns</p>\n",
       "</div>"
      ],
      "text/plain": [
       "    Timestamp        prezzo    Azione  Percentuale  \\\n",
       "0  2023-10-23  28324.646484  Acquisto     0.164952   \n",
       "1  2023-10-24  31008.648438  Acquisto     0.813277   \n",
       "2  2023-10-25  31996.871094  Acquisto     1.000000   \n",
       "3  2023-10-26  32653.228516  Acquisto     0.193034   \n",
       "4  2023-10-27  32333.435547  Acquisto     1.000000   \n",
       "..        ...           ...       ...          ...   \n",
       "65 2023-12-27  38504.562500  Acquisto     1.000000   \n",
       "66 2023-12-28  39108.300781   Vendita    -0.688270   \n",
       "67 2023-12-29  38515.289062  Acquisto     0.484242   \n",
       "68 2023-12-30  38080.046875  Acquisto     1.000000   \n",
       "69 2023-12-31  38132.054688   Vendita    -0.381428   \n",
       "\n",
       "    Liquidità spesa/guadagnata  Bitcoin spesi/guadagnati  Liquidità posseduta  \\\n",
       "0                   164.951981                  0.005824           835.048035   \n",
       "1                   679.125000                  0.021901           155.923035   \n",
       "2                   155.923035                  0.004873             0.000000   \n",
       "3                     0.000000                  0.000000             0.000000   \n",
       "4                     0.000000                  0.000000             0.000000   \n",
       "..                         ...                       ...                  ...   \n",
       "65                    0.000000                  0.000000             0.000000   \n",
       "66                  843.004461                  0.021556           843.004461   \n",
       "67                  408.217858                  0.010599           434.786603   \n",
       "68                  434.786603                  0.011418             0.000000   \n",
       "69                  462.221369                  0.012122           462.221369   \n",
       "\n",
       "     bitcoin  valore_totale_portafoglio  \n",
       "0   0.005824                1000.000015  \n",
       "1   0.027725                1015.630623  \n",
       "2   0.032598                1043.028867  \n",
       "3   0.032598                1064.424701  \n",
       "4   0.032598                1054.000141  \n",
       "..       ...                        ...  \n",
       "65  0.031319                1205.908020  \n",
       "66  0.009763                1224.816242  \n",
       "67  0.020362                1219.026708  \n",
       "68  0.031779                1210.164399  \n",
       "69  0.019658                1211.817181  \n",
       "\n",
       "[70 rows x 9 columns]"
      ]
     },
     "execution_count": 12,
     "metadata": {},
     "output_type": "execute_result"
    }
   ],
   "source": [
    "# Esecuzione della simulazione di trading sui dati di test\n",
    "dati_test_custom = dati.iloc[-100:]\n",
    "log_df = simulate_trading_on_test_data(model, dati_test_custom)\n",
    "\n",
    "# Visualizzare i primi risultati del log\n",
    "log_df"
   ]
  },
  {
   "cell_type": "code",
   "execution_count": 16,
   "metadata": {},
   "outputs": [
    {
     "data": {
      "application/vnd.plotly.v1+json": {
       "config": {
        "plotlyServerURL": "https://plot.ly"
       },
       "data": [
        {
         "hoverinfo": "x+y",
         "line": {
          "color": "blue",
          "width": 2
         },
         "mode": "lines",
         "name": "Prezzi Bitcoin",
         "type": "scatter",
         "x": [
          "2023-10-23T00:00:00",
          "2023-10-24T00:00:00",
          "2023-10-25T00:00:00",
          "2023-10-26T00:00:00",
          "2023-10-27T00:00:00",
          "2023-10-28T00:00:00",
          "2023-10-29T00:00:00",
          "2023-10-30T00:00:00",
          "2023-10-31T00:00:00",
          "2023-11-01T00:00:00",
          "2023-11-02T00:00:00",
          "2023-11-03T00:00:00",
          "2023-11-04T00:00:00",
          "2023-11-05T00:00:00",
          "2023-11-06T00:00:00",
          "2023-11-07T00:00:00",
          "2023-11-08T00:00:00",
          "2023-11-09T00:00:00",
          "2023-11-10T00:00:00",
          "2023-11-11T00:00:00",
          "2023-11-12T00:00:00",
          "2023-11-13T00:00:00",
          "2023-11-14T00:00:00",
          "2023-11-15T00:00:00",
          "2023-11-16T00:00:00",
          "2023-11-17T00:00:00",
          "2023-11-18T00:00:00",
          "2023-11-19T00:00:00",
          "2023-11-20T00:00:00",
          "2023-11-21T00:00:00",
          "2023-11-22T00:00:00",
          "2023-11-23T00:00:00",
          "2023-11-24T00:00:00",
          "2023-11-25T00:00:00",
          "2023-11-26T00:00:00",
          "2023-11-27T00:00:00",
          "2023-11-28T00:00:00",
          "2023-11-29T00:00:00",
          "2023-11-30T00:00:00",
          "2023-12-01T00:00:00",
          "2023-12-02T00:00:00",
          "2023-12-03T00:00:00",
          "2023-12-04T00:00:00",
          "2023-12-05T00:00:00",
          "2023-12-06T00:00:00",
          "2023-12-07T00:00:00",
          "2023-12-08T00:00:00",
          "2023-12-09T00:00:00",
          "2023-12-10T00:00:00",
          "2023-12-11T00:00:00",
          "2023-12-12T00:00:00",
          "2023-12-13T00:00:00",
          "2023-12-14T00:00:00",
          "2023-12-15T00:00:00",
          "2023-12-16T00:00:00",
          "2023-12-17T00:00:00",
          "2023-12-18T00:00:00",
          "2023-12-19T00:00:00",
          "2023-12-20T00:00:00",
          "2023-12-21T00:00:00",
          "2023-12-22T00:00:00",
          "2023-12-23T00:00:00",
          "2023-12-24T00:00:00",
          "2023-12-25T00:00:00",
          "2023-12-26T00:00:00",
          "2023-12-27T00:00:00",
          "2023-12-28T00:00:00",
          "2023-12-29T00:00:00",
          "2023-12-30T00:00:00",
          "2023-12-31T00:00:00"
         ],
         "y": [
          28324.646484375,
          31008.6484375,
          31996.87109375,
          32653.228515625,
          32333.435546875,
          32080.365234375,
          32250.443359375,
          32700.62109375,
          32506.6796875,
          32773.70703125,
          33472.75390625,
          32911.6484375,
          32351.423828125,
          32677.3125,
          32660.251953125,
          32688.990234375,
          33137.67578125,
          33287.515625,
          34397.78515625,
          34881.0234375,
          34716.57421875,
          34661.76171875,
          34109.41015625,
          32669.89453125,
          34899.3046875,
          33312.5703125,
          33522.1953125,
          33512.13671875,
          34282.23046875,
          34239.58203125,
          32805.48828125,
          34379.76953125,
          34197.4921875,
          34459.36328125,
          34529.2578125,
          34259.40234375,
          33993.83203125,
          34379.07421875,
          34499.9921875,
          34625.015625,
          35518.4375,
          36260.984375,
          36724.75,
          38736.5078125,
          40832.43359375,
          40632.3984375,
          40122.90625,
          40995.4375,
          40586.4609375,
          40666.91796875,
          38311.3125,
          38385.14453125,
          39411.66015625,
          39135.1640625,
          38437.6796875,
          38722.19140625,
          37966.640625,
          39020.05859375,
          38499.953125,
          39885.05859375,
          39858.0625,
          39903.32421875,
          39667.65234375,
          39045.21484375,
          39580.49609375,
          38504.5625,
          39108.30078125,
          38515.2890625,
          38080.046875,
          38132.0546875
         ]
        },
        {
         "hoverinfo": "text",
         "marker": {
          "color": "green",
          "opacity": 0.7,
          "size": [
           16.165997921935208,
           35.38607492759796,
           15.828490838975902,
           27.61612757999342,
           50,
           15.124168188077775,
           45.79519428895844,
           40.376997361729174,
           20.092085508350024,
           25.599644802940876,
           15.693926752441437,
           16.209417199851753,
           25.25941341184492,
           26.252568048029346
          ]
         },
         "mode": "markers",
         "name": "Acquisti",
         "text": [
          "Timestamp: 2023-10-23 00:00:00<br>Prezzo: 28324.646484375 €<br>Percentuale Acquisto: 16.5%<br>Liquidità Spesa: 164.95 €<br>Bitcoin Acquistati: 0.005824<br>Liquidità: 835.05 €<br>Bitcoin: 0.005824<br>Valore Portafoglio: 1000.0 €",
          "Timestamp: 2023-10-24 00:00:00<br>Prezzo: 31008.6484375 €<br>Percentuale Acquisto: 81.33%<br>Liquidità Spesa: 679.12 €<br>Bitcoin Acquistati: 0.021901<br>Liquidità: 155.92 €<br>Bitcoin: 0.027725<br>Valore Portafoglio: 1015.63 €",
          "Timestamp: 2023-10-25 00:00:00<br>Prezzo: 31996.87109375 €<br>Percentuale Acquisto: 100.0%<br>Liquidità Spesa: 155.92 €<br>Bitcoin Acquistati: 0.004873<br>Liquidità: 0.0 €<br>Bitcoin: 0.032598<br>Valore Portafoglio: 1043.03 €",
          "Timestamp: 2023-11-09 00:00:00<br>Prezzo: 33287.515625 €<br>Percentuale Acquisto: 100.0%<br>Liquidità Spesa: 471.26 €<br>Bitcoin Acquistati: 0.014157<br>Liquidità: 0.0 €<br>Bitcoin: 0.032534<br>Valore Portafoglio: 1082.97 €",
          "Timestamp: 2023-11-18 00:00:00<br>Prezzo: 33522.1953125 €<br>Percentuale Acquisto: 100.0%<br>Liquidità Spesa: 1070.07 €<br>Bitcoin Acquistati: 0.031921<br>Liquidità: 0.0 €<br>Bitcoin: 0.031921<br>Valore Portafoglio: 1070.07 €",
          "Timestamp: 2023-11-20 00:00:00<br>Prezzo: 34282.23046875 €<br>Percentuale Acquisto: 100.0%<br>Liquidità Spesa: 137.08 €<br>Bitcoin Acquistati: 0.003999<br>Liquidità: 0.0 €<br>Bitcoin: 0.031829<br>Valore Portafoglio: 1091.19 €",
          "Timestamp: 2023-11-26 00:00:00<br>Prezzo: 34529.2578125 €<br>Percentuale Acquisto: 100.0%<br>Liquidità Spesa: 957.59 €<br>Bitcoin Acquistati: 0.027733<br>Liquidità: 0.0 €<br>Bitcoin: 0.031773<br>Valore Portafoglio: 1097.11 €",
          "Timestamp: 2023-11-30 00:00:00<br>Prezzo: 34499.9921875 €<br>Percentuale Acquisto: 75.06%<br>Liquidità Spesa: 812.64 €<br>Bitcoin Acquistati: 0.023555<br>Liquidità: 269.98 €<br>Bitcoin: 0.023555<br>Valore Portafoglio: 1082.62 €",
          "Timestamp: 2023-12-01 00:00:00<br>Prezzo: 34625.015625 €<br>Percentuale Acquisto: 100.0%<br>Liquidità Spesa: 269.98 €<br>Bitcoin Acquistati: 0.007797<br>Liquidità: 0.0 €<br>Bitcoin: 0.031352<br>Valore Portafoglio: 1085.57 €",
          "Timestamp: 2023-12-10 00:00:00<br>Prezzo: 40586.4609375 €<br>Percentuale Acquisto: 100.0%<br>Liquidità Spesa: 417.32 €<br>Bitcoin Acquistati: 0.010282<br>Liquidità: 0.0 €<br>Bitcoin: 0.031389<br>Valore Portafoglio: 1273.98 €",
          "Timestamp: 2023-12-21 00:00:00<br>Prezzo: 39885.05859375 €<br>Percentuale Acquisto: 100.0%<br>Liquidità Spesa: 152.32 €<br>Bitcoin Acquistati: 0.003819<br>Liquidità: 0.0 €<br>Bitcoin: 0.031252<br>Valore Portafoglio: 1246.48 €",
          "Timestamp: 2023-12-25 00:00:00<br>Prezzo: 39045.21484375 €<br>Percentuale Acquisto: 100.0%<br>Liquidità Spesa: 166.11 €<br>Bitcoin Acquistati: 0.004254<br>Liquidità: 0.0 €<br>Bitcoin: 0.031319<br>Valore Portafoglio: 1222.84 €",
          "Timestamp: 2023-12-29 00:00:00<br>Prezzo: 38515.2890625 €<br>Percentuale Acquisto: 48.42%<br>Liquidità Spesa: 408.22 €<br>Bitcoin Acquistati: 0.010599<br>Liquidità: 434.79 €<br>Bitcoin: 0.020362<br>Valore Portafoglio: 1219.03 €",
          "Timestamp: 2023-12-30 00:00:00<br>Prezzo: 38080.046875 €<br>Percentuale Acquisto: 100.0%<br>Liquidità Spesa: 434.79 €<br>Bitcoin Acquistati: 0.011418<br>Liquidità: 0.0 €<br>Bitcoin: 0.031779<br>Valore Portafoglio: 1210.16 €"
         ],
         "type": "scatter",
         "x": [
          "2023-10-23T00:00:00",
          "2023-10-24T00:00:00",
          "2023-10-25T00:00:00",
          "2023-11-09T00:00:00",
          "2023-11-18T00:00:00",
          "2023-11-20T00:00:00",
          "2023-11-26T00:00:00",
          "2023-11-30T00:00:00",
          "2023-12-01T00:00:00",
          "2023-12-10T00:00:00",
          "2023-12-21T00:00:00",
          "2023-12-25T00:00:00",
          "2023-12-29T00:00:00",
          "2023-12-30T00:00:00"
         ],
         "y": [
          28324.646484375,
          31008.6484375,
          31996.87109375,
          33287.515625,
          33522.1953125,
          34282.23046875,
          34529.2578125,
          34499.9921875,
          34625.015625,
          40586.4609375,
          39885.05859375,
          39045.21484375,
          38515.2890625,
          38080.046875
         ]
        },
        {
         "hoverinfo": "text",
         "marker": {
          "color": "red",
          "opacity": 0.7,
          "size": [
           29.685466644249928,
           48.03307756321487,
           13.859406953350046,
           12.806253171067736,
           15.72609624265501,
           50,
           23.62947485373622,
           41.593448137982236,
           15.158578459982925,
           22.27353231668948,
           16.362783457999345,
           16.9388277652312,
           45.21364483231159,
           29.307725962148684
          ]
         },
         "mode": "markers",
         "name": "Vendite",
         "text": [
          "Timestamp: 2023-11-08 00:00:00<br>Prezzo: 33137.67578125 €<br>Percentuale Vendita: -43.63%<br>Liquidità Guadagnata: 471.26 €<br>Bitcoin Venduti: 0.014221<br>Liquidità: 471.26 €<br>Bitcoin: 0.018376<br>Valore Portafoglio: 1080.22 €",
          "Timestamp: 2023-11-15 00:00:00<br>Prezzo: 32669.89453125 €<br>Percentuale Vendita: -85.66%<br>Liquidità Guadagnata: 910.5 €<br>Bitcoin Venduti: 0.02787<br>Liquidità: 910.5 €<br>Bitcoin: 0.004664<br>Valore Portafoglio: 1062.88 €",
          "Timestamp: 2023-11-16 00:00:00<br>Prezzo: 34899.3046875 €<br>Percentuale Vendita: -56.76%<br>Liquidità Guadagnata: 92.39 €<br>Bitcoin Venduti: 0.002647<br>Liquidità: 1002.89 €<br>Bitcoin: 0.002017<br>Valore Portafoglio: 1073.27 €",
          "Timestamp: 2023-11-17 00:00:00<br>Prezzo: 33312.5703125 €<br>Percentuale Vendita: -100.0%<br>Liquidità Guadagnata: 67.18 €<br>Bitcoin Venduti: 0.002017<br>Liquidità: 1070.07 €<br>Bitcoin: 0.0<br>Valore Portafoglio: 1070.07 €",
          "Timestamp: 2023-11-19 00:00:00<br>Prezzo: 33512.13671875 €<br>Percentuale Vendita: -12.81%<br>Liquidità Guadagnata: 137.08 €<br>Bitcoin Venduti: 0.00409<br>Liquidità: 137.08 €<br>Bitcoin: 0.027831<br>Valore Portafoglio: 1069.75 €",
          "Timestamp: 2023-11-25 00:00:00<br>Prezzo: 34459.36328125 €<br>Percentuale Vendita: -87.31%<br>Liquidità Guadagnata: 957.59 €<br>Bitcoin Venduti: 0.027789<br>Liquidità: 957.59 €<br>Bitcoin: 0.004041<br>Valore Portafoglio: 1096.82 €",
          "Timestamp: 2023-11-27 00:00:00<br>Prezzo: 34259.40234375 €<br>Percentuale Vendita: -29.97%<br>Liquidità Guadagnata: 326.29 €<br>Bitcoin Venduti: 0.009524<br>Liquidità: 326.29 €<br>Bitcoin: 0.022249<br>Valore Portafoglio: 1088.53 €",
          "Timestamp: 2023-11-28 00:00:00<br>Prezzo: 33993.83203125 €<br>Percentuale Vendita: -100.0%<br>Liquidità Guadagnata: 756.34 €<br>Bitcoin Venduti: 0.022249<br>Liquidità: 1082.62 €<br>Bitcoin: 0.0<br>Valore Portafoglio: 1082.62 €",
          "Timestamp: 2023-12-08 00:00:00<br>Prezzo: 40122.90625 €<br>Percentuale Vendita: -9.82%<br>Liquidità Guadagnata: 123.49 €<br>Bitcoin Venduti: 0.003078<br>Liquidità: 123.49 €<br>Bitcoin: 0.028274<br>Valore Portafoglio: 1257.94 €",
          "Timestamp: 2023-12-09 00:00:00<br>Prezzo: 40995.4375 €<br>Percentuale Vendita: -25.35%<br>Liquidità Guadagnata: 293.82 €<br>Bitcoin Venduti: 0.007167<br>Liquidità: 417.32 €<br>Bitcoin: 0.021107<br>Valore Portafoglio: 1282.61 €",
          "Timestamp: 2023-12-20 00:00:00<br>Prezzo: 38499.953125 €<br>Percentuale Vendita: -12.6%<br>Liquidità Guadagnata: 152.32 €<br>Bitcoin Venduti: 0.003956<br>Liquidità: 152.32 €<br>Bitcoin: 0.027433<br>Valore Portafoglio: 1208.48 €",
          "Timestamp: 2023-12-24 00:00:00<br>Prezzo: 39667.65234375 €<br>Percentuale Vendita: -13.4%<br>Liquidità Guadagnata: 166.11 €<br>Bitcoin Venduti: 0.004188<br>Liquidità: 166.11 €<br>Bitcoin: 0.027064<br>Valore Portafoglio: 1239.69 €",
          "Timestamp: 2023-12-28 00:00:00<br>Prezzo: 39108.30078125 €<br>Percentuale Vendita: -68.83%<br>Liquidità Guadagnata: 843.0 €<br>Bitcoin Venduti: 0.021556<br>Liquidità: 843.0 €<br>Bitcoin: 0.009763<br>Valore Portafoglio: 1224.82 €",
          "Timestamp: 2023-12-31 00:00:00<br>Prezzo: 38132.0546875 €<br>Percentuale Vendita: -38.14%<br>Liquidità Guadagnata: 462.22 €<br>Bitcoin Venduti: 0.012122<br>Liquidità: 462.22 €<br>Bitcoin: 0.019658<br>Valore Portafoglio: 1211.82 €"
         ],
         "type": "scatter",
         "x": [
          "2023-11-08T00:00:00",
          "2023-11-15T00:00:00",
          "2023-11-16T00:00:00",
          "2023-11-17T00:00:00",
          "2023-11-19T00:00:00",
          "2023-11-25T00:00:00",
          "2023-11-27T00:00:00",
          "2023-11-28T00:00:00",
          "2023-12-08T00:00:00",
          "2023-12-09T00:00:00",
          "2023-12-20T00:00:00",
          "2023-12-24T00:00:00",
          "2023-12-28T00:00:00",
          "2023-12-31T00:00:00"
         ],
         "y": [
          33137.67578125,
          32669.89453125,
          34899.3046875,
          33312.5703125,
          33512.13671875,
          34459.36328125,
          34259.40234375,
          33993.83203125,
          40122.90625,
          40995.4375,
          38499.953125,
          39667.65234375,
          39108.30078125,
          38132.0546875
         ]
        }
       ],
       "layout": {
        "height": 800,
        "hovermode": "closest",
        "legend": {
         "x": 0.01,
         "xanchor": "left",
         "y": 0.99,
         "yanchor": "top"
        },
        "template": {
         "data": {
          "bar": [
           {
            "error_x": {
             "color": "#2a3f5f"
            },
            "error_y": {
             "color": "#2a3f5f"
            },
            "marker": {
             "line": {
              "color": "white",
              "width": 0.5
             },
             "pattern": {
              "fillmode": "overlay",
              "size": 10,
              "solidity": 0.2
             }
            },
            "type": "bar"
           }
          ],
          "barpolar": [
           {
            "marker": {
             "line": {
              "color": "white",
              "width": 0.5
             },
             "pattern": {
              "fillmode": "overlay",
              "size": 10,
              "solidity": 0.2
             }
            },
            "type": "barpolar"
           }
          ],
          "carpet": [
           {
            "aaxis": {
             "endlinecolor": "#2a3f5f",
             "gridcolor": "#C8D4E3",
             "linecolor": "#C8D4E3",
             "minorgridcolor": "#C8D4E3",
             "startlinecolor": "#2a3f5f"
            },
            "baxis": {
             "endlinecolor": "#2a3f5f",
             "gridcolor": "#C8D4E3",
             "linecolor": "#C8D4E3",
             "minorgridcolor": "#C8D4E3",
             "startlinecolor": "#2a3f5f"
            },
            "type": "carpet"
           }
          ],
          "choropleth": [
           {
            "colorbar": {
             "outlinewidth": 0,
             "ticks": ""
            },
            "type": "choropleth"
           }
          ],
          "contour": [
           {
            "colorbar": {
             "outlinewidth": 0,
             "ticks": ""
            },
            "colorscale": [
             [
              0,
              "#0d0887"
             ],
             [
              0.1111111111111111,
              "#46039f"
             ],
             [
              0.2222222222222222,
              "#7201a8"
             ],
             [
              0.3333333333333333,
              "#9c179e"
             ],
             [
              0.4444444444444444,
              "#bd3786"
             ],
             [
              0.5555555555555556,
              "#d8576b"
             ],
             [
              0.6666666666666666,
              "#ed7953"
             ],
             [
              0.7777777777777778,
              "#fb9f3a"
             ],
             [
              0.8888888888888888,
              "#fdca26"
             ],
             [
              1,
              "#f0f921"
             ]
            ],
            "type": "contour"
           }
          ],
          "contourcarpet": [
           {
            "colorbar": {
             "outlinewidth": 0,
             "ticks": ""
            },
            "type": "contourcarpet"
           }
          ],
          "heatmap": [
           {
            "colorbar": {
             "outlinewidth": 0,
             "ticks": ""
            },
            "colorscale": [
             [
              0,
              "#0d0887"
             ],
             [
              0.1111111111111111,
              "#46039f"
             ],
             [
              0.2222222222222222,
              "#7201a8"
             ],
             [
              0.3333333333333333,
              "#9c179e"
             ],
             [
              0.4444444444444444,
              "#bd3786"
             ],
             [
              0.5555555555555556,
              "#d8576b"
             ],
             [
              0.6666666666666666,
              "#ed7953"
             ],
             [
              0.7777777777777778,
              "#fb9f3a"
             ],
             [
              0.8888888888888888,
              "#fdca26"
             ],
             [
              1,
              "#f0f921"
             ]
            ],
            "type": "heatmap"
           }
          ],
          "heatmapgl": [
           {
            "colorbar": {
             "outlinewidth": 0,
             "ticks": ""
            },
            "colorscale": [
             [
              0,
              "#0d0887"
             ],
             [
              0.1111111111111111,
              "#46039f"
             ],
             [
              0.2222222222222222,
              "#7201a8"
             ],
             [
              0.3333333333333333,
              "#9c179e"
             ],
             [
              0.4444444444444444,
              "#bd3786"
             ],
             [
              0.5555555555555556,
              "#d8576b"
             ],
             [
              0.6666666666666666,
              "#ed7953"
             ],
             [
              0.7777777777777778,
              "#fb9f3a"
             ],
             [
              0.8888888888888888,
              "#fdca26"
             ],
             [
              1,
              "#f0f921"
             ]
            ],
            "type": "heatmapgl"
           }
          ],
          "histogram": [
           {
            "marker": {
             "pattern": {
              "fillmode": "overlay",
              "size": 10,
              "solidity": 0.2
             }
            },
            "type": "histogram"
           }
          ],
          "histogram2d": [
           {
            "colorbar": {
             "outlinewidth": 0,
             "ticks": ""
            },
            "colorscale": [
             [
              0,
              "#0d0887"
             ],
             [
              0.1111111111111111,
              "#46039f"
             ],
             [
              0.2222222222222222,
              "#7201a8"
             ],
             [
              0.3333333333333333,
              "#9c179e"
             ],
             [
              0.4444444444444444,
              "#bd3786"
             ],
             [
              0.5555555555555556,
              "#d8576b"
             ],
             [
              0.6666666666666666,
              "#ed7953"
             ],
             [
              0.7777777777777778,
              "#fb9f3a"
             ],
             [
              0.8888888888888888,
              "#fdca26"
             ],
             [
              1,
              "#f0f921"
             ]
            ],
            "type": "histogram2d"
           }
          ],
          "histogram2dcontour": [
           {
            "colorbar": {
             "outlinewidth": 0,
             "ticks": ""
            },
            "colorscale": [
             [
              0,
              "#0d0887"
             ],
             [
              0.1111111111111111,
              "#46039f"
             ],
             [
              0.2222222222222222,
              "#7201a8"
             ],
             [
              0.3333333333333333,
              "#9c179e"
             ],
             [
              0.4444444444444444,
              "#bd3786"
             ],
             [
              0.5555555555555556,
              "#d8576b"
             ],
             [
              0.6666666666666666,
              "#ed7953"
             ],
             [
              0.7777777777777778,
              "#fb9f3a"
             ],
             [
              0.8888888888888888,
              "#fdca26"
             ],
             [
              1,
              "#f0f921"
             ]
            ],
            "type": "histogram2dcontour"
           }
          ],
          "mesh3d": [
           {
            "colorbar": {
             "outlinewidth": 0,
             "ticks": ""
            },
            "type": "mesh3d"
           }
          ],
          "parcoords": [
           {
            "line": {
             "colorbar": {
              "outlinewidth": 0,
              "ticks": ""
             }
            },
            "type": "parcoords"
           }
          ],
          "pie": [
           {
            "automargin": true,
            "type": "pie"
           }
          ],
          "scatter": [
           {
            "fillpattern": {
             "fillmode": "overlay",
             "size": 10,
             "solidity": 0.2
            },
            "type": "scatter"
           }
          ],
          "scatter3d": [
           {
            "line": {
             "colorbar": {
              "outlinewidth": 0,
              "ticks": ""
             }
            },
            "marker": {
             "colorbar": {
              "outlinewidth": 0,
              "ticks": ""
             }
            },
            "type": "scatter3d"
           }
          ],
          "scattercarpet": [
           {
            "marker": {
             "colorbar": {
              "outlinewidth": 0,
              "ticks": ""
             }
            },
            "type": "scattercarpet"
           }
          ],
          "scattergeo": [
           {
            "marker": {
             "colorbar": {
              "outlinewidth": 0,
              "ticks": ""
             }
            },
            "type": "scattergeo"
           }
          ],
          "scattergl": [
           {
            "marker": {
             "colorbar": {
              "outlinewidth": 0,
              "ticks": ""
             }
            },
            "type": "scattergl"
           }
          ],
          "scattermapbox": [
           {
            "marker": {
             "colorbar": {
              "outlinewidth": 0,
              "ticks": ""
             }
            },
            "type": "scattermapbox"
           }
          ],
          "scatterpolar": [
           {
            "marker": {
             "colorbar": {
              "outlinewidth": 0,
              "ticks": ""
             }
            },
            "type": "scatterpolar"
           }
          ],
          "scatterpolargl": [
           {
            "marker": {
             "colorbar": {
              "outlinewidth": 0,
              "ticks": ""
             }
            },
            "type": "scatterpolargl"
           }
          ],
          "scatterternary": [
           {
            "marker": {
             "colorbar": {
              "outlinewidth": 0,
              "ticks": ""
             }
            },
            "type": "scatterternary"
           }
          ],
          "surface": [
           {
            "colorbar": {
             "outlinewidth": 0,
             "ticks": ""
            },
            "colorscale": [
             [
              0,
              "#0d0887"
             ],
             [
              0.1111111111111111,
              "#46039f"
             ],
             [
              0.2222222222222222,
              "#7201a8"
             ],
             [
              0.3333333333333333,
              "#9c179e"
             ],
             [
              0.4444444444444444,
              "#bd3786"
             ],
             [
              0.5555555555555556,
              "#d8576b"
             ],
             [
              0.6666666666666666,
              "#ed7953"
             ],
             [
              0.7777777777777778,
              "#fb9f3a"
             ],
             [
              0.8888888888888888,
              "#fdca26"
             ],
             [
              1,
              "#f0f921"
             ]
            ],
            "type": "surface"
           }
          ],
          "table": [
           {
            "cells": {
             "fill": {
              "color": "#EBF0F8"
             },
             "line": {
              "color": "white"
             }
            },
            "header": {
             "fill": {
              "color": "#C8D4E3"
             },
             "line": {
              "color": "white"
             }
            },
            "type": "table"
           }
          ]
         },
         "layout": {
          "annotationdefaults": {
           "arrowcolor": "#2a3f5f",
           "arrowhead": 0,
           "arrowwidth": 1
          },
          "autotypenumbers": "strict",
          "coloraxis": {
           "colorbar": {
            "outlinewidth": 0,
            "ticks": ""
           }
          },
          "colorscale": {
           "diverging": [
            [
             0,
             "#8e0152"
            ],
            [
             0.1,
             "#c51b7d"
            ],
            [
             0.2,
             "#de77ae"
            ],
            [
             0.3,
             "#f1b6da"
            ],
            [
             0.4,
             "#fde0ef"
            ],
            [
             0.5,
             "#f7f7f7"
            ],
            [
             0.6,
             "#e6f5d0"
            ],
            [
             0.7,
             "#b8e186"
            ],
            [
             0.8,
             "#7fbc41"
            ],
            [
             0.9,
             "#4d9221"
            ],
            [
             1,
             "#276419"
            ]
           ],
           "sequential": [
            [
             0,
             "#0d0887"
            ],
            [
             0.1111111111111111,
             "#46039f"
            ],
            [
             0.2222222222222222,
             "#7201a8"
            ],
            [
             0.3333333333333333,
             "#9c179e"
            ],
            [
             0.4444444444444444,
             "#bd3786"
            ],
            [
             0.5555555555555556,
             "#d8576b"
            ],
            [
             0.6666666666666666,
             "#ed7953"
            ],
            [
             0.7777777777777778,
             "#fb9f3a"
            ],
            [
             0.8888888888888888,
             "#fdca26"
            ],
            [
             1,
             "#f0f921"
            ]
           ],
           "sequentialminus": [
            [
             0,
             "#0d0887"
            ],
            [
             0.1111111111111111,
             "#46039f"
            ],
            [
             0.2222222222222222,
             "#7201a8"
            ],
            [
             0.3333333333333333,
             "#9c179e"
            ],
            [
             0.4444444444444444,
             "#bd3786"
            ],
            [
             0.5555555555555556,
             "#d8576b"
            ],
            [
             0.6666666666666666,
             "#ed7953"
            ],
            [
             0.7777777777777778,
             "#fb9f3a"
            ],
            [
             0.8888888888888888,
             "#fdca26"
            ],
            [
             1,
             "#f0f921"
            ]
           ]
          },
          "colorway": [
           "#636efa",
           "#EF553B",
           "#00cc96",
           "#ab63fa",
           "#FFA15A",
           "#19d3f3",
           "#FF6692",
           "#B6E880",
           "#FF97FF",
           "#FECB52"
          ],
          "font": {
           "color": "#2a3f5f"
          },
          "geo": {
           "bgcolor": "white",
           "lakecolor": "white",
           "landcolor": "white",
           "showlakes": true,
           "showland": true,
           "subunitcolor": "#C8D4E3"
          },
          "hoverlabel": {
           "align": "left"
          },
          "hovermode": "closest",
          "mapbox": {
           "style": "light"
          },
          "paper_bgcolor": "white",
          "plot_bgcolor": "white",
          "polar": {
           "angularaxis": {
            "gridcolor": "#EBF0F8",
            "linecolor": "#EBF0F8",
            "ticks": ""
           },
           "bgcolor": "white",
           "radialaxis": {
            "gridcolor": "#EBF0F8",
            "linecolor": "#EBF0F8",
            "ticks": ""
           }
          },
          "scene": {
           "xaxis": {
            "backgroundcolor": "white",
            "gridcolor": "#DFE8F3",
            "gridwidth": 2,
            "linecolor": "#EBF0F8",
            "showbackground": true,
            "ticks": "",
            "zerolinecolor": "#EBF0F8"
           },
           "yaxis": {
            "backgroundcolor": "white",
            "gridcolor": "#DFE8F3",
            "gridwidth": 2,
            "linecolor": "#EBF0F8",
            "showbackground": true,
            "ticks": "",
            "zerolinecolor": "#EBF0F8"
           },
           "zaxis": {
            "backgroundcolor": "white",
            "gridcolor": "#DFE8F3",
            "gridwidth": 2,
            "linecolor": "#EBF0F8",
            "showbackground": true,
            "ticks": "",
            "zerolinecolor": "#EBF0F8"
           }
          },
          "shapedefaults": {
           "line": {
            "color": "#2a3f5f"
           }
          },
          "ternary": {
           "aaxis": {
            "gridcolor": "#DFE8F3",
            "linecolor": "#A2B1C6",
            "ticks": ""
           },
           "baxis": {
            "gridcolor": "#DFE8F3",
            "linecolor": "#A2B1C6",
            "ticks": ""
           },
           "bgcolor": "white",
           "caxis": {
            "gridcolor": "#DFE8F3",
            "linecolor": "#A2B1C6",
            "ticks": ""
           }
          },
          "title": {
           "x": 0.05
          },
          "xaxis": {
           "automargin": true,
           "gridcolor": "#EBF0F8",
           "linecolor": "#EBF0F8",
           "ticks": "",
           "title": {
            "standoff": 15
           },
           "zerolinecolor": "#EBF0F8",
           "zerolinewidth": 2
          },
          "yaxis": {
           "automargin": true,
           "gridcolor": "#EBF0F8",
           "linecolor": "#EBF0F8",
           "ticks": "",
           "title": {
            "standoff": 15
           },
           "zerolinecolor": "#EBF0F8",
           "zerolinewidth": 2
          }
         }
        },
        "title": {
         "text": "Andamento Prezzi Bitcoin con Transazioni di Acquisto e Vendita"
        },
        "width": 1200,
        "xaxis": {
         "rangeslider": {
          "visible": true
         },
         "title": {
          "text": "Data"
         },
         "type": "date"
        },
        "yaxis": {
         "title": {
          "text": "Prezzo (€)"
         }
        }
       }
      }
     },
     "metadata": {},
     "output_type": "display_data"
    }
   ],
   "source": [
    "# Funzione per calcolare la dimensione dei punti in base alla quantità e al massimo valore\n",
    "def calcola_dimensione(quantita, max_quantita, min_size=10, max_size=50):\n",
    "    return min_size + (max_size - min_size) * (quantita / max_quantita) if max_quantita != 0 else min_size\n",
    "\n",
    "# Filtra gli acquisti e le vendite dal log delle transazioni\n",
    "acquisti = log_df[(log_df['Azione'] == 'Acquisto') & (log_df['Liquidità spesa/guadagnata'] != 0)]\n",
    "vendite = log_df[(log_df['Azione'] == 'Vendita') & (log_df['Liquidità spesa/guadagnata'] != 0)]\n",
    "\n",
    "# Calcola il massimo valore speso per acquistare e il massimo valore guadagnato dalle vendite\n",
    "max_acquisto = acquisti['Liquidità spesa/guadagnata'].max()\n",
    "max_vendita = vendite['Liquidità spesa/guadagnata'].max()\n",
    "\n",
    "# Calcola la dimensione dei punti in base al massimo valore di acquisto e vendita\n",
    "dimensioni_acquisti = acquisti['Liquidità spesa/guadagnata'].apply(lambda x: calcola_dimensione(x, max_acquisto))\n",
    "dimensioni_vendite = vendite['Liquidità spesa/guadagnata'].apply(lambda x: calcola_dimensione(x, max_vendita))\n",
    "\n",
    "# Creazione del grafico dei prezzi con acquisti e vendite\n",
    "fig = go.Figure()\n",
    "\n",
    "# Linea dell'andamento dei prezzi\n",
    "fig.add_trace(go.Scatter(\n",
    "    x=log_df['Timestamp'],\n",
    "    y=log_df['prezzo'],\n",
    "    mode='lines',\n",
    "    name='Prezzi Bitcoin',\n",
    "    line=dict(color='blue', width=2),\n",
    "    hoverinfo='x+y'\n",
    "))\n",
    "\n",
    "# Scatter plot per gli acquisti con dimensione proporzionale al valore speso\n",
    "fig.add_trace(go.Scatter(\n",
    "    x=acquisti['Timestamp'],\n",
    "    y=acquisti['prezzo'],\n",
    "    mode='markers',\n",
    "    name='Acquisti',\n",
    "    marker=dict(color='green', size=dimensioni_acquisti, opacity=0.7),\n",
    "    text=[\n",
    "        f\"Timestamp: {timestamp}<br>Prezzo: {prezzo} €<br>Percentuale Acquisto: {round(percentuale * 100, 2)}%<br>Liquidità Spesa: {round(liquid_spesa, 2)} €<br>Bitcoin Acquistati: {round(btc_acq, 6)}<br>Liquidità: {round(liquid_tot, 2)} €<br>Bitcoin: {round(btc_poss, 6)}<br>Valore Portafoglio: {round(valore_port, 2)} €\"\n",
    "        for timestamp, prezzo, percentuale, liquid_spesa, btc_acq, liquid_tot, btc_poss, valore_port in zip(\n",
    "            acquisti['Timestamp'],\n",
    "            acquisti['prezzo'],\n",
    "            acquisti['Percentuale'],\n",
    "            acquisti['Liquidità spesa/guadagnata'],\n",
    "            acquisti['Bitcoin spesi/guadagnati'],\n",
    "            acquisti['Liquidità posseduta'],\n",
    "            acquisti['bitcoin'],\n",
    "            acquisti['valore_totale_portafoglio']\n",
    "        )\n",
    "    ],\n",
    "    hoverinfo='text'\n",
    "))\n",
    "\n",
    "# Scatter plot per le vendite con dimensione proporzionale al valore guadagnato\n",
    "fig.add_trace(go.Scatter(\n",
    "    x=vendite['Timestamp'],\n",
    "    y=vendite['prezzo'],\n",
    "    mode='markers',\n",
    "    name='Vendite',\n",
    "    marker=dict(color='red', size=dimensioni_vendite, opacity=0.7),\n",
    "    text=[\n",
    "        f\"Timestamp: {timestamp}<br>Prezzo: {prezzo} €<br>Percentuale Vendita: {round(percentuale * 100, 2)}%<br>Liquidità Guadagnata: {round(liquid_guad, 2)} €<br>Bitcoin Venduti: {round(btc_vend, 6)}<br>Liquidità: {round(liquid_tot, 2)} €<br>Bitcoin: {round(btc_poss, 6)}<br>Valore Portafoglio: {round(valore_port, 2)} €\"\n",
    "        for timestamp, prezzo, percentuale, liquid_guad, btc_vend, liquid_tot, btc_poss, valore_port in zip(\n",
    "            vendite['Timestamp'],\n",
    "            vendite['prezzo'],\n",
    "            vendite['Percentuale'],\n",
    "            vendite['Liquidità spesa/guadagnata'],\n",
    "            vendite['Bitcoin spesi/guadagnati'],\n",
    "            vendite['Liquidità posseduta'],\n",
    "            vendite['bitcoin'],\n",
    "            vendite['valore_totale_portafoglio']\n",
    "        )\n",
    "    ],\n",
    "    hoverinfo='text'\n",
    "))\n",
    "\n",
    "# Configurazione del layout del grafico\n",
    "fig.update_layout(\n",
    "    title='Andamento Prezzi Bitcoin con Transazioni di Acquisto e Vendita',\n",
    "    xaxis_title='Data',\n",
    "    yaxis_title='Prezzo (€)',\n",
    "    hovermode='closest',\n",
    "    template='plotly_white',\n",
    "    legend=dict(yanchor=\"top\", y=0.99, xanchor=\"left\", x=0.01),\n",
    "    width=1200,\n",
    "    height=800,\n",
    "    xaxis=dict(\n",
    "        rangeslider=dict(visible=True),  # Abilita il range slider\n",
    "        type=\"date\"  # Imposta l'asse x come asse temporale\n",
    "    )\n",
    ")\n",
    "\n",
    "# Mostra il grafico interattivo\n",
    "fig.show()"
   ]
  }
 ],
 "metadata": {
  "kernelspec": {
   "display_name": "trading_env",
   "language": "python",
   "name": "python3"
  },
  "language_info": {
   "codemirror_mode": {
    "name": "ipython",
    "version": 3
   },
   "file_extension": ".py",
   "mimetype": "text/x-python",
   "name": "python",
   "nbconvert_exporter": "python",
   "pygments_lexer": "ipython3",
   "version": "3.10.9"
  }
 },
 "nbformat": 4,
 "nbformat_minor": 2
}
