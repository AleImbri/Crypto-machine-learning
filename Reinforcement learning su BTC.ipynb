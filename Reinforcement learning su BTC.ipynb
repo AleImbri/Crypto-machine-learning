{
 "cells": [
  {
   "cell_type": "markdown",
   "metadata": {},
   "source": [
    "# Importare le Librerie Necessarie"
   ]
  },
  {
   "cell_type": "code",
   "execution_count": 1,
   "metadata": {},
   "outputs": [],
   "source": [
    "import numpy as np\n",
    "import pandas as pd\n",
    "import gym\n",
    "from gym import spaces\n",
    "from stable_baselines3 import PPO\n",
    "import matplotlib.pyplot as plt\n",
    "import random\n",
    "from sklearn.model_selection import train_test_split\n",
    "import plotly.graph_objects as go\n",
    "import os\n",
    "import torch\n",
    "from stable_baselines3.common.utils import set_random_seed"
   ]
  },
  {
   "cell_type": "code",
   "execution_count": 2,
   "metadata": {},
   "outputs": [],
   "source": [
    "# # Imposta il seme per la riproducibilità\n",
    "# seed_value = 42\n",
    "\n",
    "# random.seed(seed_value)\n",
    "# np.random.seed(seed_value)\n",
    "# torch.manual_seed(seed_value)\n",
    "# set_random_seed(seed_value)"
   ]
  },
  {
   "cell_type": "markdown",
   "metadata": {},
   "source": [
    "# Lettura dati"
   ]
  },
  {
   "cell_type": "code",
   "execution_count": 3,
   "metadata": {},
   "outputs": [
    {
     "data": {
      "text/html": [
       "<div>\n",
       "<style scoped>\n",
       "    .dataframe tbody tr th:only-of-type {\n",
       "        vertical-align: middle;\n",
       "    }\n",
       "\n",
       "    .dataframe tbody tr th {\n",
       "        vertical-align: top;\n",
       "    }\n",
       "\n",
       "    .dataframe thead th {\n",
       "        text-align: right;\n",
       "    }\n",
       "</style>\n",
       "<table border=\"1\" class=\"dataframe\">\n",
       "  <thead>\n",
       "    <tr style=\"text-align: right;\">\n",
       "      <th></th>\n",
       "      <th>Unnamed: 0</th>\n",
       "      <th>Date</th>\n",
       "      <th>Open</th>\n",
       "      <th>High</th>\n",
       "      <th>Low</th>\n",
       "      <th>Close</th>\n",
       "      <th>Volume</th>\n",
       "      <th>Dividends</th>\n",
       "      <th>Stock Splits</th>\n",
       "    </tr>\n",
       "  </thead>\n",
       "  <tbody>\n",
       "    <tr>\n",
       "      <th>0</th>\n",
       "      <td>0</td>\n",
       "      <td>2014-09-17 00:00:00+00:00</td>\n",
       "      <td>359.546204</td>\n",
       "      <td>361.468506</td>\n",
       "      <td>351.586884</td>\n",
       "      <td>355.957367</td>\n",
       "      <td>16389166</td>\n",
       "      <td>0.0</td>\n",
       "      <td>0.0</td>\n",
       "    </tr>\n",
       "    <tr>\n",
       "      <th>1</th>\n",
       "      <td>1</td>\n",
       "      <td>2014-09-18 00:00:00+00:00</td>\n",
       "      <td>355.588409</td>\n",
       "      <td>355.505402</td>\n",
       "      <td>319.789459</td>\n",
       "      <td>328.539368</td>\n",
       "      <td>26691849</td>\n",
       "      <td>0.0</td>\n",
       "      <td>0.0</td>\n",
       "    </tr>\n",
       "    <tr>\n",
       "      <th>2</th>\n",
       "      <td>2</td>\n",
       "      <td>2014-09-19 00:00:00+00:00</td>\n",
       "      <td>328.278503</td>\n",
       "      <td>330.936707</td>\n",
       "      <td>298.921021</td>\n",
       "      <td>307.761139</td>\n",
       "      <td>29560103</td>\n",
       "      <td>0.0</td>\n",
       "      <td>0.0</td>\n",
       "    </tr>\n",
       "    <tr>\n",
       "      <th>3</th>\n",
       "      <td>3</td>\n",
       "      <td>2014-09-20 00:00:00+00:00</td>\n",
       "      <td>307.665253</td>\n",
       "      <td>329.978180</td>\n",
       "      <td>303.931244</td>\n",
       "      <td>318.758972</td>\n",
       "      <td>28736826</td>\n",
       "      <td>0.0</td>\n",
       "      <td>0.0</td>\n",
       "    </tr>\n",
       "    <tr>\n",
       "      <th>4</th>\n",
       "      <td>4</td>\n",
       "      <td>2014-09-21 00:00:00+00:00</td>\n",
       "      <td>318.120514</td>\n",
       "      <td>321.504517</td>\n",
       "      <td>306.502197</td>\n",
       "      <td>310.632446</td>\n",
       "      <td>20702625</td>\n",
       "      <td>0.0</td>\n",
       "      <td>0.0</td>\n",
       "    </tr>\n",
       "    <tr>\n",
       "      <th>...</th>\n",
       "      <td>...</td>\n",
       "      <td>...</td>\n",
       "      <td>...</td>\n",
       "      <td>...</td>\n",
       "      <td>...</td>\n",
       "      <td>...</td>\n",
       "      <td>...</td>\n",
       "      <td>...</td>\n",
       "      <td>...</td>\n",
       "    </tr>\n",
       "    <tr>\n",
       "      <th>3503</th>\n",
       "      <td>3503</td>\n",
       "      <td>2024-04-20 00:00:00+00:00</td>\n",
       "      <td>59675.082031</td>\n",
       "      <td>61440.464844</td>\n",
       "      <td>56170.074219</td>\n",
       "      <td>59876.710938</td>\n",
       "      <td>46818669689</td>\n",
       "      <td>0.0</td>\n",
       "      <td>0.0</td>\n",
       "    </tr>\n",
       "    <tr>\n",
       "      <th>3504</th>\n",
       "      <td>3504</td>\n",
       "      <td>2024-04-21 00:00:00+00:00</td>\n",
       "      <td>59883.777344</td>\n",
       "      <td>61376.257812</td>\n",
       "      <td>59247.250000</td>\n",
       "      <td>60956.074219</td>\n",
       "      <td>21662346331</td>\n",
       "      <td>0.0</td>\n",
       "      <td>0.0</td>\n",
       "    </tr>\n",
       "    <tr>\n",
       "      <th>3505</th>\n",
       "      <td>3505</td>\n",
       "      <td>2024-04-22 00:00:00+00:00</td>\n",
       "      <td>60954.554688</td>\n",
       "      <td>61639.593750</td>\n",
       "      <td>60245.773438</td>\n",
       "      <td>60919.242188</td>\n",
       "      <td>19240933719</td>\n",
       "      <td>0.0</td>\n",
       "      <td>0.0</td>\n",
       "    </tr>\n",
       "    <tr>\n",
       "      <th>3506</th>\n",
       "      <td>3506</td>\n",
       "      <td>2024-04-23 00:00:00+00:00</td>\n",
       "      <td>60927.675781</td>\n",
       "      <td>63113.457031</td>\n",
       "      <td>60496.617188</td>\n",
       "      <td>62729.296875</td>\n",
       "      <td>26544206489</td>\n",
       "      <td>0.0</td>\n",
       "      <td>0.0</td>\n",
       "    </tr>\n",
       "    <tr>\n",
       "      <th>3507</th>\n",
       "      <td>3507</td>\n",
       "      <td>2024-04-24 00:00:00+00:00</td>\n",
       "      <td>62731.378906</td>\n",
       "      <td>63032.957031</td>\n",
       "      <td>61737.578125</td>\n",
       "      <td>62048.164062</td>\n",
       "      <td>22715154524</td>\n",
       "      <td>0.0</td>\n",
       "      <td>0.0</td>\n",
       "    </tr>\n",
       "  </tbody>\n",
       "</table>\n",
       "<p>3508 rows × 9 columns</p>\n",
       "</div>"
      ],
      "text/plain": [
       "      Unnamed: 0                       Date          Open          High  \\\n",
       "0              0  2014-09-17 00:00:00+00:00    359.546204    361.468506   \n",
       "1              1  2014-09-18 00:00:00+00:00    355.588409    355.505402   \n",
       "2              2  2014-09-19 00:00:00+00:00    328.278503    330.936707   \n",
       "3              3  2014-09-20 00:00:00+00:00    307.665253    329.978180   \n",
       "4              4  2014-09-21 00:00:00+00:00    318.120514    321.504517   \n",
       "...          ...                        ...           ...           ...   \n",
       "3503        3503  2024-04-20 00:00:00+00:00  59675.082031  61440.464844   \n",
       "3504        3504  2024-04-21 00:00:00+00:00  59883.777344  61376.257812   \n",
       "3505        3505  2024-04-22 00:00:00+00:00  60954.554688  61639.593750   \n",
       "3506        3506  2024-04-23 00:00:00+00:00  60927.675781  63113.457031   \n",
       "3507        3507  2024-04-24 00:00:00+00:00  62731.378906  63032.957031   \n",
       "\n",
       "               Low         Close       Volume  Dividends  Stock Splits  \n",
       "0       351.586884    355.957367     16389166        0.0           0.0  \n",
       "1       319.789459    328.539368     26691849        0.0           0.0  \n",
       "2       298.921021    307.761139     29560103        0.0           0.0  \n",
       "3       303.931244    318.758972     28736826        0.0           0.0  \n",
       "4       306.502197    310.632446     20702625        0.0           0.0  \n",
       "...            ...           ...          ...        ...           ...  \n",
       "3503  56170.074219  59876.710938  46818669689        0.0           0.0  \n",
       "3504  59247.250000  60956.074219  21662346331        0.0           0.0  \n",
       "3505  60245.773438  60919.242188  19240933719        0.0           0.0  \n",
       "3506  60496.617188  62729.296875  26544206489        0.0           0.0  \n",
       "3507  61737.578125  62048.164062  22715154524        0.0           0.0  \n",
       "\n",
       "[3508 rows x 9 columns]"
      ]
     },
     "execution_count": 3,
     "metadata": {},
     "output_type": "execute_result"
    }
   ],
   "source": [
    "pd.read_csv('Bitcoin (€) da yfinance dal 17-09-2014 al 24-04-2024.csv')"
   ]
  },
  {
   "cell_type": "code",
   "execution_count": 4,
   "metadata": {},
   "outputs": [
    {
     "data": {
      "text/html": [
       "<div>\n",
       "<style scoped>\n",
       "    .dataframe tbody tr th:only-of-type {\n",
       "        vertical-align: middle;\n",
       "    }\n",
       "\n",
       "    .dataframe tbody tr th {\n",
       "        vertical-align: top;\n",
       "    }\n",
       "\n",
       "    .dataframe thead th {\n",
       "        text-align: right;\n",
       "    }\n",
       "</style>\n",
       "<table border=\"1\" class=\"dataframe\">\n",
       "  <thead>\n",
       "    <tr style=\"text-align: right;\">\n",
       "      <th></th>\n",
       "      <th>Timestamp</th>\n",
       "      <th>Price</th>\n",
       "      <th>Open</th>\n",
       "      <th>High</th>\n",
       "      <th>Low</th>\n",
       "      <th>Volume</th>\n",
       "    </tr>\n",
       "  </thead>\n",
       "  <tbody>\n",
       "    <tr>\n",
       "      <th>0</th>\n",
       "      <td>2014-09-17</td>\n",
       "      <td>355.957367</td>\n",
       "      <td>359.546204</td>\n",
       "      <td>361.468506</td>\n",
       "      <td>351.586884</td>\n",
       "      <td>16389166</td>\n",
       "    </tr>\n",
       "    <tr>\n",
       "      <th>1</th>\n",
       "      <td>2014-09-18</td>\n",
       "      <td>328.539368</td>\n",
       "      <td>355.588409</td>\n",
       "      <td>355.505402</td>\n",
       "      <td>319.789459</td>\n",
       "      <td>26691849</td>\n",
       "    </tr>\n",
       "    <tr>\n",
       "      <th>2</th>\n",
       "      <td>2014-09-19</td>\n",
       "      <td>307.761139</td>\n",
       "      <td>328.278503</td>\n",
       "      <td>330.936707</td>\n",
       "      <td>298.921021</td>\n",
       "      <td>29560103</td>\n",
       "    </tr>\n",
       "    <tr>\n",
       "      <th>3</th>\n",
       "      <td>2014-09-20</td>\n",
       "      <td>318.758972</td>\n",
       "      <td>307.665253</td>\n",
       "      <td>329.978180</td>\n",
       "      <td>303.931244</td>\n",
       "      <td>28736826</td>\n",
       "    </tr>\n",
       "    <tr>\n",
       "      <th>4</th>\n",
       "      <td>2014-09-21</td>\n",
       "      <td>310.632446</td>\n",
       "      <td>318.120514</td>\n",
       "      <td>321.504517</td>\n",
       "      <td>306.502197</td>\n",
       "      <td>20702625</td>\n",
       "    </tr>\n",
       "    <tr>\n",
       "      <th>...</th>\n",
       "      <td>...</td>\n",
       "      <td>...</td>\n",
       "      <td>...</td>\n",
       "      <td>...</td>\n",
       "      <td>...</td>\n",
       "      <td>...</td>\n",
       "    </tr>\n",
       "    <tr>\n",
       "      <th>3503</th>\n",
       "      <td>2024-04-20</td>\n",
       "      <td>59876.710938</td>\n",
       "      <td>59675.082031</td>\n",
       "      <td>61440.464844</td>\n",
       "      <td>56170.074219</td>\n",
       "      <td>46818669689</td>\n",
       "    </tr>\n",
       "    <tr>\n",
       "      <th>3504</th>\n",
       "      <td>2024-04-21</td>\n",
       "      <td>60956.074219</td>\n",
       "      <td>59883.777344</td>\n",
       "      <td>61376.257812</td>\n",
       "      <td>59247.250000</td>\n",
       "      <td>21662346331</td>\n",
       "    </tr>\n",
       "    <tr>\n",
       "      <th>3505</th>\n",
       "      <td>2024-04-22</td>\n",
       "      <td>60919.242188</td>\n",
       "      <td>60954.554688</td>\n",
       "      <td>61639.593750</td>\n",
       "      <td>60245.773438</td>\n",
       "      <td>19240933719</td>\n",
       "    </tr>\n",
       "    <tr>\n",
       "      <th>3506</th>\n",
       "      <td>2024-04-23</td>\n",
       "      <td>62729.296875</td>\n",
       "      <td>60927.675781</td>\n",
       "      <td>63113.457031</td>\n",
       "      <td>60496.617188</td>\n",
       "      <td>26544206489</td>\n",
       "    </tr>\n",
       "    <tr>\n",
       "      <th>3507</th>\n",
       "      <td>2024-04-24</td>\n",
       "      <td>62048.164062</td>\n",
       "      <td>62731.378906</td>\n",
       "      <td>63032.957031</td>\n",
       "      <td>61737.578125</td>\n",
       "      <td>22715154524</td>\n",
       "    </tr>\n",
       "  </tbody>\n",
       "</table>\n",
       "<p>3508 rows × 6 columns</p>\n",
       "</div>"
      ],
      "text/plain": [
       "      Timestamp         Price          Open          High           Low  \\\n",
       "0    2014-09-17    355.957367    359.546204    361.468506    351.586884   \n",
       "1    2014-09-18    328.539368    355.588409    355.505402    319.789459   \n",
       "2    2014-09-19    307.761139    328.278503    330.936707    298.921021   \n",
       "3    2014-09-20    318.758972    307.665253    329.978180    303.931244   \n",
       "4    2014-09-21    310.632446    318.120514    321.504517    306.502197   \n",
       "...         ...           ...           ...           ...           ...   \n",
       "3503 2024-04-20  59876.710938  59675.082031  61440.464844  56170.074219   \n",
       "3504 2024-04-21  60956.074219  59883.777344  61376.257812  59247.250000   \n",
       "3505 2024-04-22  60919.242188  60954.554688  61639.593750  60245.773438   \n",
       "3506 2024-04-23  62729.296875  60927.675781  63113.457031  60496.617188   \n",
       "3507 2024-04-24  62048.164062  62731.378906  63032.957031  61737.578125   \n",
       "\n",
       "           Volume  \n",
       "0        16389166  \n",
       "1        26691849  \n",
       "2        29560103  \n",
       "3        28736826  \n",
       "4        20702625  \n",
       "...           ...  \n",
       "3503  46818669689  \n",
       "3504  21662346331  \n",
       "3505  19240933719  \n",
       "3506  26544206489  \n",
       "3507  22715154524  \n",
       "\n",
       "[3508 rows x 6 columns]"
      ]
     },
     "execution_count": 4,
     "metadata": {},
     "output_type": "execute_result"
    }
   ],
   "source": [
    "dati_originali = pd.read_csv('Bitcoin (€) da yfinance dal 17-09-2014 al 24-04-2024.csv')\n",
    "dati_originali = dati_originali[['Date', 'Close', 'Open', 'High', 'Low', 'Volume']]\n",
    "dati_originali = dati_originali.rename(columns = {'Date':'Timestamp', 'Close': 'Price'})\n",
    "dati_originali['Timestamp'] = pd.to_datetime(dati_originali['Timestamp'])\n",
    "dati_originali['Timestamp'] = dati_originali['Timestamp'].dt.strftime('%Y-%m-%d')\n",
    "dati_originali['Timestamp'] = pd.to_datetime(dati_originali['Timestamp'], format='%Y-%m-%d')\n",
    "dati_originali"
   ]
  },
  {
   "cell_type": "code",
   "execution_count": 5,
   "metadata": {},
   "outputs": [
    {
     "data": {
      "text/html": [
       "<div>\n",
       "<style scoped>\n",
       "    .dataframe tbody tr th:only-of-type {\n",
       "        vertical-align: middle;\n",
       "    }\n",
       "\n",
       "    .dataframe tbody tr th {\n",
       "        vertical-align: top;\n",
       "    }\n",
       "\n",
       "    .dataframe thead th {\n",
       "        text-align: right;\n",
       "    }\n",
       "</style>\n",
       "<table border=\"1\" class=\"dataframe\">\n",
       "  <thead>\n",
       "    <tr style=\"text-align: right;\">\n",
       "      <th></th>\n",
       "      <th>Timestamp</th>\n",
       "      <th>Price</th>\n",
       "      <th>Open</th>\n",
       "      <th>High</th>\n",
       "      <th>Low</th>\n",
       "      <th>Volume</th>\n",
       "    </tr>\n",
       "  </thead>\n",
       "  <tbody>\n",
       "    <tr>\n",
       "      <th>0</th>\n",
       "      <td>2014-09-17</td>\n",
       "      <td>355.957367</td>\n",
       "      <td>359.546204</td>\n",
       "      <td>361.468506</td>\n",
       "      <td>351.586884</td>\n",
       "      <td>16389166</td>\n",
       "    </tr>\n",
       "    <tr>\n",
       "      <th>1</th>\n",
       "      <td>2014-09-18</td>\n",
       "      <td>328.539368</td>\n",
       "      <td>355.588409</td>\n",
       "      <td>355.505402</td>\n",
       "      <td>319.789459</td>\n",
       "      <td>26691849</td>\n",
       "    </tr>\n",
       "    <tr>\n",
       "      <th>2</th>\n",
       "      <td>2014-09-19</td>\n",
       "      <td>307.761139</td>\n",
       "      <td>328.278503</td>\n",
       "      <td>330.936707</td>\n",
       "      <td>298.921021</td>\n",
       "      <td>29560103</td>\n",
       "    </tr>\n",
       "    <tr>\n",
       "      <th>3</th>\n",
       "      <td>2014-09-20</td>\n",
       "      <td>318.758972</td>\n",
       "      <td>307.665253</td>\n",
       "      <td>329.978180</td>\n",
       "      <td>303.931244</td>\n",
       "      <td>28736826</td>\n",
       "    </tr>\n",
       "    <tr>\n",
       "      <th>4</th>\n",
       "      <td>2014-09-21</td>\n",
       "      <td>310.632446</td>\n",
       "      <td>318.120514</td>\n",
       "      <td>321.504517</td>\n",
       "      <td>306.502197</td>\n",
       "      <td>20702625</td>\n",
       "    </tr>\n",
       "    <tr>\n",
       "      <th>...</th>\n",
       "      <td>...</td>\n",
       "      <td>...</td>\n",
       "      <td>...</td>\n",
       "      <td>...</td>\n",
       "      <td>...</td>\n",
       "      <td>...</td>\n",
       "    </tr>\n",
       "    <tr>\n",
       "      <th>3388</th>\n",
       "      <td>2023-12-27</td>\n",
       "      <td>38504.562500</td>\n",
       "      <td>39568.429688</td>\n",
       "      <td>39571.453125</td>\n",
       "      <td>37778.320312</td>\n",
       "      <td>27190965041</td>\n",
       "    </tr>\n",
       "    <tr>\n",
       "      <th>3389</th>\n",
       "      <td>2023-12-28</td>\n",
       "      <td>39108.300781</td>\n",
       "      <td>38502.812500</td>\n",
       "      <td>39345.335938</td>\n",
       "      <td>38217.789062</td>\n",
       "      <td>22740505379</td>\n",
       "    </tr>\n",
       "    <tr>\n",
       "      <th>3390</th>\n",
       "      <td>2023-12-29</td>\n",
       "      <td>38515.289062</td>\n",
       "      <td>39131.113281</td>\n",
       "      <td>39415.761719</td>\n",
       "      <td>38211.789062</td>\n",
       "      <td>20773907848</td>\n",
       "    </tr>\n",
       "    <tr>\n",
       "      <th>3391</th>\n",
       "      <td>2023-12-30</td>\n",
       "      <td>38080.046875</td>\n",
       "      <td>38503.351562</td>\n",
       "      <td>38997.976562</td>\n",
       "      <td>37469.179688</td>\n",
       "      <td>23517721045</td>\n",
       "    </tr>\n",
       "    <tr>\n",
       "      <th>3392</th>\n",
       "      <td>2023-12-31</td>\n",
       "      <td>38132.054688</td>\n",
       "      <td>38073.125000</td>\n",
       "      <td>38518.488281</td>\n",
       "      <td>37588.726562</td>\n",
       "      <td>14485028393</td>\n",
       "    </tr>\n",
       "  </tbody>\n",
       "</table>\n",
       "<p>3393 rows × 6 columns</p>\n",
       "</div>"
      ],
      "text/plain": [
       "      Timestamp         Price          Open          High           Low  \\\n",
       "0    2014-09-17    355.957367    359.546204    361.468506    351.586884   \n",
       "1    2014-09-18    328.539368    355.588409    355.505402    319.789459   \n",
       "2    2014-09-19    307.761139    328.278503    330.936707    298.921021   \n",
       "3    2014-09-20    318.758972    307.665253    329.978180    303.931244   \n",
       "4    2014-09-21    310.632446    318.120514    321.504517    306.502197   \n",
       "...         ...           ...           ...           ...           ...   \n",
       "3388 2023-12-27  38504.562500  39568.429688  39571.453125  37778.320312   \n",
       "3389 2023-12-28  39108.300781  38502.812500  39345.335938  38217.789062   \n",
       "3390 2023-12-29  38515.289062  39131.113281  39415.761719  38211.789062   \n",
       "3391 2023-12-30  38080.046875  38503.351562  38997.976562  37469.179688   \n",
       "3392 2023-12-31  38132.054688  38073.125000  38518.488281  37588.726562   \n",
       "\n",
       "           Volume  \n",
       "0        16389166  \n",
       "1        26691849  \n",
       "2        29560103  \n",
       "3        28736826  \n",
       "4        20702625  \n",
       "...           ...  \n",
       "3388  27190965041  \n",
       "3389  22740505379  \n",
       "3390  20773907848  \n",
       "3391  23517721045  \n",
       "3392  14485028393  \n",
       "\n",
       "[3393 rows x 6 columns]"
      ]
     },
     "execution_count": 5,
     "metadata": {},
     "output_type": "execute_result"
    }
   ],
   "source": [
    "data_inizio = '2014-09-17'\n",
    "data_fine = '2023-12-31'\n",
    "indice_inizio = dati_originali[dati_originali['Timestamp'] == data_inizio].index[0]\n",
    "indice_fine = dati_originali[dati_originali['Timestamp'] == data_fine].index[0]\n",
    "dati = dati_originali[indice_inizio:indice_fine + 1].reset_index(drop=True)\n",
    "dati"
   ]
  },
  {
   "cell_type": "markdown",
   "metadata": {},
   "source": [
    "# Preparazione dei Periodi di 30 Giorni e train_test_split"
   ]
  },
  {
   "cell_type": "code",
   "execution_count": 6,
   "metadata": {},
   "outputs": [
    {
     "name": "stdout",
     "output_type": "stream",
     "text": [
      "Train periods: 2354, Validation periods: 505, Test periods: 505\n"
     ]
    }
   ],
   "source": [
    "# Estrarre periodi di lunghezza 30 giorni dai dati\n",
    "L = 30\n",
    "periods = [dati.iloc[i:i + L] for i in range(len(dati) - L + 1)]\n",
    "\n",
    "# Suddivisione dei periodi in train (70%) e validation/test (30%)\n",
    "train_periods, validation_periods = train_test_split(periods, test_size=0.3, random_state=42)\n",
    "validation_periods, test_periods = train_test_split(validation_periods, test_size=0.5, random_state=42)\n",
    "\n",
    "# Visualizzare il numero di periodi in ciascun insieme\n",
    "print(f\"Train periods: {len(train_periods)}, Validation periods: {len(validation_periods)}, Test periods: {len(test_periods)}\")"
   ]
  },
  {
   "cell_type": "markdown",
   "metadata": {},
   "source": [
    "# Function per il calcolo del rendimento ideale"
   ]
  },
  {
   "cell_type": "code",
   "execution_count": 7,
   "metadata": {},
   "outputs": [],
   "source": [
    "def calcola_rendimento_portafoglio_ideale(capitale_iniziale, bitcoin_iniziali, lista_prezzi, min_acquisto, min_vendita, perc_commissione_acquisto, perc_commissione_vendita):\n",
    "    capitale = capitale_iniziale\n",
    "    bitcoin = bitcoin_iniziali\n",
    "    comprato = False\n",
    "\n",
    "    for i in range(len(lista_prezzi) - 1):\n",
    "        # Compra al minimo\n",
    "        if lista_prezzi[i] < lista_prezzi[i + 1] and not comprato and capitale >= min_acquisto:\n",
    "            bitcoin_acquistati = (capitale * (1 - perc_commissione_acquisto)) / lista_prezzi[i]\n",
    "            bitcoin += bitcoin_acquistati\n",
    "            capitale = 0\n",
    "            comprato = True\n",
    "            # print(f'Bitcoin posseduti: {bitcoin}')\n",
    "        # Vende al massimo\n",
    "        elif lista_prezzi[i] > lista_prezzi[i + 1] and comprato and bitcoin * lista_prezzi[i] >= min_vendita:\n",
    "            capitale_vendita = bitcoin * lista_prezzi[i] * (1 - perc_commissione_vendita)\n",
    "            capitale += capitale_vendita\n",
    "            bitcoin = 0\n",
    "            comprato = False\n",
    "            # print(f'Capitale posseduto: {capitale}')\n",
    "\n",
    "    # Vende i bitcoin rimasti all'ultimo prezzo\n",
    "    if comprato and bitcoin * lista_prezzi.iloc[-1] >= min_vendita:\n",
    "        capitale += bitcoin * lista_prezzi.iloc[-1] * (1 - perc_commissione_vendita)\n",
    "        bitcoin = 0\n",
    "        # print(f'Capitale posseduto: {capitale}')\n",
    "        # print(f'Bitcoin posseduti: {bitcoin}')\n",
    "\n",
    "    valore_iniziale = capitale_iniziale + bitcoin_iniziali * lista_prezzi[0]\n",
    "    valore_finale = capitale + bitcoin * lista_prezzi.iloc[-1]\n",
    "\n",
    "    rendimento = valore_finale / valore_iniziale\n",
    "\n",
    "    return [rendimento, valore_finale]"
   ]
  },
  {
   "cell_type": "markdown",
   "metadata": {},
   "source": [
    "# Definizione dell'Ambiente Personalizzato TradingEnv per Train e Validation"
   ]
  },
  {
   "cell_type": "code",
   "execution_count": 8,
   "metadata": {},
   "outputs": [],
   "source": [
    "# class TradingEnv(gym.Env):\n",
    "#     def __init__(self, periods, initial_cash=1000, initial_btc=0, L=30, info_columns=None, portfolio_metrics=None):\n",
    "#         super(TradingEnv, self).__init__()\n",
    "        \n",
    "#         self.periods = periods\n",
    "#         self.initial_cash = initial_cash\n",
    "#         self.initial_btc = initial_btc\n",
    "#         self.current_step = 0\n",
    "#         self.current_period = None\n",
    "#         self.initial_price = None\n",
    "#         self.L = L  # Numero di giorni di osservazione\n",
    "\n",
    "#         # Definisci le colonne di informazione e le metriche del portafoglio\n",
    "#         self.info_columns = info_columns or ['Open', 'High', 'Low', 'Price', 'Volume']\n",
    "#         self.portfolio_metrics = portfolio_metrics or ['cash', 'btc', 'total_value']\n",
    "\n",
    "#         # Calcola la dimensione dello spazio di osservazione in base a L e al numero di colonne e metriche\n",
    "#         self.num_info_columns = len(self.info_columns)\n",
    "#         self.observation_size = self.L * self.num_info_columns + len(self.portfolio_metrics)\n",
    "        \n",
    "#         # Definisce lo spazio di azione e di osservazione\n",
    "#         self.action_space = spaces.Box(low=-1, high=1, shape=(1,), dtype=np.float32)\n",
    "#         self.observation_space = spaces.Box(low=0, high=np.inf, shape=(self.observation_size,), dtype=np.float32)\n",
    "    \n",
    "#     def reset(self):\n",
    "#         # Scegli un periodo di L giorni casuale\n",
    "#         self.current_period = random.choice(self.periods).reset_index(drop=True)\n",
    "#         self.current_step = 0\n",
    "#         self.cash = self.initial_cash\n",
    "#         self.btc = self.initial_btc\n",
    "#         self.initial_price = self.current_period['Price'].iloc[self.current_step]\n",
    "        \n",
    "#         # Costruzione delle metriche del portafoglio richieste\n",
    "#         total_value = self.cash + self.btc * self.initial_price\n",
    "#         portfolio_obs = []\n",
    "#         if 'cash' in self.portfolio_metrics:\n",
    "#             portfolio_obs.append(self.cash)\n",
    "#         if 'btc' in self.portfolio_metrics:\n",
    "#             portfolio_obs.append(self.btc)\n",
    "#         if 'total_value' in self.portfolio_metrics:\n",
    "#             portfolio_obs.append(total_value)\n",
    "        \n",
    "#         # Crea l'osservazione iniziale in base alle colonne di informazione e alle metriche del portafoglio\n",
    "#         obs = self.current_period[self.info_columns].values[:self.current_step + 1].flatten()\n",
    "#         obs = np.pad(obs, (0, self.L * self.num_info_columns - len(obs)), mode='constant')\n",
    "#         obs = np.append(obs, portfolio_obs)\n",
    "        \n",
    "#         return obs\n",
    "\n",
    "#     def step(self, action):\n",
    "#         percentage = action[0]\n",
    "#         price = self.current_period['Price'].iloc[self.current_step]\n",
    "\n",
    "#         # Gestione dell'azione (acquisto, vendita o nessuna azione)\n",
    "#         if percentage < 0:  # Vendita\n",
    "#             btc_to_sell = -percentage * self.btc\n",
    "#             self.btc -= btc_to_sell\n",
    "#             self.cash += btc_to_sell * price\n",
    "#         elif percentage > 0:  # Acquisto\n",
    "#             cash_to_spend = percentage * self.cash\n",
    "#             btc_bought = cash_to_spend / price\n",
    "#             self.btc += btc_bought\n",
    "#             self.cash -= cash_to_spend\n",
    "\n",
    "#         # Aggiorna l'indice temporale\n",
    "#         self.current_step += 1\n",
    "#         done = self.current_step >= len(self.current_period) - 1\n",
    "\n",
    "#         # Calcolo del valore totale del portafoglio\n",
    "#         total_value = self.cash + self.btc * price\n",
    "#         initial_total_value = self.initial_cash + self.initial_btc * self.initial_price\n",
    "#         reward = total_value - initial_total_value\n",
    "\n",
    "#         # Crea l'osservazione aggiornata basata su L giorni di info_columns e le metriche del portafoglio\n",
    "#         obs = self.current_period[self.info_columns].values[:self.current_step + 1].flatten()\n",
    "#         obs = np.pad(obs, (0, self.L * self.num_info_columns - len(obs)), mode='constant')\n",
    "        \n",
    "#         # Ricostruisce l'osservazione per le metriche del portafoglio specificate\n",
    "#         portfolio_obs = []\n",
    "#         if 'cash' in self.portfolio_metrics:\n",
    "#             portfolio_obs.append(self.cash)\n",
    "#         if 'btc' in self.portfolio_metrics:\n",
    "#             portfolio_obs.append(self.btc)\n",
    "#         if 'total_value' in self.portfolio_metrics:\n",
    "#             portfolio_obs.append(total_value)\n",
    "        \n",
    "#         obs = np.append(obs, portfolio_obs)\n",
    "        \n",
    "#         return obs, reward, done, {}\n",
    "\n",
    "#     def render(self):\n",
    "#         total_value = self.cash + self.btc * self.current_period['Price'].iloc[self.current_step]\n",
    "#         print(f'Step: {self.current_step}, Cash: {self.cash}, BTC: {self.btc}, Total Value: {total_value}')"
   ]
  },
  {
   "cell_type": "code",
   "execution_count": 9,
   "metadata": {},
   "outputs": [],
   "source": [
    "class TradingEnv(gym.Env):\n",
    "    def __init__(self, periods, initial_cash, initial_btc, L, info_columns, portfolio_metrics,\n",
    "                 min_acquisto=0, min_vendita=0, perc_commissione_acquisto=0, perc_commissione_vendita=0):\n",
    "        super(TradingEnv, self).__init__()\n",
    "        \n",
    "        # Inizializzazione delle variabili di input\n",
    "        self.periods = periods\n",
    "        self.initial_cash = initial_cash\n",
    "        self.initial_btc = initial_btc\n",
    "        self.current_step = 0\n",
    "        self.current_period = None\n",
    "        self.initial_price = None\n",
    "        self.L = L  # Numero di giorni di osservazione\n",
    "\n",
    "        # Parametri della funzione ideale\n",
    "        self.min_acquisto = min_acquisto\n",
    "        self.min_vendita = min_vendita\n",
    "        self.perc_commissione_acquisto = perc_commissione_acquisto\n",
    "        self.perc_commissione_vendita = perc_commissione_vendita\n",
    "\n",
    "        # Definisci le colonne di informazione e le metriche del portafoglio\n",
    "        self.info_columns = info_columns\n",
    "        self.portfolio_metrics = portfolio_metrics\n",
    "\n",
    "        # Calcola la dimensione dello spazio di osservazione in base a L e al numero di colonne e metriche\n",
    "        self.num_info_columns = len(self.info_columns)\n",
    "        self.observation_size = self.L * self.num_info_columns + len(self.portfolio_metrics)\n",
    "        \n",
    "        # Definisce lo spazio di azione e di osservazione\n",
    "        self.action_space = spaces.Box(low=-1, high=1, shape=(1,), dtype=np.float32)\n",
    "        self.observation_space = spaces.Box(low=0, high=np.inf, shape=(self.observation_size,), dtype=np.float32)\n",
    "    \n",
    "    def reset(self):\n",
    "        # Scegli un periodo di L giorni casuale\n",
    "        self.current_period = random.choice(self.periods).reset_index(drop=True)\n",
    "        self.current_step = 0\n",
    "        self.cash = self.initial_cash\n",
    "        self.btc = self.initial_btc\n",
    "        self.initial_price = self.current_period['Price'].iloc[self.current_step]\n",
    "        \n",
    "        # Costruzione delle metriche del portafoglio richieste\n",
    "        self.valore_iniziale = self.cash + self.btc * self.initial_price\n",
    "        self.lista_prezzi = [self.initial_price]\n",
    "        \n",
    "        # Costruzione dell'osservazione iniziale\n",
    "        obs = self.get_observation()\n",
    "        return obs\n",
    "\n",
    "    def step(self, action):\n",
    "        percentage = action[0]\n",
    "        price = self.current_period['Price'].iloc[self.current_step]\n",
    "\n",
    "        # Gestione dell'azione (acquisto, vendita o nessuna azione)\n",
    "        if percentage < 0:  # Vendita\n",
    "            btc_to_sell = -percentage * self.btc\n",
    "            self.btc -= btc_to_sell\n",
    "            self.cash += btc_to_sell * price\n",
    "        elif percentage > 0:  # Acquisto\n",
    "            cash_to_spend = percentage * self.cash\n",
    "            btc_bought = cash_to_spend / price\n",
    "            self.btc += btc_bought\n",
    "            self.cash -= cash_to_spend\n",
    "\n",
    "        # Aggiorna l'indice temporale\n",
    "        self.current_step += 1\n",
    "        done = self.current_step >= len(self.current_period) - 1\n",
    "\n",
    "        # Calcola il valore totale del portafoglio dell’agente\n",
    "        total_value = self.cash + self.btc * price\n",
    "\n",
    "        # Aggiungi il prezzo corrente a lista_prezzi per calcolare il rendimento ideale\n",
    "        self.lista_prezzi.append(price)\n",
    "        \n",
    "        # Calcola il rendimento ideale usando la funzione fornita\n",
    "        rendimento_ideale, _ = calcola_rendimento_portafoglio_ideale(\n",
    "            self.initial_cash, self.initial_btc, pd.Series(self.lista_prezzi), self.min_acquisto,\n",
    "            self.min_vendita, self.perc_commissione_acquisto, self.perc_commissione_vendita\n",
    "        )\n",
    "        \n",
    "        # Calcola il rendimento dell'agente\n",
    "        rendimento_agente = total_value / self.valore_iniziale\n",
    "        \n",
    "        # Calcola il reward come il rapporto tra rendimento dell'agente e rendimento ideale\n",
    "        reward = rendimento_agente / rendimento_ideale if rendimento_ideale != 0 else 0\n",
    "\n",
    "        # Restituisce l'osservazione aggiornata\n",
    "        obs = self.get_observation()\n",
    "        \n",
    "        return obs, reward, done, {}\n",
    "\n",
    "    def get_observation(self):\n",
    "        # Crea l'osservazione in base a L giorni di info_columns e le metriche del portafoglio\n",
    "        obs = self.current_period[self.info_columns].values[:self.current_step + 1].flatten()\n",
    "        obs = np.pad(obs, (0, self.L * self.num_info_columns - len(obs)), mode='constant')\n",
    "        \n",
    "        # Costruisce l'osservazione delle metriche del portafoglio\n",
    "        total_value = self.cash + self.btc * self.current_period['Price'].iloc[self.current_step]\n",
    "        portfolio_obs = []\n",
    "        if 'cash' in self.portfolio_metrics:\n",
    "            portfolio_obs.append(self.cash)\n",
    "        if 'btc' in self.portfolio_metrics:\n",
    "            portfolio_obs.append(self.btc)\n",
    "        if 'total_value' in self.portfolio_metrics:\n",
    "            portfolio_obs.append(total_value)\n",
    "        \n",
    "        # Aggiunge l'osservazione del portafoglio all'osservazione finale\n",
    "        obs = np.append(obs, portfolio_obs)\n",
    "        return obs\n",
    "\n",
    "    def render(self):\n",
    "        total_value = self.cash + self.btc * self.current_period['Price'].iloc[self.current_step]\n",
    "        print(f'Step: {self.current_step}, Cash: {self.cash}, BTC: {self.btc}, Total Value: {total_value}')"
   ]
  },
  {
   "cell_type": "markdown",
   "metadata": {},
   "source": [
    "# Creare gli Ambienti di Addestramento e di Validazione"
   ]
  },
  {
   "cell_type": "code",
   "execution_count": 10,
   "metadata": {},
   "outputs": [],
   "source": [
    "liquidità_iniziale = 1000\n",
    "bitcoin_iniziali = 0\n",
    "L = 30\n",
    "info_columns = ['Price'] #['Price', 'Volume'] # Scegliere tra le colonne presenti nel dataset iniziale\n",
    "portfolio_metrics = [] #['cash', 'btc', 'total_value'] # Scegliere tra 'cash', 'btc' e 'total_value' (o una combinazione di questi)\n",
    "train_env = TradingEnv(periods=train_periods, initial_cash=liquidità_iniziale, initial_btc=bitcoin_iniziali, L=L, info_columns=info_columns, portfolio_metrics=portfolio_metrics)\n",
    "validation_env = TradingEnv(periods=validation_periods, initial_cash=liquidità_iniziale, initial_btc=bitcoin_iniziali, L=L, info_columns=info_columns, portfolio_metrics=portfolio_metrics)"
   ]
  },
  {
   "cell_type": "markdown",
   "metadata": {},
   "source": [
    "# Addestrare l'Agente con Monitoraggio su validation"
   ]
  },
  {
   "cell_type": "code",
   "execution_count": null,
   "metadata": {},
   "outputs": [
    {
     "name": "stdout",
     "output_type": "stream",
     "text": [
      "Using cpu device\n",
      "Wrapping the env with a `Monitor` wrapper\n",
      "Wrapping the env in a DummyVecEnv.\n"
     ]
    },
    {
     "name": "stderr",
     "output_type": "stream",
     "text": [
      "c:\\Users\\Alessandro\\Desktop\\Cartelle\\Mie\\Programmi personali in Python\\Kaggle\\Bitcoin Historical Dataset\\trading_env\\lib\\site-packages\\stable_baselines3\\common\\vec_env\\patch_gym.py:49: UserWarning: You provided an OpenAI Gym environment. We strongly recommend transitioning to Gymnasium environments. Stable-Baselines3 is automatically wrapping your environments in a compatibility layer, which could potentially cause issues.\n",
      "  warnings.warn(\n"
     ]
    },
    {
     "name": "stdout",
     "output_type": "stream",
     "text": [
      "---------------------------------\n",
      "| rollout/           |          |\n",
      "|    ep_len_mean     | 29       |\n",
      "|    ep_rew_mean     | 24.3     |\n",
      "| time/              |          |\n",
      "|    fps             | 246      |\n",
      "|    iterations      | 1        |\n",
      "|    time_elapsed    | 8        |\n",
      "|    total_timesteps | 2048     |\n",
      "---------------------------------\n",
      "Average validation reward at step 1000: 24.75770398508834\n",
      "New best model saved with validation reward: 24.75770398508834\n",
      "---------------------------------\n",
      "| rollout/           |          |\n",
      "|    ep_len_mean     | 29       |\n",
      "|    ep_rew_mean     | 24.8     |\n",
      "| time/              |          |\n",
      "|    fps             | 265      |\n",
      "|    iterations      | 1        |\n",
      "|    time_elapsed    | 7        |\n",
      "|    total_timesteps | 4096     |\n",
      "---------------------------------\n",
      "Average validation reward at step 2000: 24.779008359430037\n",
      "New best model saved with validation reward: 24.779008359430037\n",
      "---------------------------------\n",
      "| rollout/           |          |\n",
      "|    ep_len_mean     | 29       |\n",
      "|    ep_rew_mean     | 24.5     |\n",
      "| time/              |          |\n",
      "|    fps             | 261      |\n",
      "|    iterations      | 1        |\n",
      "|    time_elapsed    | 7        |\n",
      "|    total_timesteps | 6144     |\n",
      "---------------------------------\n",
      "Average validation reward at step 3000: 24.75048783926172\n",
      "no_improvement_count: 1/100\n",
      "best_validation_reward: 24.779008359430037\n",
      "---------------------------------\n",
      "| rollout/           |          |\n",
      "|    ep_len_mean     | 29       |\n",
      "|    ep_rew_mean     | 24.7     |\n",
      "| time/              |          |\n",
      "|    fps             | 263      |\n",
      "|    iterations      | 1        |\n",
      "|    time_elapsed    | 7        |\n",
      "|    total_timesteps | 8192     |\n",
      "---------------------------------\n",
      "Average validation reward at step 4000: 24.742782439402887\n",
      "no_improvement_count: 2/100\n",
      "best_validation_reward: 24.779008359430037\n",
      "---------------------------------\n",
      "| rollout/           |          |\n",
      "|    ep_len_mean     | 29       |\n",
      "|    ep_rew_mean     | 24.9     |\n",
      "| time/              |          |\n",
      "|    fps             | 249      |\n",
      "|    iterations      | 1        |\n",
      "|    time_elapsed    | 8        |\n",
      "|    total_timesteps | 10240    |\n",
      "---------------------------------\n",
      "Average validation reward at step 5000: 24.73995819670688\n",
      "no_improvement_count: 3/100\n",
      "best_validation_reward: 24.779008359430037\n",
      "---------------------------------\n",
      "| rollout/           |          |\n",
      "|    ep_len_mean     | 29       |\n",
      "|    ep_rew_mean     | 24.9     |\n",
      "| time/              |          |\n",
      "|    fps             | 247      |\n",
      "|    iterations      | 1        |\n",
      "|    time_elapsed    | 8        |\n",
      "|    total_timesteps | 12288    |\n",
      "---------------------------------\n",
      "Average validation reward at step 6000: 24.682742273047015\n",
      "no_improvement_count: 4/100\n",
      "best_validation_reward: 24.779008359430037\n",
      "---------------------------------\n",
      "| rollout/           |          |\n",
      "|    ep_len_mean     | 29       |\n",
      "|    ep_rew_mean     | 24.6     |\n",
      "| time/              |          |\n",
      "|    fps             | 210      |\n",
      "|    iterations      | 1        |\n",
      "|    time_elapsed    | 9        |\n",
      "|    total_timesteps | 14336    |\n",
      "---------------------------------\n",
      "Average validation reward at step 7000: 24.698901486253988\n",
      "no_improvement_count: 5/100\n",
      "best_validation_reward: 24.779008359430037\n",
      "---------------------------------\n",
      "| rollout/           |          |\n",
      "|    ep_len_mean     | 29       |\n",
      "|    ep_rew_mean     | 24.4     |\n",
      "| time/              |          |\n",
      "|    fps             | 234      |\n",
      "|    iterations      | 1        |\n",
      "|    time_elapsed    | 8        |\n",
      "|    total_timesteps | 16384    |\n",
      "---------------------------------\n",
      "Average validation reward at step 8000: 24.742783005499298\n",
      "no_improvement_count: 6/100\n",
      "best_validation_reward: 24.779008359430037\n",
      "---------------------------------\n",
      "| rollout/           |          |\n",
      "|    ep_len_mean     | 29       |\n",
      "|    ep_rew_mean     | 25       |\n",
      "| time/              |          |\n",
      "|    fps             | 254      |\n",
      "|    iterations      | 1        |\n",
      "|    time_elapsed    | 8        |\n",
      "|    total_timesteps | 18432    |\n",
      "---------------------------------\n",
      "Average validation reward at step 9000: 24.7853149931963\n",
      "New best model saved with validation reward: 24.7853149931963\n",
      "---------------------------------\n",
      "| rollout/           |          |\n",
      "|    ep_len_mean     | 29       |\n",
      "|    ep_rew_mean     | 24.9     |\n",
      "| time/              |          |\n",
      "|    fps             | 255      |\n",
      "|    iterations      | 1        |\n",
      "|    time_elapsed    | 8        |\n",
      "|    total_timesteps | 20480    |\n",
      "---------------------------------\n",
      "Average validation reward at step 10000: 24.72723878340086\n",
      "no_improvement_count: 1/100\n",
      "best_validation_reward: 24.7853149931963\n",
      "---------------------------------\n",
      "| rollout/           |          |\n",
      "|    ep_len_mean     | 29       |\n",
      "|    ep_rew_mean     | 24.7     |\n",
      "| time/              |          |\n",
      "|    fps             | 263      |\n",
      "|    iterations      | 1        |\n",
      "|    time_elapsed    | 7        |\n",
      "|    total_timesteps | 22528    |\n",
      "---------------------------------\n",
      "Average validation reward at step 11000: 24.754707352423438\n",
      "no_improvement_count: 2/100\n",
      "best_validation_reward: 24.7853149931963\n",
      "---------------------------------\n",
      "| rollout/           |          |\n",
      "|    ep_len_mean     | 29       |\n",
      "|    ep_rew_mean     | 24.6     |\n",
      "| time/              |          |\n",
      "|    fps             | 264      |\n",
      "|    iterations      | 1        |\n",
      "|    time_elapsed    | 7        |\n",
      "|    total_timesteps | 24576    |\n",
      "---------------------------------\n",
      "Average validation reward at step 12000: 24.857394363572432\n",
      "New best model saved with validation reward: 24.857394363572432\n",
      "---------------------------------\n",
      "| rollout/           |          |\n",
      "|    ep_len_mean     | 29       |\n",
      "|    ep_rew_mean     | 25       |\n",
      "| time/              |          |\n",
      "|    fps             | 284      |\n",
      "|    iterations      | 1        |\n",
      "|    time_elapsed    | 7        |\n",
      "|    total_timesteps | 26624    |\n",
      "---------------------------------\n",
      "Average validation reward at step 13000: 24.751246993576306\n",
      "no_improvement_count: 1/100\n",
      "best_validation_reward: 24.857394363572432\n",
      "---------------------------------\n",
      "| rollout/           |          |\n",
      "|    ep_len_mean     | 29       |\n",
      "|    ep_rew_mean     | 24.7     |\n",
      "| time/              |          |\n",
      "|    fps             | 284      |\n",
      "|    iterations      | 1        |\n",
      "|    time_elapsed    | 7        |\n",
      "|    total_timesteps | 28672    |\n",
      "---------------------------------\n",
      "Average validation reward at step 14000: 24.826343095143148\n",
      "no_improvement_count: 2/100\n",
      "best_validation_reward: 24.857394363572432\n",
      "---------------------------------\n",
      "| rollout/           |          |\n",
      "|    ep_len_mean     | 29       |\n",
      "|    ep_rew_mean     | 24.2     |\n",
      "| time/              |          |\n",
      "|    fps             | 279      |\n",
      "|    iterations      | 1        |\n",
      "|    time_elapsed    | 7        |\n",
      "|    total_timesteps | 30720    |\n",
      "---------------------------------\n",
      "Average validation reward at step 15000: 24.790023906563103\n",
      "no_improvement_count: 3/100\n",
      "best_validation_reward: 24.857394363572432\n",
      "---------------------------------\n",
      "| rollout/           |          |\n",
      "|    ep_len_mean     | 29       |\n",
      "|    ep_rew_mean     | 24.7     |\n",
      "| time/              |          |\n",
      "|    fps             | 284      |\n",
      "|    iterations      | 1        |\n",
      "|    time_elapsed    | 7        |\n",
      "|    total_timesteps | 32768    |\n",
      "---------------------------------\n",
      "Average validation reward at step 16000: 24.826472247050575\n",
      "no_improvement_count: 4/100\n",
      "best_validation_reward: 24.857394363572432\n",
      "---------------------------------\n",
      "| rollout/           |          |\n",
      "|    ep_len_mean     | 29       |\n",
      "|    ep_rew_mean     | 24.8     |\n",
      "| time/              |          |\n",
      "|    fps             | 284      |\n",
      "|    iterations      | 1        |\n",
      "|    time_elapsed    | 7        |\n",
      "|    total_timesteps | 34816    |\n",
      "---------------------------------\n",
      "Average validation reward at step 17000: 24.731240453952967\n",
      "no_improvement_count: 5/100\n",
      "best_validation_reward: 24.857394363572432\n",
      "---------------------------------\n",
      "| rollout/           |          |\n",
      "|    ep_len_mean     | 29       |\n",
      "|    ep_rew_mean     | 24.6     |\n",
      "| time/              |          |\n",
      "|    fps             | 283      |\n",
      "|    iterations      | 1        |\n",
      "|    time_elapsed    | 7        |\n",
      "|    total_timesteps | 36864    |\n",
      "---------------------------------\n",
      "Average validation reward at step 18000: 24.81060715011759\n",
      "no_improvement_count: 6/100\n",
      "best_validation_reward: 24.857394363572432\n",
      "---------------------------------\n",
      "| rollout/           |          |\n",
      "|    ep_len_mean     | 29       |\n",
      "|    ep_rew_mean     | 24.3     |\n",
      "| time/              |          |\n",
      "|    fps             | 280      |\n",
      "|    iterations      | 1        |\n",
      "|    time_elapsed    | 7        |\n",
      "|    total_timesteps | 38912    |\n",
      "---------------------------------\n",
      "Average validation reward at step 19000: 24.744453185374553\n",
      "no_improvement_count: 7/100\n",
      "best_validation_reward: 24.857394363572432\n",
      "---------------------------------\n",
      "| rollout/           |          |\n",
      "|    ep_len_mean     | 29       |\n",
      "|    ep_rew_mean     | 24.5     |\n",
      "| time/              |          |\n",
      "|    fps             | 286      |\n",
      "|    iterations      | 1        |\n",
      "|    time_elapsed    | 7        |\n",
      "|    total_timesteps | 40960    |\n",
      "---------------------------------\n",
      "Average validation reward at step 20000: 24.73540712136087\n",
      "no_improvement_count: 8/100\n",
      "best_validation_reward: 24.857394363572432\n",
      "---------------------------------\n",
      "| rollout/           |          |\n",
      "|    ep_len_mean     | 29       |\n",
      "|    ep_rew_mean     | 25       |\n",
      "| time/              |          |\n",
      "|    fps             | 283      |\n",
      "|    iterations      | 1        |\n",
      "|    time_elapsed    | 7        |\n",
      "|    total_timesteps | 43008    |\n",
      "---------------------------------\n",
      "Average validation reward at step 21000: 24.738611044960177\n",
      "no_improvement_count: 9/100\n",
      "best_validation_reward: 24.857394363572432\n",
      "---------------------------------\n",
      "| rollout/           |          |\n",
      "|    ep_len_mean     | 29       |\n",
      "|    ep_rew_mean     | 25       |\n",
      "| time/              |          |\n",
      "|    fps             | 273      |\n",
      "|    iterations      | 1        |\n",
      "|    time_elapsed    | 7        |\n",
      "|    total_timesteps | 45056    |\n",
      "---------------------------------\n",
      "Average validation reward at step 22000: 24.790790201872245\n",
      "no_improvement_count: 10/100\n",
      "best_validation_reward: 24.857394363572432\n",
      "---------------------------------\n",
      "| rollout/           |          |\n",
      "|    ep_len_mean     | 29       |\n",
      "|    ep_rew_mean     | 24.6     |\n",
      "| time/              |          |\n",
      "|    fps             | 261      |\n",
      "|    iterations      | 1        |\n",
      "|    time_elapsed    | 7        |\n",
      "|    total_timesteps | 47104    |\n",
      "---------------------------------\n",
      "Average validation reward at step 23000: 24.782595480662543\n",
      "no_improvement_count: 11/100\n",
      "best_validation_reward: 24.857394363572432\n",
      "---------------------------------\n",
      "| rollout/           |          |\n",
      "|    ep_len_mean     | 29       |\n",
      "|    ep_rew_mean     | 24.6     |\n",
      "| time/              |          |\n",
      "|    fps             | 236      |\n",
      "|    iterations      | 1        |\n",
      "|    time_elapsed    | 8        |\n",
      "|    total_timesteps | 49152    |\n",
      "---------------------------------\n",
      "Average validation reward at step 24000: 24.754204332542223\n",
      "no_improvement_count: 12/100\n",
      "best_validation_reward: 24.857394363572432\n",
      "---------------------------------\n",
      "| rollout/           |          |\n",
      "|    ep_len_mean     | 29       |\n",
      "|    ep_rew_mean     | 24.5     |\n",
      "| time/              |          |\n",
      "|    fps             | 286      |\n",
      "|    iterations      | 1        |\n",
      "|    time_elapsed    | 7        |\n",
      "|    total_timesteps | 51200    |\n",
      "---------------------------------\n",
      "Average validation reward at step 25000: 24.879932177373547\n",
      "New best model saved with validation reward: 24.879932177373547\n",
      "---------------------------------\n",
      "| rollout/           |          |\n",
      "|    ep_len_mean     | 29       |\n",
      "|    ep_rew_mean     | 24.6     |\n",
      "| time/              |          |\n",
      "|    fps             | 286      |\n",
      "|    iterations      | 1        |\n",
      "|    time_elapsed    | 7        |\n",
      "|    total_timesteps | 53248    |\n",
      "---------------------------------\n",
      "Average validation reward at step 26000: 24.68776030798387\n",
      "no_improvement_count: 1/100\n",
      "best_validation_reward: 24.879932177373547\n",
      "---------------------------------\n",
      "| rollout/           |          |\n",
      "|    ep_len_mean     | 29       |\n",
      "|    ep_rew_mean     | 24.5     |\n",
      "| time/              |          |\n",
      "|    fps             | 257      |\n",
      "|    iterations      | 1        |\n",
      "|    time_elapsed    | 7        |\n",
      "|    total_timesteps | 55296    |\n",
      "---------------------------------\n",
      "Average validation reward at step 27000: 24.768900616236948\n",
      "no_improvement_count: 2/100\n",
      "best_validation_reward: 24.879932177373547\n",
      "---------------------------------\n",
      "| rollout/           |          |\n",
      "|    ep_len_mean     | 29       |\n",
      "|    ep_rew_mean     | 24.9     |\n",
      "| time/              |          |\n",
      "|    fps             | 274      |\n",
      "|    iterations      | 1        |\n",
      "|    time_elapsed    | 7        |\n",
      "|    total_timesteps | 57344    |\n",
      "---------------------------------\n",
      "Average validation reward at step 28000: 24.828812562284977\n",
      "no_improvement_count: 3/100\n",
      "best_validation_reward: 24.879932177373547\n",
      "---------------------------------\n",
      "| rollout/           |          |\n",
      "|    ep_len_mean     | 29       |\n",
      "|    ep_rew_mean     | 24.7     |\n",
      "| time/              |          |\n",
      "|    fps             | 281      |\n",
      "|    iterations      | 1        |\n",
      "|    time_elapsed    | 7        |\n",
      "|    total_timesteps | 59392    |\n",
      "---------------------------------\n",
      "Average validation reward at step 29000: 24.744276577854663\n",
      "no_improvement_count: 4/100\n",
      "best_validation_reward: 24.879932177373547\n",
      "---------------------------------\n",
      "| rollout/           |          |\n",
      "|    ep_len_mean     | 29       |\n",
      "|    ep_rew_mean     | 24.9     |\n",
      "| time/              |          |\n",
      "|    fps             | 283      |\n",
      "|    iterations      | 1        |\n",
      "|    time_elapsed    | 7        |\n",
      "|    total_timesteps | 61440    |\n",
      "---------------------------------\n",
      "Average validation reward at step 30000: 24.821328468690517\n",
      "no_improvement_count: 5/100\n",
      "best_validation_reward: 24.879932177373547\n",
      "---------------------------------\n",
      "| rollout/           |          |\n",
      "|    ep_len_mean     | 29       |\n",
      "|    ep_rew_mean     | 24.7     |\n",
      "| time/              |          |\n",
      "|    fps             | 274      |\n",
      "|    iterations      | 1        |\n",
      "|    time_elapsed    | 7        |\n",
      "|    total_timesteps | 63488    |\n",
      "---------------------------------\n",
      "Average validation reward at step 31000: 24.781452206427854\n",
      "no_improvement_count: 6/100\n",
      "best_validation_reward: 24.879932177373547\n",
      "---------------------------------\n",
      "| rollout/           |          |\n",
      "|    ep_len_mean     | 29       |\n",
      "|    ep_rew_mean     | 24.6     |\n",
      "| time/              |          |\n",
      "|    fps             | 419      |\n",
      "|    iterations      | 1        |\n",
      "|    time_elapsed    | 4        |\n",
      "|    total_timesteps | 65536    |\n",
      "---------------------------------\n",
      "Average validation reward at step 32000: 24.711034625936133\n",
      "no_improvement_count: 7/100\n",
      "best_validation_reward: 24.879932177373547\n",
      "---------------------------------\n",
      "| rollout/           |          |\n",
      "|    ep_len_mean     | 29       |\n",
      "|    ep_rew_mean     | 24.8     |\n",
      "| time/              |          |\n",
      "|    fps             | 433      |\n",
      "|    iterations      | 1        |\n",
      "|    time_elapsed    | 4        |\n",
      "|    total_timesteps | 67584    |\n",
      "---------------------------------\n",
      "Average validation reward at step 33000: 24.748057486347655\n",
      "no_improvement_count: 8/100\n",
      "best_validation_reward: 24.879932177373547\n",
      "---------------------------------\n",
      "| rollout/           |          |\n",
      "|    ep_len_mean     | 29       |\n",
      "|    ep_rew_mean     | 24.8     |\n",
      "| time/              |          |\n",
      "|    fps             | 409      |\n",
      "|    iterations      | 1        |\n",
      "|    time_elapsed    | 4        |\n",
      "|    total_timesteps | 69632    |\n",
      "---------------------------------\n",
      "Average validation reward at step 34000: 24.797112148775486\n",
      "no_improvement_count: 9/100\n",
      "best_validation_reward: 24.879932177373547\n",
      "---------------------------------\n",
      "| rollout/           |          |\n",
      "|    ep_len_mean     | 29       |\n",
      "|    ep_rew_mean     | 24.4     |\n",
      "| time/              |          |\n",
      "|    fps             | 363      |\n",
      "|    iterations      | 1        |\n",
      "|    time_elapsed    | 5        |\n",
      "|    total_timesteps | 71680    |\n",
      "---------------------------------\n"
     ]
    }
   ],
   "source": [
    "# Addestramento dell'agente su train_env\n",
    "model = PPO(\"MlpPolicy\", train_env, verbose=1)\n",
    "\n",
    "# Parametri per il training e l'early stopping\n",
    "n_train_steps = 10000000 # Timestep totali di addestramento\n",
    "n_val_timesteps = 1000 # Ogni n_val_timesteps valutiamo l'agente\n",
    "patience = 100 # Numero massimo di valutazioni senza miglioramento prima dello stop\n",
    "best_validation_reward = -np.inf # Reward migliore osservato finora\n",
    "validation_rewards = [] # Lista dei reward di validazione\n",
    "no_improvement_count = 0 # Contatore per tenere traccia delle valutazioni senza miglioramento\n",
    "\n",
    "# Nome del file per i migliori pesi\n",
    "best_model_path = f\"best_model_RL_BTC_{n_train_steps}_{n_val_timesteps}_{patience}_{info_columns}_{portfolio_metrics}.zip\"\n",
    "\n",
    "# Ciclo di training con early stopping e valutazione su tutto il validation set\n",
    "for step in range(0, n_train_steps, n_val_timesteps):\n",
    "    # Training per n_val_timesteps\n",
    "    model.learn(total_timesteps=n_val_timesteps, reset_num_timesteps=False)\n",
    "    \n",
    "    # Valutazione su tutto il validation_env\n",
    "    rewards = []\n",
    "    for period in validation_periods:\n",
    "        validation_env = TradingEnv([period], initial_cash=liquidità_iniziale, initial_btc=bitcoin_iniziali, \n",
    "                                    L=L, info_columns=info_columns, portfolio_metrics=portfolio_metrics)\n",
    "        obs = validation_env.reset()\n",
    "        done = False\n",
    "        total_reward = 0\n",
    "        while not done:\n",
    "            action, _states = model.predict(obs)\n",
    "            obs, reward, done, _ = validation_env.step(action)\n",
    "            total_reward += reward\n",
    "        rewards.append(total_reward)\n",
    "    \n",
    "    # Calcola il reward medio su tutto il validation set\n",
    "    avg_validation_reward = np.mean(rewards)\n",
    "    validation_rewards.append(avg_validation_reward)\n",
    "    print(f\"Average validation reward at step {step + n_val_timesteps}: {avg_validation_reward}\")\n",
    "    \n",
    "    # Early stopping logic (simile al codice precedente)\n",
    "    if avg_validation_reward > best_validation_reward:\n",
    "        best_validation_reward = avg_validation_reward\n",
    "        no_improvement_count = 0\n",
    "        model.save(best_model_path)  # Salva i migliori pesi\n",
    "        print(f\"New best model saved with validation reward: {avg_validation_reward}\")\n",
    "    else:\n",
    "        no_improvement_count += 1\n",
    "        print(f'no_improvement_count: {no_improvement_count}/{patience}\\nbest_validation_reward: {best_validation_reward}')\n",
    "    \n",
    "    if no_improvement_count >= patience:\n",
    "        print(f\"Early stopping at step {step + n_val_timesteps} due to no improvement in validation reward.\")\n",
    "        break\n",
    "\n",
    "# Ripristina i migliori pesi salvati\n",
    "if os.path.exists(best_model_path):\n",
    "    model = model.load(best_model_path)\n",
    "    print(f\"Restored the best model weights from saved file (best_validation_reward: {best_validation_reward}).\")"
   ]
  },
  {
   "cell_type": "markdown",
   "metadata": {},
   "source": [
    "# Test finale sui dati di test"
   ]
  },
  {
   "cell_type": "code",
   "execution_count": null,
   "metadata": {},
   "outputs": [
    {
     "name": "stdout",
     "output_type": "stream",
     "text": [
      "Step: 1, Cash: 0.0, BTC: 3.4591943227324427, Total Value: 1082.5854141669463\n",
      "Step: 2, Cash: 0.0, BTC: 3.4591943227324427, Total Value: 1081.610087740319\n",
      "Step: 3, Cash: 466.06253922086216, BTC: 1.9686378754647818, Total Value: 1074.5781911103245\n",
      "Step: 4, Cash: 0.0, BTC: 3.4764189229967295, Total Value: 1040.4104504638867\n",
      "Step: 5, Cash: 0.0, BTC: 3.4764189229967295, Total Value: 1076.1151442639336\n",
      "Step: 6, Cash: 0.0, BTC: 3.4764189229967295, Total Value: 1094.8562759395736\n",
      "Step: 7, Cash: 0.0, BTC: 3.4764189229967295, Total Value: 1090.033763166022\n",
      "Step: 8, Cash: 0.0, BTC: 3.4764189229967295, Total Value: 1057.283197933811\n",
      "Step: 9, Cash: 776.5825027151567, BTC: 0.9229629397908559, Total Value: 1055.814338243041\n",
      "Step: 10, Cash: 853.0306496281635, BTC: 0.6702739643987721, Total Value: 1058.903125457583\n",
      "Step: 11, Cash: 307.73453518537144, BTC: 2.44563410871286, Total Value: 1054.0404423800387\n",
      "Step: 12, Cash: 1054.0404423800387, BTC: 0.0, Total Value: 1054.0404423800387\n",
      "Step: 13, Cash: 1054.0404423800387, BTC: 0.0, Total Value: 1054.0404423800387\n",
      "Step: 14, Cash: 946.8231288937919, BTC: 0.35651332527861945, Total Value: 1056.981111557578\n",
      "Step: 15, Cash: 473.7976931018463, BTC: 1.887404387166178, Total Value: 1101.5394183474284\n",
      "Step: 16, Cash: 0.0, BTC: 3.3119517903833144, Total Value: 1119.8581463242485\n",
      "Step: 17, Cash: 0.0, BTC: 3.3119517903833144, Total Value: 1117.7908043466944\n",
      "Step: 18, Cash: 0.0, BTC: 3.3119517903833144, Total Value: 1162.1848861624374\n",
      "Step: 19, Cash: 0.0, BTC: 3.3119517903833144, Total Value: 1182.5028330849907\n",
      "Step: 20, Cash: 0.0, BTC: 3.3119517903833144, Total Value: 1130.0289958333576\n",
      "Step: 21, Cash: 0.0, BTC: 3.3119517903833144, Total Value: 1121.4273007293298\n",
      "Step: 22, Cash: 767.2820840184792, BTC: 1.0459098719804443, Total Value: 1113.2161038846502\n",
      "Step: 23, Cash: 718.4412773333377, BTC: 1.1935769961541236, Total Value: 1116.6836985770294\n",
      "Step: 24, Cash: 860.6906679137263, BTC: 0.7672396918974279, Total Value: 1134.845115301233\n",
      "Step: 25, Cash: 944.5100600621554, BTC: 0.5326654757217869, Total Value: 1134.868799798246\n",
      "Step: 26, Cash: 780.4897409524799, BTC: 0.9916302777987478, Total Value: 1142.6220242987524\n",
      "Step: 27, Cash: 846.9075556235214, BTC: 0.8097577438052703, Total Value: 1155.8547973067505\n",
      "Step: 28, Cash: 758.2472262959093, BTC: 1.042138482504245, Total Value: 1153.3788597151538\n",
      "Step: 29, Cash: 894.4244333603259, BTC: 0.6829784054086165, Total Value: 1153.6872713199157\n",
      "Total return on test data: 1.1536872713199158\n",
      "Ideal return on test data: 1.5666620552090742\n",
      "Agent's final portfolio value: 1153.6872713199157\n",
      "Ideal final portfolio value: 1566.6620552090742\n",
      "Punteggio rendimento: 0.736398298206025\n"
     ]
    }
   ],
   "source": [
    "# Test finale su test_periods\n",
    "test_env = TradingEnv(\n",
    "    periods=test_periods, \n",
    "    initial_cash=liquidità_iniziale, \n",
    "    initial_btc=bitcoin_iniziali, \n",
    "    L=L, \n",
    "    info_columns=info_columns, \n",
    "    portfolio_metrics=portfolio_metrics\n",
    ")\n",
    "\n",
    "obs = test_env.reset()\n",
    "done = False\n",
    "lista_prezzi_test = [test_env.current_period['Price'].iloc[0]]  # Lista per registrare i prezzi durante il test\n",
    "\n",
    "while not done:\n",
    "    action, _states = model.predict(obs)\n",
    "    obs, reward, done, _ = test_env.step(action)\n",
    "    lista_prezzi_test.append(test_env.current_period['Price'].iloc[test_env.current_step])\n",
    "    test_env.render()\n",
    "\n",
    "# Calcola il rendimento finale del portafoglio dell'agente\n",
    "final_value = test_env.cash + test_env.btc * test_env.current_period['Price'].iloc[test_env.current_step]\n",
    "total_return = final_value / test_env.valore_iniziale  # Rendimento complessivo dell'agente\n",
    "\n",
    "# Calcola il rendimento ideale usando la funzione `calcola_rendimento_portafoglio_ideale`\n",
    "rendimento_ideale, valore_finale_ideale = calcola_rendimento_portafoglio_ideale(\n",
    "    capitale_iniziale=liquidità_iniziale, \n",
    "    bitcoin_iniziali=bitcoin_iniziali, \n",
    "    lista_prezzi=pd.Series(lista_prezzi_test), \n",
    "    min_acquisto=10, \n",
    "    min_vendita=10, \n",
    "    perc_commissione_acquisto=0.001, \n",
    "    perc_commissione_vendita=0.001\n",
    ")\n",
    "\n",
    "# Stampa i risultati finali\n",
    "print(f\"Total return on test data: {total_return}\")\n",
    "print(f\"Ideal return on test data: {rendimento_ideale}\")\n",
    "print(f\"Agent's final portfolio value: {final_value}\")\n",
    "print(f\"Ideal final portfolio value: {valore_finale_ideale}\")\n",
    "print(f'Punteggio rendimento:', total_return / rendimento_ideale)"
   ]
  },
  {
   "cell_type": "code",
   "execution_count": null,
   "metadata": {},
   "outputs": [
    {
     "data": {
      "application/vnd.plotly.v1+json": {
       "config": {
        "plotlyServerURL": "https://plot.ly"
       },
       "data": [
        {
         "line": {
          "color": "blue",
          "width": 2
         },
         "mode": "lines",
         "name": "Prezzo BTC",
         "type": "scatter",
         "x": [
          "2015-11-11T00:00:00",
          "2015-11-12T00:00:00",
          "2015-11-13T00:00:00",
          "2015-11-14T00:00:00",
          "2015-11-15T00:00:00",
          "2015-11-16T00:00:00",
          "2015-11-17T00:00:00",
          "2015-11-18T00:00:00",
          "2015-11-19T00:00:00",
          "2015-11-20T00:00:00",
          "2015-11-21T00:00:00",
          "2015-11-22T00:00:00",
          "2015-11-23T00:00:00",
          "2015-11-24T00:00:00",
          "2015-11-25T00:00:00",
          "2015-11-26T00:00:00",
          "2015-11-27T00:00:00",
          "2015-11-28T00:00:00",
          "2015-11-29T00:00:00",
          "2015-11-30T00:00:00",
          "2015-12-01T00:00:00",
          "2015-12-02T00:00:00",
          "2015-12-03T00:00:00",
          "2015-12-04T00:00:00",
          "2015-12-05T00:00:00",
          "2015-12-06T00:00:00",
          "2015-12-07T00:00:00",
          "2015-12-08T00:00:00",
          "2015-12-09T00:00:00",
          "2015-12-10T00:00:00"
         ],
         "y": [
          289.08465576171875,
          312.9588317871094,
          312.6768798828125,
          309.1049194335937,
          299.2764892578125,
          309.5470275878906,
          314.9379577636719,
          313.5507507324219,
          304.1299743652344,
          302.5385131835937,
          307.1467590332031,
          305.158447265625,
          303.75738525390625,
          300.73858642578125,
          308.98699951171875,
          332.5952453613281,
          338.1263427734375,
          337.50213623046875,
          350.9063415527344,
          357.04107666015625,
          341.1972961425781,
          338.6001281738281,
          330.7493591308594,
          333.6545715332031,
          357.32568359375,
          357.3701477050781,
          365.1888122558594,
          381.5304565429688,
          379.1546325683594,
          379.606201171875
         ]
        }
       ],
       "layout": {
        "height": 600,
        "hovermode": "x unified",
        "template": {
         "data": {
          "bar": [
           {
            "error_x": {
             "color": "#2a3f5f"
            },
            "error_y": {
             "color": "#2a3f5f"
            },
            "marker": {
             "line": {
              "color": "white",
              "width": 0.5
             },
             "pattern": {
              "fillmode": "overlay",
              "size": 10,
              "solidity": 0.2
             }
            },
            "type": "bar"
           }
          ],
          "barpolar": [
           {
            "marker": {
             "line": {
              "color": "white",
              "width": 0.5
             },
             "pattern": {
              "fillmode": "overlay",
              "size": 10,
              "solidity": 0.2
             }
            },
            "type": "barpolar"
           }
          ],
          "carpet": [
           {
            "aaxis": {
             "endlinecolor": "#2a3f5f",
             "gridcolor": "#C8D4E3",
             "linecolor": "#C8D4E3",
             "minorgridcolor": "#C8D4E3",
             "startlinecolor": "#2a3f5f"
            },
            "baxis": {
             "endlinecolor": "#2a3f5f",
             "gridcolor": "#C8D4E3",
             "linecolor": "#C8D4E3",
             "minorgridcolor": "#C8D4E3",
             "startlinecolor": "#2a3f5f"
            },
            "type": "carpet"
           }
          ],
          "choropleth": [
           {
            "colorbar": {
             "outlinewidth": 0,
             "ticks": ""
            },
            "type": "choropleth"
           }
          ],
          "contour": [
           {
            "colorbar": {
             "outlinewidth": 0,
             "ticks": ""
            },
            "colorscale": [
             [
              0,
              "#0d0887"
             ],
             [
              0.1111111111111111,
              "#46039f"
             ],
             [
              0.2222222222222222,
              "#7201a8"
             ],
             [
              0.3333333333333333,
              "#9c179e"
             ],
             [
              0.4444444444444444,
              "#bd3786"
             ],
             [
              0.5555555555555556,
              "#d8576b"
             ],
             [
              0.6666666666666666,
              "#ed7953"
             ],
             [
              0.7777777777777778,
              "#fb9f3a"
             ],
             [
              0.8888888888888888,
              "#fdca26"
             ],
             [
              1,
              "#f0f921"
             ]
            ],
            "type": "contour"
           }
          ],
          "contourcarpet": [
           {
            "colorbar": {
             "outlinewidth": 0,
             "ticks": ""
            },
            "type": "contourcarpet"
           }
          ],
          "heatmap": [
           {
            "colorbar": {
             "outlinewidth": 0,
             "ticks": ""
            },
            "colorscale": [
             [
              0,
              "#0d0887"
             ],
             [
              0.1111111111111111,
              "#46039f"
             ],
             [
              0.2222222222222222,
              "#7201a8"
             ],
             [
              0.3333333333333333,
              "#9c179e"
             ],
             [
              0.4444444444444444,
              "#bd3786"
             ],
             [
              0.5555555555555556,
              "#d8576b"
             ],
             [
              0.6666666666666666,
              "#ed7953"
             ],
             [
              0.7777777777777778,
              "#fb9f3a"
             ],
             [
              0.8888888888888888,
              "#fdca26"
             ],
             [
              1,
              "#f0f921"
             ]
            ],
            "type": "heatmap"
           }
          ],
          "heatmapgl": [
           {
            "colorbar": {
             "outlinewidth": 0,
             "ticks": ""
            },
            "colorscale": [
             [
              0,
              "#0d0887"
             ],
             [
              0.1111111111111111,
              "#46039f"
             ],
             [
              0.2222222222222222,
              "#7201a8"
             ],
             [
              0.3333333333333333,
              "#9c179e"
             ],
             [
              0.4444444444444444,
              "#bd3786"
             ],
             [
              0.5555555555555556,
              "#d8576b"
             ],
             [
              0.6666666666666666,
              "#ed7953"
             ],
             [
              0.7777777777777778,
              "#fb9f3a"
             ],
             [
              0.8888888888888888,
              "#fdca26"
             ],
             [
              1,
              "#f0f921"
             ]
            ],
            "type": "heatmapgl"
           }
          ],
          "histogram": [
           {
            "marker": {
             "pattern": {
              "fillmode": "overlay",
              "size": 10,
              "solidity": 0.2
             }
            },
            "type": "histogram"
           }
          ],
          "histogram2d": [
           {
            "colorbar": {
             "outlinewidth": 0,
             "ticks": ""
            },
            "colorscale": [
             [
              0,
              "#0d0887"
             ],
             [
              0.1111111111111111,
              "#46039f"
             ],
             [
              0.2222222222222222,
              "#7201a8"
             ],
             [
              0.3333333333333333,
              "#9c179e"
             ],
             [
              0.4444444444444444,
              "#bd3786"
             ],
             [
              0.5555555555555556,
              "#d8576b"
             ],
             [
              0.6666666666666666,
              "#ed7953"
             ],
             [
              0.7777777777777778,
              "#fb9f3a"
             ],
             [
              0.8888888888888888,
              "#fdca26"
             ],
             [
              1,
              "#f0f921"
             ]
            ],
            "type": "histogram2d"
           }
          ],
          "histogram2dcontour": [
           {
            "colorbar": {
             "outlinewidth": 0,
             "ticks": ""
            },
            "colorscale": [
             [
              0,
              "#0d0887"
             ],
             [
              0.1111111111111111,
              "#46039f"
             ],
             [
              0.2222222222222222,
              "#7201a8"
             ],
             [
              0.3333333333333333,
              "#9c179e"
             ],
             [
              0.4444444444444444,
              "#bd3786"
             ],
             [
              0.5555555555555556,
              "#d8576b"
             ],
             [
              0.6666666666666666,
              "#ed7953"
             ],
             [
              0.7777777777777778,
              "#fb9f3a"
             ],
             [
              0.8888888888888888,
              "#fdca26"
             ],
             [
              1,
              "#f0f921"
             ]
            ],
            "type": "histogram2dcontour"
           }
          ],
          "mesh3d": [
           {
            "colorbar": {
             "outlinewidth": 0,
             "ticks": ""
            },
            "type": "mesh3d"
           }
          ],
          "parcoords": [
           {
            "line": {
             "colorbar": {
              "outlinewidth": 0,
              "ticks": ""
             }
            },
            "type": "parcoords"
           }
          ],
          "pie": [
           {
            "automargin": true,
            "type": "pie"
           }
          ],
          "scatter": [
           {
            "fillpattern": {
             "fillmode": "overlay",
             "size": 10,
             "solidity": 0.2
            },
            "type": "scatter"
           }
          ],
          "scatter3d": [
           {
            "line": {
             "colorbar": {
              "outlinewidth": 0,
              "ticks": ""
             }
            },
            "marker": {
             "colorbar": {
              "outlinewidth": 0,
              "ticks": ""
             }
            },
            "type": "scatter3d"
           }
          ],
          "scattercarpet": [
           {
            "marker": {
             "colorbar": {
              "outlinewidth": 0,
              "ticks": ""
             }
            },
            "type": "scattercarpet"
           }
          ],
          "scattergeo": [
           {
            "marker": {
             "colorbar": {
              "outlinewidth": 0,
              "ticks": ""
             }
            },
            "type": "scattergeo"
           }
          ],
          "scattergl": [
           {
            "marker": {
             "colorbar": {
              "outlinewidth": 0,
              "ticks": ""
             }
            },
            "type": "scattergl"
           }
          ],
          "scattermapbox": [
           {
            "marker": {
             "colorbar": {
              "outlinewidth": 0,
              "ticks": ""
             }
            },
            "type": "scattermapbox"
           }
          ],
          "scatterpolar": [
           {
            "marker": {
             "colorbar": {
              "outlinewidth": 0,
              "ticks": ""
             }
            },
            "type": "scatterpolar"
           }
          ],
          "scatterpolargl": [
           {
            "marker": {
             "colorbar": {
              "outlinewidth": 0,
              "ticks": ""
             }
            },
            "type": "scatterpolargl"
           }
          ],
          "scatterternary": [
           {
            "marker": {
             "colorbar": {
              "outlinewidth": 0,
              "ticks": ""
             }
            },
            "type": "scatterternary"
           }
          ],
          "surface": [
           {
            "colorbar": {
             "outlinewidth": 0,
             "ticks": ""
            },
            "colorscale": [
             [
              0,
              "#0d0887"
             ],
             [
              0.1111111111111111,
              "#46039f"
             ],
             [
              0.2222222222222222,
              "#7201a8"
             ],
             [
              0.3333333333333333,
              "#9c179e"
             ],
             [
              0.4444444444444444,
              "#bd3786"
             ],
             [
              0.5555555555555556,
              "#d8576b"
             ],
             [
              0.6666666666666666,
              "#ed7953"
             ],
             [
              0.7777777777777778,
              "#fb9f3a"
             ],
             [
              0.8888888888888888,
              "#fdca26"
             ],
             [
              1,
              "#f0f921"
             ]
            ],
            "type": "surface"
           }
          ],
          "table": [
           {
            "cells": {
             "fill": {
              "color": "#EBF0F8"
             },
             "line": {
              "color": "white"
             }
            },
            "header": {
             "fill": {
              "color": "#C8D4E3"
             },
             "line": {
              "color": "white"
             }
            },
            "type": "table"
           }
          ]
         },
         "layout": {
          "annotationdefaults": {
           "arrowcolor": "#2a3f5f",
           "arrowhead": 0,
           "arrowwidth": 1
          },
          "autotypenumbers": "strict",
          "coloraxis": {
           "colorbar": {
            "outlinewidth": 0,
            "ticks": ""
           }
          },
          "colorscale": {
           "diverging": [
            [
             0,
             "#8e0152"
            ],
            [
             0.1,
             "#c51b7d"
            ],
            [
             0.2,
             "#de77ae"
            ],
            [
             0.3,
             "#f1b6da"
            ],
            [
             0.4,
             "#fde0ef"
            ],
            [
             0.5,
             "#f7f7f7"
            ],
            [
             0.6,
             "#e6f5d0"
            ],
            [
             0.7,
             "#b8e186"
            ],
            [
             0.8,
             "#7fbc41"
            ],
            [
             0.9,
             "#4d9221"
            ],
            [
             1,
             "#276419"
            ]
           ],
           "sequential": [
            [
             0,
             "#0d0887"
            ],
            [
             0.1111111111111111,
             "#46039f"
            ],
            [
             0.2222222222222222,
             "#7201a8"
            ],
            [
             0.3333333333333333,
             "#9c179e"
            ],
            [
             0.4444444444444444,
             "#bd3786"
            ],
            [
             0.5555555555555556,
             "#d8576b"
            ],
            [
             0.6666666666666666,
             "#ed7953"
            ],
            [
             0.7777777777777778,
             "#fb9f3a"
            ],
            [
             0.8888888888888888,
             "#fdca26"
            ],
            [
             1,
             "#f0f921"
            ]
           ],
           "sequentialminus": [
            [
             0,
             "#0d0887"
            ],
            [
             0.1111111111111111,
             "#46039f"
            ],
            [
             0.2222222222222222,
             "#7201a8"
            ],
            [
             0.3333333333333333,
             "#9c179e"
            ],
            [
             0.4444444444444444,
             "#bd3786"
            ],
            [
             0.5555555555555556,
             "#d8576b"
            ],
            [
             0.6666666666666666,
             "#ed7953"
            ],
            [
             0.7777777777777778,
             "#fb9f3a"
            ],
            [
             0.8888888888888888,
             "#fdca26"
            ],
            [
             1,
             "#f0f921"
            ]
           ]
          },
          "colorway": [
           "#636efa",
           "#EF553B",
           "#00cc96",
           "#ab63fa",
           "#FFA15A",
           "#19d3f3",
           "#FF6692",
           "#B6E880",
           "#FF97FF",
           "#FECB52"
          ],
          "font": {
           "color": "#2a3f5f"
          },
          "geo": {
           "bgcolor": "white",
           "lakecolor": "white",
           "landcolor": "white",
           "showlakes": true,
           "showland": true,
           "subunitcolor": "#C8D4E3"
          },
          "hoverlabel": {
           "align": "left"
          },
          "hovermode": "closest",
          "mapbox": {
           "style": "light"
          },
          "paper_bgcolor": "white",
          "plot_bgcolor": "white",
          "polar": {
           "angularaxis": {
            "gridcolor": "#EBF0F8",
            "linecolor": "#EBF0F8",
            "ticks": ""
           },
           "bgcolor": "white",
           "radialaxis": {
            "gridcolor": "#EBF0F8",
            "linecolor": "#EBF0F8",
            "ticks": ""
           }
          },
          "scene": {
           "xaxis": {
            "backgroundcolor": "white",
            "gridcolor": "#DFE8F3",
            "gridwidth": 2,
            "linecolor": "#EBF0F8",
            "showbackground": true,
            "ticks": "",
            "zerolinecolor": "#EBF0F8"
           },
           "yaxis": {
            "backgroundcolor": "white",
            "gridcolor": "#DFE8F3",
            "gridwidth": 2,
            "linecolor": "#EBF0F8",
            "showbackground": true,
            "ticks": "",
            "zerolinecolor": "#EBF0F8"
           },
           "zaxis": {
            "backgroundcolor": "white",
            "gridcolor": "#DFE8F3",
            "gridwidth": 2,
            "linecolor": "#EBF0F8",
            "showbackground": true,
            "ticks": "",
            "zerolinecolor": "#EBF0F8"
           }
          },
          "shapedefaults": {
           "line": {
            "color": "#2a3f5f"
           }
          },
          "ternary": {
           "aaxis": {
            "gridcolor": "#DFE8F3",
            "linecolor": "#A2B1C6",
            "ticks": ""
           },
           "baxis": {
            "gridcolor": "#DFE8F3",
            "linecolor": "#A2B1C6",
            "ticks": ""
           },
           "bgcolor": "white",
           "caxis": {
            "gridcolor": "#DFE8F3",
            "linecolor": "#A2B1C6",
            "ticks": ""
           }
          },
          "title": {
           "x": 0.05
          },
          "xaxis": {
           "automargin": true,
           "gridcolor": "#EBF0F8",
           "linecolor": "#EBF0F8",
           "ticks": "",
           "title": {
            "standoff": 15
           },
           "zerolinecolor": "#EBF0F8",
           "zerolinewidth": 2
          },
          "yaxis": {
           "automargin": true,
           "gridcolor": "#EBF0F8",
           "linecolor": "#EBF0F8",
           "ticks": "",
           "title": {
            "standoff": 15
           },
           "zerolinecolor": "#EBF0F8",
           "zerolinewidth": 2
          }
         }
        },
        "title": {
         "text": "Andamento dei Prezzi di BTC durante il periodo di test"
        },
        "width": 1000,
        "xaxis": {
         "title": {
          "text": "Data"
         }
        },
        "yaxis": {
         "title": {
          "text": "Prezzo (€)"
         }
        }
       }
      }
     },
     "metadata": {},
     "output_type": "display_data"
    }
   ],
   "source": [
    "# Estrai i prezzi e le date dal periodo di test\n",
    "test_dates = test_env.current_period['Timestamp']  # Assicurati che ci sia una colonna 'Timestamp' nei dati\n",
    "test_prices = test_env.current_period['Price']\n",
    "\n",
    "# Crea la figura dell'andamento dei prezzi\n",
    "fig = go.Figure()\n",
    "\n",
    "# Aggiungi una linea per l'andamento dei prezzi di test\n",
    "fig.add_trace(go.Scatter(\n",
    "    x=test_dates, \n",
    "    y=test_prices, \n",
    "    mode='lines',\n",
    "    name='Prezzo BTC',\n",
    "    line=dict(color='blue', width=2)\n",
    "))\n",
    "\n",
    "# Configurazione del layout del grafico\n",
    "fig.update_layout(\n",
    "    title=\"Andamento dei Prezzi di BTC durante il periodo di test\",\n",
    "    xaxis_title=\"Data\",\n",
    "    yaxis_title=\"Prezzo (€)\",\n",
    "    template=\"plotly_white\",\n",
    "    hovermode=\"x unified\",\n",
    "    width=1000,\n",
    "    height=600\n",
    ")\n",
    "\n",
    "# Mostra il grafico\n",
    "fig.show()"
   ]
  },
  {
   "cell_type": "markdown",
   "metadata": {},
   "source": [
    "# Funzione per sapere cosa fare oggi in base al passato"
   ]
  },
  {
   "cell_type": "code",
   "execution_count": null,
   "metadata": {},
   "outputs": [
    {
     "name": "stdout",
     "output_type": "stream",
     "text": [
      "Azione consigliata per oggi: 0.56311214\n"
     ]
    }
   ],
   "source": [
    "def get_trading_action(model, new_data):\n",
    "    new_env = TradingEnv(periods=[new_data], initial_cash=liquidità_iniziale, initial_btc=bitcoin_iniziali, \n",
    "                                    L=L, info_columns=info_columns, portfolio_metrics=portfolio_metrics)\n",
    "    obs = new_env.reset()\n",
    "    action, _states = model.predict(obs)\n",
    "    return action[0]\n",
    "\n",
    "# Esempio di utilizzo su nuovi dati\n",
    "new_data = dati.iloc[-L:]\n",
    "\n",
    "action_today = get_trading_action(model, new_data)\n",
    "print(\"Azione consigliata per oggi:\", action_today)"
   ]
  },
  {
   "cell_type": "code",
   "execution_count": null,
   "metadata": {},
   "outputs": [
    {
     "data": {
      "image/png": "[encoded data removed]",
      "text/plain": [
       "<Figure size 640x480 with 1 Axes>"
      ]
     },
     "metadata": {},
     "output_type": "display_data"
    }
   ],
   "source": [
    "plt.grid()\n",
    "plt.plot(new_data['Timestamp'], new_data['Price']);"
   ]
  },
  {
   "cell_type": "markdown",
   "metadata": {},
   "source": [
    "# Funzione per testare l'agente su più giorni (simulazione classica)"
   ]
  },
  {
   "cell_type": "code",
   "execution_count": null,
   "metadata": {},
   "outputs": [],
   "source": [
    "# Funzione per simulare il trading su dati di test\n",
    "def simulate_trading_on_test_data(model, dati_test_custom, L=30, initial_cash=1000, initial_btc=0):\n",
    "    # Inizializza le variabili di portafoglio\n",
    "    cash = initial_cash\n",
    "    btc = initial_btc\n",
    "    \n",
    "    # Lista per accumulare i dati del log\n",
    "    log_data = []\n",
    "    \n",
    "    # Ciclo su ogni giorno da L in poi per simulare le operazioni di trading\n",
    "    for i in range(L, len(dati_test_custom)):\n",
    "        # Crea la finestra dei dati passati di lunghezza L\n",
    "        historical_data = dati_test_custom.iloc[i-L:i]\n",
    "        \n",
    "        # Estrarre il prezzo del giorno corrente\n",
    "        current_price = dati_test_custom.iloc[i]['Price']\n",
    "        current_timestamp = dati_test_custom.iloc[i]['Timestamp']\n",
    "        \n",
    "        # Usa il modello per prevedere l'azione da compiere oggi\n",
    "        action = get_trading_action(model, historical_data)\n",
    "        \n",
    "        # Determina l'azione (acquisto, vendita o nulla)\n",
    "        if action > 0:  # Acquisto\n",
    "            cash_spent = action * cash\n",
    "            btc_bought = cash_spent / current_price\n",
    "            cash -= cash_spent\n",
    "            btc += btc_bought\n",
    "            action_type = 'Acquisto'\n",
    "        elif action < 0:  # Vendita\n",
    "            btc_sold = -action * btc\n",
    "            cash_earned = btc_sold * current_price\n",
    "            btc -= btc_sold\n",
    "            cash += cash_earned\n",
    "            action_type = 'Vendita'\n",
    "        else:\n",
    "            # Nessuna azione\n",
    "            action_type = '-'\n",
    "            cash_spent = 0\n",
    "            btc_bought = 0\n",
    "            cash_earned = 0\n",
    "            btc_sold = 0\n",
    "\n",
    "        # Calcola il valore totale del portafoglio alla fine della giornata\n",
    "        total_value = cash + btc * current_price\n",
    "        \n",
    "        # Aggiungi una nuova riga al log\n",
    "        log_data.append({\n",
    "            'Timestamp': current_timestamp,\n",
    "            'prezzo': current_price,\n",
    "            'Azione': action_type,\n",
    "            'Percentuale': action,\n",
    "            'Liquidità spesa/guadagnata': cash_spent if action_type == 'Acquisto' else cash_earned if action_type == 'Vendita' else '-',\n",
    "            'Bitcoin spesi/guadagnati': btc_bought if action_type == 'Acquisto' else btc_sold if action_type == 'Vendita' else '-',\n",
    "            'Liquidità posseduta': cash,\n",
    "            'bitcoin': btc,\n",
    "            'valore_totale_portafoglio': total_value\n",
    "        })\n",
    "        \n",
    "    # Converti i dati del log in un DataFrame\n",
    "    log_df = pd.DataFrame(log_data)\n",
    "    \n",
    "    return log_df"
   ]
  },
  {
   "cell_type": "code",
   "execution_count": null,
   "metadata": {},
   "outputs": [
    {
     "data": {
      "text/html": [
       "<div>\n",
       "<style scoped>\n",
       "    .dataframe tbody tr th:only-of-type {\n",
       "        vertical-align: middle;\n",
       "    }\n",
       "\n",
       "    .dataframe tbody tr th {\n",
       "        vertical-align: top;\n",
       "    }\n",
       "\n",
       "    .dataframe thead th {\n",
       "        text-align: right;\n",
       "    }\n",
       "</style>\n",
       "<table border=\"1\" class=\"dataframe\">\n",
       "  <thead>\n",
       "    <tr style=\"text-align: right;\">\n",
       "      <th></th>\n",
       "      <th>Timestamp</th>\n",
       "      <th>Price</th>\n",
       "      <th>Open</th>\n",
       "      <th>High</th>\n",
       "      <th>Low</th>\n",
       "      <th>Volume</th>\n",
       "    </tr>\n",
       "  </thead>\n",
       "  <tbody>\n",
       "    <tr>\n",
       "      <th>0</th>\n",
       "      <td>2014-09-17</td>\n",
       "      <td>355.957367</td>\n",
       "      <td>359.546204</td>\n",
       "      <td>361.468506</td>\n",
       "      <td>351.586884</td>\n",
       "      <td>16389166</td>\n",
       "    </tr>\n",
       "    <tr>\n",
       "      <th>1</th>\n",
       "      <td>2014-09-18</td>\n",
       "      <td>328.539368</td>\n",
       "      <td>355.588409</td>\n",
       "      <td>355.505402</td>\n",
       "      <td>319.789459</td>\n",
       "      <td>26691849</td>\n",
       "    </tr>\n",
       "    <tr>\n",
       "      <th>2</th>\n",
       "      <td>2014-09-19</td>\n",
       "      <td>307.761139</td>\n",
       "      <td>328.278503</td>\n",
       "      <td>330.936707</td>\n",
       "      <td>298.921021</td>\n",
       "      <td>29560103</td>\n",
       "    </tr>\n",
       "    <tr>\n",
       "      <th>3</th>\n",
       "      <td>2014-09-20</td>\n",
       "      <td>318.758972</td>\n",
       "      <td>307.665253</td>\n",
       "      <td>329.978180</td>\n",
       "      <td>303.931244</td>\n",
       "      <td>28736826</td>\n",
       "    </tr>\n",
       "    <tr>\n",
       "      <th>4</th>\n",
       "      <td>2014-09-21</td>\n",
       "      <td>310.632446</td>\n",
       "      <td>318.120514</td>\n",
       "      <td>321.504517</td>\n",
       "      <td>306.502197</td>\n",
       "      <td>20702625</td>\n",
       "    </tr>\n",
       "    <tr>\n",
       "      <th>...</th>\n",
       "      <td>...</td>\n",
       "      <td>...</td>\n",
       "      <td>...</td>\n",
       "      <td>...</td>\n",
       "      <td>...</td>\n",
       "      <td>...</td>\n",
       "    </tr>\n",
       "    <tr>\n",
       "      <th>3388</th>\n",
       "      <td>2023-12-27</td>\n",
       "      <td>38504.562500</td>\n",
       "      <td>39568.429688</td>\n",
       "      <td>39571.453125</td>\n",
       "      <td>37778.320312</td>\n",
       "      <td>27190965041</td>\n",
       "    </tr>\n",
       "    <tr>\n",
       "      <th>3389</th>\n",
       "      <td>2023-12-28</td>\n",
       "      <td>39108.300781</td>\n",
       "      <td>38502.812500</td>\n",
       "      <td>39345.335938</td>\n",
       "      <td>38217.789062</td>\n",
       "      <td>22740505379</td>\n",
       "    </tr>\n",
       "    <tr>\n",
       "      <th>3390</th>\n",
       "      <td>2023-12-29</td>\n",
       "      <td>38515.289062</td>\n",
       "      <td>39131.113281</td>\n",
       "      <td>39415.761719</td>\n",
       "      <td>38211.789062</td>\n",
       "      <td>20773907848</td>\n",
       "    </tr>\n",
       "    <tr>\n",
       "      <th>3391</th>\n",
       "      <td>2023-12-30</td>\n",
       "      <td>38080.046875</td>\n",
       "      <td>38503.351562</td>\n",
       "      <td>38997.976562</td>\n",
       "      <td>37469.179688</td>\n",
       "      <td>23517721045</td>\n",
       "    </tr>\n",
       "    <tr>\n",
       "      <th>3392</th>\n",
       "      <td>2023-12-31</td>\n",
       "      <td>38132.054688</td>\n",
       "      <td>38073.125000</td>\n",
       "      <td>38518.488281</td>\n",
       "      <td>37588.726562</td>\n",
       "      <td>14485028393</td>\n",
       "    </tr>\n",
       "  </tbody>\n",
       "</table>\n",
       "<p>3393 rows × 6 columns</p>\n",
       "</div>"
      ],
      "text/plain": [
       "      Timestamp         Price          Open          High           Low  \\\n",
       "0    2014-09-17    355.957367    359.546204    361.468506    351.586884   \n",
       "1    2014-09-18    328.539368    355.588409    355.505402    319.789459   \n",
       "2    2014-09-19    307.761139    328.278503    330.936707    298.921021   \n",
       "3    2014-09-20    318.758972    307.665253    329.978180    303.931244   \n",
       "4    2014-09-21    310.632446    318.120514    321.504517    306.502197   \n",
       "...         ...           ...           ...           ...           ...   \n",
       "3388 2023-12-27  38504.562500  39568.429688  39571.453125  37778.320312   \n",
       "3389 2023-12-28  39108.300781  38502.812500  39345.335938  38217.789062   \n",
       "3390 2023-12-29  38515.289062  39131.113281  39415.761719  38211.789062   \n",
       "3391 2023-12-30  38080.046875  38503.351562  38997.976562  37469.179688   \n",
       "3392 2023-12-31  38132.054688  38073.125000  38518.488281  37588.726562   \n",
       "\n",
       "           Volume  \n",
       "0        16389166  \n",
       "1        26691849  \n",
       "2        29560103  \n",
       "3        28736826  \n",
       "4        20702625  \n",
       "...           ...  \n",
       "3388  27190965041  \n",
       "3389  22740505379  \n",
       "3390  20773907848  \n",
       "3391  23517721045  \n",
       "3392  14485028393  \n",
       "\n",
       "[3393 rows x 6 columns]"
      ]
     },
     "execution_count": 43,
     "metadata": {},
     "output_type": "execute_result"
    }
   ],
   "source": [
    "dati"
   ]
  },
  {
   "cell_type": "code",
   "execution_count": null,
   "metadata": {},
   "outputs": [
    {
     "data": {
      "text/html": [
       "<div>\n",
       "<style scoped>\n",
       "    .dataframe tbody tr th:only-of-type {\n",
       "        vertical-align: middle;\n",
       "    }\n",
       "\n",
       "    .dataframe tbody tr th {\n",
       "        vertical-align: top;\n",
       "    }\n",
       "\n",
       "    .dataframe thead th {\n",
       "        text-align: right;\n",
       "    }\n",
       "</style>\n",
       "<table border=\"1\" class=\"dataframe\">\n",
       "  <thead>\n",
       "    <tr style=\"text-align: right;\">\n",
       "      <th></th>\n",
       "      <th>Timestamp</th>\n",
       "      <th>prezzo</th>\n",
       "      <th>Azione</th>\n",
       "      <th>Percentuale</th>\n",
       "      <th>Liquidità spesa/guadagnata</th>\n",
       "      <th>Bitcoin spesi/guadagnati</th>\n",
       "      <th>Liquidità posseduta</th>\n",
       "      <th>bitcoin</th>\n",
       "      <th>valore_totale_portafoglio</th>\n",
       "    </tr>\n",
       "  </thead>\n",
       "  <tbody>\n",
       "    <tr>\n",
       "      <th>0</th>\n",
       "      <td>2024-02-05</td>\n",
       "      <td>39503.257812</td>\n",
       "      <td>Acquisto</td>\n",
       "      <td>0.036554</td>\n",
       "      <td>36.553619</td>\n",
       "      <td>0.000925</td>\n",
       "      <td>963.446411</td>\n",
       "      <td>0.000925</td>\n",
       "      <td>1000.000031</td>\n",
       "    </tr>\n",
       "    <tr>\n",
       "      <th>1</th>\n",
       "      <td>2024-02-06</td>\n",
       "      <td>39715.003906</td>\n",
       "      <td>Acquisto</td>\n",
       "      <td>1.000000</td>\n",
       "      <td>963.446411</td>\n",
       "      <td>0.024259</td>\n",
       "      <td>0.000000</td>\n",
       "      <td>0.025184</td>\n",
       "      <td>1000.195966</td>\n",
       "    </tr>\n",
       "    <tr>\n",
       "      <th>2</th>\n",
       "      <td>2024-02-07</td>\n",
       "      <td>40052.285156</td>\n",
       "      <td>Acquisto</td>\n",
       "      <td>1.000000</td>\n",
       "      <td>0.000000</td>\n",
       "      <td>0.000000</td>\n",
       "      <td>0.000000</td>\n",
       "      <td>0.025184</td>\n",
       "      <td>1008.690170</td>\n",
       "    </tr>\n",
       "    <tr>\n",
       "      <th>3</th>\n",
       "      <td>2024-02-08</td>\n",
       "      <td>41128.156250</td>\n",
       "      <td>Acquisto</td>\n",
       "      <td>1.000000</td>\n",
       "      <td>0.000000</td>\n",
       "      <td>0.000000</td>\n",
       "      <td>0.000000</td>\n",
       "      <td>0.025184</td>\n",
       "      <td>1035.785268</td>\n",
       "    </tr>\n",
       "    <tr>\n",
       "      <th>4</th>\n",
       "      <td>2024-02-09</td>\n",
       "      <td>42032.652344</td>\n",
       "      <td>Acquisto</td>\n",
       "      <td>0.944693</td>\n",
       "      <td>0.000000</td>\n",
       "      <td>0.000000</td>\n",
       "      <td>0.000000</td>\n",
       "      <td>0.025184</td>\n",
       "      <td>1058.564401</td>\n",
       "    </tr>\n",
       "    <tr>\n",
       "      <th>5</th>\n",
       "      <td>2024-02-10</td>\n",
       "      <td>43717.242188</td>\n",
       "      <td>Acquisto</td>\n",
       "      <td>1.000000</td>\n",
       "      <td>0.000000</td>\n",
       "      <td>0.000000</td>\n",
       "      <td>0.000000</td>\n",
       "      <td>0.025184</td>\n",
       "      <td>1100.989676</td>\n",
       "    </tr>\n",
       "    <tr>\n",
       "      <th>6</th>\n",
       "      <td>2024-02-11</td>\n",
       "      <td>44295.917969</td>\n",
       "      <td>Acquisto</td>\n",
       "      <td>1.000000</td>\n",
       "      <td>0.000000</td>\n",
       "      <td>0.000000</td>\n",
       "      <td>0.000000</td>\n",
       "      <td>0.025184</td>\n",
       "      <td>1115.563241</td>\n",
       "    </tr>\n",
       "    <tr>\n",
       "      <th>7</th>\n",
       "      <td>2024-02-12</td>\n",
       "      <td>44724.175781</td>\n",
       "      <td>Acquisto</td>\n",
       "      <td>1.000000</td>\n",
       "      <td>0.000000</td>\n",
       "      <td>0.000000</td>\n",
       "      <td>0.000000</td>\n",
       "      <td>0.025184</td>\n",
       "      <td>1126.348629</td>\n",
       "    </tr>\n",
       "    <tr>\n",
       "      <th>8</th>\n",
       "      <td>2024-02-13</td>\n",
       "      <td>46378.316406</td>\n",
       "      <td>Acquisto</td>\n",
       "      <td>0.099348</td>\n",
       "      <td>0.000000</td>\n",
       "      <td>0.000000</td>\n",
       "      <td>0.000000</td>\n",
       "      <td>0.025184</td>\n",
       "      <td>1168.007061</td>\n",
       "    </tr>\n",
       "    <tr>\n",
       "      <th>9</th>\n",
       "      <td>2024-02-14</td>\n",
       "      <td>46451.382812</td>\n",
       "      <td>Vendita</td>\n",
       "      <td>-0.644943</td>\n",
       "      <td>754.484476</td>\n",
       "      <td>0.016242</td>\n",
       "      <td>754.484476</td>\n",
       "      <td>0.008942</td>\n",
       "      <td>1169.847189</td>\n",
       "    </tr>\n",
       "    <tr>\n",
       "      <th>10</th>\n",
       "      <td>2024-02-15</td>\n",
       "      <td>48291.339844</td>\n",
       "      <td>Acquisto</td>\n",
       "      <td>0.861307</td>\n",
       "      <td>649.843049</td>\n",
       "      <td>0.013457</td>\n",
       "      <td>104.641427</td>\n",
       "      <td>0.022399</td>\n",
       "      <td>1186.299865</td>\n",
       "    </tr>\n",
       "    <tr>\n",
       "      <th>11</th>\n",
       "      <td>2024-02-16</td>\n",
       "      <td>48212.640625</td>\n",
       "      <td>Acquisto</td>\n",
       "      <td>1.000000</td>\n",
       "      <td>104.641427</td>\n",
       "      <td>0.002170</td>\n",
       "      <td>0.000000</td>\n",
       "      <td>0.024569</td>\n",
       "      <td>1184.537113</td>\n",
       "    </tr>\n",
       "    <tr>\n",
       "      <th>12</th>\n",
       "      <td>2024-02-17</td>\n",
       "      <td>48399.972656</td>\n",
       "      <td>Acquisto</td>\n",
       "      <td>0.079541</td>\n",
       "      <td>0.000000</td>\n",
       "      <td>0.000000</td>\n",
       "      <td>0.000000</td>\n",
       "      <td>0.024569</td>\n",
       "      <td>1189.139677</td>\n",
       "    </tr>\n",
       "    <tr>\n",
       "      <th>13</th>\n",
       "      <td>2024-02-18</td>\n",
       "      <td>47938.609375</td>\n",
       "      <td>Acquisto</td>\n",
       "      <td>1.000000</td>\n",
       "      <td>0.000000</td>\n",
       "      <td>0.000000</td>\n",
       "      <td>0.000000</td>\n",
       "      <td>0.024569</td>\n",
       "      <td>1177.804435</td>\n",
       "    </tr>\n",
       "    <tr>\n",
       "      <th>14</th>\n",
       "      <td>2024-02-19</td>\n",
       "      <td>48333.652344</td>\n",
       "      <td>Acquisto</td>\n",
       "      <td>1.000000</td>\n",
       "      <td>0.000000</td>\n",
       "      <td>0.000000</td>\n",
       "      <td>0.000000</td>\n",
       "      <td>0.024569</td>\n",
       "      <td>1187.510252</td>\n",
       "    </tr>\n",
       "    <tr>\n",
       "      <th>15</th>\n",
       "      <td>2024-02-20</td>\n",
       "      <td>48051.406250</td>\n",
       "      <td>Acquisto</td>\n",
       "      <td>1.000000</td>\n",
       "      <td>0.000000</td>\n",
       "      <td>0.000000</td>\n",
       "      <td>0.000000</td>\n",
       "      <td>0.024569</td>\n",
       "      <td>1180.575743</td>\n",
       "    </tr>\n",
       "    <tr>\n",
       "      <th>16</th>\n",
       "      <td>2024-02-21</td>\n",
       "      <td>48367.378906</td>\n",
       "      <td>Acquisto</td>\n",
       "      <td>0.978555</td>\n",
       "      <td>0.000000</td>\n",
       "      <td>0.000000</td>\n",
       "      <td>0.000000</td>\n",
       "      <td>0.024569</td>\n",
       "      <td>1188.338880</td>\n",
       "    </tr>\n",
       "    <tr>\n",
       "      <th>17</th>\n",
       "      <td>2024-02-22</td>\n",
       "      <td>47908.992188</td>\n",
       "      <td>Acquisto</td>\n",
       "      <td>1.000000</td>\n",
       "      <td>0.000000</td>\n",
       "      <td>0.000000</td>\n",
       "      <td>0.000000</td>\n",
       "      <td>0.024569</td>\n",
       "      <td>1177.076770</td>\n",
       "    </tr>\n",
       "    <tr>\n",
       "      <th>18</th>\n",
       "      <td>2024-02-23</td>\n",
       "      <td>47392.250000</td>\n",
       "      <td>Acquisto</td>\n",
       "      <td>1.000000</td>\n",
       "      <td>0.000000</td>\n",
       "      <td>0.000000</td>\n",
       "      <td>0.000000</td>\n",
       "      <td>0.024569</td>\n",
       "      <td>1164.380923</td>\n",
       "    </tr>\n",
       "    <tr>\n",
       "      <th>19</th>\n",
       "      <td>2024-02-24</td>\n",
       "      <td>46833.199219</td>\n",
       "      <td>Acquisto</td>\n",
       "      <td>1.000000</td>\n",
       "      <td>0.000000</td>\n",
       "      <td>0.000000</td>\n",
       "      <td>0.000000</td>\n",
       "      <td>0.024569</td>\n",
       "      <td>1150.645596</td>\n",
       "    </tr>\n",
       "  </tbody>\n",
       "</table>\n",
       "</div>"
      ],
      "text/plain": [
       "    Timestamp        prezzo    Azione  Percentuale  \\\n",
       "0  2024-02-05  39503.257812  Acquisto     0.036554   \n",
       "1  2024-02-06  39715.003906  Acquisto     1.000000   \n",
       "2  2024-02-07  40052.285156  Acquisto     1.000000   \n",
       "3  2024-02-08  41128.156250  Acquisto     1.000000   \n",
       "4  2024-02-09  42032.652344  Acquisto     0.944693   \n",
       "5  2024-02-10  43717.242188  Acquisto     1.000000   \n",
       "6  2024-02-11  44295.917969  Acquisto     1.000000   \n",
       "7  2024-02-12  44724.175781  Acquisto     1.000000   \n",
       "8  2024-02-13  46378.316406  Acquisto     0.099348   \n",
       "9  2024-02-14  46451.382812   Vendita    -0.644943   \n",
       "10 2024-02-15  48291.339844  Acquisto     0.861307   \n",
       "11 2024-02-16  48212.640625  Acquisto     1.000000   \n",
       "12 2024-02-17  48399.972656  Acquisto     0.079541   \n",
       "13 2024-02-18  47938.609375  Acquisto     1.000000   \n",
       "14 2024-02-19  48333.652344  Acquisto     1.000000   \n",
       "15 2024-02-20  48051.406250  Acquisto     1.000000   \n",
       "16 2024-02-21  48367.378906  Acquisto     0.978555   \n",
       "17 2024-02-22  47908.992188  Acquisto     1.000000   \n",
       "18 2024-02-23  47392.250000  Acquisto     1.000000   \n",
       "19 2024-02-24  46833.199219  Acquisto     1.000000   \n",
       "\n",
       "    Liquidità spesa/guadagnata  Bitcoin spesi/guadagnati  Liquidità posseduta  \\\n",
       "0                    36.553619                  0.000925           963.446411   \n",
       "1                   963.446411                  0.024259             0.000000   \n",
       "2                     0.000000                  0.000000             0.000000   \n",
       "3                     0.000000                  0.000000             0.000000   \n",
       "4                     0.000000                  0.000000             0.000000   \n",
       "5                     0.000000                  0.000000             0.000000   \n",
       "6                     0.000000                  0.000000             0.000000   \n",
       "7                     0.000000                  0.000000             0.000000   \n",
       "8                     0.000000                  0.000000             0.000000   \n",
       "9                   754.484476                  0.016242           754.484476   \n",
       "10                  649.843049                  0.013457           104.641427   \n",
       "11                  104.641427                  0.002170             0.000000   \n",
       "12                    0.000000                  0.000000             0.000000   \n",
       "13                    0.000000                  0.000000             0.000000   \n",
       "14                    0.000000                  0.000000             0.000000   \n",
       "15                    0.000000                  0.000000             0.000000   \n",
       "16                    0.000000                  0.000000             0.000000   \n",
       "17                    0.000000                  0.000000             0.000000   \n",
       "18                    0.000000                  0.000000             0.000000   \n",
       "19                    0.000000                  0.000000             0.000000   \n",
       "\n",
       "     bitcoin  valore_totale_portafoglio  \n",
       "0   0.000925                1000.000031  \n",
       "1   0.025184                1000.195966  \n",
       "2   0.025184                1008.690170  \n",
       "3   0.025184                1035.785268  \n",
       "4   0.025184                1058.564401  \n",
       "5   0.025184                1100.989676  \n",
       "6   0.025184                1115.563241  \n",
       "7   0.025184                1126.348629  \n",
       "8   0.025184                1168.007061  \n",
       "9   0.008942                1169.847189  \n",
       "10  0.022399                1186.299865  \n",
       "11  0.024569                1184.537113  \n",
       "12  0.024569                1189.139677  \n",
       "13  0.024569                1177.804435  \n",
       "14  0.024569                1187.510252  \n",
       "15  0.024569                1180.575743  \n",
       "16  0.024569                1188.338880  \n",
       "17  0.024569                1177.076770  \n",
       "18  0.024569                1164.380923  \n",
       "19  0.024569                1150.645596  "
      ]
     },
     "execution_count": 44,
     "metadata": {},
     "output_type": "execute_result"
    }
   ],
   "source": [
    "# Parametri di input\n",
    "initial_date = '2024-01-01'  # Data di inizio per la selezione casuale\n",
    "final_date = '2024-04-24'    # Data di fine per la selezione casuale\n",
    "n_days = 50                  # Numero di giorni da includere nel periodo casuale\n",
    "\n",
    "# Filtrare i dati tra initial_date e final_date\n",
    "dati_filtered = dati_originali[(dati_originali['Timestamp'] >= initial_date) & (dati_originali['Timestamp'] <= final_date)]\n",
    "\n",
    "# Calcolare il massimo indice di partenza per un periodo di lunghezza n_days\n",
    "max_start_index = len(dati_filtered) - n_days\n",
    "\n",
    "# Selezionare un indice casuale di partenza per il periodo\n",
    "if max_start_index > 0:\n",
    "    start_index = random.randint(0, max_start_index)\n",
    "    dati_test_custom = dati_filtered.iloc[start_index:start_index + n_days].reset_index(drop=True)\n",
    "else:\n",
    "    raise ValueError(\"L'intervallo specificato non contiene abbastanza dati per un periodo di n_days.\")\n",
    "\n",
    "# Esecuzione della simulazione di trading sui dati di test\n",
    "log_df = simulate_trading_on_test_data(model, dati_test_custom)\n",
    "\n",
    "# Visualizzare i primi risultati del log\n",
    "log_df"
   ]
  },
  {
   "cell_type": "code",
   "execution_count": null,
   "metadata": {},
   "outputs": [
    {
     "data": {
      "application/vnd.plotly.v1+json": {
       "config": {
        "plotlyServerURL": "https://plot.ly"
       },
       "data": [
        {
         "hoverinfo": "x+y",
         "line": {
          "color": "blue",
          "width": 2
         },
         "mode": "lines",
         "name": "Prezzi Bitcoin",
         "type": "scatter",
         "x": [
          "2024-02-05T00:00:00",
          "2024-02-06T00:00:00",
          "2024-02-07T00:00:00",
          "2024-02-08T00:00:00",
          "2024-02-09T00:00:00",
          "2024-02-10T00:00:00",
          "2024-02-11T00:00:00",
          "2024-02-12T00:00:00",
          "2024-02-13T00:00:00",
          "2024-02-14T00:00:00",
          "2024-02-15T00:00:00",
          "2024-02-16T00:00:00",
          "2024-02-17T00:00:00",
          "2024-02-18T00:00:00",
          "2024-02-19T00:00:00",
          "2024-02-20T00:00:00",
          "2024-02-21T00:00:00",
          "2024-02-22T00:00:00",
          "2024-02-23T00:00:00",
          "2024-02-24T00:00:00"
         ],
         "y": [
          39503.2578125,
          39715.00390625,
          40052.28515625,
          41128.15625,
          42032.65234375,
          43717.2421875,
          44295.91796875,
          44724.17578125,
          46378.31640625,
          46451.3828125,
          48291.33984375,
          48212.640625,
          48399.97265625,
          47938.609375,
          48333.65234375,
          48051.40625,
          48367.37890625,
          47908.9921875,
          47392.25,
          46833.19921875
         ]
        },
        {
         "hoverinfo": "text",
         "marker": {
          "color": "green",
          "opacity": 0.7,
          "size": [
           11.517619203824161,
           50,
           36.979935426037954,
           14.344462775574659
          ]
         },
         "mode": "markers",
         "name": "Acquisti",
         "text": [
          "Timestamp: 2024-02-05 00:00:00<br>Prezzo: 39503.2578125 €<br>Percentuale Acquisto: 3.66%<br>Liquidità Spesa: 36.55 €<br>Bitcoin Acquistati: 0.000925<br>Liquidità: 963.45 €<br>Bitcoin: 0.000925<br>Valore Portafoglio: 1000.0 €",
          "Timestamp: 2024-02-06 00:00:00<br>Prezzo: 39715.00390625 €<br>Percentuale Acquisto: 100.0%<br>Liquidità Spesa: 963.45 €<br>Bitcoin Acquistati: 0.024259<br>Liquidità: 0.0 €<br>Bitcoin: 0.025184<br>Valore Portafoglio: 1000.2 €",
          "Timestamp: 2024-02-15 00:00:00<br>Prezzo: 48291.33984375 €<br>Percentuale Acquisto: 86.13%<br>Liquidità Spesa: 649.84 €<br>Bitcoin Acquistati: 0.013457<br>Liquidità: 104.64 €<br>Bitcoin: 0.022399<br>Valore Portafoglio: 1186.3 €",
          "Timestamp: 2024-02-16 00:00:00<br>Prezzo: 48212.640625 €<br>Percentuale Acquisto: 100.0%<br>Liquidità Spesa: 104.64 €<br>Bitcoin Acquistati: 0.00217<br>Liquidità: 0.0 €<br>Bitcoin: 0.024569<br>Valore Portafoglio: 1184.54 €"
         ],
         "type": "scatter",
         "x": [
          "2024-02-05T00:00:00",
          "2024-02-06T00:00:00",
          "2024-02-15T00:00:00",
          "2024-02-16T00:00:00"
         ],
         "y": [
          39503.2578125,
          39715.00390625,
          48291.33984375,
          48212.640625
         ]
        },
        {
         "hoverinfo": "text",
         "marker": {
          "color": "red",
          "opacity": 0.7,
          "size": [
           50
          ]
         },
         "mode": "markers",
         "name": "Vendite",
         "text": [
          "Timestamp: 2024-02-14 00:00:00<br>Prezzo: 46451.3828125 €<br>Percentuale Vendita: -64.49%<br>Liquidità Guadagnata: 754.48 €<br>Bitcoin Venduti: 0.016242<br>Liquidità: 754.48 €<br>Bitcoin: 0.008942<br>Valore Portafoglio: 1169.85 €"
         ],
         "type": "scatter",
         "x": [
          "2024-02-14T00:00:00"
         ],
         "y": [
          46451.3828125
         ]
        }
       ],
       "layout": {
        "height": 800,
        "hovermode": "closest",
        "legend": {
         "x": 0.01,
         "xanchor": "left",
         "y": 0.99,
         "yanchor": "top"
        },
        "template": {
         "data": {
          "bar": [
           {
            "error_x": {
             "color": "#2a3f5f"
            },
            "error_y": {
             "color": "#2a3f5f"
            },
            "marker": {
             "line": {
              "color": "white",
              "width": 0.5
             },
             "pattern": {
              "fillmode": "overlay",
              "size": 10,
              "solidity": 0.2
             }
            },
            "type": "bar"
           }
          ],
          "barpolar": [
           {
            "marker": {
             "line": {
              "color": "white",
              "width": 0.5
             },
             "pattern": {
              "fillmode": "overlay",
              "size": 10,
              "solidity": 0.2
             }
            },
            "type": "barpolar"
           }
          ],
          "carpet": [
           {
            "aaxis": {
             "endlinecolor": "#2a3f5f",
             "gridcolor": "#C8D4E3",
             "linecolor": "#C8D4E3",
             "minorgridcolor": "#C8D4E3",
             "startlinecolor": "#2a3f5f"
            },
            "baxis": {
             "endlinecolor": "#2a3f5f",
             "gridcolor": "#C8D4E3",
             "linecolor": "#C8D4E3",
             "minorgridcolor": "#C8D4E3",
             "startlinecolor": "#2a3f5f"
            },
            "type": "carpet"
           }
          ],
          "choropleth": [
           {
            "colorbar": {
             "outlinewidth": 0,
             "ticks": ""
            },
            "type": "choropleth"
           }
          ],
          "contour": [
           {
            "colorbar": {
             "outlinewidth": 0,
             "ticks": ""
            },
            "colorscale": [
             [
              0,
              "#0d0887"
             ],
             [
              0.1111111111111111,
              "#46039f"
             ],
             [
              0.2222222222222222,
              "#7201a8"
             ],
             [
              0.3333333333333333,
              "#9c179e"
             ],
             [
              0.4444444444444444,
              "#bd3786"
             ],
             [
              0.5555555555555556,
              "#d8576b"
             ],
             [
              0.6666666666666666,
              "#ed7953"
             ],
             [
              0.7777777777777778,
              "#fb9f3a"
             ],
             [
              0.8888888888888888,
              "#fdca26"
             ],
             [
              1,
              "#f0f921"
             ]
            ],
            "type": "contour"
           }
          ],
          "contourcarpet": [
           {
            "colorbar": {
             "outlinewidth": 0,
             "ticks": ""
            },
            "type": "contourcarpet"
           }
          ],
          "heatmap": [
           {
            "colorbar": {
             "outlinewidth": 0,
             "ticks": ""
            },
            "colorscale": [
             [
              0,
              "#0d0887"
             ],
             [
              0.1111111111111111,
              "#46039f"
             ],
             [
              0.2222222222222222,
              "#7201a8"
             ],
             [
              0.3333333333333333,
              "#9c179e"
             ],
             [
              0.4444444444444444,
              "#bd3786"
             ],
             [
              0.5555555555555556,
              "#d8576b"
             ],
             [
              0.6666666666666666,
              "#ed7953"
             ],
             [
              0.7777777777777778,
              "#fb9f3a"
             ],
             [
              0.8888888888888888,
              "#fdca26"
             ],
             [
              1,
              "#f0f921"
             ]
            ],
            "type": "heatmap"
           }
          ],
          "heatmapgl": [
           {
            "colorbar": {
             "outlinewidth": 0,
             "ticks": ""
            },
            "colorscale": [
             [
              0,
              "#0d0887"
             ],
             [
              0.1111111111111111,
              "#46039f"
             ],
             [
              0.2222222222222222,
              "#7201a8"
             ],
             [
              0.3333333333333333,
              "#9c179e"
             ],
             [
              0.4444444444444444,
              "#bd3786"
             ],
             [
              0.5555555555555556,
              "#d8576b"
             ],
             [
              0.6666666666666666,
              "#ed7953"
             ],
             [
              0.7777777777777778,
              "#fb9f3a"
             ],
             [
              0.8888888888888888,
              "#fdca26"
             ],
             [
              1,
              "#f0f921"
             ]
            ],
            "type": "heatmapgl"
           }
          ],
          "histogram": [
           {
            "marker": {
             "pattern": {
              "fillmode": "overlay",
              "size": 10,
              "solidity": 0.2
             }
            },
            "type": "histogram"
           }
          ],
          "histogram2d": [
           {
            "colorbar": {
             "outlinewidth": 0,
             "ticks": ""
            },
            "colorscale": [
             [
              0,
              "#0d0887"
             ],
             [
              0.1111111111111111,
              "#46039f"
             ],
             [
              0.2222222222222222,
              "#7201a8"
             ],
             [
              0.3333333333333333,
              "#9c179e"
             ],
             [
              0.4444444444444444,
              "#bd3786"
             ],
             [
              0.5555555555555556,
              "#d8576b"
             ],
             [
              0.6666666666666666,
              "#ed7953"
             ],
             [
              0.7777777777777778,
              "#fb9f3a"
             ],
             [
              0.8888888888888888,
              "#fdca26"
             ],
             [
              1,
              "#f0f921"
             ]
            ],
            "type": "histogram2d"
           }
          ],
          "histogram2dcontour": [
           {
            "colorbar": {
             "outlinewidth": 0,
             "ticks": ""
            },
            "colorscale": [
             [
              0,
              "#0d0887"
             ],
             [
              0.1111111111111111,
              "#46039f"
             ],
             [
              0.2222222222222222,
              "#7201a8"
             ],
             [
              0.3333333333333333,
              "#9c179e"
             ],
             [
              0.4444444444444444,
              "#bd3786"
             ],
             [
              0.5555555555555556,
              "#d8576b"
             ],
             [
              0.6666666666666666,
              "#ed7953"
             ],
             [
              0.7777777777777778,
              "#fb9f3a"
             ],
             [
              0.8888888888888888,
              "#fdca26"
             ],
             [
              1,
              "#f0f921"
             ]
            ],
            "type": "histogram2dcontour"
           }
          ],
          "mesh3d": [
           {
            "colorbar": {
             "outlinewidth": 0,
             "ticks": ""
            },
            "type": "mesh3d"
           }
          ],
          "parcoords": [
           {
            "line": {
             "colorbar": {
              "outlinewidth": 0,
              "ticks": ""
             }
            },
            "type": "parcoords"
           }
          ],
          "pie": [
           {
            "automargin": true,
            "type": "pie"
           }
          ],
          "scatter": [
           {
            "fillpattern": {
             "fillmode": "overlay",
             "size": 10,
             "solidity": 0.2
            },
            "type": "scatter"
           }
          ],
          "scatter3d": [
           {
            "line": {
             "colorbar": {
              "outlinewidth": 0,
              "ticks": ""
             }
            },
            "marker": {
             "colorbar": {
              "outlinewidth": 0,
              "ticks": ""
             }
            },
            "type": "scatter3d"
           }
          ],
          "scattercarpet": [
           {
            "marker": {
             "colorbar": {
              "outlinewidth": 0,
              "ticks": ""
             }
            },
            "type": "scattercarpet"
           }
          ],
          "scattergeo": [
           {
            "marker": {
             "colorbar": {
              "outlinewidth": 0,
              "ticks": ""
             }
            },
            "type": "scattergeo"
           }
          ],
          "scattergl": [
           {
            "marker": {
             "colorbar": {
              "outlinewidth": 0,
              "ticks": ""
             }
            },
            "type": "scattergl"
           }
          ],
          "scattermapbox": [
           {
            "marker": {
             "colorbar": {
              "outlinewidth": 0,
              "ticks": ""
             }
            },
            "type": "scattermapbox"
           }
          ],
          "scatterpolar": [
           {
            "marker": {
             "colorbar": {
              "outlinewidth": 0,
              "ticks": ""
             }
            },
            "type": "scatterpolar"
           }
          ],
          "scatterpolargl": [
           {
            "marker": {
             "colorbar": {
              "outlinewidth": 0,
              "ticks": ""
             }
            },
            "type": "scatterpolargl"
           }
          ],
          "scatterternary": [
           {
            "marker": {
             "colorbar": {
              "outlinewidth": 0,
              "ticks": ""
             }
            },
            "type": "scatterternary"
           }
          ],
          "surface": [
           {
            "colorbar": {
             "outlinewidth": 0,
             "ticks": ""
            },
            "colorscale": [
             [
              0,
              "#0d0887"
             ],
             [
              0.1111111111111111,
              "#46039f"
             ],
             [
              0.2222222222222222,
              "#7201a8"
             ],
             [
              0.3333333333333333,
              "#9c179e"
             ],
             [
              0.4444444444444444,
              "#bd3786"
             ],
             [
              0.5555555555555556,
              "#d8576b"
             ],
             [
              0.6666666666666666,
              "#ed7953"
             ],
             [
              0.7777777777777778,
              "#fb9f3a"
             ],
             [
              0.8888888888888888,
              "#fdca26"
             ],
             [
              1,
              "#f0f921"
             ]
            ],
            "type": "surface"
           }
          ],
          "table": [
           {
            "cells": {
             "fill": {
              "color": "#EBF0F8"
             },
             "line": {
              "color": "white"
             }
            },
            "header": {
             "fill": {
              "color": "#C8D4E3"
             },
             "line": {
              "color": "white"
             }
            },
            "type": "table"
           }
          ]
         },
         "layout": {
          "annotationdefaults": {
           "arrowcolor": "#2a3f5f",
           "arrowhead": 0,
           "arrowwidth": 1
          },
          "autotypenumbers": "strict",
          "coloraxis": {
           "colorbar": {
            "outlinewidth": 0,
            "ticks": ""
           }
          },
          "colorscale": {
           "diverging": [
            [
             0,
             "#8e0152"
            ],
            [
             0.1,
             "#c51b7d"
            ],
            [
             0.2,
             "#de77ae"
            ],
            [
             0.3,
             "#f1b6da"
            ],
            [
             0.4,
             "#fde0ef"
            ],
            [
             0.5,
             "#f7f7f7"
            ],
            [
             0.6,
             "#e6f5d0"
            ],
            [
             0.7,
             "#b8e186"
            ],
            [
             0.8,
             "#7fbc41"
            ],
            [
             0.9,
             "#4d9221"
            ],
            [
             1,
             "#276419"
            ]
           ],
           "sequential": [
            [
             0,
             "#0d0887"
            ],
            [
             0.1111111111111111,
             "#46039f"
            ],
            [
             0.2222222222222222,
             "#7201a8"
            ],
            [
             0.3333333333333333,
             "#9c179e"
            ],
            [
             0.4444444444444444,
             "#bd3786"
            ],
            [
             0.5555555555555556,
             "#d8576b"
            ],
            [
             0.6666666666666666,
             "#ed7953"
            ],
            [
             0.7777777777777778,
             "#fb9f3a"
            ],
            [
             0.8888888888888888,
             "#fdca26"
            ],
            [
             1,
             "#f0f921"
            ]
           ],
           "sequentialminus": [
            [
             0,
             "#0d0887"
            ],
            [
             0.1111111111111111,
             "#46039f"
            ],
            [
             0.2222222222222222,
             "#7201a8"
            ],
            [
             0.3333333333333333,
             "#9c179e"
            ],
            [
             0.4444444444444444,
             "#bd3786"
            ],
            [
             0.5555555555555556,
             "#d8576b"
            ],
            [
             0.6666666666666666,
             "#ed7953"
            ],
            [
             0.7777777777777778,
             "#fb9f3a"
            ],
            [
             0.8888888888888888,
             "#fdca26"
            ],
            [
             1,
             "#f0f921"
            ]
           ]
          },
          "colorway": [
           "#636efa",
           "#EF553B",
           "#00cc96",
           "#ab63fa",
           "#FFA15A",
           "#19d3f3",
           "#FF6692",
           "#B6E880",
           "#FF97FF",
           "#FECB52"
          ],
          "font": {
           "color": "#2a3f5f"
          },
          "geo": {
           "bgcolor": "white",
           "lakecolor": "white",
           "landcolor": "white",
           "showlakes": true,
           "showland": true,
           "subunitcolor": "#C8D4E3"
          },
          "hoverlabel": {
           "align": "left"
          },
          "hovermode": "closest",
          "mapbox": {
           "style": "light"
          },
          "paper_bgcolor": "white",
          "plot_bgcolor": "white",
          "polar": {
           "angularaxis": {
            "gridcolor": "#EBF0F8",
            "linecolor": "#EBF0F8",
            "ticks": ""
           },
           "bgcolor": "white",
           "radialaxis": {
            "gridcolor": "#EBF0F8",
            "linecolor": "#EBF0F8",
            "ticks": ""
           }
          },
          "scene": {
           "xaxis": {
            "backgroundcolor": "white",
            "gridcolor": "#DFE8F3",
            "gridwidth": 2,
            "linecolor": "#EBF0F8",
            "showbackground": true,
            "ticks": "",
            "zerolinecolor": "#EBF0F8"
           },
           "yaxis": {
            "backgroundcolor": "white",
            "gridcolor": "#DFE8F3",
            "gridwidth": 2,
            "linecolor": "#EBF0F8",
            "showbackground": true,
            "ticks": "",
            "zerolinecolor": "#EBF0F8"
           },
           "zaxis": {
            "backgroundcolor": "white",
            "gridcolor": "#DFE8F3",
            "gridwidth": 2,
            "linecolor": "#EBF0F8",
            "showbackground": true,
            "ticks": "",
            "zerolinecolor": "#EBF0F8"
           }
          },
          "shapedefaults": {
           "line": {
            "color": "#2a3f5f"
           }
          },
          "ternary": {
           "aaxis": {
            "gridcolor": "#DFE8F3",
            "linecolor": "#A2B1C6",
            "ticks": ""
           },
           "baxis": {
            "gridcolor": "#DFE8F3",
            "linecolor": "#A2B1C6",
            "ticks": ""
           },
           "bgcolor": "white",
           "caxis": {
            "gridcolor": "#DFE8F3",
            "linecolor": "#A2B1C6",
            "ticks": ""
           }
          },
          "title": {
           "x": 0.05
          },
          "xaxis": {
           "automargin": true,
           "gridcolor": "#EBF0F8",
           "linecolor": "#EBF0F8",
           "ticks": "",
           "title": {
            "standoff": 15
           },
           "zerolinecolor": "#EBF0F8",
           "zerolinewidth": 2
          },
          "yaxis": {
           "automargin": true,
           "gridcolor": "#EBF0F8",
           "linecolor": "#EBF0F8",
           "ticks": "",
           "title": {
            "standoff": 15
           },
           "zerolinecolor": "#EBF0F8",
           "zerolinewidth": 2
          }
         }
        },
        "title": {
         "text": "Andamento Prezzi Bitcoin con Transazioni di Acquisto e Vendita"
        },
        "width": 1200,
        "xaxis": {
         "rangeslider": {
          "visible": true
         },
         "title": {
          "text": "Data"
         },
         "type": "date"
        },
        "yaxis": {
         "title": {
          "text": "Prezzo (€)"
         }
        }
       }
      }
     },
     "metadata": {},
     "output_type": "display_data"
    }
   ],
   "source": [
    "# Funzione per calcolare la dimensione dei punti in base alla quantità e al massimo valore\n",
    "def calcola_dimensione(quantita, max_quantita, min_size=10, max_size=50):\n",
    "    return min_size + (max_size - min_size) * (quantita / max_quantita) if max_quantita != 0 else min_size\n",
    "\n",
    "# Filtra gli acquisti e le vendite dal log delle transazioni\n",
    "acquisti = log_df[(log_df['Azione'] == 'Acquisto') & (log_df['Liquidità spesa/guadagnata'] != 0)]\n",
    "vendite = log_df[(log_df['Azione'] == 'Vendita') & (log_df['Liquidità spesa/guadagnata'] != 0)]\n",
    "\n",
    "# Calcola il massimo valore speso per acquistare e il massimo valore guadagnato dalle vendite\n",
    "max_acquisto = acquisti['Liquidità spesa/guadagnata'].max()\n",
    "max_vendita = vendite['Liquidità spesa/guadagnata'].max()\n",
    "\n",
    "# Calcola la dimensione dei punti in base al massimo valore di acquisto e vendita\n",
    "dimensioni_acquisti = acquisti['Liquidità spesa/guadagnata'].apply(lambda x: calcola_dimensione(x, max_acquisto))\n",
    "dimensioni_vendite = vendite['Liquidità spesa/guadagnata'].apply(lambda x: calcola_dimensione(x, max_vendita))\n",
    "\n",
    "# Creazione del grafico dei prezzi con acquisti e vendite\n",
    "fig = go.Figure()\n",
    "\n",
    "# Linea dell'andamento dei prezzi\n",
    "fig.add_trace(go.Scatter(\n",
    "    x=log_df['Timestamp'],\n",
    "    y=log_df['prezzo'],\n",
    "    mode='lines',\n",
    "    name='Prezzi Bitcoin',\n",
    "    line=dict(color='blue', width=2),\n",
    "    hoverinfo='x+y'\n",
    "))\n",
    "\n",
    "# Scatter plot per gli acquisti con dimensione proporzionale al valore speso\n",
    "fig.add_trace(go.Scatter(\n",
    "    x=acquisti['Timestamp'],\n",
    "    y=acquisti['prezzo'],\n",
    "    mode='markers',\n",
    "    name='Acquisti',\n",
    "    marker=dict(color='green', size=dimensioni_acquisti, opacity=0.7),\n",
    "    text=[\n",
    "        f\"Timestamp: {timestamp}<br>Prezzo: {prezzo} €<br>Percentuale Acquisto: {round(percentuale * 100, 2)}%<br>Liquidità Spesa: {round(liquid_spesa, 2)} €<br>Bitcoin Acquistati: {round(btc_acq, 6)}<br>Liquidità: {round(liquid_tot, 2)} €<br>Bitcoin: {round(btc_poss, 6)}<br>Valore Portafoglio: {round(valore_port, 2)} €\"\n",
    "        for timestamp, prezzo, percentuale, liquid_spesa, btc_acq, liquid_tot, btc_poss, valore_port in zip(\n",
    "            acquisti['Timestamp'],\n",
    "            acquisti['prezzo'],\n",
    "            acquisti['Percentuale'],\n",
    "            acquisti['Liquidità spesa/guadagnata'],\n",
    "            acquisti['Bitcoin spesi/guadagnati'],\n",
    "            acquisti['Liquidità posseduta'],\n",
    "            acquisti['bitcoin'],\n",
    "            acquisti['valore_totale_portafoglio']\n",
    "        )\n",
    "    ],\n",
    "    hoverinfo='text'\n",
    "))\n",
    "\n",
    "# Scatter plot per le vendite con dimensione proporzionale al valore guadagnato\n",
    "fig.add_trace(go.Scatter(\n",
    "    x=vendite['Timestamp'],\n",
    "    y=vendite['prezzo'],\n",
    "    mode='markers',\n",
    "    name='Vendite',\n",
    "    marker=dict(color='red', size=dimensioni_vendite, opacity=0.7),\n",
    "    text=[\n",
    "        f\"Timestamp: {timestamp}<br>Prezzo: {prezzo} €<br>Percentuale Vendita: {round(percentuale * 100, 2)}%<br>Liquidità Guadagnata: {round(liquid_guad, 2)} €<br>Bitcoin Venduti: {round(btc_vend, 6)}<br>Liquidità: {round(liquid_tot, 2)} €<br>Bitcoin: {round(btc_poss, 6)}<br>Valore Portafoglio: {round(valore_port, 2)} €\"\n",
    "        for timestamp, prezzo, percentuale, liquid_guad, btc_vend, liquid_tot, btc_poss, valore_port in zip(\n",
    "            vendite['Timestamp'],\n",
    "            vendite['prezzo'],\n",
    "            vendite['Percentuale'],\n",
    "            vendite['Liquidità spesa/guadagnata'],\n",
    "            vendite['Bitcoin spesi/guadagnati'],\n",
    "            vendite['Liquidità posseduta'],\n",
    "            vendite['bitcoin'],\n",
    "            vendite['valore_totale_portafoglio']\n",
    "        )\n",
    "    ],\n",
    "    hoverinfo='text'\n",
    "))\n",
    "\n",
    "# Configurazione del layout del grafico\n",
    "fig.update_layout(\n",
    "    title='Andamento Prezzi Bitcoin con Transazioni di Acquisto e Vendita',\n",
    "    xaxis_title='Data',\n",
    "    yaxis_title='Prezzo (€)',\n",
    "    hovermode='closest',\n",
    "    template='plotly_white',\n",
    "    legend=dict(yanchor=\"top\", y=0.99, xanchor=\"left\", x=0.01),\n",
    "    width=1200,\n",
    "    height=800,\n",
    "    xaxis=dict(\n",
    "        rangeslider=dict(visible=True),  # Abilita il range slider\n",
    "        type=\"date\"  # Imposta l'asse x come asse temporale\n",
    "    )\n",
    ")\n",
    "\n",
    "# Mostra il grafico interattivo\n",
    "fig.show()"
   ]
  },
  {
   "cell_type": "code",
   "execution_count": null,
   "metadata": {},
   "outputs": [
    {
     "name": "stdout",
     "output_type": "stream",
     "text": [
      "Rendimento ideale: 1.2454639829023537\n",
      "Portafoglio finale ideale in euro: 1245.4639829023538\n",
      "Rendimento del portafoglio: 1.1506455606284032\n",
      "Punteggio rendimento: 92.39%\n",
      "Valore finale del portafoglio in euro: 1150.645595743319\n"
     ]
    }
   ],
   "source": [
    "rendimento_ideale, portafoglio_finale_ideale = calcola_rendimento_portafoglio_ideale(liquidità_iniziale, bitcoin_iniziali, log_df['prezzo'], 0, 0, 0, 0)\n",
    "print('Rendimento ideale:', rendimento_ideale)\n",
    "print('Portafoglio finale ideale in euro:', portafoglio_finale_ideale)\n",
    "\n",
    "valore_iniziale = log_df['valore_totale_portafoglio'].iloc[0]\n",
    "valore_finale = log_df['valore_totale_portafoglio'].iloc[-1]\n",
    "rendimento = valore_finale / valore_iniziale\n",
    "\n",
    "print(f\"Rendimento del portafoglio: {rendimento}\")\n",
    "print(f'Punteggio rendimento: {round(rendimento / rendimento_ideale *100, 2)}%')\n",
    "print(f\"Valore finale del portafoglio in euro: {log_df['valore_totale_portafoglio'].iloc[-1]}\")"
   ]
  }
 ],
 "metadata": {
  "kernelspec": {
   "display_name": "trading_env",
   "language": "python",
   "name": "python3"
  },
  "language_info": {
   "codemirror_mode": {
    "name": "ipython",
    "version": 3
   },
   "file_extension": ".py",
   "mimetype": "text/x-python",
   "name": "python",
   "nbconvert_exporter": "python",
   "pygments_lexer": "ipython3",
   "version": "3.10.9"
  }
 },
 "nbformat": 4,
 "nbformat_minor": 2
}
